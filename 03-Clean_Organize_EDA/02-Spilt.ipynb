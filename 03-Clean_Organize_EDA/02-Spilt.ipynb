{
 "cells": [
  {
   "cell_type": "markdown",
   "id": "be0633e6",
   "metadata": {},
   "source": [
    "## **Project: Study On Panel Data Methodologies With Application To Macroeconometrics (Inflation Forecasting)**.\n",
    "\n",
    "> ### **Title**: Spilt of Dataset.\n",
    "\n",
    "\n",
    "#### **Table of Contents:**\n",
    "<ul>\n",
    "<li><a href=\"#1\">1. Spilt of Countries Dataset.</a></li>\n",
    "<li><a href=\"#2\">2. Spilt of Groups Dataset.</a></li>\n",
    "\n",
    "</ul>"
   ]
  },
  {
   "cell_type": "markdown",
   "id": "ce8659c0",
   "metadata": {},
   "source": [
    "**Import Library**"
   ]
  },
  {
   "cell_type": "code",
   "execution_count": 1,
   "id": "6bab5062",
   "metadata": {},
   "outputs": [],
   "source": [
    "import os\n",
    "import numpy as np\n",
    "import pandas as pd\n",
    "import seaborn as sns \n",
    "import glob\n",
    "import re\n",
    "\n",
    "\n",
    "sns.set(rc={'figure.figsize': [15,5]}, font_scale=1.2);\n",
    "pd.set_option('future.no_silent_downcasting', True)\n"
   ]
  },
  {
   "cell_type": "markdown",
   "id": "d8eba5c1",
   "metadata": {},
   "source": [
    "**Path**"
   ]
  },
  {
   "cell_type": "code",
   "execution_count": null,
   "id": "5175f459",
   "metadata": {},
   "outputs": [],
   "source": [
    "# Path load data\n",
    "folder_path= \"../02-Dataset/01-DataSet/dataset_Org\"\n",
    "\n",
    "# Path Save data\n",
    "folder_save_path = \"../02-Dataset/02-DataBase\""
   ]
  },
  {
   "cell_type": "markdown",
   "id": "941d1445",
   "metadata": {},
   "source": [
    "<a id='1'></a>\n",
    "\n",
    "### **1. Spilt of Countries Dataset:**\n",
    "#### 1.1.  Meta Data Tables:\n",
    "- > A. Table for `Countres` info: {'WEO_Country_Code', 'ISO', 'Country'} P_Key> 'WEO_Country_Code'.\n",
    "- > B. Table for `Subject` info: {'WEO_Subject_Code', 'Subject_Descriptor', 'Subject_Notes', 'Units', 'Scale'} P_Key>'WEO_Subject_Code'.\n",
    "- > C. Table for `Country_Subject_Notes` info: {'WEO_Country_Code', 'WEO_Subject_Code','Country_Series-specific_Notes','Estimates_Start_After'} P_Key>('WEO_Country_Code','WEO_Subject_Code').\n",
    "- > D. Table for `Year` info: {'Years'} P_Key> 'Years'.\n",
    "\n",
    "#### 1.2. dataset Tables:\n",
    "\n",
    "- > E. Table for data values `WEO_Data_Countries` name Columns {'WEO_Country_Code' , 'Years' , and all Varibles 'WEO_Subject_Code' {'BCA_NGDPD', 'GGR_NGDP', 'GGSB_NPGDP', 'GGX_NGDP', 'GGXWDG_NGDP', 'LUR', 'NGDP_RPCH', 'NGSD_NGDP', 'NID_NGDP', 'PCPIPCH', 'PPPEX', 'PPPPC', 'PPPSH', 'TM_RPCH', 'TRWMA', 'TX_RPCH'} }\n"
   ]
  },
  {
   "cell_type": "markdown",
   "id": "37a1e49f",
   "metadata": {},
   "source": [
    "**Load Dataset**"
   ]
  },
  {
   "cell_type": "code",
   "execution_count": 5,
   "id": "c53526fc",
   "metadata": {},
   "outputs": [
    {
     "data": {
      "application/vnd.microsoft.datawrangler.viewer.v0+json": {
       "columns": [
        {
         "name": "index",
         "rawType": "int64",
         "type": "integer"
        },
        {
         "name": "WEO_Country_Code",
         "rawType": "int64",
         "type": "integer"
        },
        {
         "name": "ISO",
         "rawType": "object",
         "type": "string"
        },
        {
         "name": "Country",
         "rawType": "object",
         "type": "string"
        },
        {
         "name": "WEO_Subject_Code",
         "rawType": "object",
         "type": "string"
        },
        {
         "name": "Subject_Descriptor",
         "rawType": "object",
         "type": "string"
        },
        {
         "name": "Subject_Notes",
         "rawType": "object",
         "type": "string"
        },
        {
         "name": "Units",
         "rawType": "object",
         "type": "string"
        },
        {
         "name": "Scale",
         "rawType": "object",
         "type": "string"
        },
        {
         "name": "Country_Series-Specific_Notes",
         "rawType": "object",
         "type": "string"
        },
        {
         "name": "1980",
         "rawType": "float64",
         "type": "float"
        },
        {
         "name": "1981",
         "rawType": "float64",
         "type": "float"
        },
        {
         "name": "1982",
         "rawType": "float64",
         "type": "float"
        },
        {
         "name": "1983",
         "rawType": "float64",
         "type": "float"
        },
        {
         "name": "1984",
         "rawType": "float64",
         "type": "float"
        },
        {
         "name": "1985",
         "rawType": "float64",
         "type": "float"
        },
        {
         "name": "1986",
         "rawType": "float64",
         "type": "float"
        },
        {
         "name": "1987",
         "rawType": "float64",
         "type": "float"
        },
        {
         "name": "1988",
         "rawType": "float64",
         "type": "float"
        },
        {
         "name": "1989",
         "rawType": "float64",
         "type": "float"
        },
        {
         "name": "1990",
         "rawType": "float64",
         "type": "float"
        },
        {
         "name": "1991",
         "rawType": "float64",
         "type": "float"
        },
        {
         "name": "1992",
         "rawType": "float64",
         "type": "float"
        },
        {
         "name": "1993",
         "rawType": "float64",
         "type": "float"
        },
        {
         "name": "1994",
         "rawType": "float64",
         "type": "float"
        },
        {
         "name": "1995",
         "rawType": "float64",
         "type": "float"
        },
        {
         "name": "1996",
         "rawType": "float64",
         "type": "float"
        },
        {
         "name": "1997",
         "rawType": "float64",
         "type": "float"
        },
        {
         "name": "1998",
         "rawType": "float64",
         "type": "float"
        },
        {
         "name": "1999",
         "rawType": "float64",
         "type": "float"
        },
        {
         "name": "2000",
         "rawType": "float64",
         "type": "float"
        },
        {
         "name": "2001",
         "rawType": "float64",
         "type": "float"
        },
        {
         "name": "2002",
         "rawType": "float64",
         "type": "float"
        },
        {
         "name": "2003",
         "rawType": "float64",
         "type": "float"
        },
        {
         "name": "2004",
         "rawType": "float64",
         "type": "float"
        },
        {
         "name": "2005",
         "rawType": "float64",
         "type": "float"
        },
        {
         "name": "2006",
         "rawType": "float64",
         "type": "float"
        },
        {
         "name": "2007",
         "rawType": "float64",
         "type": "float"
        },
        {
         "name": "2008",
         "rawType": "float64",
         "type": "float"
        },
        {
         "name": "2009",
         "rawType": "float64",
         "type": "float"
        },
        {
         "name": "2010",
         "rawType": "float64",
         "type": "float"
        },
        {
         "name": "2011",
         "rawType": "float64",
         "type": "float"
        },
        {
         "name": "2012",
         "rawType": "float64",
         "type": "float"
        },
        {
         "name": "2013",
         "rawType": "float64",
         "type": "float"
        },
        {
         "name": "2014",
         "rawType": "float64",
         "type": "float"
        },
        {
         "name": "2015",
         "rawType": "float64",
         "type": "float"
        },
        {
         "name": "2016",
         "rawType": "float64",
         "type": "float"
        },
        {
         "name": "2017",
         "rawType": "float64",
         "type": "float"
        },
        {
         "name": "2018",
         "rawType": "float64",
         "type": "float"
        },
        {
         "name": "2019",
         "rawType": "float64",
         "type": "float"
        },
        {
         "name": "2020",
         "rawType": "float64",
         "type": "float"
        },
        {
         "name": "2021",
         "rawType": "float64",
         "type": "float"
        },
        {
         "name": "2022",
         "rawType": "float64",
         "type": "float"
        },
        {
         "name": "2023",
         "rawType": "float64",
         "type": "float"
        },
        {
         "name": "2024",
         "rawType": "float64",
         "type": "float"
        },
        {
         "name": "Estimates_Start_After",
         "rawType": "int64",
         "type": "integer"
        }
       ],
       "ref": "1a5a5839-2fd2-4bee-93da-81e2c7101dcb",
       "rows": [
        [
         "0",
         "512",
         "AFG",
         "Afghanistan",
         "NGDP_RPCH",
         "Gross domestic product, constant prices",
         "Annual percentages of constant price GDP are year-on-year changes; the base year is country-specific. Expenditure-based GDP is total final expenditures at purchasers' prices (including the f.o.b. value of exports of goods and services), less the f.o.b. value of imports of goods and services. [SNA 1993]",
         "Percent change",
         "Units",
         "See notes for:  Gross domestic product, constant prices (National currency).",
         null,
         null,
         null,
         null,
         null,
         null,
         null,
         null,
         null,
         null,
         null,
         null,
         null,
         null,
         null,
         null,
         null,
         null,
         null,
         null,
         null,
         null,
         null,
         "8.692",
         "0.671",
         "11.83",
         "5.361",
         "13.34",
         "3.863",
         "20.585",
         "8.438",
         "6.479",
         "13.968",
         "5.683",
         "2.697",
         "0.988",
         "2.164",
         "2.647",
         "1.189",
         "3.912",
         "-2.351",
         "-14.542",
         "-6.24",
         "2.711",
         null,
         "2024"
        ],
        [
         "1",
         "914",
         "ALB",
         "Albania",
         "NGDP_RPCH",
         "Gross domestic product, constant prices",
         "Annual percentages of constant price GDP are year-on-year changes; the base year is country-specific. Expenditure-based GDP is total final expenditures at purchasers' prices (including the f.o.b. value of exports of goods and services), less the f.o.b. value of imports of goods and services. [SNA 1993]",
         "Percent change",
         "Units",
         "See notes for:  Gross domestic product, constant prices (National currency).",
         "2.684",
         "5.7",
         "2.9",
         "1.1",
         "2.0",
         "-1.5",
         "5.6",
         "-0.8",
         "-1.4",
         "9.8",
         "-10.0",
         "-28.0",
         "-7.2",
         "9.6",
         "9.4",
         "8.9",
         "9.1",
         "-10.924",
         "8.829",
         "12.891",
         "6.946",
         "8.293",
         "4.537",
         "5.529",
         "5.515",
         "5.526",
         "5.903",
         "5.983",
         "7.5",
         "3.354",
         "3.707",
         "2.545",
         "1.418",
         "1.002",
         "1.774",
         "2.219",
         "3.315",
         "3.802",
         "4.019",
         "2.088",
         "-3.302",
         "8.909",
         "4.856",
         "3.451",
         "3.251",
         "2022"
        ],
        [
         "2",
         "612",
         "DZA",
         "Algeria",
         "NGDP_RPCH",
         "Gross domestic product, constant prices",
         "Annual percentages of constant price GDP are year-on-year changes; the base year is country-specific. Expenditure-based GDP is total final expenditures at purchasers' prices (including the f.o.b. value of exports of goods and services), less the f.o.b. value of imports of goods and services. [SNA 1993]",
         "Percent change",
         "Units",
         "See notes for:  Gross domestic product, constant prices (National currency).",
         "-5.4",
         "3.0",
         "6.4",
         "5.4",
         "5.6",
         "5.6",
         "-0.2",
         "-0.7",
         "-1.9",
         "4.8",
         "0.8",
         "-1.2",
         "1.6",
         "-2.102",
         "-0.9",
         "3.848",
         "3.8",
         "1.1",
         "5.1",
         "3.2",
         "3.8",
         "3.0",
         "5.394",
         "6.503",
         "4.531",
         "5.361",
         "2.869",
         "3.135",
         "2.452",
         "1.156",
         "4.815",
         "2.993",
         "2.433",
         "2.597",
         "4.086",
         "3.162",
         "3.884",
         "1.524",
         "1.44",
         "0.933",
         "-5.017",
         "3.805",
         "3.616",
         "4.1",
         "3.849",
         "2023"
        ],
        [
         "3",
         "171",
         "AND",
         "Andorra",
         "NGDP_RPCH",
         "Gross domestic product, constant prices",
         "Annual percentages of constant price GDP are year-on-year changes; the base year is country-specific. Expenditure-based GDP is total final expenditures at purchasers' prices (including the f.o.b. value of exports of goods and services), less the f.o.b. value of imports of goods and services. [SNA 1993]",
         "Percent change",
         "Units",
         "See notes for:  Gross domestic product, constant prices (National currency).",
         null,
         null,
         null,
         null,
         null,
         null,
         null,
         null,
         null,
         null,
         null,
         null,
         null,
         null,
         null,
         null,
         null,
         null,
         null,
         null,
         null,
         "8.119",
         "4.546",
         "8.694",
         "8.136",
         "5.398",
         "4.809",
         "1.553",
         "-5.559",
         "-5.303",
         "-1.975",
         "-0.008",
         "-4.974",
         "-3.548",
         "2.504",
         "1.434",
         "3.71",
         "0.346",
         "1.589",
         "2.016",
         "-11.184",
         "8.287",
         "9.565",
         "1.445",
         "1.4",
         "2023"
        ],
        [
         "4",
         "614",
         "AGO",
         "Angola",
         "NGDP_RPCH",
         "Gross domestic product, constant prices",
         "Annual percentages of constant price GDP are year-on-year changes; the base year is country-specific. Expenditure-based GDP is total final expenditures at purchasers' prices (including the f.o.b. value of exports of goods and services), less the f.o.b. value of imports of goods and services. [SNA 1993]",
         "Percent change",
         "Units",
         "See notes for:  Gross domestic product, constant prices (National currency).",
         "2.406",
         "-4.4",
         null,
         "4.2",
         "6.0",
         "3.5",
         "2.9",
         "4.083",
         "6.129",
         "0.042",
         "-3.45",
         "12.084",
         "11.403",
         "10.969",
         "10.511",
         "10.364",
         "11.208",
         "7.274",
         "4.691",
         "2.181",
         "3.055",
         "4.206",
         "13.666",
         "3.49",
         "11.42",
         "14.15",
         "11.84",
         "13.0",
         "10.79",
         "2.0",
         "5.29",
         "3.59",
         "8.5",
         "4.88",
         "4.66",
         "0.76",
         "-1.7",
         "-0.14",
         "-0.59",
         "-0.2",
         "-4.04",
         "2.1",
         "4.22",
         "1.01",
         "2.413",
         "2022"
        ]
       ],
       "shape": {
        "columns": 55,
        "rows": 5
       }
      },
      "text/html": [
       "<div>\n",
       "<style scoped>\n",
       "    .dataframe tbody tr th:only-of-type {\n",
       "        vertical-align: middle;\n",
       "    }\n",
       "\n",
       "    .dataframe tbody tr th {\n",
       "        vertical-align: top;\n",
       "    }\n",
       "\n",
       "    .dataframe thead th {\n",
       "        text-align: right;\n",
       "    }\n",
       "</style>\n",
       "<table border=\"1\" class=\"dataframe\">\n",
       "  <thead>\n",
       "    <tr style=\"text-align: right;\">\n",
       "      <th></th>\n",
       "      <th>WEO_Country_Code</th>\n",
       "      <th>ISO</th>\n",
       "      <th>Country</th>\n",
       "      <th>WEO_Subject_Code</th>\n",
       "      <th>Subject_Descriptor</th>\n",
       "      <th>Subject_Notes</th>\n",
       "      <th>Units</th>\n",
       "      <th>Scale</th>\n",
       "      <th>Country_Series-Specific_Notes</th>\n",
       "      <th>1980</th>\n",
       "      <th>...</th>\n",
       "      <th>2016</th>\n",
       "      <th>2017</th>\n",
       "      <th>2018</th>\n",
       "      <th>2019</th>\n",
       "      <th>2020</th>\n",
       "      <th>2021</th>\n",
       "      <th>2022</th>\n",
       "      <th>2023</th>\n",
       "      <th>2024</th>\n",
       "      <th>Estimates_Start_After</th>\n",
       "    </tr>\n",
       "  </thead>\n",
       "  <tbody>\n",
       "    <tr>\n",
       "      <th>0</th>\n",
       "      <td>512</td>\n",
       "      <td>AFG</td>\n",
       "      <td>Afghanistan</td>\n",
       "      <td>NGDP_RPCH</td>\n",
       "      <td>Gross domestic product, constant prices</td>\n",
       "      <td>Annual percentages of constant price GDP are y...</td>\n",
       "      <td>Percent change</td>\n",
       "      <td>Units</td>\n",
       "      <td>See notes for:  Gross domestic product, consta...</td>\n",
       "      <td>NaN</td>\n",
       "      <td>...</td>\n",
       "      <td>2.164</td>\n",
       "      <td>2.647</td>\n",
       "      <td>1.189</td>\n",
       "      <td>3.912</td>\n",
       "      <td>-2.351</td>\n",
       "      <td>-14.542</td>\n",
       "      <td>-6.240</td>\n",
       "      <td>2.711</td>\n",
       "      <td>NaN</td>\n",
       "      <td>2024</td>\n",
       "    </tr>\n",
       "    <tr>\n",
       "      <th>1</th>\n",
       "      <td>914</td>\n",
       "      <td>ALB</td>\n",
       "      <td>Albania</td>\n",
       "      <td>NGDP_RPCH</td>\n",
       "      <td>Gross domestic product, constant prices</td>\n",
       "      <td>Annual percentages of constant price GDP are y...</td>\n",
       "      <td>Percent change</td>\n",
       "      <td>Units</td>\n",
       "      <td>See notes for:  Gross domestic product, consta...</td>\n",
       "      <td>2.684</td>\n",
       "      <td>...</td>\n",
       "      <td>3.315</td>\n",
       "      <td>3.802</td>\n",
       "      <td>4.019</td>\n",
       "      <td>2.088</td>\n",
       "      <td>-3.302</td>\n",
       "      <td>8.909</td>\n",
       "      <td>4.856</td>\n",
       "      <td>3.451</td>\n",
       "      <td>3.251</td>\n",
       "      <td>2022</td>\n",
       "    </tr>\n",
       "    <tr>\n",
       "      <th>2</th>\n",
       "      <td>612</td>\n",
       "      <td>DZA</td>\n",
       "      <td>Algeria</td>\n",
       "      <td>NGDP_RPCH</td>\n",
       "      <td>Gross domestic product, constant prices</td>\n",
       "      <td>Annual percentages of constant price GDP are y...</td>\n",
       "      <td>Percent change</td>\n",
       "      <td>Units</td>\n",
       "      <td>See notes for:  Gross domestic product, consta...</td>\n",
       "      <td>-5.400</td>\n",
       "      <td>...</td>\n",
       "      <td>3.884</td>\n",
       "      <td>1.524</td>\n",
       "      <td>1.440</td>\n",
       "      <td>0.933</td>\n",
       "      <td>-5.017</td>\n",
       "      <td>3.805</td>\n",
       "      <td>3.616</td>\n",
       "      <td>4.100</td>\n",
       "      <td>3.849</td>\n",
       "      <td>2023</td>\n",
       "    </tr>\n",
       "    <tr>\n",
       "      <th>3</th>\n",
       "      <td>171</td>\n",
       "      <td>AND</td>\n",
       "      <td>Andorra</td>\n",
       "      <td>NGDP_RPCH</td>\n",
       "      <td>Gross domestic product, constant prices</td>\n",
       "      <td>Annual percentages of constant price GDP are y...</td>\n",
       "      <td>Percent change</td>\n",
       "      <td>Units</td>\n",
       "      <td>See notes for:  Gross domestic product, consta...</td>\n",
       "      <td>NaN</td>\n",
       "      <td>...</td>\n",
       "      <td>3.710</td>\n",
       "      <td>0.346</td>\n",
       "      <td>1.589</td>\n",
       "      <td>2.016</td>\n",
       "      <td>-11.184</td>\n",
       "      <td>8.287</td>\n",
       "      <td>9.565</td>\n",
       "      <td>1.445</td>\n",
       "      <td>1.400</td>\n",
       "      <td>2023</td>\n",
       "    </tr>\n",
       "    <tr>\n",
       "      <th>4</th>\n",
       "      <td>614</td>\n",
       "      <td>AGO</td>\n",
       "      <td>Angola</td>\n",
       "      <td>NGDP_RPCH</td>\n",
       "      <td>Gross domestic product, constant prices</td>\n",
       "      <td>Annual percentages of constant price GDP are y...</td>\n",
       "      <td>Percent change</td>\n",
       "      <td>Units</td>\n",
       "      <td>See notes for:  Gross domestic product, consta...</td>\n",
       "      <td>2.406</td>\n",
       "      <td>...</td>\n",
       "      <td>-1.700</td>\n",
       "      <td>-0.140</td>\n",
       "      <td>-0.590</td>\n",
       "      <td>-0.200</td>\n",
       "      <td>-4.040</td>\n",
       "      <td>2.100</td>\n",
       "      <td>4.220</td>\n",
       "      <td>1.010</td>\n",
       "      <td>2.413</td>\n",
       "      <td>2022</td>\n",
       "    </tr>\n",
       "  </tbody>\n",
       "</table>\n",
       "<p>5 rows × 55 columns</p>\n",
       "</div>"
      ],
      "text/plain": [
       "   WEO_Country_Code  ISO      Country WEO_Subject_Code  \\\n",
       "0               512  AFG  Afghanistan        NGDP_RPCH   \n",
       "1               914  ALB      Albania        NGDP_RPCH   \n",
       "2               612  DZA      Algeria        NGDP_RPCH   \n",
       "3               171  AND      Andorra        NGDP_RPCH   \n",
       "4               614  AGO       Angola        NGDP_RPCH   \n",
       "\n",
       "                        Subject_Descriptor  \\\n",
       "0  Gross domestic product, constant prices   \n",
       "1  Gross domestic product, constant prices   \n",
       "2  Gross domestic product, constant prices   \n",
       "3  Gross domestic product, constant prices   \n",
       "4  Gross domestic product, constant prices   \n",
       "\n",
       "                                       Subject_Notes           Units  Scale  \\\n",
       "0  Annual percentages of constant price GDP are y...  Percent change  Units   \n",
       "1  Annual percentages of constant price GDP are y...  Percent change  Units   \n",
       "2  Annual percentages of constant price GDP are y...  Percent change  Units   \n",
       "3  Annual percentages of constant price GDP are y...  Percent change  Units   \n",
       "4  Annual percentages of constant price GDP are y...  Percent change  Units   \n",
       "\n",
       "                       Country_Series-Specific_Notes   1980  ...   2016  \\\n",
       "0  See notes for:  Gross domestic product, consta...    NaN  ...  2.164   \n",
       "1  See notes for:  Gross domestic product, consta...  2.684  ...  3.315   \n",
       "2  See notes for:  Gross domestic product, consta... -5.400  ...  3.884   \n",
       "3  See notes for:  Gross domestic product, consta...    NaN  ...  3.710   \n",
       "4  See notes for:  Gross domestic product, consta...  2.406  ... -1.700   \n",
       "\n",
       "    2017   2018   2019    2020    2021   2022   2023   2024  \\\n",
       "0  2.647  1.189  3.912  -2.351 -14.542 -6.240  2.711    NaN   \n",
       "1  3.802  4.019  2.088  -3.302   8.909  4.856  3.451  3.251   \n",
       "2  1.524  1.440  0.933  -5.017   3.805  3.616  4.100  3.849   \n",
       "3  0.346  1.589  2.016 -11.184   8.287  9.565  1.445  1.400   \n",
       "4 -0.140 -0.590 -0.200  -4.040   2.100  4.220  1.010  2.413   \n",
       "\n",
       "   Estimates_Start_After  \n",
       "0                   2024  \n",
       "1                   2022  \n",
       "2                   2023  \n",
       "3                   2023  \n",
       "4                   2022  \n",
       "\n",
       "[5 rows x 55 columns]"
      ]
     },
     "execution_count": 5,
     "metadata": {},
     "output_type": "execute_result"
    }
   ],
   "source": [
    "df_all = pd.read_csv(folder_path+\"/../00-WEO_Data_Country_Merged.csv\")\n",
    "df_all.head() "
   ]
  },
  {
   "cell_type": "code",
   "execution_count": 6,
   "id": "8d42d0b8",
   "metadata": {},
   "outputs": [
    {
     "name": "stdout",
     "output_type": "stream",
     "text": [
      "<class 'pandas.core.frame.DataFrame'>\n",
      "RangeIndex: 3120 entries, 0 to 3119\n",
      "Data columns (total 55 columns):\n",
      " #   Column                         Non-Null Count  Dtype  \n",
      "---  ------                         --------------  -----  \n",
      " 0   WEO_Country_Code               3120 non-null   int64  \n",
      " 1   ISO                            3120 non-null   object \n",
      " 2   Country                        3120 non-null   object \n",
      " 3   WEO_Subject_Code               3120 non-null   object \n",
      " 4   Subject_Descriptor             3120 non-null   object \n",
      " 5   Subject_Notes                  3120 non-null   object \n",
      " 6   Units                          3120 non-null   object \n",
      " 7   Scale                          3120 non-null   object \n",
      " 8   Country_Series-Specific_Notes  3116 non-null   object \n",
      " 9   1980                           1384 non-null   float64\n",
      " 10  1981                           1433 non-null   float64\n",
      " 11  1982                           1447 non-null   float64\n",
      " 12  1983                           1466 non-null   float64\n",
      " 13  1984                           1474 non-null   float64\n",
      " 14  1985                           1493 non-null   float64\n",
      " 15  1986                           1510 non-null   float64\n",
      " 16  1987                           1517 non-null   float64\n",
      " 17  1988                           1557 non-null   float64\n",
      " 18  1989                           1575 non-null   float64\n",
      " 19  1990                           1718 non-null   float64\n",
      " 20  1991                           1777 non-null   float64\n",
      " 21  1992                           1898 non-null   float64\n",
      " 22  1993                           2004 non-null   float64\n",
      " 23  1994                           2032 non-null   float64\n",
      " 24  1995                           2166 non-null   float64\n",
      " 25  1996                           2236 non-null   float64\n",
      " 26  1997                           2295 non-null   float64\n",
      " 27  1998                           2340 non-null   float64\n",
      " 28  1999                           2387 non-null   float64\n",
      " 29  2000                           2536 non-null   float64\n",
      " 30  2001                           2626 non-null   float64\n",
      " 31  2002                           2663 non-null   float64\n",
      " 32  2003                           2660 non-null   float64\n",
      " 33  2004                           2679 non-null   float64\n",
      " 34  2005                           2701 non-null   float64\n",
      " 35  2006                           2720 non-null   float64\n",
      " 36  2007                           2721 non-null   float64\n",
      " 37  2008                           2724 non-null   float64\n",
      " 38  2009                           2726 non-null   float64\n",
      " 39  2010                           2737 non-null   float64\n",
      " 40  2011                           2736 non-null   float64\n",
      " 41  2012                           2737 non-null   float64\n",
      " 42  2013                           2743 non-null   float64\n",
      " 43  2014                           2737 non-null   float64\n",
      " 44  2015                           2768 non-null   float64\n",
      " 45  2016                           2758 non-null   float64\n",
      " 46  2017                           2743 non-null   float64\n",
      " 47  2018                           2746 non-null   float64\n",
      " 48  2019                           2750 non-null   float64\n",
      " 49  2020                           2756 non-null   float64\n",
      " 50  2021                           2751 non-null   float64\n",
      " 51  2022                           2737 non-null   float64\n",
      " 52  2023                           2583 non-null   float64\n",
      " 53  2024                           2538 non-null   float64\n",
      " 54  Estimates_Start_After          3120 non-null   int64  \n",
      "dtypes: float64(45), int64(2), object(8)\n",
      "memory usage: 1.3+ MB\n"
     ]
    }
   ],
   "source": [
    "df_all.info()"
   ]
  },
  {
   "cell_type": "markdown",
   "id": "ce800e79",
   "metadata": {},
   "source": [
    "> **A. Table for `Countres` info: {'WEO_Country_Code', 'ISO', 'Country'} P_Key> 'WEO_Country_Code'.**\n"
   ]
  },
  {
   "cell_type": "code",
   "execution_count": 7,
   "id": "022fe2ea",
   "metadata": {},
   "outputs": [
    {
     "name": "stdout",
     "output_type": "stream",
     "text": [
      "WEO_Country_Code: 195\n",
      "ISO: 200\n",
      "Country: 195\n"
     ]
    }
   ],
   "source": [
    "# Print unique value counts for the first three columns\n",
    "for col in df_all.columns[:3]:\n",
    "    print(f\"{col}: {df_all[col].nunique()}\")"
   ]
  },
  {
   "cell_type": "code",
   "execution_count": 8,
   "id": "0ba48adb",
   "metadata": {},
   "outputs": [
    {
     "name": "stdout",
     "output_type": "stream",
     "text": [
      "<class 'pandas.core.frame.DataFrame'>\n",
      "Index: 195 entries, 0 to 194\n",
      "Data columns (total 3 columns):\n",
      " #   Column            Non-Null Count  Dtype \n",
      "---  ------            --------------  ----- \n",
      " 0   WEO_Country_Code  195 non-null    int64 \n",
      " 1   ISO               195 non-null    object\n",
      " 2   Country           195 non-null    object\n",
      "dtypes: int64(1), object(2)\n",
      "memory usage: 6.1+ KB\n"
     ]
    }
   ],
   "source": [
    "# Update 'ISO' with the most frequent 'Iso' for each 'WEO_Country_Code'\n",
    "df_all['ISO'] = df_all['WEO_Country_Code'].map(df_all.groupby('WEO_Country_Code')['ISO'].agg(lambda x: x.value_counts().idxmax()).to_dict())\n",
    "\n",
    "# Create a dataframe with unique combinations of 'WEO_Country_Code', 'Iso', and 'Country'\n",
    "df_countries = df_all.iloc[:,:3].drop_duplicates()\n",
    "\n",
    "# Display dataframe info\n",
    "df_countries.info()"
   ]
  },
  {
   "cell_type": "code",
   "execution_count": 9,
   "id": "80048371",
   "metadata": {},
   "outputs": [],
   "source": [
    "df_countries.to_csv(folder_save_path+\"/01-Countries.csv\",index=False)"
   ]
  },
  {
   "cell_type": "markdown",
   "id": "19423574",
   "metadata": {},
   "source": [
    "> **B. Table for `Subject` info: {'WEO_Subject_Code', 'Subject_Descriptor', 'Subject_Notes', 'Units', 'Scale'} P_Key>'WEO_Subject_Code'.**\n"
   ]
  },
  {
   "cell_type": "code",
   "execution_count": 10,
   "id": "62da1805",
   "metadata": {},
   "outputs": [
    {
     "name": "stdout",
     "output_type": "stream",
     "text": [
      "WEO_Subject_Code: 16\n",
      "Subject_Descriptor: 16\n",
      "Subject_Notes: 16\n",
      "Units: 7\n",
      "Scale: 1\n"
     ]
    }
   ],
   "source": [
    "# Print unique value counts for the first three columns\n",
    "for col in df_all.columns[3:8]:\n",
    "    print(f\"{col}: {df_all[col].nunique()}\")"
   ]
  },
  {
   "cell_type": "code",
   "execution_count": 11,
   "id": "0b460b78",
   "metadata": {},
   "outputs": [
    {
     "name": "stdout",
     "output_type": "stream",
     "text": [
      "<class 'pandas.core.frame.DataFrame'>\n",
      "Index: 16 entries, 0 to 2925\n",
      "Data columns (total 5 columns):\n",
      " #   Column              Non-Null Count  Dtype \n",
      "---  ------              --------------  ----- \n",
      " 0   WEO_Subject_Code    16 non-null     object\n",
      " 1   Subject_Descriptor  16 non-null     object\n",
      " 2   Subject_Notes       16 non-null     object\n",
      " 3   Units               16 non-null     object\n",
      " 4   Scale               16 non-null     object\n",
      "dtypes: object(5)\n",
      "memory usage: 768.0+ bytes\n"
     ]
    }
   ],
   "source": [
    "# Create a dataframe with unique combinations of 'Weo_Subject_Code', 'Subject_Descriptor', 'Subject_Notes', 'Units',and 'Scale'.\n",
    "df_subject = df_all.iloc[:,3:8].drop_duplicates()\n",
    "\n",
    "# Display dataframe info\n",
    "df_subject.info()"
   ]
  },
  {
   "cell_type": "code",
   "execution_count": 12,
   "id": "bde4ea3e",
   "metadata": {},
   "outputs": [
    {
     "data": {
      "application/vnd.microsoft.datawrangler.viewer.v0+json": {
       "columns": [
        {
         "name": "Units",
         "rawType": "object",
         "type": "string"
        },
        {
         "name": "count",
         "rawType": "int64",
         "type": "integer"
        }
       ],
       "ref": "85261640-7d16-41b7-a5f8-f89e5993edb0",
       "rows": [
        [
         "Percent of GDP",
         "6"
        ],
        [
         "Percent change",
         "4"
        ],
        [
         "Percent",
         "2"
        ],
        [
         "Purchasing power parity; international dollars",
         "1"
        ],
        [
         "National currency per current international dollar",
         "1"
        ],
        [
         "Percent of total labor force",
         "1"
        ],
        [
         "Percent of potential GDP",
         "1"
        ]
       ],
       "shape": {
        "columns": 1,
        "rows": 7
       }
      },
      "text/plain": [
       "Units\n",
       "Percent of GDP                                        6\n",
       "Percent change                                        4\n",
       "Percent                                               2\n",
       "Purchasing power parity; international dollars        1\n",
       "National currency per current international dollar    1\n",
       "Percent of total labor force                          1\n",
       "Percent of potential GDP                              1\n",
       "Name: count, dtype: int64"
      ]
     },
     "execution_count": 12,
     "metadata": {},
     "output_type": "execute_result"
    }
   ],
   "source": [
    "df_subject.Units.value_counts()"
   ]
  },
  {
   "cell_type": "code",
   "execution_count": 13,
   "id": "959dd1b9",
   "metadata": {},
   "outputs": [],
   "source": [
    "df_subject.to_csv(folder_save_path+\"/02-Subject.csv\",index=False)"
   ]
  },
  {
   "cell_type": "markdown",
   "id": "b80b1473",
   "metadata": {},
   "source": [
    "> **C. Table for `Country_Subject_Notes` info: {'WEO_Country_Code', 'WEO_Subject_Code','Country_Series-specific_Notes','Estimates_Start_After'} P_Key>('WEO_Country_Code','WEO_Subject_Code').**"
   ]
  },
  {
   "cell_type": "code",
   "execution_count": 14,
   "id": "4e616cc3",
   "metadata": {},
   "outputs": [
    {
     "name": "stdout",
     "output_type": "stream",
     "text": [
      "<class 'pandas.core.frame.DataFrame'>\n",
      "RangeIndex: 3120 entries, 0 to 3119\n",
      "Data columns (total 4 columns):\n",
      " #   Column                         Non-Null Count  Dtype \n",
      "---  ------                         --------------  ----- \n",
      " 0   WEO_Country_Code               3120 non-null   int64 \n",
      " 1   WEO_Subject_Code               3120 non-null   object\n",
      " 2   Country_Series-Specific_Notes  3116 non-null   object\n",
      " 3   Estimates_Start_After          3120 non-null   int64 \n",
      "dtypes: int64(2), object(2)\n",
      "memory usage: 97.6+ KB\n"
     ]
    }
   ],
   "source": [
    "# Create a dataframe with unique combinations of 'Weo_Country_Code','Weo_Subject_Code', 'Country_Series-Specific_Notes', and 'Estimates_Start_After'.\n",
    "df_Country_Subject_Notes = df_all.iloc[:,[0,3,8,-1]].drop_duplicates()\n",
    "\n",
    "# Display dataframe info\n",
    "df_Country_Subject_Notes.info()\n"
   ]
  },
  {
   "cell_type": "code",
   "execution_count": 15,
   "id": "432dbdfa",
   "metadata": {},
   "outputs": [],
   "source": [
    "df_Country_Subject_Notes.to_csv(folder_save_path+\"/03-Country_Subject_Notes.csv\",index=False)"
   ]
  },
  {
   "cell_type": "markdown",
   "id": "13bfce08",
   "metadata": {},
   "source": [
    "> D. Table for `Year` info: {'Years'} P_Key> 'Years'.\n"
   ]
  },
  {
   "cell_type": "code",
   "execution_count": 17,
   "id": "28c26d58",
   "metadata": {},
   "outputs": [
    {
     "data": {
      "text/plain": [
       "(   Year\n",
       " 0  1980\n",
       " 1  1981\n",
       " 2  1982\n",
       " 3  1983\n",
       " 4  1984,\n",
       "     Year\n",
       " 40  2020\n",
       " 41  2021\n",
       " 42  2022\n",
       " 43  2023\n",
       " 44  2024)"
      ]
     },
     "execution_count": 17,
     "metadata": {},
     "output_type": "execute_result"
    }
   ],
   "source": [
    "# Creating a dataframe with a column of dates from 1980 to 2024\n",
    "years = list(range(1980, 2025))\n",
    "df_dates = pd.DataFrame(years, columns=['Year'])\n",
    "df_dates.head(), df_dates.tail()"
   ]
  },
  {
   "cell_type": "code",
   "execution_count": 18,
   "id": "1cf7ed75",
   "metadata": {},
   "outputs": [],
   "source": [
    "df_dates.to_csv(folder_save_path+\"/04-Years.csv\",index=False)"
   ]
  },
  {
   "cell_type": "markdown",
   "id": "e134df8f",
   "metadata": {},
   "source": [
    "> **E. Table for data values `WEO_Data_Countries` name Columns {'WEO_Country_Code' , 'Years' , and all Varibles 'WEO_Subject_Code' {'BCA_NGDPD', 'GGR_NGDP', 'GGSB_NPGDP', 'GGX_NGDP', 'GGXWDG_NGDP', 'LUR', 'NGDP_RPCH', 'NGSD_NGDP', 'NID_NGDP', 'PCPIPCH', 'PPPEX', 'PPPPC', 'PPPSH', 'TM_RPCH', 'TRWMA', 'TX_RPCH'} }**"
   ]
  },
  {
   "cell_type": "code",
   "execution_count": 19,
   "id": "1d8cc2e6",
   "metadata": {},
   "outputs": [
    {
     "name": "stdout",
     "output_type": "stream",
     "text": [
      "(140400, 4)\n"
     ]
    },
    {
     "data": {
      "application/vnd.microsoft.datawrangler.viewer.v0+json": {
       "columns": [
        {
         "name": "index",
         "rawType": "int64",
         "type": "integer"
        },
        {
         "name": "WEO_Country_Code",
         "rawType": "int64",
         "type": "integer"
        },
        {
         "name": "WEO_Subject_Code",
         "rawType": "object",
         "type": "string"
        },
        {
         "name": "Year",
         "rawType": "object",
         "type": "string"
        },
        {
         "name": "Value",
         "rawType": "float64",
         "type": "float"
        }
       ],
       "ref": "5fa1ba6a-b744-4b21-9723-7b6095ec679e",
       "rows": [
        [
         "0",
         "512",
         "NGDP_RPCH",
         "1980",
         null
        ],
        [
         "1",
         "914",
         "NGDP_RPCH",
         "1980",
         "2.684"
        ],
        [
         "2",
         "612",
         "NGDP_RPCH",
         "1980",
         "-5.4"
        ],
        [
         "3",
         "171",
         "NGDP_RPCH",
         "1980",
         null
        ],
        [
         "4",
         "614",
         "NGDP_RPCH",
         "1980",
         "2.406"
        ]
       ],
       "shape": {
        "columns": 4,
        "rows": 5
       }
      },
      "text/html": [
       "<div>\n",
       "<style scoped>\n",
       "    .dataframe tbody tr th:only-of-type {\n",
       "        vertical-align: middle;\n",
       "    }\n",
       "\n",
       "    .dataframe tbody tr th {\n",
       "        vertical-align: top;\n",
       "    }\n",
       "\n",
       "    .dataframe thead th {\n",
       "        text-align: right;\n",
       "    }\n",
       "</style>\n",
       "<table border=\"1\" class=\"dataframe\">\n",
       "  <thead>\n",
       "    <tr style=\"text-align: right;\">\n",
       "      <th></th>\n",
       "      <th>WEO_Country_Code</th>\n",
       "      <th>WEO_Subject_Code</th>\n",
       "      <th>Year</th>\n",
       "      <th>Value</th>\n",
       "    </tr>\n",
       "  </thead>\n",
       "  <tbody>\n",
       "    <tr>\n",
       "      <th>0</th>\n",
       "      <td>512</td>\n",
       "      <td>NGDP_RPCH</td>\n",
       "      <td>1980</td>\n",
       "      <td>NaN</td>\n",
       "    </tr>\n",
       "    <tr>\n",
       "      <th>1</th>\n",
       "      <td>914</td>\n",
       "      <td>NGDP_RPCH</td>\n",
       "      <td>1980</td>\n",
       "      <td>2.684</td>\n",
       "    </tr>\n",
       "    <tr>\n",
       "      <th>2</th>\n",
       "      <td>612</td>\n",
       "      <td>NGDP_RPCH</td>\n",
       "      <td>1980</td>\n",
       "      <td>-5.400</td>\n",
       "    </tr>\n",
       "    <tr>\n",
       "      <th>3</th>\n",
       "      <td>171</td>\n",
       "      <td>NGDP_RPCH</td>\n",
       "      <td>1980</td>\n",
       "      <td>NaN</td>\n",
       "    </tr>\n",
       "    <tr>\n",
       "      <th>4</th>\n",
       "      <td>614</td>\n",
       "      <td>NGDP_RPCH</td>\n",
       "      <td>1980</td>\n",
       "      <td>2.406</td>\n",
       "    </tr>\n",
       "  </tbody>\n",
       "</table>\n",
       "</div>"
      ],
      "text/plain": [
       "   WEO_Country_Code WEO_Subject_Code  Year  Value\n",
       "0               512        NGDP_RPCH  1980    NaN\n",
       "1               914        NGDP_RPCH  1980  2.684\n",
       "2               612        NGDP_RPCH  1980 -5.400\n",
       "3               171        NGDP_RPCH  1980    NaN\n",
       "4               614        NGDP_RPCH  1980  2.406"
      ]
     },
     "execution_count": 19,
     "metadata": {},
     "output_type": "execute_result"
    }
   ],
   "source": [
    "df_long_country = df_all.melt(\n",
    "    id_vars=['WEO_Country_Code', 'WEO_Subject_Code'],  # Keep these columns fixed\n",
    "    value_vars=[str(y) for y in range(1980, 2025)],    # Unpivot year columns from 1980 to 2024\n",
    "    var_name='Year',                                   # Name of the new column for years\n",
    "    value_name='Value'                                 # Name of the new column for values\n",
    ")\n",
    "\n",
    "print(df_long_country.shape)\n",
    "df_long_country.head()"
   ]
  },
  {
   "cell_type": "code",
   "execution_count": 20,
   "id": "d5348a7e",
   "metadata": {},
   "outputs": [],
   "source": [
    "df_long_country.to_csv(folder_save_path+\"/05.1-WEO_Data_Countries.csv\",index=False)"
   ]
  },
  {
   "cell_type": "code",
   "execution_count": 21,
   "id": "c307293a",
   "metadata": {},
   "outputs": [
    {
     "name": "stdout",
     "output_type": "stream",
     "text": [
      "(8775, 18)\n"
     ]
    },
    {
     "data": {
      "application/vnd.microsoft.datawrangler.viewer.v0+json": {
       "columns": [
        {
         "name": "index",
         "rawType": "int64",
         "type": "integer"
        },
        {
         "name": "WEO_Country_Code",
         "rawType": "int64",
         "type": "integer"
        },
        {
         "name": "Year",
         "rawType": "object",
         "type": "string"
        },
        {
         "name": "BCA_NGDPD",
         "rawType": "float64",
         "type": "float"
        },
        {
         "name": "GGR_NGDP",
         "rawType": "float64",
         "type": "float"
        },
        {
         "name": "GGSB_NPGDP",
         "rawType": "float64",
         "type": "float"
        },
        {
         "name": "GGXWDG_NGDP",
         "rawType": "float64",
         "type": "float"
        },
        {
         "name": "GGX_NGDP",
         "rawType": "float64",
         "type": "float"
        },
        {
         "name": "LUR",
         "rawType": "float64",
         "type": "float"
        },
        {
         "name": "NGDP_RPCH",
         "rawType": "float64",
         "type": "float"
        },
        {
         "name": "NGSD_NGDP",
         "rawType": "float64",
         "type": "float"
        },
        {
         "name": "NID_NGDP",
         "rawType": "float64",
         "type": "float"
        },
        {
         "name": "PCPIPCH",
         "rawType": "float64",
         "type": "float"
        },
        {
         "name": "PPPEX",
         "rawType": "float64",
         "type": "float"
        },
        {
         "name": "PPPPC",
         "rawType": "float64",
         "type": "float"
        },
        {
         "name": "PPPSH",
         "rawType": "float64",
         "type": "float"
        },
        {
         "name": "TM_RPCH",
         "rawType": "float64",
         "type": "float"
        },
        {
         "name": "TRWMA",
         "rawType": "float64",
         "type": "float"
        },
        {
         "name": "TX_RPCH",
         "rawType": "float64",
         "type": "float"
        }
       ],
       "ref": "f61b7049-666e-466e-acb5-9cf4349e074f",
       "rows": [
        [
         "0",
         "111",
         "1980",
         "0.081",
         null,
         null,
         null,
         null,
         "7.175",
         "-0.257",
         "22.059",
         "23.31",
         "13.502",
         "1.0",
         "12552.943",
         "21.579",
         "-6.664",
         null,
         "10.778"
        ],
        [
         "1",
         "111",
         "1981",
         "0.157",
         null,
         null,
         null,
         null,
         "7.617",
         "2.537",
         "23.206",
         "24.277",
         "10.378",
         "1.0",
         "13948.701",
         "21.683",
         "2.616",
         null,
         "1.213"
        ],
        [
         "2",
         "111",
         "1982",
         "-0.165",
         null,
         null,
         null,
         null,
         "9.708",
         "-1.803",
         "21.713",
         "22.071",
         "6.158",
         "1.0",
         "14404.994",
         "21.185",
         "-1.264",
         null,
         "-7.662"
        ],
        [
         "3",
         "111",
         "1983",
         "-1.065",
         null,
         null,
         null,
         null,
         "9.6",
         "4.584",
         "19.725",
         "22.253",
         "3.16",
         "1.0",
         "15513.679",
         "21.607",
         "12.609",
         null,
         "-2.589"
        ],
        [
         "4",
         "111",
         "1984",
         "-2.337",
         null,
         null,
         null,
         null,
         "7.508",
         "7.236",
         "21.839",
         "25.096",
         "4.368",
         "1.0",
         "17086.441",
         "22.177",
         "24.344",
         null,
         "8.15"
        ]
       ],
       "shape": {
        "columns": 18,
        "rows": 5
       }
      },
      "text/html": [
       "<div>\n",
       "<style scoped>\n",
       "    .dataframe tbody tr th:only-of-type {\n",
       "        vertical-align: middle;\n",
       "    }\n",
       "\n",
       "    .dataframe tbody tr th {\n",
       "        vertical-align: top;\n",
       "    }\n",
       "\n",
       "    .dataframe thead th {\n",
       "        text-align: right;\n",
       "    }\n",
       "</style>\n",
       "<table border=\"1\" class=\"dataframe\">\n",
       "  <thead>\n",
       "    <tr style=\"text-align: right;\">\n",
       "      <th>WEO_Subject_Code</th>\n",
       "      <th>WEO_Country_Code</th>\n",
       "      <th>Year</th>\n",
       "      <th>BCA_NGDPD</th>\n",
       "      <th>GGR_NGDP</th>\n",
       "      <th>GGSB_NPGDP</th>\n",
       "      <th>GGXWDG_NGDP</th>\n",
       "      <th>GGX_NGDP</th>\n",
       "      <th>LUR</th>\n",
       "      <th>NGDP_RPCH</th>\n",
       "      <th>NGSD_NGDP</th>\n",
       "      <th>NID_NGDP</th>\n",
       "      <th>PCPIPCH</th>\n",
       "      <th>PPPEX</th>\n",
       "      <th>PPPPC</th>\n",
       "      <th>PPPSH</th>\n",
       "      <th>TM_RPCH</th>\n",
       "      <th>TRWMA</th>\n",
       "      <th>TX_RPCH</th>\n",
       "    </tr>\n",
       "  </thead>\n",
       "  <tbody>\n",
       "    <tr>\n",
       "      <th>0</th>\n",
       "      <td>111</td>\n",
       "      <td>1980</td>\n",
       "      <td>0.081</td>\n",
       "      <td>NaN</td>\n",
       "      <td>NaN</td>\n",
       "      <td>NaN</td>\n",
       "      <td>NaN</td>\n",
       "      <td>7.175</td>\n",
       "      <td>-0.257</td>\n",
       "      <td>22.059</td>\n",
       "      <td>23.310</td>\n",
       "      <td>13.502</td>\n",
       "      <td>1.0</td>\n",
       "      <td>12552.943</td>\n",
       "      <td>21.579</td>\n",
       "      <td>-6.664</td>\n",
       "      <td>NaN</td>\n",
       "      <td>10.778</td>\n",
       "    </tr>\n",
       "    <tr>\n",
       "      <th>1</th>\n",
       "      <td>111</td>\n",
       "      <td>1981</td>\n",
       "      <td>0.157</td>\n",
       "      <td>NaN</td>\n",
       "      <td>NaN</td>\n",
       "      <td>NaN</td>\n",
       "      <td>NaN</td>\n",
       "      <td>7.617</td>\n",
       "      <td>2.537</td>\n",
       "      <td>23.206</td>\n",
       "      <td>24.277</td>\n",
       "      <td>10.378</td>\n",
       "      <td>1.0</td>\n",
       "      <td>13948.701</td>\n",
       "      <td>21.683</td>\n",
       "      <td>2.616</td>\n",
       "      <td>NaN</td>\n",
       "      <td>1.213</td>\n",
       "    </tr>\n",
       "    <tr>\n",
       "      <th>2</th>\n",
       "      <td>111</td>\n",
       "      <td>1982</td>\n",
       "      <td>-0.165</td>\n",
       "      <td>NaN</td>\n",
       "      <td>NaN</td>\n",
       "      <td>NaN</td>\n",
       "      <td>NaN</td>\n",
       "      <td>9.708</td>\n",
       "      <td>-1.803</td>\n",
       "      <td>21.713</td>\n",
       "      <td>22.071</td>\n",
       "      <td>6.158</td>\n",
       "      <td>1.0</td>\n",
       "      <td>14404.994</td>\n",
       "      <td>21.185</td>\n",
       "      <td>-1.264</td>\n",
       "      <td>NaN</td>\n",
       "      <td>-7.662</td>\n",
       "    </tr>\n",
       "    <tr>\n",
       "      <th>3</th>\n",
       "      <td>111</td>\n",
       "      <td>1983</td>\n",
       "      <td>-1.065</td>\n",
       "      <td>NaN</td>\n",
       "      <td>NaN</td>\n",
       "      <td>NaN</td>\n",
       "      <td>NaN</td>\n",
       "      <td>9.600</td>\n",
       "      <td>4.584</td>\n",
       "      <td>19.725</td>\n",
       "      <td>22.253</td>\n",
       "      <td>3.160</td>\n",
       "      <td>1.0</td>\n",
       "      <td>15513.679</td>\n",
       "      <td>21.607</td>\n",
       "      <td>12.609</td>\n",
       "      <td>NaN</td>\n",
       "      <td>-2.589</td>\n",
       "    </tr>\n",
       "    <tr>\n",
       "      <th>4</th>\n",
       "      <td>111</td>\n",
       "      <td>1984</td>\n",
       "      <td>-2.337</td>\n",
       "      <td>NaN</td>\n",
       "      <td>NaN</td>\n",
       "      <td>NaN</td>\n",
       "      <td>NaN</td>\n",
       "      <td>7.508</td>\n",
       "      <td>7.236</td>\n",
       "      <td>21.839</td>\n",
       "      <td>25.096</td>\n",
       "      <td>4.368</td>\n",
       "      <td>1.0</td>\n",
       "      <td>17086.441</td>\n",
       "      <td>22.177</td>\n",
       "      <td>24.344</td>\n",
       "      <td>NaN</td>\n",
       "      <td>8.150</td>\n",
       "    </tr>\n",
       "  </tbody>\n",
       "</table>\n",
       "</div>"
      ],
      "text/plain": [
       "WEO_Subject_Code  WEO_Country_Code  Year  BCA_NGDPD  GGR_NGDP  GGSB_NPGDP  \\\n",
       "0                              111  1980      0.081       NaN         NaN   \n",
       "1                              111  1981      0.157       NaN         NaN   \n",
       "2                              111  1982     -0.165       NaN         NaN   \n",
       "3                              111  1983     -1.065       NaN         NaN   \n",
       "4                              111  1984     -2.337       NaN         NaN   \n",
       "\n",
       "WEO_Subject_Code  GGXWDG_NGDP  GGX_NGDP    LUR  NGDP_RPCH  NGSD_NGDP  \\\n",
       "0                         NaN       NaN  7.175     -0.257     22.059   \n",
       "1                         NaN       NaN  7.617      2.537     23.206   \n",
       "2                         NaN       NaN  9.708     -1.803     21.713   \n",
       "3                         NaN       NaN  9.600      4.584     19.725   \n",
       "4                         NaN       NaN  7.508      7.236     21.839   \n",
       "\n",
       "WEO_Subject_Code  NID_NGDP  PCPIPCH  PPPEX      PPPPC   PPPSH  TM_RPCH  TRWMA  \\\n",
       "0                   23.310   13.502    1.0  12552.943  21.579   -6.664    NaN   \n",
       "1                   24.277   10.378    1.0  13948.701  21.683    2.616    NaN   \n",
       "2                   22.071    6.158    1.0  14404.994  21.185   -1.264    NaN   \n",
       "3                   22.253    3.160    1.0  15513.679  21.607   12.609    NaN   \n",
       "4                   25.096    4.368    1.0  17086.441  22.177   24.344    NaN   \n",
       "\n",
       "WEO_Subject_Code  TX_RPCH  \n",
       "0                  10.778  \n",
       "1                   1.213  \n",
       "2                  -7.662  \n",
       "3                  -2.589  \n",
       "4                   8.150  "
      ]
     },
     "execution_count": 21,
     "metadata": {},
     "output_type": "execute_result"
    }
   ],
   "source": [
    "df_pivot_country = df_long_country.pivot_table(\n",
    "    index=['WEO_Country_Code', 'Year'],                # Set index to country code and year\n",
    "    columns='WEO_Subject_Code',                        # Spread subject codes as columns\n",
    "    values='Value',                                    # Fill cells with the corresponding values\n",
    "    dropna=False                                       # Keep rows with all NaN values\n",
    "\n",
    ").reset_index()                                        # Convert index to columns for DataFrame\n",
    "\n",
    "print(df_pivot_country.shape)\n",
    "df_pivot_country.head()\n"
   ]
  },
  {
   "cell_type": "code",
   "execution_count": 22,
   "id": "cf4486b8",
   "metadata": {},
   "outputs": [],
   "source": [
    "df_pivot_country.to_csv(folder_save_path+\"/05.2-WEO_Data_Countries.csv\",index=False)"
   ]
  },
  {
   "cell_type": "markdown",
   "id": "b18aea3e",
   "metadata": {},
   "source": [
    "<a id='2'></a>\n",
    "\n",
    "### **2. Spilt of Groups Dataset:**\n",
    "#### 2.1.  Meta Data Tables:\n",
    "- > A. Table for `Country_Groups` info: {'WEO_Country_Group_Code', 'Country_Group_ID', 'Country_Group_Name'} P_Key> 'WEO_Country_Group_Code'.\n",
    "- > B. Table for `Groups_Subject_Notes` info: {'Weo_Country_Group_Code', 'WEO_Subject_Code', 'Country_Series-Specific_Notes', 'Estimates_Start_After'} P_Key> ('Weo_Country_Group_Code', 'Weo_Subject_Code').\n",
    "\n",
    "- > C. Table for `Country_Classes` info: {'Weo_Country_Code',`'Country'`, `'Weo_Country_Group_Code'`,and all Varibles 'Country_Group_ID' { 'All_Advanced_41','All_Advanced_Euro_20', 'All_Advanced_G7', 'All_Developing_155','All_Developing_Asia_30', 'All_Developing_Europe_15', 'All_Developing_Latina_Caribbean_33', 'All_Developing_Meast_Casia_32', 'All_Developing_Ssafrica_45', 'All_Asean_5', 'All_Brics_20', 'All_Eur_27'}}  P_Key> 'Weo_Country_Code'.\n",
    "\n",
    "#### 2.2. dataset Tables:\n",
    "\n",
    "- > D. Table for data values `Country_Data_Group`name Columns : {'WEO_Country_Group_Code' , 'Years' , and all Varibles 'WEO_Subject_Code' {'BCA_NGDPD', 'GGR_NGDP', 'GGSB_NPGDP', 'GGX_NGDP', 'GGXWDG_NGDP', 'LUR', 'NGDP_RPCH', 'NGSD_NGDP', 'NID_NGDP', 'PCPIPCH', 'PPPEX', 'PPPPC', 'PPPSH', 'TM_RPCH', 'TRWMA', 'TX_RPCH'}}"
   ]
  },
  {
   "cell_type": "markdown",
   "id": "c9dec041",
   "metadata": {},
   "source": [
    "**Load Dataset**"
   ]
  },
  {
   "cell_type": "code",
   "execution_count": 23,
   "id": "79c75b02",
   "metadata": {},
   "outputs": [
    {
     "data": {
      "application/vnd.microsoft.datawrangler.viewer.v0+json": {
       "columns": [
        {
         "name": "index",
         "rawType": "int64",
         "type": "integer"
        },
        {
         "name": "WEO_Country_Group_Code",
         "rawType": "int64",
         "type": "integer"
        },
        {
         "name": "Country_Group_Id",
         "rawType": "object",
         "type": "string"
        },
        {
         "name": "Country_Group_Name",
         "rawType": "object",
         "type": "string"
        },
        {
         "name": "WEO_Subject_Code",
         "rawType": "object",
         "type": "string"
        },
        {
         "name": "Subject_Descriptor",
         "rawType": "object",
         "type": "string"
        },
        {
         "name": "Subject_Notes",
         "rawType": "object",
         "type": "unknown"
        },
        {
         "name": "Units",
         "rawType": "object",
         "type": "string"
        },
        {
         "name": "Scale",
         "rawType": "object",
         "type": "string"
        },
        {
         "name": "Country_Series-Specific_Notes",
         "rawType": "float64",
         "type": "float"
        },
        {
         "name": "1980",
         "rawType": "float64",
         "type": "float"
        },
        {
         "name": "1981",
         "rawType": "float64",
         "type": "float"
        },
        {
         "name": "1982",
         "rawType": "float64",
         "type": "float"
        },
        {
         "name": "1983",
         "rawType": "float64",
         "type": "float"
        },
        {
         "name": "1984",
         "rawType": "float64",
         "type": "float"
        },
        {
         "name": "1985",
         "rawType": "float64",
         "type": "float"
        },
        {
         "name": "1986",
         "rawType": "float64",
         "type": "float"
        },
        {
         "name": "1987",
         "rawType": "float64",
         "type": "float"
        },
        {
         "name": "1988",
         "rawType": "float64",
         "type": "float"
        },
        {
         "name": "1989",
         "rawType": "float64",
         "type": "float"
        },
        {
         "name": "1990",
         "rawType": "float64",
         "type": "float"
        },
        {
         "name": "1991",
         "rawType": "float64",
         "type": "float"
        },
        {
         "name": "1992",
         "rawType": "float64",
         "type": "float"
        },
        {
         "name": "1993",
         "rawType": "float64",
         "type": "float"
        },
        {
         "name": "1994",
         "rawType": "float64",
         "type": "float"
        },
        {
         "name": "1995",
         "rawType": "float64",
         "type": "float"
        },
        {
         "name": "1996",
         "rawType": "float64",
         "type": "float"
        },
        {
         "name": "1997",
         "rawType": "float64",
         "type": "float"
        },
        {
         "name": "1998",
         "rawType": "float64",
         "type": "float"
        },
        {
         "name": "1999",
         "rawType": "float64",
         "type": "float"
        },
        {
         "name": "2000",
         "rawType": "float64",
         "type": "float"
        },
        {
         "name": "2001",
         "rawType": "float64",
         "type": "float"
        },
        {
         "name": "2002",
         "rawType": "float64",
         "type": "float"
        },
        {
         "name": "2003",
         "rawType": "float64",
         "type": "float"
        },
        {
         "name": "2004",
         "rawType": "float64",
         "type": "float"
        },
        {
         "name": "2005",
         "rawType": "float64",
         "type": "float"
        },
        {
         "name": "2006",
         "rawType": "float64",
         "type": "float"
        },
        {
         "name": "2007",
         "rawType": "float64",
         "type": "float"
        },
        {
         "name": "2008",
         "rawType": "float64",
         "type": "float"
        },
        {
         "name": "2009",
         "rawType": "float64",
         "type": "float"
        },
        {
         "name": "2010",
         "rawType": "float64",
         "type": "float"
        },
        {
         "name": "2011",
         "rawType": "float64",
         "type": "float"
        },
        {
         "name": "2012",
         "rawType": "float64",
         "type": "float"
        },
        {
         "name": "2013",
         "rawType": "float64",
         "type": "float"
        },
        {
         "name": "2014",
         "rawType": "float64",
         "type": "float"
        },
        {
         "name": "2015",
         "rawType": "float64",
         "type": "float"
        },
        {
         "name": "2016",
         "rawType": "float64",
         "type": "float"
        },
        {
         "name": "2017",
         "rawType": "float64",
         "type": "float"
        },
        {
         "name": "2018",
         "rawType": "float64",
         "type": "float"
        },
        {
         "name": "2019",
         "rawType": "float64",
         "type": "float"
        },
        {
         "name": "2020",
         "rawType": "float64",
         "type": "float"
        },
        {
         "name": "2021",
         "rawType": "float64",
         "type": "float"
        },
        {
         "name": "2022",
         "rawType": "float64",
         "type": "float"
        },
        {
         "name": "2023",
         "rawType": "float64",
         "type": "float"
        },
        {
         "name": "2024",
         "rawType": "float64",
         "type": "float"
        },
        {
         "name": "Estimates_Start_After",
         "rawType": "int64",
         "type": "integer"
        }
       ],
       "ref": "62a124ee-41ff-44e8-a61f-33788ebdc45d",
       "rows": [
        [
         "0",
         "1",
         "ALL",
         "World",
         "BCA_NGDPD",
         "Current account balance",
         null,
         "Percent of GDP",
         "Units",
         null,
         null,
         null,
         null,
         null,
         null,
         null,
         null,
         null,
         null,
         null,
         null,
         null,
         null,
         null,
         null,
         null,
         null,
         null,
         null,
         null,
         null,
         null,
         null,
         null,
         null,
         null,
         null,
         null,
         null,
         null,
         null,
         null,
         null,
         null,
         null,
         null,
         null,
         null,
         null,
         null,
         null,
         null,
         null,
         null,
         null,
         "1980"
        ],
        [
         "1",
         "110",
         "ALL_Advanced_41",
         "Advanced economies",
         "BCA_NGDPD",
         "Current account balance",
         null,
         "Percent of GDP",
         "Units",
         null,
         "-1.078",
         "-0.657",
         "-0.467",
         "-0.374",
         "-0.541",
         "-0.561",
         "-0.151",
         "-0.298",
         "-0.165",
         "-0.342",
         "-0.447",
         "-0.167",
         "-0.152",
         "0.255",
         "0.065",
         "0.089",
         "0.043",
         "0.23",
         "0.051",
         "-0.371",
         "-0.917",
         "-0.895",
         "-0.844",
         "-0.775",
         "-0.626",
         "-1.101",
         "-1.229",
         "-0.998",
         "-1.352",
         "-0.209",
         "0.03",
         "-0.101",
         "0.002",
         "0.463",
         "0.483",
         "0.594",
         "0.783",
         "0.953",
         "0.741",
         "0.741",
         "0.264",
         "0.795",
         "-0.403",
         "0.224",
         "0.351",
         "2024"
        ],
        [
         "2",
         "163",
         "ALL_Advanced_Euro_20",
         "Euro area",
         "BCA_NGDPD",
         "Current account balance",
         null,
         "Percent of GDP",
         "Units",
         null,
         null,
         null,
         null,
         null,
         null,
         null,
         null,
         null,
         null,
         null,
         null,
         null,
         null,
         null,
         null,
         null,
         null,
         "0.817",
         "0.322",
         "-0.505",
         "-1.444",
         "-0.357",
         "0.601",
         "0.243",
         "0.702",
         "0.105",
         "-0.164",
         "0.04",
         "-1.82",
         "-0.3",
         "-0.319",
         "-0.348",
         "0.973",
         "2.055",
         "2.289",
         "2.617",
         "2.975",
         "3.121",
         "2.807",
         "2.369",
         "1.659",
         "2.47",
         "-0.313",
         "1.584",
         "2.558",
         "2024"
        ],
        [
         "3",
         "119",
         "ALL_Advanced_G7",
         "Major advanced economies (G7)",
         "BCA_NGDPD",
         "Current account balance",
         null,
         "Percent of GDP",
         "Units",
         null,
         "-0.676",
         "-0.256",
         "-0.133",
         "-0.232",
         "-0.736",
         "-0.752",
         "-0.356",
         "-0.56",
         "-0.369",
         "-0.428",
         "-0.468",
         "-0.176",
         "-0.19",
         "0.07",
         "-0.104",
         "-0.067",
         "-0.078",
         "0.051",
         "-0.298",
         "-0.787",
         "-1.381",
         "-1.393",
         "-1.415",
         "-1.491",
         "-1.302",
         "-1.711",
         "-1.873",
         "-1.331",
         "-1.607",
         "-0.642",
         "-0.686",
         "-0.772",
         "-0.898",
         "-0.65",
         "-0.649",
         "-0.481",
         "-0.168",
         "0.051",
         "-0.17",
         "0.054",
         "-0.745",
         "-0.736",
         "-1.998",
         "-1.245",
         "-1.167",
         "2024"
        ],
        [
         "4",
         "123",
         "ALL_BRICS_20",
         "Other advanced economies (Advanced economies excluding G7 and euro area)",
         "BCA_NGDPD",
         "Current account balance",
         null,
         "Percent of GDP",
         "Units",
         null,
         null,
         null,
         null,
         null,
         "0.429",
         "0.699",
         "0.893",
         "1.615",
         "1.415",
         "0.551",
         "0.255",
         "0.652",
         "0.765",
         "1.393",
         "0.742",
         "0.198",
         "0.353",
         "0.986",
         "2.943",
         "2.819",
         "2.947",
         "3.48",
         "3.375",
         "4.264",
         "4.105",
         "3.822",
         "4.221",
         "3.431",
         "2.836",
         "3.92",
         "4.697",
         "3.863",
         "3.964",
         "4.721",
         "4.84",
         "5.281",
         "4.846",
         "4.527",
         "4.323",
         "4.559",
         "5.088",
         "6.841",
         "6.793",
         "6.057",
         "6.104",
         "2024"
        ]
       ],
       "shape": {
        "columns": 55,
        "rows": 5
       }
      },
      "text/html": [
       "<div>\n",
       "<style scoped>\n",
       "    .dataframe tbody tr th:only-of-type {\n",
       "        vertical-align: middle;\n",
       "    }\n",
       "\n",
       "    .dataframe tbody tr th {\n",
       "        vertical-align: top;\n",
       "    }\n",
       "\n",
       "    .dataframe thead th {\n",
       "        text-align: right;\n",
       "    }\n",
       "</style>\n",
       "<table border=\"1\" class=\"dataframe\">\n",
       "  <thead>\n",
       "    <tr style=\"text-align: right;\">\n",
       "      <th></th>\n",
       "      <th>WEO_Country_Group_Code</th>\n",
       "      <th>Country_Group_Id</th>\n",
       "      <th>Country_Group_Name</th>\n",
       "      <th>WEO_Subject_Code</th>\n",
       "      <th>Subject_Descriptor</th>\n",
       "      <th>Subject_Notes</th>\n",
       "      <th>Units</th>\n",
       "      <th>Scale</th>\n",
       "      <th>Country_Series-Specific_Notes</th>\n",
       "      <th>1980</th>\n",
       "      <th>...</th>\n",
       "      <th>2016</th>\n",
       "      <th>2017</th>\n",
       "      <th>2018</th>\n",
       "      <th>2019</th>\n",
       "      <th>2020</th>\n",
       "      <th>2021</th>\n",
       "      <th>2022</th>\n",
       "      <th>2023</th>\n",
       "      <th>2024</th>\n",
       "      <th>Estimates_Start_After</th>\n",
       "    </tr>\n",
       "  </thead>\n",
       "  <tbody>\n",
       "    <tr>\n",
       "      <th>0</th>\n",
       "      <td>1</td>\n",
       "      <td>ALL</td>\n",
       "      <td>World</td>\n",
       "      <td>BCA_NGDPD</td>\n",
       "      <td>Current account balance</td>\n",
       "      <td>NaN</td>\n",
       "      <td>Percent of GDP</td>\n",
       "      <td>Units</td>\n",
       "      <td>NaN</td>\n",
       "      <td>NaN</td>\n",
       "      <td>...</td>\n",
       "      <td>NaN</td>\n",
       "      <td>NaN</td>\n",
       "      <td>NaN</td>\n",
       "      <td>NaN</td>\n",
       "      <td>NaN</td>\n",
       "      <td>NaN</td>\n",
       "      <td>NaN</td>\n",
       "      <td>NaN</td>\n",
       "      <td>NaN</td>\n",
       "      <td>1980</td>\n",
       "    </tr>\n",
       "    <tr>\n",
       "      <th>1</th>\n",
       "      <td>110</td>\n",
       "      <td>ALL_Advanced_41</td>\n",
       "      <td>Advanced economies</td>\n",
       "      <td>BCA_NGDPD</td>\n",
       "      <td>Current account balance</td>\n",
       "      <td>NaN</td>\n",
       "      <td>Percent of GDP</td>\n",
       "      <td>Units</td>\n",
       "      <td>NaN</td>\n",
       "      <td>-1.078</td>\n",
       "      <td>...</td>\n",
       "      <td>0.783</td>\n",
       "      <td>0.953</td>\n",
       "      <td>0.741</td>\n",
       "      <td>0.741</td>\n",
       "      <td>0.264</td>\n",
       "      <td>0.795</td>\n",
       "      <td>-0.403</td>\n",
       "      <td>0.224</td>\n",
       "      <td>0.351</td>\n",
       "      <td>2024</td>\n",
       "    </tr>\n",
       "    <tr>\n",
       "      <th>2</th>\n",
       "      <td>163</td>\n",
       "      <td>ALL_Advanced_Euro_20</td>\n",
       "      <td>Euro area</td>\n",
       "      <td>BCA_NGDPD</td>\n",
       "      <td>Current account balance</td>\n",
       "      <td>NaN</td>\n",
       "      <td>Percent of GDP</td>\n",
       "      <td>Units</td>\n",
       "      <td>NaN</td>\n",
       "      <td>NaN</td>\n",
       "      <td>...</td>\n",
       "      <td>2.975</td>\n",
       "      <td>3.121</td>\n",
       "      <td>2.807</td>\n",
       "      <td>2.369</td>\n",
       "      <td>1.659</td>\n",
       "      <td>2.470</td>\n",
       "      <td>-0.313</td>\n",
       "      <td>1.584</td>\n",
       "      <td>2.558</td>\n",
       "      <td>2024</td>\n",
       "    </tr>\n",
       "    <tr>\n",
       "      <th>3</th>\n",
       "      <td>119</td>\n",
       "      <td>ALL_Advanced_G7</td>\n",
       "      <td>Major advanced economies (G7)</td>\n",
       "      <td>BCA_NGDPD</td>\n",
       "      <td>Current account balance</td>\n",
       "      <td>NaN</td>\n",
       "      <td>Percent of GDP</td>\n",
       "      <td>Units</td>\n",
       "      <td>NaN</td>\n",
       "      <td>-0.676</td>\n",
       "      <td>...</td>\n",
       "      <td>-0.168</td>\n",
       "      <td>0.051</td>\n",
       "      <td>-0.170</td>\n",
       "      <td>0.054</td>\n",
       "      <td>-0.745</td>\n",
       "      <td>-0.736</td>\n",
       "      <td>-1.998</td>\n",
       "      <td>-1.245</td>\n",
       "      <td>-1.167</td>\n",
       "      <td>2024</td>\n",
       "    </tr>\n",
       "    <tr>\n",
       "      <th>4</th>\n",
       "      <td>123</td>\n",
       "      <td>ALL_BRICS_20</td>\n",
       "      <td>Other advanced economies (Advanced economies e...</td>\n",
       "      <td>BCA_NGDPD</td>\n",
       "      <td>Current account balance</td>\n",
       "      <td>NaN</td>\n",
       "      <td>Percent of GDP</td>\n",
       "      <td>Units</td>\n",
       "      <td>NaN</td>\n",
       "      <td>NaN</td>\n",
       "      <td>...</td>\n",
       "      <td>4.846</td>\n",
       "      <td>4.527</td>\n",
       "      <td>4.323</td>\n",
       "      <td>4.559</td>\n",
       "      <td>5.088</td>\n",
       "      <td>6.841</td>\n",
       "      <td>6.793</td>\n",
       "      <td>6.057</td>\n",
       "      <td>6.104</td>\n",
       "      <td>2024</td>\n",
       "    </tr>\n",
       "  </tbody>\n",
       "</table>\n",
       "<p>5 rows × 55 columns</p>\n",
       "</div>"
      ],
      "text/plain": [
       "   WEO_Country_Group_Code      Country_Group_Id  \\\n",
       "0                       1                   ALL   \n",
       "1                     110       ALL_Advanced_41   \n",
       "2                     163  ALL_Advanced_Euro_20   \n",
       "3                     119       ALL_Advanced_G7   \n",
       "4                     123          ALL_BRICS_20   \n",
       "\n",
       "                                  Country_Group_Name WEO_Subject_Code  \\\n",
       "0                                              World        BCA_NGDPD   \n",
       "1                                 Advanced economies        BCA_NGDPD   \n",
       "2                                          Euro area        BCA_NGDPD   \n",
       "3                      Major advanced economies (G7)        BCA_NGDPD   \n",
       "4  Other advanced economies (Advanced economies e...        BCA_NGDPD   \n",
       "\n",
       "        Subject_Descriptor Subject_Notes           Units  Scale  \\\n",
       "0  Current account balance           NaN  Percent of GDP  Units   \n",
       "1  Current account balance           NaN  Percent of GDP  Units   \n",
       "2  Current account balance           NaN  Percent of GDP  Units   \n",
       "3  Current account balance           NaN  Percent of GDP  Units   \n",
       "4  Current account balance           NaN  Percent of GDP  Units   \n",
       "\n",
       "   Country_Series-Specific_Notes   1980  ...   2016   2017   2018   2019  \\\n",
       "0                            NaN    NaN  ...    NaN    NaN    NaN    NaN   \n",
       "1                            NaN -1.078  ...  0.783  0.953  0.741  0.741   \n",
       "2                            NaN    NaN  ...  2.975  3.121  2.807  2.369   \n",
       "3                            NaN -0.676  ... -0.168  0.051 -0.170  0.054   \n",
       "4                            NaN    NaN  ...  4.846  4.527  4.323  4.559   \n",
       "\n",
       "    2020   2021   2022   2023   2024  Estimates_Start_After  \n",
       "0    NaN    NaN    NaN    NaN    NaN                   1980  \n",
       "1  0.264  0.795 -0.403  0.224  0.351                   2024  \n",
       "2  1.659  2.470 -0.313  1.584  2.558                   2024  \n",
       "3 -0.745 -0.736 -1.998 -1.245 -1.167                   2024  \n",
       "4  5.088  6.841  6.793  6.057  6.104                   2024  \n",
       "\n",
       "[5 rows x 55 columns]"
      ]
     },
     "metadata": {},
     "output_type": "display_data"
    },
    {
     "data": {
      "application/vnd.microsoft.datawrangler.viewer.v0+json": {
       "columns": [
        {
         "name": "index",
         "rawType": "int64",
         "type": "integer"
        },
        {
         "name": "WEO_Country_Code",
         "rawType": "int64",
         "type": "integer"
        },
        {
         "name": "ISO",
         "rawType": "object",
         "type": "string"
        },
        {
         "name": "Country",
         "rawType": "object",
         "type": "string"
        },
        {
         "name": "All_Advanced_41",
         "rawType": "int64",
         "type": "integer"
        },
        {
         "name": "All_Advanced_Euro_20",
         "rawType": "int64",
         "type": "integer"
        },
        {
         "name": "All_Advanced_G7",
         "rawType": "int64",
         "type": "integer"
        },
        {
         "name": "All_Developing_155",
         "rawType": "int64",
         "type": "integer"
        },
        {
         "name": "All_Developing_Asia_30",
         "rawType": "int64",
         "type": "integer"
        },
        {
         "name": "All_Developing_Europe_15",
         "rawType": "int64",
         "type": "integer"
        },
        {
         "name": "All_Developing_Latina_Caribbean_33",
         "rawType": "int64",
         "type": "integer"
        },
        {
         "name": "All_Developing_Meast_Casia_32",
         "rawType": "int64",
         "type": "integer"
        },
        {
         "name": "All_Developing_Ssafrica_45",
         "rawType": "int64",
         "type": "integer"
        },
        {
         "name": "All_Asean_5",
         "rawType": "int64",
         "type": "integer"
        },
        {
         "name": "All_Brics_20",
         "rawType": "int64",
         "type": "integer"
        },
        {
         "name": "All_Eur_27",
         "rawType": "int64",
         "type": "integer"
        }
       ],
       "ref": "bdb0840e-ce60-4975-9fb8-a4ccbedc77b8",
       "rows": [
        [
         "0",
         "512",
         "AFG",
         "Afghanistan",
         "0",
         "0",
         "0",
         "1",
         "0",
         "0",
         "0",
         "1",
         "0",
         "0",
         "0",
         "0"
        ],
        [
         "1",
         "914",
         "ALB",
         "Albania",
         "0",
         "0",
         "0",
         "1",
         "0",
         "1",
         "0",
         "0",
         "0",
         "0",
         "0",
         "0"
        ],
        [
         "2",
         "612",
         "DZA",
         "Algeria",
         "0",
         "0",
         "0",
         "1",
         "0",
         "0",
         "0",
         "1",
         "0",
         "0",
         "1",
         "0"
        ],
        [
         "3",
         "171",
         "AND",
         "Andorra",
         "1",
         "0",
         "0",
         "0",
         "0",
         "0",
         "0",
         "0",
         "0",
         "0",
         "0",
         "0"
        ],
        [
         "4",
         "614",
         "AGO",
         "Angola",
         "0",
         "0",
         "0",
         "1",
         "0",
         "0",
         "0",
         "0",
         "1",
         "0",
         "0",
         "0"
        ]
       ],
       "shape": {
        "columns": 15,
        "rows": 5
       }
      },
      "text/html": [
       "<div>\n",
       "<style scoped>\n",
       "    .dataframe tbody tr th:only-of-type {\n",
       "        vertical-align: middle;\n",
       "    }\n",
       "\n",
       "    .dataframe tbody tr th {\n",
       "        vertical-align: top;\n",
       "    }\n",
       "\n",
       "    .dataframe thead th {\n",
       "        text-align: right;\n",
       "    }\n",
       "</style>\n",
       "<table border=\"1\" class=\"dataframe\">\n",
       "  <thead>\n",
       "    <tr style=\"text-align: right;\">\n",
       "      <th></th>\n",
       "      <th>WEO_Country_Code</th>\n",
       "      <th>ISO</th>\n",
       "      <th>Country</th>\n",
       "      <th>All_Advanced_41</th>\n",
       "      <th>All_Advanced_Euro_20</th>\n",
       "      <th>All_Advanced_G7</th>\n",
       "      <th>All_Developing_155</th>\n",
       "      <th>All_Developing_Asia_30</th>\n",
       "      <th>All_Developing_Europe_15</th>\n",
       "      <th>All_Developing_Latina_Caribbean_33</th>\n",
       "      <th>All_Developing_Meast_Casia_32</th>\n",
       "      <th>All_Developing_Ssafrica_45</th>\n",
       "      <th>All_Asean_5</th>\n",
       "      <th>All_Brics_20</th>\n",
       "      <th>All_Eur_27</th>\n",
       "    </tr>\n",
       "  </thead>\n",
       "  <tbody>\n",
       "    <tr>\n",
       "      <th>0</th>\n",
       "      <td>512</td>\n",
       "      <td>AFG</td>\n",
       "      <td>Afghanistan</td>\n",
       "      <td>0</td>\n",
       "      <td>0</td>\n",
       "      <td>0</td>\n",
       "      <td>1</td>\n",
       "      <td>0</td>\n",
       "      <td>0</td>\n",
       "      <td>0</td>\n",
       "      <td>1</td>\n",
       "      <td>0</td>\n",
       "      <td>0</td>\n",
       "      <td>0</td>\n",
       "      <td>0</td>\n",
       "    </tr>\n",
       "    <tr>\n",
       "      <th>1</th>\n",
       "      <td>914</td>\n",
       "      <td>ALB</td>\n",
       "      <td>Albania</td>\n",
       "      <td>0</td>\n",
       "      <td>0</td>\n",
       "      <td>0</td>\n",
       "      <td>1</td>\n",
       "      <td>0</td>\n",
       "      <td>1</td>\n",
       "      <td>0</td>\n",
       "      <td>0</td>\n",
       "      <td>0</td>\n",
       "      <td>0</td>\n",
       "      <td>0</td>\n",
       "      <td>0</td>\n",
       "    </tr>\n",
       "    <tr>\n",
       "      <th>2</th>\n",
       "      <td>612</td>\n",
       "      <td>DZA</td>\n",
       "      <td>Algeria</td>\n",
       "      <td>0</td>\n",
       "      <td>0</td>\n",
       "      <td>0</td>\n",
       "      <td>1</td>\n",
       "      <td>0</td>\n",
       "      <td>0</td>\n",
       "      <td>0</td>\n",
       "      <td>1</td>\n",
       "      <td>0</td>\n",
       "      <td>0</td>\n",
       "      <td>1</td>\n",
       "      <td>0</td>\n",
       "    </tr>\n",
       "    <tr>\n",
       "      <th>3</th>\n",
       "      <td>171</td>\n",
       "      <td>AND</td>\n",
       "      <td>Andorra</td>\n",
       "      <td>1</td>\n",
       "      <td>0</td>\n",
       "      <td>0</td>\n",
       "      <td>0</td>\n",
       "      <td>0</td>\n",
       "      <td>0</td>\n",
       "      <td>0</td>\n",
       "      <td>0</td>\n",
       "      <td>0</td>\n",
       "      <td>0</td>\n",
       "      <td>0</td>\n",
       "      <td>0</td>\n",
       "    </tr>\n",
       "    <tr>\n",
       "      <th>4</th>\n",
       "      <td>614</td>\n",
       "      <td>AGO</td>\n",
       "      <td>Angola</td>\n",
       "      <td>0</td>\n",
       "      <td>0</td>\n",
       "      <td>0</td>\n",
       "      <td>1</td>\n",
       "      <td>0</td>\n",
       "      <td>0</td>\n",
       "      <td>0</td>\n",
       "      <td>0</td>\n",
       "      <td>1</td>\n",
       "      <td>0</td>\n",
       "      <td>0</td>\n",
       "      <td>0</td>\n",
       "    </tr>\n",
       "  </tbody>\n",
       "</table>\n",
       "</div>"
      ],
      "text/plain": [
       "   WEO_Country_Code  ISO      Country  All_Advanced_41  All_Advanced_Euro_20  \\\n",
       "0               512  AFG  Afghanistan                0                     0   \n",
       "1               914  ALB      Albania                0                     0   \n",
       "2               612  DZA      Algeria                0                     0   \n",
       "3               171  AND      Andorra                1                     0   \n",
       "4               614  AGO       Angola                0                     0   \n",
       "\n",
       "   All_Advanced_G7  All_Developing_155  All_Developing_Asia_30  \\\n",
       "0                0                   1                       0   \n",
       "1                0                   1                       0   \n",
       "2                0                   1                       0   \n",
       "3                0                   0                       0   \n",
       "4                0                   1                       0   \n",
       "\n",
       "   All_Developing_Europe_15  All_Developing_Latina_Caribbean_33  \\\n",
       "0                         0                                   0   \n",
       "1                         1                                   0   \n",
       "2                         0                                   0   \n",
       "3                         0                                   0   \n",
       "4                         0                                   0   \n",
       "\n",
       "   All_Developing_Meast_Casia_32  All_Developing_Ssafrica_45  All_Asean_5  \\\n",
       "0                              1                           0            0   \n",
       "1                              0                           0            0   \n",
       "2                              1                           0            0   \n",
       "3                              0                           0            0   \n",
       "4                              0                           1            0   \n",
       "\n",
       "   All_Brics_20  All_Eur_27  \n",
       "0             0           0  \n",
       "1             0           0  \n",
       "2             1           0  \n",
       "3             0           0  \n",
       "4             0           0  "
      ]
     },
     "metadata": {},
     "output_type": "display_data"
    }
   ],
   "source": [
    "df_gruops= pd.read_csv(folder_path+\"/Group/12-WEO_Data_Group.csv\")\n",
    "df_classes= pd.read_csv(folder_path+\"/Group/13-WEO_Group.csv\")\n",
    "\n",
    "display(df_gruops.head())\n",
    "display(df_classes.head())"
   ]
  },
  {
   "cell_type": "markdown",
   "id": "b516ca7b",
   "metadata": {},
   "source": [
    "> **A. Table for `Country_Groups` info: {'WEO_Country_Group_Code', 'Country_Group_ID', 'Country_Group_Name' } P_Key> 'WEO_Country_Group_Code'.**\n"
   ]
  },
  {
   "cell_type": "code",
   "execution_count": 24,
   "id": "5b4f77d7",
   "metadata": {},
   "outputs": [
    {
     "name": "stdout",
     "output_type": "stream",
     "text": [
      "WEO_Country_Group_Code: 13\n",
      "Country_Group_Id: 13\n",
      "Country_Group_Name: 13\n"
     ]
    }
   ],
   "source": [
    "# Print unique value counts for the first three columns\n",
    "for col in df_gruops.columns[:3]:\n",
    "    print(f\"{col}: {df_gruops[col].nunique()}\")"
   ]
  },
  {
   "cell_type": "code",
   "execution_count": 25,
   "id": "c6701e86",
   "metadata": {},
   "outputs": [
    {
     "name": "stdout",
     "output_type": "stream",
     "text": [
      "<class 'pandas.core.frame.DataFrame'>\n",
      "Index: 13 entries, 0 to 12\n",
      "Data columns (total 3 columns):\n",
      " #   Column                  Non-Null Count  Dtype \n",
      "---  ------                  --------------  ----- \n",
      " 0   WEO_Country_Group_Code  13 non-null     int64 \n",
      " 1   Country_Group_Id        13 non-null     object\n",
      " 2   Country_Group_Name      13 non-null     object\n",
      "dtypes: int64(1), object(2)\n",
      "memory usage: 416.0+ bytes\n"
     ]
    }
   ],
   "source": [
    "# Create a dataframe with unique combinations of 'WEO_Country_Group_Code', 'Country_Group_ID', and 'Country_Group_Name'.\n",
    "df_Country_group = df_gruops.iloc[:,:3].drop_duplicates()\n",
    "\n",
    "# Display dataframe info\n",
    "df_Country_group.info()"
   ]
  },
  {
   "cell_type": "code",
   "execution_count": 26,
   "id": "8802e566",
   "metadata": {},
   "outputs": [],
   "source": [
    "df_Country_group.to_csv(folder_save_path+\"/06-Country_Groups.csv\",index=False)"
   ]
  },
  {
   "cell_type": "markdown",
   "id": "106edc53",
   "metadata": {},
   "source": [
    "> **B. Table for `Groups_Subject_Notes` info: {'Weo_Country_Group_Code', 'WEO_Subject_Code', 'Country_Series-Specific_Notes', 'Estimates_Start_After'} P_Key> ('Weo_Country_Group_Code', 'Weo_Subject_Code').**\n"
   ]
  },
  {
   "cell_type": "code",
   "execution_count": 27,
   "id": "f843cd6f",
   "metadata": {},
   "outputs": [
    {
     "name": "stdout",
     "output_type": "stream",
     "text": [
      "WEO_Country_Group_Code: 13\n",
      "WEO_Subject_Code: 14\n",
      "Country_Series-Specific_Notes: 0\n",
      "Estimates_Start_After: 2\n"
     ]
    }
   ],
   "source": [
    "# Print unique value counts for the first three columns\n",
    "for col in df_gruops.columns[np.r_[0,3,8, -1]]:\n",
    "    print(f\"{col}: {df_gruops[col].nunique()}\")"
   ]
  },
  {
   "cell_type": "code",
   "execution_count": 28,
   "id": "31b80c4d",
   "metadata": {},
   "outputs": [
    {
     "name": "stdout",
     "output_type": "stream",
     "text": [
      "<class 'pandas.core.frame.DataFrame'>\n",
      "RangeIndex: 182 entries, 0 to 181\n",
      "Data columns (total 4 columns):\n",
      " #   Column                         Non-Null Count  Dtype  \n",
      "---  ------                         --------------  -----  \n",
      " 0   WEO_Country_Group_Code         182 non-null    int64  \n",
      " 1   WEO_Subject_Code               182 non-null    object \n",
      " 2   Country_Series-Specific_Notes  0 non-null      float64\n",
      " 3   Estimates_Start_After          182 non-null    int64  \n",
      "dtypes: float64(1), int64(2), object(1)\n",
      "memory usage: 5.8+ KB\n"
     ]
    }
   ],
   "source": [
    "# Create a dataframe with unique combinations of 'Weo_Country_Group_Code', 'Weo_Subject_Code', 'Country_Series-Specific_Notes', and 'Estimates_Start_After'.\n",
    "\n",
    "df_group_Subject_Notes = df_gruops.iloc[:,np.r_[0,3,8, -1]].drop_duplicates()\n",
    "\n",
    "# Display dataframe info\n",
    "df_group_Subject_Notes.info()"
   ]
  },
  {
   "cell_type": "code",
   "execution_count": 29,
   "id": "5daaaaf2",
   "metadata": {},
   "outputs": [],
   "source": [
    "df_group_Subject_Notes.to_csv(folder_save_path+\"/07-Group_Subject_Notes.csv\",index=False)"
   ]
  },
  {
   "cell_type": "markdown",
   "id": "a5578bb1",
   "metadata": {},
   "source": [
    "> **C. Table for `Country_Classes` info: {'Weo_Country_Code', `'Country'`, `'Weo_Country_Group_Code'`, and all Varibles 'Country_Group_ID' { 'All_Advanced_41','All_Advanced_Euro_20', 'All_Advanced_G7', 'All_Developing_155','All_Developing_Asia_30', 'All_Developing_Europe_15', 'All_Developing_Latina_Caribbean_33', 'All_Developing_Meast_Casia_32', 'All_Developing_Ssafrica_45', 'All_Asean_5', 'All_Brics_20', 'All_Eur_27'}}  P_Key> 'Weo_Country_Code'.**\n"
   ]
  },
  {
   "cell_type": "code",
   "execution_count": 30,
   "id": "ea1dd803",
   "metadata": {},
   "outputs": [
    {
     "name": "stdout",
     "output_type": "stream",
     "text": [
      "<class 'pandas.core.frame.DataFrame'>\n",
      "RangeIndex: 195 entries, 0 to 194\n",
      "Data columns (total 15 columns):\n",
      " #   Column                              Non-Null Count  Dtype \n",
      "---  ------                              --------------  ----- \n",
      " 0   WEO_Country_Code                    195 non-null    int64 \n",
      " 1   ISO                                 195 non-null    object\n",
      " 2   Country                             195 non-null    object\n",
      " 3   All_Advanced_41                     195 non-null    int64 \n",
      " 4   All_Advanced_Euro_20                195 non-null    int64 \n",
      " 5   All_Advanced_G7                     195 non-null    int64 \n",
      " 6   All_Developing_155                  195 non-null    int64 \n",
      " 7   All_Developing_Asia_30              195 non-null    int64 \n",
      " 8   All_Developing_Europe_15            195 non-null    int64 \n",
      " 9   All_Developing_Latina_Caribbean_33  195 non-null    int64 \n",
      " 10  All_Developing_Meast_Casia_32       195 non-null    int64 \n",
      " 11  All_Developing_Ssafrica_45          195 non-null    int64 \n",
      " 12  All_Asean_5                         195 non-null    int64 \n",
      " 13  All_Brics_20                        195 non-null    int64 \n",
      " 14  All_Eur_27                          195 non-null    int64 \n",
      "dtypes: int64(13), object(2)\n",
      "memory usage: 23.0+ KB\n"
     ]
    }
   ],
   "source": [
    "df_classes.info()"
   ]
  },
  {
   "cell_type": "code",
   "execution_count": 31,
   "metadata": {},
   "outputs": [
    {
     "name": "stdout",
     "output_type": "stream",
     "text": [
      "WEO_Country_Code: 195\n",
      "Country: 195\n",
      "All_Advanced_41: 2\n",
      "All_Advanced_Euro_20: 2\n",
      "All_Advanced_G7: 2\n",
      "All_Developing_155: 2\n",
      "All_Developing_Asia_30: 2\n",
      "All_Developing_Europe_15: 2\n",
      "All_Developing_Latina_Caribbean_33: 2\n",
      "All_Developing_Meast_Casia_32: 2\n",
      "All_Developing_Ssafrica_45: 2\n",
      "All_Asean_5: 2\n",
      "All_Brics_20: 2\n",
      "All_Eur_27: 2\n"
     ]
    }
   ],
   "source": [
    "# Print unique value counts for the first three columns\n",
    "for col in df_classes.columns[np.r_[0, 2:15]]:\n",
    "    print(f\"{col}: {df_classes[col].nunique()}\")"
   ]
  },
  {
   "cell_type": "code",
   "execution_count": 32,
   "id": "1ea01227",
   "metadata": {},
   "outputs": [
    {
     "name": "stdout",
     "output_type": "stream",
     "text": [
      "<class 'pandas.core.frame.DataFrame'>\n",
      "RangeIndex: 195 entries, 0 to 194\n",
      "Data columns (total 14 columns):\n",
      " #   Column                              Non-Null Count  Dtype \n",
      "---  ------                              --------------  ----- \n",
      " 0   WEO_Country_Code                    195 non-null    int64 \n",
      " 1   Country                             195 non-null    object\n",
      " 2   All_Advanced_41                     195 non-null    int64 \n",
      " 3   All_Advanced_Euro_20                195 non-null    int64 \n",
      " 4   All_Advanced_G7                     195 non-null    int64 \n",
      " 5   All_Developing_155                  195 non-null    int64 \n",
      " 6   All_Developing_Asia_30              195 non-null    int64 \n",
      " 7   All_Developing_Europe_15            195 non-null    int64 \n",
      " 8   All_Developing_Latina_Caribbean_33  195 non-null    int64 \n",
      " 9   All_Developing_Meast_Casia_32       195 non-null    int64 \n",
      " 10  All_Developing_Ssafrica_45          195 non-null    int64 \n",
      " 11  All_Asean_5                         195 non-null    int64 \n",
      " 12  All_Brics_20                        195 non-null    int64 \n",
      " 13  All_Eur_27                          195 non-null    int64 \n",
      "dtypes: int64(13), object(1)\n",
      "memory usage: 21.5+ KB\n"
     ]
    }
   ],
   "source": [
    "\n",
    "# Create a dataframe with unique combinations of 'Weo_Country_Group_Code', 'Weo_Subject_Code', 'Subject_Descriptor', and 'Estimates_Start_After'.\n",
    "df_country_classes = df_classes.iloc[:,np.r_[0,2:15]].drop_duplicates()\n",
    "\n",
    "# Display dataframe info\n",
    "df_country_classes.info()"
   ]
  },
  {
   "cell_type": "code",
   "execution_count": 33,
   "id": "288039ad",
   "metadata": {},
   "outputs": [],
   "source": [
    "df_country_classes.to_csv(folder_save_path+\"/08.3-Country_Classes.csv\",index=False)"
   ]
  },
  {
   "cell_type": "code",
   "execution_count": 34,
   "id": "184d0886",
   "metadata": {},
   "outputs": [
    {
     "name": "stdout",
     "output_type": "stream",
     "text": [
      "(2340, 4)\n"
     ]
    },
    {
     "data": {
      "application/vnd.microsoft.datawrangler.viewer.v0+json": {
       "columns": [
        {
         "name": "index",
         "rawType": "int64",
         "type": "integer"
        },
        {
         "name": "WEO_Country_Code",
         "rawType": "int64",
         "type": "integer"
        },
        {
         "name": "Country",
         "rawType": "object",
         "type": "string"
        },
        {
         "name": "Country_Group_Id",
         "rawType": "object",
         "type": "string"
        },
        {
         "name": "Value",
         "rawType": "int64",
         "type": "integer"
        }
       ],
       "ref": "72ed20f8-eafc-433c-ae48-8d7294a0d6a7",
       "rows": [
        [
         "0",
         "512",
         "Afghanistan",
         "All_Advanced_41",
         "0"
        ],
        [
         "1",
         "914",
         "Albania",
         "All_Advanced_41",
         "0"
        ],
        [
         "2",
         "612",
         "Algeria",
         "All_Advanced_41",
         "0"
        ],
        [
         "3",
         "171",
         "Andorra",
         "All_Advanced_41",
         "1"
        ],
        [
         "4",
         "614",
         "Angola",
         "All_Advanced_41",
         "0"
        ]
       ],
       "shape": {
        "columns": 4,
        "rows": 5
       }
      },
      "text/html": [
       "<div>\n",
       "<style scoped>\n",
       "    .dataframe tbody tr th:only-of-type {\n",
       "        vertical-align: middle;\n",
       "    }\n",
       "\n",
       "    .dataframe tbody tr th {\n",
       "        vertical-align: top;\n",
       "    }\n",
       "\n",
       "    .dataframe thead th {\n",
       "        text-align: right;\n",
       "    }\n",
       "</style>\n",
       "<table border=\"1\" class=\"dataframe\">\n",
       "  <thead>\n",
       "    <tr style=\"text-align: right;\">\n",
       "      <th></th>\n",
       "      <th>WEO_Country_Code</th>\n",
       "      <th>Country</th>\n",
       "      <th>Country_Group_Id</th>\n",
       "      <th>Value</th>\n",
       "    </tr>\n",
       "  </thead>\n",
       "  <tbody>\n",
       "    <tr>\n",
       "      <th>0</th>\n",
       "      <td>512</td>\n",
       "      <td>Afghanistan</td>\n",
       "      <td>All_Advanced_41</td>\n",
       "      <td>0</td>\n",
       "    </tr>\n",
       "    <tr>\n",
       "      <th>1</th>\n",
       "      <td>914</td>\n",
       "      <td>Albania</td>\n",
       "      <td>All_Advanced_41</td>\n",
       "      <td>0</td>\n",
       "    </tr>\n",
       "    <tr>\n",
       "      <th>2</th>\n",
       "      <td>612</td>\n",
       "      <td>Algeria</td>\n",
       "      <td>All_Advanced_41</td>\n",
       "      <td>0</td>\n",
       "    </tr>\n",
       "    <tr>\n",
       "      <th>3</th>\n",
       "      <td>171</td>\n",
       "      <td>Andorra</td>\n",
       "      <td>All_Advanced_41</td>\n",
       "      <td>1</td>\n",
       "    </tr>\n",
       "    <tr>\n",
       "      <th>4</th>\n",
       "      <td>614</td>\n",
       "      <td>Angola</td>\n",
       "      <td>All_Advanced_41</td>\n",
       "      <td>0</td>\n",
       "    </tr>\n",
       "  </tbody>\n",
       "</table>\n",
       "</div>"
      ],
      "text/plain": [
       "   WEO_Country_Code      Country Country_Group_Id  Value\n",
       "0               512  Afghanistan  All_Advanced_41      0\n",
       "1               914      Albania  All_Advanced_41      0\n",
       "2               612      Algeria  All_Advanced_41      0\n",
       "3               171      Andorra  All_Advanced_41      1\n",
       "4               614       Angola  All_Advanced_41      0"
      ]
     },
     "execution_count": 34,
     "metadata": {},
     "output_type": "execute_result"
    }
   ],
   "source": [
    "df_long_classes = df_country_classes.melt(\n",
    "    id_vars=['WEO_Country_Code','Country'],   # keep only the country code column fixed\n",
    "    var_name='Country_Group_Id',               # name of the new column for the original wide-column names\n",
    "    value_name='Value'              # name of the new column for the values\n",
    ")\n",
    "\n",
    "print(df_long_classes.shape)\n",
    "df_long_classes.head()\n"
   ]
  },
  {
   "cell_type": "code",
   "execution_count": 35,
   "id": "275ce2b6",
   "metadata": {},
   "outputs": [],
   "source": [
    "df_gruops['Country_Group_Id'] = df_gruops['Country_Group_Id'].astype(str).str.strip().str.lower()\n",
    "df_long_classes['Country_Group_Id'] = df_long_classes['Country_Group_Id'].astype(str).str.strip().str.lower()\n"
   ]
  },
  {
   "cell_type": "code",
   "execution_count": 36,
   "id": "6b4f0abf",
   "metadata": {},
   "outputs": [
    {
     "data": {
      "application/vnd.microsoft.datawrangler.viewer.v0+json": {
       "columns": [
        {
         "name": "Country_Group_Id",
         "rawType": "object",
         "type": "string"
        },
        {
         "name": "WEO_Country_Group_Code",
         "rawType": "int64",
         "type": "integer"
        }
       ],
       "ref": "7592d0a6-909e-46da-9d36-38e8a0f10c07",
       "rows": [
        [
         "all",
         "1"
        ],
        [
         "all_advanced_41",
         "110"
        ],
        [
         "all_advanced_euro_20",
         "163"
        ],
        [
         "all_advanced_g7",
         "119"
        ],
        [
         "all_brics_20",
         "123"
        ],
        [
         "all_eur_27",
         "998"
        ],
        [
         "all_asean_5",
         "510"
        ],
        [
         "all_developing_155",
         "200"
        ],
        [
         "all_developing_asia_30",
         "505"
        ],
        [
         "all_developing_europe_15",
         "903"
        ],
        [
         "all_developing_latina_caribbean_33",
         "205"
        ],
        [
         "all_developing_meast_casia_32",
         "400"
        ],
        [
         "all_developing_ssafrica_45",
         "603"
        ]
       ],
       "shape": {
        "columns": 1,
        "rows": 13
       }
      },
      "text/plain": [
       "Country_Group_Id\n",
       "all                                     1\n",
       "all_advanced_41                       110\n",
       "all_advanced_euro_20                  163\n",
       "all_advanced_g7                       119\n",
       "all_brics_20                          123\n",
       "all_eur_27                            998\n",
       "all_asean_5                           510\n",
       "all_developing_155                    200\n",
       "all_developing_asia_30                505\n",
       "all_developing_europe_15              903\n",
       "all_developing_latina_caribbean_33    205\n",
       "all_developing_meast_casia_32         400\n",
       "all_developing_ssafrica_45            603\n",
       "Name: WEO_Country_Group_Code, dtype: int64"
      ]
     },
     "execution_count": 36,
     "metadata": {},
     "output_type": "execute_result"
    }
   ],
   "source": [
    "group_mapping = df_gruops.set_index('Country_Group_Id')['WEO_Country_Group_Code'].drop_duplicates()\n",
    "group_mapping"
   ]
  },
  {
   "cell_type": "code",
   "execution_count": 37,
   "id": "a8b1f80b",
   "metadata": {},
   "outputs": [
    {
     "data": {
      "application/vnd.microsoft.datawrangler.viewer.v0+json": {
       "columns": [
        {
         "name": "index",
         "rawType": "int64",
         "type": "integer"
        },
        {
         "name": "WEO_Country_Code",
         "rawType": "int64",
         "type": "integer"
        },
        {
         "name": "Country",
         "rawType": "object",
         "type": "string"
        },
        {
         "name": "WEO_Country_Group_Code",
         "rawType": "int64",
         "type": "integer"
        },
        {
         "name": "Country_Group_Id",
         "rawType": "object",
         "type": "string"
        },
        {
         "name": "Value",
         "rawType": "int64",
         "type": "integer"
        }
       ],
       "ref": "79c289e7-d966-47bf-9622-93da5a1a83ae",
       "rows": [
        [
         "0",
         "512",
         "Afghanistan",
         "110",
         "all_advanced_41",
         "0"
        ],
        [
         "1",
         "914",
         "Albania",
         "110",
         "all_advanced_41",
         "0"
        ],
        [
         "2",
         "612",
         "Algeria",
         "110",
         "all_advanced_41",
         "0"
        ],
        [
         "3",
         "171",
         "Andorra",
         "110",
         "all_advanced_41",
         "1"
        ],
        [
         "4",
         "614",
         "Angola",
         "110",
         "all_advanced_41",
         "0"
        ]
       ],
       "shape": {
        "columns": 5,
        "rows": 5
       }
      },
      "text/html": [
       "<div>\n",
       "<style scoped>\n",
       "    .dataframe tbody tr th:only-of-type {\n",
       "        vertical-align: middle;\n",
       "    }\n",
       "\n",
       "    .dataframe tbody tr th {\n",
       "        vertical-align: top;\n",
       "    }\n",
       "\n",
       "    .dataframe thead th {\n",
       "        text-align: right;\n",
       "    }\n",
       "</style>\n",
       "<table border=\"1\" class=\"dataframe\">\n",
       "  <thead>\n",
       "    <tr style=\"text-align: right;\">\n",
       "      <th></th>\n",
       "      <th>WEO_Country_Code</th>\n",
       "      <th>Country</th>\n",
       "      <th>WEO_Country_Group_Code</th>\n",
       "      <th>Country_Group_Id</th>\n",
       "      <th>Value</th>\n",
       "    </tr>\n",
       "  </thead>\n",
       "  <tbody>\n",
       "    <tr>\n",
       "      <th>0</th>\n",
       "      <td>512</td>\n",
       "      <td>Afghanistan</td>\n",
       "      <td>110</td>\n",
       "      <td>all_advanced_41</td>\n",
       "      <td>0</td>\n",
       "    </tr>\n",
       "    <tr>\n",
       "      <th>1</th>\n",
       "      <td>914</td>\n",
       "      <td>Albania</td>\n",
       "      <td>110</td>\n",
       "      <td>all_advanced_41</td>\n",
       "      <td>0</td>\n",
       "    </tr>\n",
       "    <tr>\n",
       "      <th>2</th>\n",
       "      <td>612</td>\n",
       "      <td>Algeria</td>\n",
       "      <td>110</td>\n",
       "      <td>all_advanced_41</td>\n",
       "      <td>0</td>\n",
       "    </tr>\n",
       "    <tr>\n",
       "      <th>3</th>\n",
       "      <td>171</td>\n",
       "      <td>Andorra</td>\n",
       "      <td>110</td>\n",
       "      <td>all_advanced_41</td>\n",
       "      <td>1</td>\n",
       "    </tr>\n",
       "    <tr>\n",
       "      <th>4</th>\n",
       "      <td>614</td>\n",
       "      <td>Angola</td>\n",
       "      <td>110</td>\n",
       "      <td>all_advanced_41</td>\n",
       "      <td>0</td>\n",
       "    </tr>\n",
       "  </tbody>\n",
       "</table>\n",
       "</div>"
      ],
      "text/plain": [
       "   WEO_Country_Code      Country  WEO_Country_Group_Code Country_Group_Id  \\\n",
       "0               512  Afghanistan                     110  all_advanced_41   \n",
       "1               914      Albania                     110  all_advanced_41   \n",
       "2               612      Algeria                     110  all_advanced_41   \n",
       "3               171      Andorra                     110  all_advanced_41   \n",
       "4               614       Angola                     110  all_advanced_41   \n",
       "\n",
       "   Value  \n",
       "0      0  \n",
       "1      0  \n",
       "2      0  \n",
       "3      1  \n",
       "4      0  "
      ]
     },
     "execution_count": 37,
     "metadata": {},
     "output_type": "execute_result"
    }
   ],
   "source": [
    "df_long_classes.insert(2, 'WEO_Country_Group_Code', df_long_classes['Country_Group_Id'].map(group_mapping))\n",
    "df_long_classes.head()"
   ]
  },
  {
   "cell_type": "code",
   "execution_count": 38,
   "id": "97e60651",
   "metadata": {},
   "outputs": [],
   "source": [
    "df_long_classes.to_csv(folder_save_path+\"/08.2-Country_Classes.csv\",index=False)\n"
   ]
  },
  {
   "cell_type": "code",
   "execution_count": 39,
   "id": "2f532964",
   "metadata": {},
   "outputs": [
    {
     "data": {
      "application/vnd.microsoft.datawrangler.viewer.v0+json": {
       "columns": [
        {
         "name": "index",
         "rawType": "int64",
         "type": "integer"
        },
        {
         "name": "WEO_Country_Code",
         "rawType": "int64",
         "type": "integer"
        },
        {
         "name": "WEO_Country_Group_Code",
         "rawType": "int64",
         "type": "integer"
        },
        {
         "name": "Value",
         "rawType": "int64",
         "type": "integer"
        }
       ],
       "ref": "e8170dba-1e23-4031-b1c6-a46614052c35",
       "rows": [
        [
         "0",
         "512",
         "110",
         "0"
        ],
        [
         "1",
         "914",
         "110",
         "0"
        ],
        [
         "2",
         "612",
         "110",
         "0"
        ],
        [
         "3",
         "171",
         "110",
         "1"
        ],
        [
         "4",
         "614",
         "110",
         "0"
        ]
       ],
       "shape": {
        "columns": 3,
        "rows": 5
       }
      },
      "text/html": [
       "<div>\n",
       "<style scoped>\n",
       "    .dataframe tbody tr th:only-of-type {\n",
       "        vertical-align: middle;\n",
       "    }\n",
       "\n",
       "    .dataframe tbody tr th {\n",
       "        vertical-align: top;\n",
       "    }\n",
       "\n",
       "    .dataframe thead th {\n",
       "        text-align: right;\n",
       "    }\n",
       "</style>\n",
       "<table border=\"1\" class=\"dataframe\">\n",
       "  <thead>\n",
       "    <tr style=\"text-align: right;\">\n",
       "      <th></th>\n",
       "      <th>WEO_Country_Code</th>\n",
       "      <th>WEO_Country_Group_Code</th>\n",
       "      <th>Value</th>\n",
       "    </tr>\n",
       "  </thead>\n",
       "  <tbody>\n",
       "    <tr>\n",
       "      <th>0</th>\n",
       "      <td>512</td>\n",
       "      <td>110</td>\n",
       "      <td>0</td>\n",
       "    </tr>\n",
       "    <tr>\n",
       "      <th>1</th>\n",
       "      <td>914</td>\n",
       "      <td>110</td>\n",
       "      <td>0</td>\n",
       "    </tr>\n",
       "    <tr>\n",
       "      <th>2</th>\n",
       "      <td>612</td>\n",
       "      <td>110</td>\n",
       "      <td>0</td>\n",
       "    </tr>\n",
       "    <tr>\n",
       "      <th>3</th>\n",
       "      <td>171</td>\n",
       "      <td>110</td>\n",
       "      <td>1</td>\n",
       "    </tr>\n",
       "    <tr>\n",
       "      <th>4</th>\n",
       "      <td>614</td>\n",
       "      <td>110</td>\n",
       "      <td>0</td>\n",
       "    </tr>\n",
       "  </tbody>\n",
       "</table>\n",
       "</div>"
      ],
      "text/plain": [
       "   WEO_Country_Code  WEO_Country_Group_Code  Value\n",
       "0               512                     110      0\n",
       "1               914                     110      0\n",
       "2               612                     110      0\n",
       "3               171                     110      1\n",
       "4               614                     110      0"
      ]
     },
     "execution_count": 39,
     "metadata": {},
     "output_type": "execute_result"
    }
   ],
   "source": [
    "df_long_classesDB = df_long_classes.drop(columns=[\"Country\",\"Country_Group_Id\"],axis=1)\n",
    "df_long_classesDB.head()"
   ]
  },
  {
   "cell_type": "code",
   "execution_count": 40,
   "id": "46b6435f",
   "metadata": {},
   "outputs": [],
   "source": [
    "df_long_classesDB.to_csv(folder_save_path+\"/08.1-Country_Classes.csv\",index=False)"
   ]
  },
  {
   "cell_type": "markdown",
   "id": "18ba2e69",
   "metadata": {},
   "source": [
    "> D. **Table for data values `Country_Data_Group`name Columns : {'WEO_Country_Group_Code' , 'Years' , and all Varibles 'WEO_Subject_Code' {'BCA_NGDPD', 'GGR_NGDP', 'GGSB_NPGDP', 'GGX_NGDP', 'GGXWDG_NGDP', 'LUR', 'NGDP_RPCH', 'NGSD_NGDP', 'NID_NGDP', 'PCPIPCH', 'PPPEX', 'PPPPC', 'PPPSH', 'TM_RPCH', 'TRWMA', 'TX_RPCH'}}**"
   ]
  },
  {
   "cell_type": "code",
   "execution_count": 41,
   "id": "775f7311",
   "metadata": {},
   "outputs": [
    {
     "name": "stdout",
     "output_type": "stream",
     "text": [
      "<class 'pandas.core.frame.DataFrame'>\n",
      "RangeIndex: 182 entries, 0 to 181\n",
      "Data columns (total 55 columns):\n",
      " #   Column                         Non-Null Count  Dtype  \n",
      "---  ------                         --------------  -----  \n",
      " 0   WEO_Country_Group_Code         182 non-null    int64  \n",
      " 1   Country_Group_Id               182 non-null    object \n",
      " 2   Country_Group_Name             182 non-null    object \n",
      " 3   WEO_Subject_Code               182 non-null    object \n",
      " 4   Subject_Descriptor             182 non-null    object \n",
      " 5   Subject_Notes                  52 non-null     object \n",
      " 6   Units                          182 non-null    object \n",
      " 7   Scale                          182 non-null    object \n",
      " 8   Country_Series-Specific_Notes  0 non-null      float64\n",
      " 9   1980                           92 non-null     float64\n",
      " 10  1981                           95 non-null     float64\n",
      " 11  1982                           95 non-null     float64\n",
      " 12  1983                           96 non-null     float64\n",
      " 13  1984                           99 non-null     float64\n",
      " 14  1985                           100 non-null    float64\n",
      " 15  1986                           100 non-null    float64\n",
      " 16  1987                           100 non-null    float64\n",
      " 17  1988                           100 non-null    float64\n",
      " 18  1989                           100 non-null    float64\n",
      " 19  1990                           100 non-null    float64\n",
      " 20  1991                           111 non-null    float64\n",
      " 21  1992                           114 non-null    float64\n",
      " 22  1993                           114 non-null    float64\n",
      " 23  1994                           114 non-null    float64\n",
      " 24  1995                           123 non-null    float64\n",
      " 25  1996                           124 non-null    float64\n",
      " 26  1997                           128 non-null    float64\n",
      " 27  1998                           128 non-null    float64\n",
      " 28  1999                           131 non-null    float64\n",
      " 29  2000                           143 non-null    float64\n",
      " 30  2001                           153 non-null    float64\n",
      " 31  2002                           154 non-null    float64\n",
      " 32  2003                           154 non-null    float64\n",
      " 33  2004                           154 non-null    float64\n",
      " 34  2005                           154 non-null    float64\n",
      " 35  2006                           154 non-null    float64\n",
      " 36  2007                           154 non-null    float64\n",
      " 37  2008                           154 non-null    float64\n",
      " 38  2009                           154 non-null    float64\n",
      " 39  2010                           154 non-null    float64\n",
      " 40  2011                           154 non-null    float64\n",
      " 41  2012                           154 non-null    float64\n",
      " 42  2013                           154 non-null    float64\n",
      " 43  2014                           154 non-null    float64\n",
      " 44  2015                           154 non-null    float64\n",
      " 45  2016                           154 non-null    float64\n",
      " 46  2017                           154 non-null    float64\n",
      " 47  2018                           154 non-null    float64\n",
      " 48  2019                           153 non-null    float64\n",
      " 49  2020                           154 non-null    float64\n",
      " 50  2021                           154 non-null    float64\n",
      " 51  2022                           154 non-null    float64\n",
      " 52  2023                           154 non-null    float64\n",
      " 53  2024                           154 non-null    float64\n",
      " 54  Estimates_Start_After          182 non-null    int64  \n",
      "dtypes: float64(46), int64(2), object(7)\n",
      "memory usage: 78.3+ KB\n"
     ]
    }
   ],
   "source": [
    "df_gruops.info()"
   ]
  },
  {
   "cell_type": "code",
   "execution_count": 42,
   "id": "daf33985",
   "metadata": {},
   "outputs": [
    {
     "name": "stdout",
     "output_type": "stream",
     "text": [
      "(8190, 4)\n"
     ]
    },
    {
     "data": {
      "application/vnd.microsoft.datawrangler.viewer.v0+json": {
       "columns": [
        {
         "name": "index",
         "rawType": "int64",
         "type": "integer"
        },
        {
         "name": "WEO_Country_Group_Code",
         "rawType": "int64",
         "type": "integer"
        },
        {
         "name": "WEO_Subject_Code",
         "rawType": "object",
         "type": "string"
        },
        {
         "name": "Year",
         "rawType": "object",
         "type": "string"
        },
        {
         "name": "Value",
         "rawType": "float64",
         "type": "float"
        }
       ],
       "ref": "6f456cc8-b866-42bf-bf1e-68a79f7006eb",
       "rows": [
        [
         "0",
         "1",
         "BCA_NGDPD",
         "1980",
         null
        ],
        [
         "1",
         "110",
         "BCA_NGDPD",
         "1980",
         "-1.078"
        ],
        [
         "2",
         "163",
         "BCA_NGDPD",
         "1980",
         null
        ],
        [
         "3",
         "119",
         "BCA_NGDPD",
         "1980",
         "-0.676"
        ],
        [
         "4",
         "123",
         "BCA_NGDPD",
         "1980",
         null
        ]
       ],
       "shape": {
        "columns": 4,
        "rows": 5
       }
      },
      "text/html": [
       "<div>\n",
       "<style scoped>\n",
       "    .dataframe tbody tr th:only-of-type {\n",
       "        vertical-align: middle;\n",
       "    }\n",
       "\n",
       "    .dataframe tbody tr th {\n",
       "        vertical-align: top;\n",
       "    }\n",
       "\n",
       "    .dataframe thead th {\n",
       "        text-align: right;\n",
       "    }\n",
       "</style>\n",
       "<table border=\"1\" class=\"dataframe\">\n",
       "  <thead>\n",
       "    <tr style=\"text-align: right;\">\n",
       "      <th></th>\n",
       "      <th>WEO_Country_Group_Code</th>\n",
       "      <th>WEO_Subject_Code</th>\n",
       "      <th>Year</th>\n",
       "      <th>Value</th>\n",
       "    </tr>\n",
       "  </thead>\n",
       "  <tbody>\n",
       "    <tr>\n",
       "      <th>0</th>\n",
       "      <td>1</td>\n",
       "      <td>BCA_NGDPD</td>\n",
       "      <td>1980</td>\n",
       "      <td>NaN</td>\n",
       "    </tr>\n",
       "    <tr>\n",
       "      <th>1</th>\n",
       "      <td>110</td>\n",
       "      <td>BCA_NGDPD</td>\n",
       "      <td>1980</td>\n",
       "      <td>-1.078</td>\n",
       "    </tr>\n",
       "    <tr>\n",
       "      <th>2</th>\n",
       "      <td>163</td>\n",
       "      <td>BCA_NGDPD</td>\n",
       "      <td>1980</td>\n",
       "      <td>NaN</td>\n",
       "    </tr>\n",
       "    <tr>\n",
       "      <th>3</th>\n",
       "      <td>119</td>\n",
       "      <td>BCA_NGDPD</td>\n",
       "      <td>1980</td>\n",
       "      <td>-0.676</td>\n",
       "    </tr>\n",
       "    <tr>\n",
       "      <th>4</th>\n",
       "      <td>123</td>\n",
       "      <td>BCA_NGDPD</td>\n",
       "      <td>1980</td>\n",
       "      <td>NaN</td>\n",
       "    </tr>\n",
       "  </tbody>\n",
       "</table>\n",
       "</div>"
      ],
      "text/plain": [
       "   WEO_Country_Group_Code WEO_Subject_Code  Year  Value\n",
       "0                       1        BCA_NGDPD  1980    NaN\n",
       "1                     110        BCA_NGDPD  1980 -1.078\n",
       "2                     163        BCA_NGDPD  1980    NaN\n",
       "3                     119        BCA_NGDPD  1980 -0.676\n",
       "4                     123        BCA_NGDPD  1980    NaN"
      ]
     },
     "execution_count": 42,
     "metadata": {},
     "output_type": "execute_result"
    }
   ],
   "source": [
    "df_long_group = df_gruops.melt(\n",
    "    id_vars=['WEO_Country_Group_Code', 'WEO_Subject_Code'],  # Keep these columns fixed\n",
    "    value_vars=[str(y) for y in range(1980, 2025)],    # Unpivot year columns from 1980 to 2024\n",
    "    var_name='Year',                                   # Name of the new column for years\n",
    "    value_name='Value'                                 # Name of the new column for values\n",
    ")\n",
    "print(df_long_group.shape)\n",
    "df_long_group.head()\n",
    "\n"
   ]
  },
  {
   "cell_type": "code",
   "execution_count": 43,
   "id": "5216b778",
   "metadata": {},
   "outputs": [],
   "source": [
    "df_long_group.to_csv(folder_save_path+\"/09.1-Country_Data_Group.csv\",index=False)"
   ]
  },
  {
   "cell_type": "code",
   "execution_count": 44,
   "id": "019a3420",
   "metadata": {},
   "outputs": [
    {
     "name": "stdout",
     "output_type": "stream",
     "text": [
      "(585, 16)\n"
     ]
    },
    {
     "data": {
      "application/vnd.microsoft.datawrangler.viewer.v0+json": {
       "columns": [
        {
         "name": "index",
         "rawType": "int64",
         "type": "integer"
        },
        {
         "name": "WEO_Country_Group_Code",
         "rawType": "int64",
         "type": "integer"
        },
        {
         "name": "Year",
         "rawType": "object",
         "type": "string"
        },
        {
         "name": "BCA_NGDPD",
         "rawType": "float64",
         "type": "float"
        },
        {
         "name": "GGR_NGDP",
         "rawType": "float64",
         "type": "float"
        },
        {
         "name": "GGSB_NPGDP",
         "rawType": "float64",
         "type": "float"
        },
        {
         "name": "GGXWDG_NGDP",
         "rawType": "float64",
         "type": "float"
        },
        {
         "name": "GGX_NGDP",
         "rawType": "float64",
         "type": "float"
        },
        {
         "name": "LUR",
         "rawType": "float64",
         "type": "float"
        },
        {
         "name": "NGDP_RPCH",
         "rawType": "float64",
         "type": "float"
        },
        {
         "name": "NGSD_NGDP",
         "rawType": "float64",
         "type": "float"
        },
        {
         "name": "NID_NGDP",
         "rawType": "float64",
         "type": "float"
        },
        {
         "name": "PCPIPCH",
         "rawType": "float64",
         "type": "float"
        },
        {
         "name": "PPPPC",
         "rawType": "float64",
         "type": "float"
        },
        {
         "name": "PPPSH",
         "rawType": "float64",
         "type": "float"
        },
        {
         "name": "TM_RPCH",
         "rawType": "float64",
         "type": "float"
        },
        {
         "name": "TX_RPCH",
         "rawType": "float64",
         "type": "float"
        }
       ],
       "ref": "5e1e6bb9-e63b-4c92-b602-3267105d9263",
       "rows": [
        [
         "0",
         "1",
         "1980",
         null,
         null,
         null,
         null,
         null,
         null,
         "2.228",
         "23.746",
         "26.601",
         "17.282",
         null,
         null,
         "1.53",
         "4.708"
        ],
        [
         "1",
         "1",
         "1981",
         null,
         null,
         null,
         null,
         null,
         null,
         "2.01",
         "23.419",
         "25.979",
         "15.018",
         null,
         null,
         "2.28",
         "4.602"
        ],
        [
         "2",
         "1",
         "1982",
         null,
         null,
         null,
         null,
         null,
         null,
         "0.747",
         "22.113",
         "24.582",
         "14.283",
         null,
         null,
         "-1.611",
         "-1.495"
        ],
        [
         "3",
         "1",
         "1983",
         null,
         null,
         null,
         null,
         null,
         null,
         "2.717",
         "21.328",
         "24.157",
         "13.421",
         null,
         null,
         "1.626",
         "1.352"
        ],
        [
         "4",
         "1",
         "1984",
         null,
         null,
         null,
         null,
         null,
         null,
         "4.632",
         "22.572",
         "25.127",
         "13.958",
         null,
         null,
         "8.788",
         "8.398"
        ]
       ],
       "shape": {
        "columns": 16,
        "rows": 5
       }
      },
      "text/html": [
       "<div>\n",
       "<style scoped>\n",
       "    .dataframe tbody tr th:only-of-type {\n",
       "        vertical-align: middle;\n",
       "    }\n",
       "\n",
       "    .dataframe tbody tr th {\n",
       "        vertical-align: top;\n",
       "    }\n",
       "\n",
       "    .dataframe thead th {\n",
       "        text-align: right;\n",
       "    }\n",
       "</style>\n",
       "<table border=\"1\" class=\"dataframe\">\n",
       "  <thead>\n",
       "    <tr style=\"text-align: right;\">\n",
       "      <th>WEO_Subject_Code</th>\n",
       "      <th>WEO_Country_Group_Code</th>\n",
       "      <th>Year</th>\n",
       "      <th>BCA_NGDPD</th>\n",
       "      <th>GGR_NGDP</th>\n",
       "      <th>GGSB_NPGDP</th>\n",
       "      <th>GGXWDG_NGDP</th>\n",
       "      <th>GGX_NGDP</th>\n",
       "      <th>LUR</th>\n",
       "      <th>NGDP_RPCH</th>\n",
       "      <th>NGSD_NGDP</th>\n",
       "      <th>NID_NGDP</th>\n",
       "      <th>PCPIPCH</th>\n",
       "      <th>PPPPC</th>\n",
       "      <th>PPPSH</th>\n",
       "      <th>TM_RPCH</th>\n",
       "      <th>TX_RPCH</th>\n",
       "    </tr>\n",
       "  </thead>\n",
       "  <tbody>\n",
       "    <tr>\n",
       "      <th>0</th>\n",
       "      <td>1</td>\n",
       "      <td>1980</td>\n",
       "      <td>NaN</td>\n",
       "      <td>NaN</td>\n",
       "      <td>NaN</td>\n",
       "      <td>NaN</td>\n",
       "      <td>NaN</td>\n",
       "      <td>NaN</td>\n",
       "      <td>2.228</td>\n",
       "      <td>23.746</td>\n",
       "      <td>26.601</td>\n",
       "      <td>17.282</td>\n",
       "      <td>NaN</td>\n",
       "      <td>NaN</td>\n",
       "      <td>1.530</td>\n",
       "      <td>4.708</td>\n",
       "    </tr>\n",
       "    <tr>\n",
       "      <th>1</th>\n",
       "      <td>1</td>\n",
       "      <td>1981</td>\n",
       "      <td>NaN</td>\n",
       "      <td>NaN</td>\n",
       "      <td>NaN</td>\n",
       "      <td>NaN</td>\n",
       "      <td>NaN</td>\n",
       "      <td>NaN</td>\n",
       "      <td>2.010</td>\n",
       "      <td>23.419</td>\n",
       "      <td>25.979</td>\n",
       "      <td>15.018</td>\n",
       "      <td>NaN</td>\n",
       "      <td>NaN</td>\n",
       "      <td>2.280</td>\n",
       "      <td>4.602</td>\n",
       "    </tr>\n",
       "    <tr>\n",
       "      <th>2</th>\n",
       "      <td>1</td>\n",
       "      <td>1982</td>\n",
       "      <td>NaN</td>\n",
       "      <td>NaN</td>\n",
       "      <td>NaN</td>\n",
       "      <td>NaN</td>\n",
       "      <td>NaN</td>\n",
       "      <td>NaN</td>\n",
       "      <td>0.747</td>\n",
       "      <td>22.113</td>\n",
       "      <td>24.582</td>\n",
       "      <td>14.283</td>\n",
       "      <td>NaN</td>\n",
       "      <td>NaN</td>\n",
       "      <td>-1.611</td>\n",
       "      <td>-1.495</td>\n",
       "    </tr>\n",
       "    <tr>\n",
       "      <th>3</th>\n",
       "      <td>1</td>\n",
       "      <td>1983</td>\n",
       "      <td>NaN</td>\n",
       "      <td>NaN</td>\n",
       "      <td>NaN</td>\n",
       "      <td>NaN</td>\n",
       "      <td>NaN</td>\n",
       "      <td>NaN</td>\n",
       "      <td>2.717</td>\n",
       "      <td>21.328</td>\n",
       "      <td>24.157</td>\n",
       "      <td>13.421</td>\n",
       "      <td>NaN</td>\n",
       "      <td>NaN</td>\n",
       "      <td>1.626</td>\n",
       "      <td>1.352</td>\n",
       "    </tr>\n",
       "    <tr>\n",
       "      <th>4</th>\n",
       "      <td>1</td>\n",
       "      <td>1984</td>\n",
       "      <td>NaN</td>\n",
       "      <td>NaN</td>\n",
       "      <td>NaN</td>\n",
       "      <td>NaN</td>\n",
       "      <td>NaN</td>\n",
       "      <td>NaN</td>\n",
       "      <td>4.632</td>\n",
       "      <td>22.572</td>\n",
       "      <td>25.127</td>\n",
       "      <td>13.958</td>\n",
       "      <td>NaN</td>\n",
       "      <td>NaN</td>\n",
       "      <td>8.788</td>\n",
       "      <td>8.398</td>\n",
       "    </tr>\n",
       "  </tbody>\n",
       "</table>\n",
       "</div>"
      ],
      "text/plain": [
       "WEO_Subject_Code  WEO_Country_Group_Code  Year  BCA_NGDPD  GGR_NGDP  \\\n",
       "0                                      1  1980        NaN       NaN   \n",
       "1                                      1  1981        NaN       NaN   \n",
       "2                                      1  1982        NaN       NaN   \n",
       "3                                      1  1983        NaN       NaN   \n",
       "4                                      1  1984        NaN       NaN   \n",
       "\n",
       "WEO_Subject_Code  GGSB_NPGDP  GGXWDG_NGDP  GGX_NGDP  LUR  NGDP_RPCH  \\\n",
       "0                        NaN          NaN       NaN  NaN      2.228   \n",
       "1                        NaN          NaN       NaN  NaN      2.010   \n",
       "2                        NaN          NaN       NaN  NaN      0.747   \n",
       "3                        NaN          NaN       NaN  NaN      2.717   \n",
       "4                        NaN          NaN       NaN  NaN      4.632   \n",
       "\n",
       "WEO_Subject_Code  NGSD_NGDP  NID_NGDP  PCPIPCH  PPPPC  PPPSH  TM_RPCH  TX_RPCH  \n",
       "0                    23.746    26.601   17.282    NaN    NaN    1.530    4.708  \n",
       "1                    23.419    25.979   15.018    NaN    NaN    2.280    4.602  \n",
       "2                    22.113    24.582   14.283    NaN    NaN   -1.611   -1.495  \n",
       "3                    21.328    24.157   13.421    NaN    NaN    1.626    1.352  \n",
       "4                    22.572    25.127   13.958    NaN    NaN    8.788    8.398  "
      ]
     },
     "execution_count": 44,
     "metadata": {},
     "output_type": "execute_result"
    }
   ],
   "source": [
    "df_pivot_group = df_long_group.pivot_table(\n",
    "    index=['WEO_Country_Group_Code', 'Year'],                # Set index to country code and year\n",
    "    columns='WEO_Subject_Code',                        # Spread subject codes as columns\n",
    "    values='Value',                                   # Fill cells with the corresponding values\n",
    "    dropna=False                                       # Keep rows with all NaN values\n",
    "\n",
    ").reset_index()                                        # Convert index to columns for DataFrame\n",
    "\n",
    "print(df_pivot_group.shape)\n",
    "df_pivot_group.head()\n"
   ]
  },
  {
   "cell_type": "code",
   "execution_count": 45,
   "id": "23b1172d",
   "metadata": {},
   "outputs": [],
   "source": [
    "df_pivot_group.to_csv(folder_save_path+\"/09.2-Country_Data_Group.csv\",index=False)"
   ]
  },
  {
   "cell_type": "markdown",
   "id": "b7ff3e0e",
   "metadata": {},
   "source": [
    "# **END**"
   ]
  }
 ],
 "metadata": {
  "hide_input": false,
  "kernelspec": {
   "display_name": "base",
   "language": "python",
   "name": "python3"
  },
  "language_info": {
   "codemirror_mode": {
    "name": "ipython",
    "version": 3
   },
   "file_extension": ".py",
   "mimetype": "text/x-python",
   "name": "python",
   "nbconvert_exporter": "python",
   "pygments_lexer": "ipython3",
   "version": "3.12.7"
  }
 },
 "nbformat": 4,
 "nbformat_minor": 5
}
