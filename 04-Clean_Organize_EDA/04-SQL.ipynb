{
    "cells": [
        {
            "cell_type": "markdown",
            "metadata": {
                "azdata_cell_guid": "70d09cdf-17ef-4796-a9de-5e457fe84246"
            },
            "source": [
                "## **Project: Study On Panel Data Methodologies With Application To Macroeconometrics (Inflation Forecasting)**.\n",
                "\n",
                "> ### **Title**: Merge of Dataset.\n",
                "\n",
                "\n",
                "#### **Table of Contents:**\n",
                "<ul>\n",
                "<li><a href=\"#1\">1. Merge of Countries Dataset.</a></li>\n",
                "\n",
                "</ul>"
            ]
        },
        {
            "cell_type": "markdown",
            "metadata": {
                "azdata_cell_guid": "58c2f727-4919-4a17-b4cb-76d3c9ff66a7"
            },
            "source": [
                "<a id='1'></a>\n",
                "\n",
                "### **Merge of Dataset:**\n",
                "\n",
                "#### 1.1.  Meta Data Tables:\n",
                "- > A. Table for `Countres` info: {'WEO_Country_Code', 'ISO', 'Country'} P_Key> 'WEO_Country_Code'.\n",
                "- > B. Table for `Subject` info: {'WEO_Subject_Code', 'Subject_Descriptor', 'Subject_Notes', 'Units', 'Scale'} P_Key>'WEO_Subject_Code'.\n",
                "\n",
                "- > C. Table for `Country_Subject_Notes` info: {'WEO_Country_Code', 'WEO_Subject_Code','Country_Series-specific_Notes','Estimates_Start_After'} P_Key>('WEO_Country_Code','WEO_Subject_Code').\n",
                "- > D. Table for `Year` info: {'Years'} P_Key> 'Years'.\n",
                "\n",
                "#### 1.2. dataset Tables:\n",
                "\n",
                "- > E. Table for data values `WEO_Data_Countries` name Columns {'WEO_Country_Code' , 'Years' , and all Varibles 'WEO_Subject_Code' {'BCA_NGDPD', 'GGR_NGDP', 'GGSB_NPGDP', 'GGX_NGDP', 'GGXWDG_NGDP', 'LUR', 'NGDP_RPCH', 'NGSD_NGDP', 'NID_NGDP', 'PCPIPCH', 'PPPEX', 'PPPPC', 'PPPSH', 'TM_RPCH', 'TRWMA', 'TX_RPCH'} }\n",
                "\n",
                "----------------------------------------------\n",
                "\n",
                "#### 2.1.  Meta Data Tables:\n",
                "- > A. Table for `Country_Groups` info: {'WEO_Country_Group_Code', 'Country_Group_ID', 'Country_Group_Name'} P_Key> 'WEO_Country_Group_Code'.\n",
                "- > B. Table for `Groups_Subject_Notes` info: {'Weo_Country_Group_Code', 'WEO_Subject_Code', 'Country_Series-Specific_Notes', 'Estimates_Start_After'} P_Key> ('Weo_Country_Group_Code', 'Weo_Subject_Code').\n",
                "\n",
                "- > C. Table for `Country_Classes` info: {'Weo_Country_Code', 'Country', 'Weo_Country_Group_Code', and all Varibles 'Country_Group_ID' { 'All_Advanced_41','All_Advanced_Euro_20', 'All_Advanced_G7', 'All_Developing_155','All_Developing_Asia_30', 'All_Developing_Europe_15', 'All_Developing_Latina_Caribbean_33', 'All_Developing_Meast_Casia_32', 'All_Developing_Ssafrica_45', 'All_Asean_5', 'All_Brics_20', 'All_Eur_27'}}  P_Key> 'Weo_Country_Code'.\n",
                "\n",
                "#### 2.2. dataset Tables:\n",
                "\n",
                "- > D. Table for data values `Country_Data_Group`name Columns : {'WEO_Country_Group_Code' , 'Years' , and all Varibles 'WEO_Subject_Code' {'BCA_NGDPD', 'GGR_NGDP', 'GGSB_NPGDP', 'GGX_NGDP', 'GGXWDG_NGDP', 'LUR', 'NGDP_RPCH', 'NGSD_NGDP', 'NID_NGDP', 'PCPIPCH', 'PPPEX', 'PPPPC', 'PPPSH', 'TM_RPCH', 'TRWMA', 'TX_RPCH'}}\n",
                "\n",
                "-----------------------------------------------\n",
                "\n",
                "#### 3. Final Dataset Table:\n",
                "\n",
                "- > E. Table for data values `WEO_Data_Countries` name Columns {'WEO_Country_Code', 'Country', 'Advanced_Country', 'Years' , and all Varibles 'WEO_Subject_Code' {'BCA_NGDPD', 'GGR_NGDP', 'GGSB_NPGDP', 'GGX_NGDP', 'GGXWDG_NGDP', 'LUR', 'NGDP_RPCH', 'NGSD_NGDP', 'NID_NGDP', 'PCPIPCH', 'PPPEX', 'PPPPC', 'PPPSH', 'TM_RPCH', 'TRWMA', 'TX_RPCH'} }\n"
            ]
        },
        {
            "attachments": {},
            "cell_type": "markdown",
            "metadata": {
                "azdata_cell_guid": "2a1b7248-0b53-45b6-ad95-efa0cb002705"
            },
            "source": [
                "<img src=\"./03-Dataset/02-DataBase/ERD/ERD.png\" alt=\"ERD Diagram\" width=\"600\"/>\n"
            ]
        },
        {
            "cell_type": "code",
            "execution_count": 14,
            "metadata": {
                "azdata_cell_guid": "93c6991b-cad5-4222-a2fe-f38fcc5eb109",
                "language": "sql"
            },
            "outputs": [
                {
                    "data": {
                        "text/html": [
                            "(10 row(s) affected)"
                        ]
                    },
                    "metadata": {},
                    "output_type": "display_data"
                },
                {
                    "data": {
                        "text/html": [
                            "Total execution time: 00:00:00.014"
                        ]
                    },
                    "metadata": {},
                    "output_type": "display_data"
                },
                {
                    "data": {
                        "application/vnd.dataresource+json": {
                            "data": [
                                {
                                    "table_name": "WEO_Combined_Data"
                                },
                                {
                                    "table_name": "Countries"
                                },
                                {
                                    "table_name": "Country_Subject_Notes"
                                },
                                {
                                    "table_name": "Subjects"
                                },
                                {
                                    "table_name": "Country_Classes"
                                },
                                {
                                    "table_name": "Groups_Subject_Notes"
                                },
                                {
                                    "table_name": "Years"
                                },
                                {
                                    "table_name": "Country_Groups"
                                },
                                {
                                    "table_name": "WEO_Data_Countries"
                                },
                                {
                                    "table_name": "Country_Data_Group"
                                }
                            ],
                            "schema": {
                                "fields": [
                                    {
                                        "name": "table_name"
                                    }
                                ]
                            }
                        },
                        "text/html": [
                            "<table>\n",
                            "<tr><th>table_name</th></tr>\n",
                            "<tr><td>WEO_Combined_Data</td></tr>\n",
                            "<tr><td>Countries</td></tr>\n",
                            "<tr><td>Country_Subject_Notes</td></tr>\n",
                            "<tr><td>Subjects</td></tr>\n",
                            "<tr><td>Country_Classes</td></tr>\n",
                            "<tr><td>Groups_Subject_Notes</td></tr>\n",
                            "<tr><td>Years</td></tr>\n",
                            "<tr><td>Country_Groups</td></tr>\n",
                            "<tr><td>WEO_Data_Countries</td></tr>\n",
                            "<tr><td>Country_Data_Group</td></tr>\n",
                            "</table>"
                        ]
                    },
                    "execution_count": 14,
                    "metadata": {},
                    "output_type": "execute_result"
                }
            ],
            "source": [
                "-- Show all tables.\n",
                "SELECT table_name\n",
                "FROM information_schema.tables\n",
                "WHERE table_schema = 'public' AND table_type = 'BASE TABLE';\n"
            ]
        },
        {
            "cell_type": "code",
            "execution_count": 15,
            "metadata": {
                "azdata_cell_guid": "abd43f05-c3c9-4705-87d9-24207490d168",
                "language": "sql"
            },
            "outputs": [
                {
                    "data": {
                        "text/html": [
                            "(10 row(s) affected)"
                        ]
                    },
                    "metadata": {},
                    "output_type": "display_data"
                },
                {
                    "data": {
                        "text/html": [
                            "Total execution time: 00:00:00.005"
                        ]
                    },
                    "metadata": {},
                    "output_type": "display_data"
                },
                {
                    "data": {
                        "application/vnd.dataresource+json": {
                            "data": [
                                {
                                    "Value": "False",
                                    "WEO_Country_Code": "512",
                                    "WEO_Country_Group_Code": "110"
                                },
                                {
                                    "Value": "False",
                                    "WEO_Country_Code": "914",
                                    "WEO_Country_Group_Code": "110"
                                },
                                {
                                    "Value": "False",
                                    "WEO_Country_Code": "612",
                                    "WEO_Country_Group_Code": "110"
                                },
                                {
                                    "Value": "True",
                                    "WEO_Country_Code": "171",
                                    "WEO_Country_Group_Code": "110"
                                },
                                {
                                    "Value": "False",
                                    "WEO_Country_Code": "614",
                                    "WEO_Country_Group_Code": "110"
                                },
                                {
                                    "Value": "False",
                                    "WEO_Country_Code": "311",
                                    "WEO_Country_Group_Code": "110"
                                },
                                {
                                    "Value": "False",
                                    "WEO_Country_Code": "213",
                                    "WEO_Country_Group_Code": "110"
                                },
                                {
                                    "Value": "False",
                                    "WEO_Country_Code": "911",
                                    "WEO_Country_Group_Code": "110"
                                },
                                {
                                    "Value": "False",
                                    "WEO_Country_Code": "314",
                                    "WEO_Country_Group_Code": "110"
                                },
                                {
                                    "Value": "True",
                                    "WEO_Country_Code": "193",
                                    "WEO_Country_Group_Code": "110"
                                }
                            ],
                            "schema": {
                                "fields": [
                                    {
                                        "name": "WEO_Country_Code"
                                    },
                                    {
                                        "name": "WEO_Country_Group_Code"
                                    },
                                    {
                                        "name": "Value"
                                    }
                                ]
                            }
                        },
                        "text/html": [
                            "<table>\n",
                            "<tr><th>WEO_Country_Code</th><th>WEO_Country_Group_Code</th><th>Value</th></tr>\n",
                            "<tr><td>512</td><td>110</td><td>False</td></tr>\n",
                            "<tr><td>914</td><td>110</td><td>False</td></tr>\n",
                            "<tr><td>612</td><td>110</td><td>False</td></tr>\n",
                            "<tr><td>171</td><td>110</td><td>True</td></tr>\n",
                            "<tr><td>614</td><td>110</td><td>False</td></tr>\n",
                            "<tr><td>311</td><td>110</td><td>False</td></tr>\n",
                            "<tr><td>213</td><td>110</td><td>False</td></tr>\n",
                            "<tr><td>911</td><td>110</td><td>False</td></tr>\n",
                            "<tr><td>314</td><td>110</td><td>False</td></tr>\n",
                            "<tr><td>193</td><td>110</td><td>True</td></tr>\n",
                            "</table>"
                        ]
                    },
                    "execution_count": 15,
                    "metadata": {},
                    "output_type": "execute_result"
                }
            ],
            "source": [
                "SELECT * From \"Country_Classes\" LIMIT 10;"
            ]
        },
        {
            "cell_type": "code",
            "execution_count": 16,
            "metadata": {
                "azdata_cell_guid": "466e2efc-cffc-4d14-8409-345dca1dee48",
                "language": "sql"
            },
            "outputs": [
                {
                    "data": {
                        "text/html": [
                            "(10 row(s) affected)"
                        ]
                    },
                    "metadata": {},
                    "output_type": "display_data"
                },
                {
                    "data": {
                        "text/html": [
                            "Total execution time: 00:00:00.002"
                        ]
                    },
                    "metadata": {},
                    "output_type": "display_data"
                },
                {
                    "data": {
                        "application/vnd.dataresource+json": {
                            "data": [
                                {
                                    "Value": "NULL",
                                    "WEO_Country_Code": "512",
                                    "WEO_Subject_Code": "NGDP_RPCH",
                                    "Year": "1980"
                                },
                                {
                                    "Value": "2.684",
                                    "WEO_Country_Code": "914",
                                    "WEO_Subject_Code": "NGDP_RPCH",
                                    "Year": "1980"
                                },
                                {
                                    "Value": "-5.4",
                                    "WEO_Country_Code": "612",
                                    "WEO_Subject_Code": "NGDP_RPCH",
                                    "Year": "1980"
                                },
                                {
                                    "Value": "NULL",
                                    "WEO_Country_Code": "171",
                                    "WEO_Subject_Code": "NGDP_RPCH",
                                    "Year": "1980"
                                },
                                {
                                    "Value": "2.406",
                                    "WEO_Country_Code": "614",
                                    "WEO_Subject_Code": "NGDP_RPCH",
                                    "Year": "1980"
                                },
                                {
                                    "Value": "8.161",
                                    "WEO_Country_Code": "311",
                                    "WEO_Subject_Code": "NGDP_RPCH",
                                    "Year": "1980"
                                },
                                {
                                    "Value": "0.7",
                                    "WEO_Country_Code": "213",
                                    "WEO_Subject_Code": "NGDP_RPCH",
                                    "Year": "1980"
                                },
                                {
                                    "Value": "NULL",
                                    "WEO_Country_Code": "911",
                                    "WEO_Subject_Code": "NGDP_RPCH",
                                    "Year": "1980"
                                },
                                {
                                    "Value": "NULL",
                                    "WEO_Country_Code": "314",
                                    "WEO_Subject_Code": "NGDP_RPCH",
                                    "Year": "1980"
                                },
                                {
                                    "Value": "2.894",
                                    "WEO_Country_Code": "193",
                                    "WEO_Subject_Code": "NGDP_RPCH",
                                    "Year": "1980"
                                }
                            ],
                            "schema": {
                                "fields": [
                                    {
                                        "name": "WEO_Country_Code"
                                    },
                                    {
                                        "name": "WEO_Subject_Code"
                                    },
                                    {
                                        "name": "Year"
                                    },
                                    {
                                        "name": "Value"
                                    }
                                ]
                            }
                        },
                        "text/html": [
                            "<table>\n",
                            "<tr><th>WEO_Country_Code</th><th>WEO_Subject_Code</th><th>Year</th><th>Value</th></tr>\n",
                            "<tr><td>512</td><td>NGDP_RPCH</td><td>1980</td><td>NULL</td></tr>\n",
                            "<tr><td>914</td><td>NGDP_RPCH</td><td>1980</td><td>2.684</td></tr>\n",
                            "<tr><td>612</td><td>NGDP_RPCH</td><td>1980</td><td>-5.4</td></tr>\n",
                            "<tr><td>171</td><td>NGDP_RPCH</td><td>1980</td><td>NULL</td></tr>\n",
                            "<tr><td>614</td><td>NGDP_RPCH</td><td>1980</td><td>2.406</td></tr>\n",
                            "<tr><td>311</td><td>NGDP_RPCH</td><td>1980</td><td>8.161</td></tr>\n",
                            "<tr><td>213</td><td>NGDP_RPCH</td><td>1980</td><td>0.7</td></tr>\n",
                            "<tr><td>911</td><td>NGDP_RPCH</td><td>1980</td><td>NULL</td></tr>\n",
                            "<tr><td>314</td><td>NGDP_RPCH</td><td>1980</td><td>NULL</td></tr>\n",
                            "<tr><td>193</td><td>NGDP_RPCH</td><td>1980</td><td>2.894</td></tr>\n",
                            "</table>"
                        ]
                    },
                    "execution_count": 16,
                    "metadata": {},
                    "output_type": "execute_result"
                }
            ],
            "source": [
                "SELECT * From \"WEO_Data_Countries\" LIMIT 10;"
            ]
        },
        {
            "cell_type": "code",
            "execution_count": 20,
            "metadata": {
                "azdata_cell_guid": "48a1edee-5c20-4305-a96c-2fc36aea9ff3",
                "language": "sql"
            },
            "outputs": [
                {
                    "data": {
                        "text/html": [
                            "DROP TABLE"
                        ]
                    },
                    "metadata": {},
                    "output_type": "display_data"
                },
                {
                    "data": {
                        "text/html": [
                            "SELECT 8775"
                        ]
                    },
                    "metadata": {},
                    "output_type": "display_data"
                },
                {
                    "data": {
                        "text/html": [
                            "Total execution time: 00:00:00.485"
                        ]
                    },
                    "metadata": {},
                    "output_type": "display_data"
                }
            ],
            "source": [
                "-- Create a new table called \"WEO_Combined_Data\"\n",
                "DROP TABLE IF EXISTS \"WEO_Combined_Data\";\n",
                "\n",
                "CREATE TABLE \"WEO_Combined_Data\" AS\n",
                "SELECT \n",
                "    wc.\"WEO_Country_Code\",  -- Country code from WEO data\n",
                "    c.\"Country\",            -- Country name from Countries table\n",
                "\n",
                "    -- Determine if the country is classified as \"Advanced\" based on group code 110\n",
                "    CASE WHEN cc.\"Value\" = TRUE THEN 1 ELSE 0 END AS \"Advanced_Country\",\n",
                "\n",
                "    wc.\"Year\",  -- The year of the data\n",
                "\n",
                "    -- Extract specific economic indicators using conditional aggregation\n",
                "    MAX(CASE WHEN wc.\"WEO_Subject_Code\" = 'BCA_NGDPD' THEN wc.\"Value\" END) AS \"BCA_NGDPD\",       -- Current account balance (% of GDP)\n",
                "    MAX(CASE WHEN wc.\"WEO_Subject_Code\" = 'GGR_NGDP' THEN wc.\"Value\" END) AS \"GGR_NGDP\",         -- Government revenue (% of GDP)\n",
                "    MAX(CASE WHEN wc.\"WEO_Subject_Code\" = 'GGSB_NPGDP' THEN wc.\"Value\" END) AS \"GGSB_NPGDP\",     -- Structural balance (% of potential GDP)\n",
                "    MAX(CASE WHEN wc.\"WEO_Subject_Code\" = 'GGXWDG_NGDP' THEN wc.\"Value\" END) AS \"GGXWDG_NGDP\",   -- General government gross debt (% of GDP)\n",
                "    MAX(CASE WHEN wc.\"WEO_Subject_Code\" = 'GGX_NGDP' THEN wc.\"Value\" END) AS \"GGX_NGDP\",         -- Government total expenditure (% of GDP)\n",
                "    MAX(CASE WHEN wc.\"WEO_Subject_Code\" = 'LUR' THEN wc.\"Value\" END) AS \"LUR\",                   -- Unemployment rate\n",
                "    MAX(CASE WHEN wc.\"WEO_Subject_Code\" = 'NGDP_RPCH' THEN wc.\"Value\" END) AS \"NGDP_RPCH\",       -- Real GDP growth (annual %)\n",
                "    MAX(CASE WHEN wc.\"WEO_Subject_Code\" = 'NGSD_NGDP' THEN wc.\"Value\" END) AS \"NGSD_NGDP\",       -- Net government lending/borrowing (% of GDP)\n",
                "    MAX(CASE WHEN wc.\"WEO_Subject_Code\" = 'NID_NGDP' THEN wc.\"Value\" END) AS \"NID_NGDP\",         -- Investment (% of GDP)\n",
                "    MAX(CASE WHEN wc.\"WEO_Subject_Code\" = 'PCPIPCH' THEN wc.\"Value\" END) AS \"PCPIPCH\",           -- Inflation (CPI, annual % change)\n",
                "    MAX(CASE WHEN wc.\"WEO_Subject_Code\" = 'PPPEX' THEN wc.\"Value\" END) AS \"PPPEX\",               -- Exchange rate (PPP conversion factor)\n",
                "    MAX(CASE WHEN wc.\"WEO_Subject_Code\" = 'PPPPC' THEN wc.\"Value\" END) AS \"PPPPC\",               -- GDP per capita (PPP)\n",
                "    MAX(CASE WHEN wc.\"WEO_Subject_Code\" = 'PPPSH' THEN wc.\"Value\" END) AS \"PPPSH\",               -- Share of world GDP (PPP)\n",
                "    MAX(CASE WHEN wc.\"WEO_Subject_Code\" = 'TM_RPCH' THEN wc.\"Value\" END) AS \"TM_RPCH\",           -- Import volume growth (annual %)\n",
                "    MAX(CASE WHEN wc.\"WEO_Subject_Code\" = 'TRWMA' THEN wc.\"Value\" END) AS \"TRWMA\",               -- International reserves\n",
                "    MAX(CASE WHEN wc.\"WEO_Subject_Code\" = 'TX_RPCH' THEN wc.\"Value\" END) AS \"TX_RPCH\"            -- Export volume growth (annual %)\n",
                "\n",
                "FROM \"WEO_Data_Countries\" wc  -- Base table containing WEO indicators\n",
                "JOIN \"Countries\" c ON wc.\"WEO_Country_Code\" = c.\"WEO_Country_Code\"  -- Join to get country names\n",
                "LEFT JOIN \"Country_Classes\" cc \n",
                "    ON wc.\"WEO_Country_Code\" = cc.\"WEO_Country_Code\" \n",
                "    AND cc.\"WEO_Country_Group_Code\" = '110'  -- Join to classify countries as advanced or not\n",
                "\n",
                "GROUP BY \n",
                "    wc.\"WEO_Country_Code\", c.\"Country\", cc.\"Value\", wc.\"Year\"  -- Group data by country, year, and classification\n",
                "\n",
                "ORDER BY \n",
                "    wc.\"WEO_Country_Code\", wc.\"Year\";  -- Order the result by country code and year\n"
            ]
        },
        {
            "cell_type": "code",
            "execution_count": 21,
            "metadata": {
                "azdata_cell_guid": "19b381ad-07d9-4c42-b1cd-92f2bf748cde",
                "language": "sql",
                "tags": []
            },
            "outputs": [
                {
                    "data": {
                        "text/html": [
                            "(1 row(s) affected)"
                        ]
                    },
                    "metadata": {},
                    "output_type": "display_data"
                },
                {
                    "data": {
                        "text/html": [
                            "Total execution time: 00:00:00.004"
                        ]
                    },
                    "metadata": {},
                    "output_type": "display_data"
                },
                {
                    "data": {
                        "application/vnd.dataresource+json": {
                            "data": [
                                {
                                    "data_directory": "C:/Program Files/PostgreSQL/17/data"
                                }
                            ],
                            "schema": {
                                "fields": [
                                    {
                                        "name": "data_directory"
                                    }
                                ]
                            }
                        },
                        "text/html": [
                            "<table>\n",
                            "<tr><th>data_directory</th></tr>\n",
                            "<tr><td>C:/Program Files/PostgreSQL/17/data</td></tr>\n",
                            "</table>"
                        ]
                    },
                    "execution_count": 21,
                    "metadata": {},
                    "output_type": "execute_result"
                }
            ],
            "source": [
                "-- DROP TABLE IF EXISTS \"WEO_Combined_Data\";\n",
                "SHOW data_directory;"
            ]
        },
        {
            "cell_type": "code",
            "execution_count": 24,
            "metadata": {
                "azdata_cell_guid": "c044104d-0b47-48ed-977c-057970982e41",
                "language": "sql"
            },
            "outputs": [
                {
                    "data": {
                        "text/html": [
                            "COPY 8775"
                        ]
                    },
                    "metadata": {},
                    "output_type": "display_data"
                },
                {
                    "data": {
                        "text/html": [
                            "Total execution time: 00:00:00.037"
                        ]
                    },
                    "metadata": {},
                    "output_type": "display_data"
                }
            ],
            "source": [
                "COPY \"WEO_Combined_Data\" TO 'D:/05-Master/01-Final_Projet/02-Panal_Data_Inflation/03-Dataset/02-DataBase/10-WEO_Data_DB.csv' DELIMITER ',' CSV HEADER;"
            ]
        },
        {
            "cell_type": "markdown",
            "metadata": {
                "azdata_cell_guid": "0a1e4ca3-2665-4d75-b969-1c56cb509040"
            },
            "source": [
                "# **END**"
            ]
        }
    ],
    "metadata": {
        "hide_input": false,
        "kernelspec": {
            "display_name": "SQL",
            "language": "sql",
            "name": "SQL"
        },
        "language_info": {
            "name": "sql",
            "version": ""
        }
    },
    "nbformat": 4,
    "nbformat_minor": 2
}
