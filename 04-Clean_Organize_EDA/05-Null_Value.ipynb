{
    "cells": [
        {
            "cell_type": "markdown",
            "metadata": {
                "azdata_cell_guid": "70d09cdf-17ef-4796-a9de-5e457fe84246"
            },
            "source": [
                "## **Project: Study On Panel Data Methodologies With Application To Macroeconometrics (Inflation Forecasting)**.\n",
                "\n",
                "> ### **Title**: Merge of Dataset.\n",
                "\n",
                "\n",
                "#### **Table of Contents:**\n",
                "<ul>\n",
                "<li><a href=\"#1\">1. Merge of Countries Dataset.</a></li>\n",
                "\n",
                "</ul>"
            ]
        },
        {
            "cell_type": "markdown",
            "metadata": {
                "azdata_cell_guid": "2a1b7248-0b53-45b6-ad95-efa0cb002705"
            },
            "source": [
                "**Import Library**"
            ]
        },
        {
            "cell_type": "code",
            "execution_count": null,
            "metadata": {
                "azdata_cell_guid": "93c6991b-cad5-4222-a2fe-f38fcc5eb109",
                "language": "sql",
                "vscode": {
                    "languageId": "sql"
                }
            },
            "outputs": [],
            "source": [
                "import os\n",
                "import numpy as np\n",
                "import pandas as pd\n",
                "import seaborn as sns \n",
                "import glob\n",
                "import re\n",
                "\n",
                "\n",
                "sns.set(rc={'figure.figsize': [15,5]}, font_scale=1.2);\n",
                "pd.set_option('future.no_silent_downcasting', True)\n"
            ]
        },
        {
            "cell_type": "markdown",
            "metadata": {
                "azdata_cell_guid": "58c2f727-4919-4a17-b4cb-76d3c9ff66a7"
            },
            "source": [
                "<a id='1'></a>\n",
                "\n",
                "### **Merge of Dataset:**\n",
                "\n",
                "#### 1.1.  Meta Data Tables:\n",
                "- > A. Table for `Countres` info: {'WEO_Country_Code', 'ISO', 'Country'} P_Key> 'WEO_Country_Code'.\n",
                "- > B. Table for `Subject` info: {'WEO_Subject_Code', 'Subject_Descriptor', 'Subject_Notes', 'Units', 'Scale'} P_Key>'WEO_Subject_Code'.\n",
                "\n",
                "- > C. Table for `Country_Subject_Notes` info: {'WEO_Country_Code', 'WEO_Subject_Code','Country_Series-specific_Notes','Estimates_Start_After'} P_Key>('WEO_Country_Code','WEO_Subject_Code').\n",
                "- > D. Table for `Year` info: {'Years'} P_Key> 'Years'.\n",
                "\n",
                "#### 1.2. dataset Tables:\n",
                "\n",
                "- > E. Table for data values `WEO_Data_Countries` name Columns {'WEO_Country_Code' , 'Years' , and all Varibles 'WEO_Subject_Code' {'BCA_NGDPD', 'GGR_NGDP', 'GGSB_NPGDP', 'GGX_NGDP', 'GGXWDG_NGDP', 'LUR', 'NGDP_RPCH', 'NGSD_NGDP', 'NID_NGDP', 'PCPIPCH', 'PPPEX', 'PPPPC', 'PPPSH', 'TM_RPCH', 'TRWMA', 'TX_RPCH'} }\n",
                "\n",
                "----------------------------------------------\n",
                "\n",
                "#### 2.1.  Meta Data Tables:\n",
                "- > A. Table for `Country_Groups` info: {'WEO_Country_Group_Code', 'Country_Group_ID', 'Country_Group_Name'} P_Key> 'WEO_Country_Group_Code'.\n",
                "- > B. Table for `Groups_Subject_Notes` info: {'Weo_Country_Group_Code', 'WEO_Subject_Code', 'Country_Series-Specific_Notes', 'Estimates_Start_After'} P_Key> ('Weo_Country_Group_Code', 'Weo_Subject_Code').\n",
                "\n",
                "- > C. Table for `Country_Classes` info: {'Weo_Country_Code', 'Country', 'Weo_Country_Group_Code', and all Varibles 'Country_Group_ID' { 'All_Advanced_41','All_Advanced_Euro_20', 'All_Advanced_G7', 'All_Developing_155','All_Developing_Asia_30', 'All_Developing_Europe_15', 'All_Developing_Latina_Caribbean_33', 'All_Developing_Meast_Casia_32', 'All_Developing_Ssafrica_45', 'All_Asean_5', 'All_Brics_20', 'All_Eur_27'}}  P_Key> 'Weo_Country_Code'.\n",
                "\n",
                "#### 2.2. dataset Tables:\n",
                "\n",
                "- > D. Table for data values `Country_Data_Group`name Columns : {'WEO_Country_Group_Code' , 'Years' , and all Varibles 'WEO_Subject_Code' {'BCA_NGDPD', 'GGR_NGDP', 'GGSB_NPGDP', 'GGX_NGDP', 'GGXWDG_NGDP', 'LUR', 'NGDP_RPCH', 'NGSD_NGDP', 'NID_NGDP', 'PCPIPCH', 'PPPEX', 'PPPPC', 'PPPSH', 'TM_RPCH', 'TRWMA', 'TX_RPCH'}}\n"
            ]
        },
        {
            "cell_type": "markdown",
            "metadata": {
                "azdata_cell_guid": "953de6a1-9e01-4ced-a5f3-be605db07bb4"
            },
            "source": [
                "**Path**"
            ]
        },
        {
            "cell_type": "code",
            "execution_count": 3,
            "metadata": {
                "azdata_cell_guid": "336aeb76-596b-460f-9653-fe6c9287a997",
                "language": "sql",
                "vscode": {
                    "languageId": "sql"
                }
            },
            "outputs": [
                {
                    "data": {
                        "text/plain": [
                            "['../03-Dataset/02-DataBase\\\\01-Countries.csv',\n",
                            " '../03-Dataset/02-DataBase\\\\02-Subject.csv',\n",
                            " '../03-Dataset/02-DataBase\\\\03-Country_Subject_Notes.csv',\n",
                            " '../03-Dataset/02-DataBase\\\\04-Years.csv',\n",
                            " '../03-Dataset/02-DataBase\\\\05.1-WEO_Data_Countries.csv',\n",
                            " '../03-Dataset/02-DataBase\\\\05.2-WEO_Data_Countries.csv',\n",
                            " '../03-Dataset/02-DataBase\\\\06-Country_Groups.csv',\n",
                            " '../03-Dataset/02-DataBase\\\\07-Group_Subject_Notes.csv',\n",
                            " '../03-Dataset/02-DataBase\\\\08.1-Country_Classes.csv',\n",
                            " '../03-Dataset/02-DataBase\\\\08.2-Country_Classes.csv',\n",
                            " '../03-Dataset/02-DataBase\\\\08.3-Country_Classes.csv',\n",
                            " '../03-Dataset/02-DataBase\\\\09.1-Country_Data_Group.csv',\n",
                            " '../03-Dataset/02-DataBase\\\\09.2-Country_Data_Group.csv',\n",
                            " '../03-Dataset/02-DataBase\\\\10-WEO_Data.csv',\n",
                            " '../03-Dataset/02-DataBase\\\\10-WEO_Data_DB.csv']"
                        ]
                    },
                    "execution_count": 3,
                    "metadata": {},
                    "output_type": "execute_result"
                }
            ],
            "source": [
                "# Use glob to get a list of all files with the .csv extension\n",
                "folder_path = \"../03-Dataset/02-DataBase\"\n",
                "files_list = glob.glob(folder_path + \"/*.csv\")\n",
                "files_list"
            ]
        },
        {
            "cell_type": "markdown",
            "metadata": {
                "azdata_cell_guid": "c88765c0-100d-4621-9753-942ba8737d28"
            },
            "source": [
                "**Load Dataset**"
            ]
        },
        {
            "cell_type": "code",
            "execution_count": 8,
            "metadata": {
                "azdata_cell_guid": "4fd6e3d9-616d-4039-b3b2-eaf457d22711",
                "language": "sql",
                "vscode": {
                    "languageId": "sql"
                }
            },
            "outputs": [
                {
                    "data": {
                        "application/vnd.microsoft.datawrangler.viewer.v0+json": {
                            "columns": [
                                {
                                    "name": "index",
                                    "rawType": "int64",
                                    "type": "integer"
                                },
                                {
                                    "name": "WEO_Country_Code",
                                    "rawType": "int64",
                                    "type": "integer"
                                },
                                {
                                    "name": "Country",
                                    "rawType": "object",
                                    "type": "string"
                                },
                                {
                                    "name": "Advanced_Country",
                                    "rawType": "int64",
                                    "type": "integer"
                                },
                                {
                                    "name": "Year",
                                    "rawType": "int64",
                                    "type": "integer"
                                },
                                {
                                    "name": "BCA_NGDPD",
                                    "rawType": "float64",
                                    "type": "float"
                                },
                                {
                                    "name": "GGR_NGDP",
                                    "rawType": "float64",
                                    "type": "float"
                                },
                                {
                                    "name": "GGSB_NPGDP",
                                    "rawType": "float64",
                                    "type": "float"
                                },
                                {
                                    "name": "GGXWDG_NGDP",
                                    "rawType": "float64",
                                    "type": "float"
                                },
                                {
                                    "name": "GGX_NGDP",
                                    "rawType": "float64",
                                    "type": "float"
                                },
                                {
                                    "name": "LUR",
                                    "rawType": "float64",
                                    "type": "float"
                                },
                                {
                                    "name": "NGDP_RPCH",
                                    "rawType": "float64",
                                    "type": "float"
                                },
                                {
                                    "name": "NGSD_NGDP",
                                    "rawType": "float64",
                                    "type": "float"
                                },
                                {
                                    "name": "NID_NGDP",
                                    "rawType": "float64",
                                    "type": "float"
                                },
                                {
                                    "name": "PCPIPCH",
                                    "rawType": "float64",
                                    "type": "float"
                                },
                                {
                                    "name": "PPPEX",
                                    "rawType": "float64",
                                    "type": "float"
                                },
                                {
                                    "name": "PPPPC",
                                    "rawType": "float64",
                                    "type": "float"
                                },
                                {
                                    "name": "PPPSH",
                                    "rawType": "float64",
                                    "type": "float"
                                },
                                {
                                    "name": "TM_RPCH",
                                    "rawType": "float64",
                                    "type": "float"
                                },
                                {
                                    "name": "TRWMA",
                                    "rawType": "float64",
                                    "type": "float"
                                },
                                {
                                    "name": "TX_RPCH",
                                    "rawType": "float64",
                                    "type": "float"
                                }
                            ],
                            "ref": "6e857417-93a7-4329-b5de-f83a769fba8c",
                            "rows": [
                                [
                                    "0",
                                    "111",
                                    "United States",
                                    "1",
                                    "1980",
                                    "0.081",
                                    null,
                                    null,
                                    null,
                                    null,
                                    "7.175",
                                    "-0.257",
                                    "22.059",
                                    "23.31",
                                    "13.502",
                                    "1.0",
                                    "12552.943",
                                    "21.579",
                                    "-6.664",
                                    null,
                                    "10.778"
                                ],
                                [
                                    "1",
                                    "111",
                                    "United States",
                                    "1",
                                    "1981",
                                    "0.157",
                                    null,
                                    null,
                                    null,
                                    null,
                                    "7.617",
                                    "2.537",
                                    "23.206",
                                    "24.277",
                                    "10.378",
                                    "1.0",
                                    "13948.701",
                                    "21.683",
                                    "2.616",
                                    null,
                                    "1.213"
                                ],
                                [
                                    "2",
                                    "111",
                                    "United States",
                                    "1",
                                    "1982",
                                    "-0.165",
                                    null,
                                    null,
                                    null,
                                    null,
                                    "9.708",
                                    "-1.803",
                                    "21.713",
                                    "22.071",
                                    "6.158",
                                    "1.0",
                                    "14404.994",
                                    "21.185",
                                    "-1.264",
                                    null,
                                    "-7.662"
                                ],
                                [
                                    "3",
                                    "111",
                                    "United States",
                                    "1",
                                    "1983",
                                    "-1.065",
                                    null,
                                    null,
                                    null,
                                    null,
                                    "9.6",
                                    "4.584",
                                    "19.725",
                                    "22.253",
                                    "3.16",
                                    "1.0",
                                    "15513.679",
                                    "21.607",
                                    "12.609",
                                    null,
                                    "-2.589"
                                ],
                                [
                                    "4",
                                    "111",
                                    "United States",
                                    "1",
                                    "1984",
                                    "-2.337",
                                    null,
                                    null,
                                    null,
                                    null,
                                    "7.508",
                                    "7.236",
                                    "21.839",
                                    "25.096",
                                    "4.368",
                                    "1.0",
                                    "17086.441",
                                    "22.177",
                                    "24.344",
                                    null,
                                    "8.15"
                                ]
                            ],
                            "shape": {
                                "columns": 20,
                                "rows": 5
                            }
                        },
                        "text/html": [
                            "<div>\n",
                            "<style scoped>\n",
                            "    .dataframe tbody tr th:only-of-type {\n",
                            "        vertical-align: middle;\n",
                            "    }\n",
                            "\n",
                            "    .dataframe tbody tr th {\n",
                            "        vertical-align: top;\n",
                            "    }\n",
                            "\n",
                            "    .dataframe thead th {\n",
                            "        text-align: right;\n",
                            "    }\n",
                            "</style>\n",
                            "<table border=\"1\" class=\"dataframe\">\n",
                            "  <thead>\n",
                            "    <tr style=\"text-align: right;\">\n",
                            "      <th></th>\n",
                            "      <th>WEO_Country_Code</th>\n",
                            "      <th>Country</th>\n",
                            "      <th>Advanced_Country</th>\n",
                            "      <th>Year</th>\n",
                            "      <th>BCA_NGDPD</th>\n",
                            "      <th>GGR_NGDP</th>\n",
                            "      <th>GGSB_NPGDP</th>\n",
                            "      <th>GGXWDG_NGDP</th>\n",
                            "      <th>GGX_NGDP</th>\n",
                            "      <th>LUR</th>\n",
                            "      <th>NGDP_RPCH</th>\n",
                            "      <th>NGSD_NGDP</th>\n",
                            "      <th>NID_NGDP</th>\n",
                            "      <th>PCPIPCH</th>\n",
                            "      <th>PPPEX</th>\n",
                            "      <th>PPPPC</th>\n",
                            "      <th>PPPSH</th>\n",
                            "      <th>TM_RPCH</th>\n",
                            "      <th>TRWMA</th>\n",
                            "      <th>TX_RPCH</th>\n",
                            "    </tr>\n",
                            "  </thead>\n",
                            "  <tbody>\n",
                            "    <tr>\n",
                            "      <th>0</th>\n",
                            "      <td>111</td>\n",
                            "      <td>United States</td>\n",
                            "      <td>1</td>\n",
                            "      <td>1980</td>\n",
                            "      <td>0.081</td>\n",
                            "      <td>NaN</td>\n",
                            "      <td>NaN</td>\n",
                            "      <td>NaN</td>\n",
                            "      <td>NaN</td>\n",
                            "      <td>7.175</td>\n",
                            "      <td>-0.257</td>\n",
                            "      <td>22.059</td>\n",
                            "      <td>23.310</td>\n",
                            "      <td>13.502</td>\n",
                            "      <td>1.0</td>\n",
                            "      <td>12552.943</td>\n",
                            "      <td>21.579</td>\n",
                            "      <td>-6.664</td>\n",
                            "      <td>NaN</td>\n",
                            "      <td>10.778</td>\n",
                            "    </tr>\n",
                            "    <tr>\n",
                            "      <th>1</th>\n",
                            "      <td>111</td>\n",
                            "      <td>United States</td>\n",
                            "      <td>1</td>\n",
                            "      <td>1981</td>\n",
                            "      <td>0.157</td>\n",
                            "      <td>NaN</td>\n",
                            "      <td>NaN</td>\n",
                            "      <td>NaN</td>\n",
                            "      <td>NaN</td>\n",
                            "      <td>7.617</td>\n",
                            "      <td>2.537</td>\n",
                            "      <td>23.206</td>\n",
                            "      <td>24.277</td>\n",
                            "      <td>10.378</td>\n",
                            "      <td>1.0</td>\n",
                            "      <td>13948.701</td>\n",
                            "      <td>21.683</td>\n",
                            "      <td>2.616</td>\n",
                            "      <td>NaN</td>\n",
                            "      <td>1.213</td>\n",
                            "    </tr>\n",
                            "    <tr>\n",
                            "      <th>2</th>\n",
                            "      <td>111</td>\n",
                            "      <td>United States</td>\n",
                            "      <td>1</td>\n",
                            "      <td>1982</td>\n",
                            "      <td>-0.165</td>\n",
                            "      <td>NaN</td>\n",
                            "      <td>NaN</td>\n",
                            "      <td>NaN</td>\n",
                            "      <td>NaN</td>\n",
                            "      <td>9.708</td>\n",
                            "      <td>-1.803</td>\n",
                            "      <td>21.713</td>\n",
                            "      <td>22.071</td>\n",
                            "      <td>6.158</td>\n",
                            "      <td>1.0</td>\n",
                            "      <td>14404.994</td>\n",
                            "      <td>21.185</td>\n",
                            "      <td>-1.264</td>\n",
                            "      <td>NaN</td>\n",
                            "      <td>-7.662</td>\n",
                            "    </tr>\n",
                            "    <tr>\n",
                            "      <th>3</th>\n",
                            "      <td>111</td>\n",
                            "      <td>United States</td>\n",
                            "      <td>1</td>\n",
                            "      <td>1983</td>\n",
                            "      <td>-1.065</td>\n",
                            "      <td>NaN</td>\n",
                            "      <td>NaN</td>\n",
                            "      <td>NaN</td>\n",
                            "      <td>NaN</td>\n",
                            "      <td>9.600</td>\n",
                            "      <td>4.584</td>\n",
                            "      <td>19.725</td>\n",
                            "      <td>22.253</td>\n",
                            "      <td>3.160</td>\n",
                            "      <td>1.0</td>\n",
                            "      <td>15513.679</td>\n",
                            "      <td>21.607</td>\n",
                            "      <td>12.609</td>\n",
                            "      <td>NaN</td>\n",
                            "      <td>-2.589</td>\n",
                            "    </tr>\n",
                            "    <tr>\n",
                            "      <th>4</th>\n",
                            "      <td>111</td>\n",
                            "      <td>United States</td>\n",
                            "      <td>1</td>\n",
                            "      <td>1984</td>\n",
                            "      <td>-2.337</td>\n",
                            "      <td>NaN</td>\n",
                            "      <td>NaN</td>\n",
                            "      <td>NaN</td>\n",
                            "      <td>NaN</td>\n",
                            "      <td>7.508</td>\n",
                            "      <td>7.236</td>\n",
                            "      <td>21.839</td>\n",
                            "      <td>25.096</td>\n",
                            "      <td>4.368</td>\n",
                            "      <td>1.0</td>\n",
                            "      <td>17086.441</td>\n",
                            "      <td>22.177</td>\n",
                            "      <td>24.344</td>\n",
                            "      <td>NaN</td>\n",
                            "      <td>8.150</td>\n",
                            "    </tr>\n",
                            "  </tbody>\n",
                            "</table>\n",
                            "</div>"
                        ],
                        "text/plain": [
                            "   WEO_Country_Code        Country  Advanced_Country  Year  BCA_NGDPD  \\\n",
                            "0               111  United States                 1  1980      0.081   \n",
                            "1               111  United States                 1  1981      0.157   \n",
                            "2               111  United States                 1  1982     -0.165   \n",
                            "3               111  United States                 1  1983     -1.065   \n",
                            "4               111  United States                 1  1984     -2.337   \n",
                            "\n",
                            "   GGR_NGDP  GGSB_NPGDP  GGXWDG_NGDP  GGX_NGDP    LUR  NGDP_RPCH  NGSD_NGDP  \\\n",
                            "0       NaN         NaN          NaN       NaN  7.175     -0.257     22.059   \n",
                            "1       NaN         NaN          NaN       NaN  7.617      2.537     23.206   \n",
                            "2       NaN         NaN          NaN       NaN  9.708     -1.803     21.713   \n",
                            "3       NaN         NaN          NaN       NaN  9.600      4.584     19.725   \n",
                            "4       NaN         NaN          NaN       NaN  7.508      7.236     21.839   \n",
                            "\n",
                            "   NID_NGDP  PCPIPCH  PPPEX      PPPPC   PPPSH  TM_RPCH  TRWMA  TX_RPCH  \n",
                            "0    23.310   13.502    1.0  12552.943  21.579   -6.664    NaN   10.778  \n",
                            "1    24.277   10.378    1.0  13948.701  21.683    2.616    NaN    1.213  \n",
                            "2    22.071    6.158    1.0  14404.994  21.185   -1.264    NaN   -7.662  \n",
                            "3    22.253    3.160    1.0  15513.679  21.607   12.609    NaN   -2.589  \n",
                            "4    25.096    4.368    1.0  17086.441  22.177   24.344    NaN    8.150  "
                        ]
                    },
                    "metadata": {},
                    "output_type": "display_data"
                }
            ],
            "source": [
                "df = pd.read_csv(folder_path+\"/10-WEO_Data.csv\")\n",
                "display(df.head())"
            ]
        },
        {
            "cell_type": "code",
            "execution_count": 9,
            "metadata": {
                "azdata_cell_guid": "a292ead1-6864-4710-a0d8-77e06d2da491",
                "language": "sql",
                "vscode": {
                    "languageId": "sql"
                }
            },
            "outputs": [
                {
                    "name": "stdout",
                    "output_type": "stream",
                    "text": [
                        "<class 'pandas.core.frame.DataFrame'>\n",
                        "RangeIndex: 8820 entries, 0 to 8819\n",
                        "Data columns (total 20 columns):\n",
                        " #   Column            Non-Null Count  Dtype  \n",
                        "---  ------            --------------  -----  \n",
                        " 0   WEO_Country_Code  8820 non-null   int64  \n",
                        " 1   Country           8820 non-null   object \n",
                        " 2   Advanced_Country  8820 non-null   int64  \n",
                        " 3   Year              8820 non-null   int64  \n",
                        " 4   BCA_NGDPD         7638 non-null   float64\n",
                        " 5   GGR_NGDP          6473 non-null   float64\n",
                        " 6   GGSB_NPGDP        2496 non-null   float64\n",
                        " 7   GGXWDG_NGDP       5751 non-null   float64\n",
                        " 8   GGX_NGDP          6420 non-null   float64\n",
                        " 9   LUR               4139 non-null   float64\n",
                        " 10  NGDP_RPCH         7961 non-null   float64\n",
                        " 11  NGSD_NGDP         6961 non-null   float64\n",
                        " 12  NID_NGDP          6968 non-null   float64\n",
                        " 13  PCPIPCH           7914 non-null   float64\n",
                        " 14  PPPEX             7874 non-null   float64\n",
                        " 15  PPPPC             7919 non-null   float64\n",
                        " 16  PPPSH             7853 non-null   float64\n",
                        " 17  TM_RPCH           6913 non-null   float64\n",
                        " 18  TRWMA             3664 non-null   float64\n",
                        " 19  TX_RPCH           6957 non-null   float64\n",
                        "dtypes: float64(16), int64(3), object(1)\n",
                        "memory usage: 1.3+ MB\n"
                    ]
                }
            ],
            "source": [
                "df.info()\n"
            ]
        },
        {
            "cell_type": "code",
            "execution_count": 10,
            "metadata": {
                "azdata_cell_guid": "d243487d-cc87-4730-9099-98226c2bc8b1",
                "language": "sql",
                "vscode": {
                    "languageId": "sql"
                }
            },
            "outputs": [
                {
                    "data": {
                        "application/vnd.microsoft.datawrangler.viewer.v0+json": {
                            "columns": [
                                {
                                    "name": "index",
                                    "rawType": "object",
                                    "type": "string"
                                },
                                {
                                    "name": "WEO_Country_Code",
                                    "rawType": "float64",
                                    "type": "float"
                                },
                                {
                                    "name": "Advanced_Country",
                                    "rawType": "float64",
                                    "type": "float"
                                },
                                {
                                    "name": "Year",
                                    "rawType": "float64",
                                    "type": "float"
                                },
                                {
                                    "name": "BCA_NGDPD",
                                    "rawType": "float64",
                                    "type": "float"
                                },
                                {
                                    "name": "GGR_NGDP",
                                    "rawType": "float64",
                                    "type": "float"
                                },
                                {
                                    "name": "GGSB_NPGDP",
                                    "rawType": "float64",
                                    "type": "float"
                                },
                                {
                                    "name": "GGXWDG_NGDP",
                                    "rawType": "float64",
                                    "type": "float"
                                },
                                {
                                    "name": "GGX_NGDP",
                                    "rawType": "float64",
                                    "type": "float"
                                },
                                {
                                    "name": "LUR",
                                    "rawType": "float64",
                                    "type": "float"
                                },
                                {
                                    "name": "NGDP_RPCH",
                                    "rawType": "float64",
                                    "type": "float"
                                },
                                {
                                    "name": "NGSD_NGDP",
                                    "rawType": "float64",
                                    "type": "float"
                                },
                                {
                                    "name": "NID_NGDP",
                                    "rawType": "float64",
                                    "type": "float"
                                },
                                {
                                    "name": "PCPIPCH",
                                    "rawType": "float64",
                                    "type": "float"
                                },
                                {
                                    "name": "PPPEX",
                                    "rawType": "float64",
                                    "type": "float"
                                },
                                {
                                    "name": "PPPPC",
                                    "rawType": "float64",
                                    "type": "float"
                                },
                                {
                                    "name": "PPPSH",
                                    "rawType": "float64",
                                    "type": "float"
                                },
                                {
                                    "name": "TM_RPCH",
                                    "rawType": "float64",
                                    "type": "float"
                                },
                                {
                                    "name": "TRWMA",
                                    "rawType": "float64",
                                    "type": "float"
                                },
                                {
                                    "name": "TX_RPCH",
                                    "rawType": "float64",
                                    "type": "float"
                                }
                            ],
                            "ref": "ea8f28b0-bc8b-4cb4-9218-ed2535bf8a72",
                            "rows": [
                                [
                                    "count",
                                    "8820.0",
                                    "8820.0",
                                    "8820.0",
                                    "7638.0",
                                    "6473.0",
                                    "2496.0",
                                    "5751.0",
                                    "6420.0",
                                    "4139.0",
                                    "7961.0",
                                    "6961.0",
                                    "6968.0",
                                    "7914.0",
                                    "7874.0",
                                    "7919.0",
                                    "7853.0",
                                    "6913.0",
                                    "3664.0",
                                    "6957.0"
                                ],
                                [
                                    "mean",
                                    "551.3775510204082",
                                    "0.20918367346938777",
                                    "2002.0",
                                    "-2.0918332024090076",
                                    "28.722145064112468",
                                    "-2.5690584935897434",
                                    "55.793672404799175",
                                    "31.50198115264797",
                                    "8.955438270113554",
                                    "3.3531710840346687",
                                    "20.333998276109753",
                                    "24.006941016073476",
                                    "41.74844136972453",
                                    "199.5552432054864",
                                    "14810.694571789367",
                                    "0.5729248694766331",
                                    "5.513936062490958",
                                    "7.086408296943231",
                                    "5.66785309759954"
                                ],
                                [
                                    "std",
                                    "261.4975868965693",
                                    "0.40674884402656647",
                                    "12.987909456102388",
                                    "13.369427134868609",
                                    "15.490118865830656",
                                    "4.4389022594242205",
                                    "44.543056625787784",
                                    "19.34372838338483",
                                    "6.070978925695129",
                                    "6.184105075558681",
                                    "12.10235521629235",
                                    "10.525727568191263",
                                    "862.8659029899281",
                                    "2105.6868242416326",
                                    "18530.74342310924",
                                    "1.8708274023388511",
                                    "17.363133333055302",
                                    "10.075806720200696",
                                    "20.43771786255137"
                                ],
                                [
                                    "min",
                                    "111.0",
                                    "0.0",
                                    "1980.0",
                                    "-242.188",
                                    "0.036",
                                    "-25.115",
                                    "0.0",
                                    "1.822",
                                    "0.025",
                                    "-54.336",
                                    "-98.14",
                                    "-40.199",
                                    "-72.729",
                                    "0.001",
                                    "175.003",
                                    "0.001",
                                    "-82.872",
                                    "0.0",
                                    "-90.597"
                                ],
                                [
                                    "25%",
                                    "313.75",
                                    "0.0",
                                    "1991.0",
                                    "-6.519",
                                    "17.906",
                                    "-4.41575",
                                    "29.0785",
                                    "20.20275",
                                    "4.9445",
                                    "1.176",
                                    "13.374",
                                    "18.1125",
                                    "2.03275",
                                    "0.8132499999999999",
                                    "2679.1405",
                                    "0.019",
                                    "-1.917",
                                    "2.24",
                                    "-1.49"
                                ],
                                [
                                    "50%",
                                    "565.5",
                                    "0.0",
                                    "2002.0",
                                    "-2.491",
                                    "25.466",
                                    "-2.3665000000000003",
                                    "46.585",
                                    "28.546999999999997",
                                    "7.475",
                                    "3.535",
                                    "20.125",
                                    "22.899",
                                    "4.631",
                                    "2.6855",
                                    "7620.835",
                                    "0.072",
                                    "4.964",
                                    "5.155",
                                    "4.526"
                                ],
                                [
                                    "75%",
                                    "733.25",
                                    "0.0",
                                    "2013.0",
                                    "1.5415",
                                    "37.203",
                                    "-0.435",
                                    "69.9975",
                                    "39.34825",
                                    "11.2",
                                    "5.886",
                                    "26.537",
                                    "28.158",
                                    "10.10775",
                                    "44.58625",
                                    "19590.4905",
                                    "0.378",
                                    "11.838",
                                    "10.04",
                                    "10.971"
                                ],
                                [
                                    "max",
                                    "968.0",
                                    "1.0",
                                    "2024.0",
                                    "314.906",
                                    "164.054",
                                    "125.135",
                                    "600.117",
                                    "594.77",
                                    "70.0",
                                    "147.973",
                                    "120.028",
                                    "144.45",
                                    "65374.082",
                                    "116640.525",
                                    "151145.794",
                                    "22.343",
                                    "431.978",
                                    "421.5",
                                    "649.151"
                                ]
                            ],
                            "shape": {
                                "columns": 19,
                                "rows": 8
                            }
                        },
                        "text/html": [
                            "<div>\n",
                            "<style scoped>\n",
                            "    .dataframe tbody tr th:only-of-type {\n",
                            "        vertical-align: middle;\n",
                            "    }\n",
                            "\n",
                            "    .dataframe tbody tr th {\n",
                            "        vertical-align: top;\n",
                            "    }\n",
                            "\n",
                            "    .dataframe thead th {\n",
                            "        text-align: right;\n",
                            "    }\n",
                            "</style>\n",
                            "<table border=\"1\" class=\"dataframe\">\n",
                            "  <thead>\n",
                            "    <tr style=\"text-align: right;\">\n",
                            "      <th></th>\n",
                            "      <th>WEO_Country_Code</th>\n",
                            "      <th>Advanced_Country</th>\n",
                            "      <th>Year</th>\n",
                            "      <th>BCA_NGDPD</th>\n",
                            "      <th>GGR_NGDP</th>\n",
                            "      <th>GGSB_NPGDP</th>\n",
                            "      <th>GGXWDG_NGDP</th>\n",
                            "      <th>GGX_NGDP</th>\n",
                            "      <th>LUR</th>\n",
                            "      <th>NGDP_RPCH</th>\n",
                            "      <th>NGSD_NGDP</th>\n",
                            "      <th>NID_NGDP</th>\n",
                            "      <th>PCPIPCH</th>\n",
                            "      <th>PPPEX</th>\n",
                            "      <th>PPPPC</th>\n",
                            "      <th>PPPSH</th>\n",
                            "      <th>TM_RPCH</th>\n",
                            "      <th>TRWMA</th>\n",
                            "      <th>TX_RPCH</th>\n",
                            "    </tr>\n",
                            "  </thead>\n",
                            "  <tbody>\n",
                            "    <tr>\n",
                            "      <th>count</th>\n",
                            "      <td>8820.000000</td>\n",
                            "      <td>8820.000000</td>\n",
                            "      <td>8820.000000</td>\n",
                            "      <td>7638.000000</td>\n",
                            "      <td>6473.000000</td>\n",
                            "      <td>2496.000000</td>\n",
                            "      <td>5751.000000</td>\n",
                            "      <td>6420.000000</td>\n",
                            "      <td>4139.000000</td>\n",
                            "      <td>7961.000000</td>\n",
                            "      <td>6961.000000</td>\n",
                            "      <td>6968.000000</td>\n",
                            "      <td>7914.000000</td>\n",
                            "      <td>7874.000000</td>\n",
                            "      <td>7919.000000</td>\n",
                            "      <td>7853.000000</td>\n",
                            "      <td>6913.000000</td>\n",
                            "      <td>3664.000000</td>\n",
                            "      <td>6957.000000</td>\n",
                            "    </tr>\n",
                            "    <tr>\n",
                            "      <th>mean</th>\n",
                            "      <td>551.377551</td>\n",
                            "      <td>0.209184</td>\n",
                            "      <td>2002.000000</td>\n",
                            "      <td>-2.091833</td>\n",
                            "      <td>28.722145</td>\n",
                            "      <td>-2.569058</td>\n",
                            "      <td>55.793672</td>\n",
                            "      <td>31.501981</td>\n",
                            "      <td>8.955438</td>\n",
                            "      <td>3.353171</td>\n",
                            "      <td>20.333998</td>\n",
                            "      <td>24.006941</td>\n",
                            "      <td>41.748441</td>\n",
                            "      <td>199.555243</td>\n",
                            "      <td>14810.694572</td>\n",
                            "      <td>0.572925</td>\n",
                            "      <td>5.513936</td>\n",
                            "      <td>7.086408</td>\n",
                            "      <td>5.667853</td>\n",
                            "    </tr>\n",
                            "    <tr>\n",
                            "      <th>std</th>\n",
                            "      <td>261.497587</td>\n",
                            "      <td>0.406749</td>\n",
                            "      <td>12.987909</td>\n",
                            "      <td>13.369427</td>\n",
                            "      <td>15.490119</td>\n",
                            "      <td>4.438902</td>\n",
                            "      <td>44.543057</td>\n",
                            "      <td>19.343728</td>\n",
                            "      <td>6.070979</td>\n",
                            "      <td>6.184105</td>\n",
                            "      <td>12.102355</td>\n",
                            "      <td>10.525728</td>\n",
                            "      <td>862.865903</td>\n",
                            "      <td>2105.686824</td>\n",
                            "      <td>18530.743423</td>\n",
                            "      <td>1.870827</td>\n",
                            "      <td>17.363133</td>\n",
                            "      <td>10.075807</td>\n",
                            "      <td>20.437718</td>\n",
                            "    </tr>\n",
                            "    <tr>\n",
                            "      <th>min</th>\n",
                            "      <td>111.000000</td>\n",
                            "      <td>0.000000</td>\n",
                            "      <td>1980.000000</td>\n",
                            "      <td>-242.188000</td>\n",
                            "      <td>0.036000</td>\n",
                            "      <td>-25.115000</td>\n",
                            "      <td>0.000000</td>\n",
                            "      <td>1.822000</td>\n",
                            "      <td>0.025000</td>\n",
                            "      <td>-54.336000</td>\n",
                            "      <td>-98.140000</td>\n",
                            "      <td>-40.199000</td>\n",
                            "      <td>-72.729000</td>\n",
                            "      <td>0.001000</td>\n",
                            "      <td>175.003000</td>\n",
                            "      <td>0.001000</td>\n",
                            "      <td>-82.872000</td>\n",
                            "      <td>0.000000</td>\n",
                            "      <td>-90.597000</td>\n",
                            "    </tr>\n",
                            "    <tr>\n",
                            "      <th>25%</th>\n",
                            "      <td>313.750000</td>\n",
                            "      <td>0.000000</td>\n",
                            "      <td>1991.000000</td>\n",
                            "      <td>-6.519000</td>\n",
                            "      <td>17.906000</td>\n",
                            "      <td>-4.415750</td>\n",
                            "      <td>29.078500</td>\n",
                            "      <td>20.202750</td>\n",
                            "      <td>4.944500</td>\n",
                            "      <td>1.176000</td>\n",
                            "      <td>13.374000</td>\n",
                            "      <td>18.112500</td>\n",
                            "      <td>2.032750</td>\n",
                            "      <td>0.813250</td>\n",
                            "      <td>2679.140500</td>\n",
                            "      <td>0.019000</td>\n",
                            "      <td>-1.917000</td>\n",
                            "      <td>2.240000</td>\n",
                            "      <td>-1.490000</td>\n",
                            "    </tr>\n",
                            "    <tr>\n",
                            "      <th>50%</th>\n",
                            "      <td>565.500000</td>\n",
                            "      <td>0.000000</td>\n",
                            "      <td>2002.000000</td>\n",
                            "      <td>-2.491000</td>\n",
                            "      <td>25.466000</td>\n",
                            "      <td>-2.366500</td>\n",
                            "      <td>46.585000</td>\n",
                            "      <td>28.547000</td>\n",
                            "      <td>7.475000</td>\n",
                            "      <td>3.535000</td>\n",
                            "      <td>20.125000</td>\n",
                            "      <td>22.899000</td>\n",
                            "      <td>4.631000</td>\n",
                            "      <td>2.685500</td>\n",
                            "      <td>7620.835000</td>\n",
                            "      <td>0.072000</td>\n",
                            "      <td>4.964000</td>\n",
                            "      <td>5.155000</td>\n",
                            "      <td>4.526000</td>\n",
                            "    </tr>\n",
                            "    <tr>\n",
                            "      <th>75%</th>\n",
                            "      <td>733.250000</td>\n",
                            "      <td>0.000000</td>\n",
                            "      <td>2013.000000</td>\n",
                            "      <td>1.541500</td>\n",
                            "      <td>37.203000</td>\n",
                            "      <td>-0.435000</td>\n",
                            "      <td>69.997500</td>\n",
                            "      <td>39.348250</td>\n",
                            "      <td>11.200000</td>\n",
                            "      <td>5.886000</td>\n",
                            "      <td>26.537000</td>\n",
                            "      <td>28.158000</td>\n",
                            "      <td>10.107750</td>\n",
                            "      <td>44.586250</td>\n",
                            "      <td>19590.490500</td>\n",
                            "      <td>0.378000</td>\n",
                            "      <td>11.838000</td>\n",
                            "      <td>10.040000</td>\n",
                            "      <td>10.971000</td>\n",
                            "    </tr>\n",
                            "    <tr>\n",
                            "      <th>max</th>\n",
                            "      <td>968.000000</td>\n",
                            "      <td>1.000000</td>\n",
                            "      <td>2024.000000</td>\n",
                            "      <td>314.906000</td>\n",
                            "      <td>164.054000</td>\n",
                            "      <td>125.135000</td>\n",
                            "      <td>600.117000</td>\n",
                            "      <td>594.770000</td>\n",
                            "      <td>70.000000</td>\n",
                            "      <td>147.973000</td>\n",
                            "      <td>120.028000</td>\n",
                            "      <td>144.450000</td>\n",
                            "      <td>65374.082000</td>\n",
                            "      <td>116640.525000</td>\n",
                            "      <td>151145.794000</td>\n",
                            "      <td>22.343000</td>\n",
                            "      <td>431.978000</td>\n",
                            "      <td>421.500000</td>\n",
                            "      <td>649.151000</td>\n",
                            "    </tr>\n",
                            "  </tbody>\n",
                            "</table>\n",
                            "</div>"
                        ],
                        "text/plain": [
                            "       WEO_Country_Code  Advanced_Country         Year    BCA_NGDPD  \\\n",
                            "count       8820.000000       8820.000000  8820.000000  7638.000000   \n",
                            "mean         551.377551          0.209184  2002.000000    -2.091833   \n",
                            "std          261.497587          0.406749    12.987909    13.369427   \n",
                            "min          111.000000          0.000000  1980.000000  -242.188000   \n",
                            "25%          313.750000          0.000000  1991.000000    -6.519000   \n",
                            "50%          565.500000          0.000000  2002.000000    -2.491000   \n",
                            "75%          733.250000          0.000000  2013.000000     1.541500   \n",
                            "max          968.000000          1.000000  2024.000000   314.906000   \n",
                            "\n",
                            "          GGR_NGDP   GGSB_NPGDP  GGXWDG_NGDP     GGX_NGDP          LUR  \\\n",
                            "count  6473.000000  2496.000000  5751.000000  6420.000000  4139.000000   \n",
                            "mean     28.722145    -2.569058    55.793672    31.501981     8.955438   \n",
                            "std      15.490119     4.438902    44.543057    19.343728     6.070979   \n",
                            "min       0.036000   -25.115000     0.000000     1.822000     0.025000   \n",
                            "25%      17.906000    -4.415750    29.078500    20.202750     4.944500   \n",
                            "50%      25.466000    -2.366500    46.585000    28.547000     7.475000   \n",
                            "75%      37.203000    -0.435000    69.997500    39.348250    11.200000   \n",
                            "max     164.054000   125.135000   600.117000   594.770000    70.000000   \n",
                            "\n",
                            "         NGDP_RPCH    NGSD_NGDP     NID_NGDP       PCPIPCH          PPPEX  \\\n",
                            "count  7961.000000  6961.000000  6968.000000   7914.000000    7874.000000   \n",
                            "mean      3.353171    20.333998    24.006941     41.748441     199.555243   \n",
                            "std       6.184105    12.102355    10.525728    862.865903    2105.686824   \n",
                            "min     -54.336000   -98.140000   -40.199000    -72.729000       0.001000   \n",
                            "25%       1.176000    13.374000    18.112500      2.032750       0.813250   \n",
                            "50%       3.535000    20.125000    22.899000      4.631000       2.685500   \n",
                            "75%       5.886000    26.537000    28.158000     10.107750      44.586250   \n",
                            "max     147.973000   120.028000   144.450000  65374.082000  116640.525000   \n",
                            "\n",
                            "               PPPPC        PPPSH      TM_RPCH        TRWMA      TX_RPCH  \n",
                            "count    7919.000000  7853.000000  6913.000000  3664.000000  6957.000000  \n",
                            "mean    14810.694572     0.572925     5.513936     7.086408     5.667853  \n",
                            "std     18530.743423     1.870827    17.363133    10.075807    20.437718  \n",
                            "min       175.003000     0.001000   -82.872000     0.000000   -90.597000  \n",
                            "25%      2679.140500     0.019000    -1.917000     2.240000    -1.490000  \n",
                            "50%      7620.835000     0.072000     4.964000     5.155000     4.526000  \n",
                            "75%     19590.490500     0.378000    11.838000    10.040000    10.971000  \n",
                            "max    151145.794000    22.343000   431.978000   421.500000   649.151000  "
                        ]
                    },
                    "execution_count": 10,
                    "metadata": {},
                    "output_type": "execute_result"
                }
            ],
            "source": [
                "df.describe()"
            ]
        },
        {
            "cell_type": "code",
            "execution_count": 13,
            "metadata": {
                "vscode": {
                    "languageId": "sql"
                }
            },
            "outputs": [],
            "source": [
                "import pandas as pd\n",
                "\n",
                "# افترض أن df هو اسم الداتا فريم\n",
                "\n",
                "# نأخذ بيانات من 2000 فصاعدًا\n",
                "df_2000_plus = df[df[\"Year\"] >= 2000]\n",
                "\n",
                "# نحدد الدول التي لا يوجد لها أي قيم مفقودة في أي عمود بعد 2000\n",
                "countries_complete = df_2000_plus.groupby(\"WEO_Country_Code\").filter(lambda x: x.notnull().all(axis=None))[\"WEO_Country_Code\"].unique()\n",
                "\n",
                "# نحتفظ فقط بالدول التي بياناتها كاملة من كل السنوات (أو حسب ما تريد)\n",
                "df_cleaned = df[df[\"WEO_Country_Code\"].isin(countries_complete)].copy()\n"
            ]
        },
        {
            "cell_type": "code",
            "execution_count": 14,
            "metadata": {
                "vscode": {
                    "languageId": "sql"
                }
            },
            "outputs": [
                {
                    "data": {
                        "application/vnd.microsoft.datawrangler.viewer.v0+json": {
                            "columns": [
                                {
                                    "name": "index",
                                    "rawType": "int64",
                                    "type": "integer"
                                },
                                {
                                    "name": "WEO_Country_Code",
                                    "rawType": "int64",
                                    "type": "integer"
                                },
                                {
                                    "name": "Country",
                                    "rawType": "object",
                                    "type": "string"
                                },
                                {
                                    "name": "Advanced_Country",
                                    "rawType": "int64",
                                    "type": "integer"
                                },
                                {
                                    "name": "Year",
                                    "rawType": "int64",
                                    "type": "integer"
                                },
                                {
                                    "name": "BCA_NGDPD",
                                    "rawType": "float64",
                                    "type": "float"
                                },
                                {
                                    "name": "GGR_NGDP",
                                    "rawType": "float64",
                                    "type": "float"
                                },
                                {
                                    "name": "GGSB_NPGDP",
                                    "rawType": "float64",
                                    "type": "float"
                                },
                                {
                                    "name": "GGXWDG_NGDP",
                                    "rawType": "float64",
                                    "type": "float"
                                },
                                {
                                    "name": "GGX_NGDP",
                                    "rawType": "float64",
                                    "type": "float"
                                },
                                {
                                    "name": "LUR",
                                    "rawType": "float64",
                                    "type": "float"
                                },
                                {
                                    "name": "NGDP_RPCH",
                                    "rawType": "float64",
                                    "type": "float"
                                },
                                {
                                    "name": "NGSD_NGDP",
                                    "rawType": "float64",
                                    "type": "float"
                                },
                                {
                                    "name": "NID_NGDP",
                                    "rawType": "float64",
                                    "type": "float"
                                },
                                {
                                    "name": "PCPIPCH",
                                    "rawType": "float64",
                                    "type": "float"
                                },
                                {
                                    "name": "PPPEX",
                                    "rawType": "float64",
                                    "type": "float"
                                },
                                {
                                    "name": "PPPPC",
                                    "rawType": "float64",
                                    "type": "float"
                                },
                                {
                                    "name": "PPPSH",
                                    "rawType": "float64",
                                    "type": "float"
                                },
                                {
                                    "name": "TM_RPCH",
                                    "rawType": "float64",
                                    "type": "float"
                                },
                                {
                                    "name": "TRWMA",
                                    "rawType": "float64",
                                    "type": "float"
                                },
                                {
                                    "name": "TX_RPCH",
                                    "rawType": "float64",
                                    "type": "float"
                                }
                            ],
                            "ref": "645709b2-0621-4280-89f7-71e646920446",
                            "rows": [],
                            "shape": {
                                "columns": 20,
                                "rows": 0
                            }
                        },
                        "text/html": [
                            "<div>\n",
                            "<style scoped>\n",
                            "    .dataframe tbody tr th:only-of-type {\n",
                            "        vertical-align: middle;\n",
                            "    }\n",
                            "\n",
                            "    .dataframe tbody tr th {\n",
                            "        vertical-align: top;\n",
                            "    }\n",
                            "\n",
                            "    .dataframe thead th {\n",
                            "        text-align: right;\n",
                            "    }\n",
                            "</style>\n",
                            "<table border=\"1\" class=\"dataframe\">\n",
                            "  <thead>\n",
                            "    <tr style=\"text-align: right;\">\n",
                            "      <th></th>\n",
                            "      <th>WEO_Country_Code</th>\n",
                            "      <th>Country</th>\n",
                            "      <th>Advanced_Country</th>\n",
                            "      <th>Year</th>\n",
                            "      <th>BCA_NGDPD</th>\n",
                            "      <th>GGR_NGDP</th>\n",
                            "      <th>GGSB_NPGDP</th>\n",
                            "      <th>GGXWDG_NGDP</th>\n",
                            "      <th>GGX_NGDP</th>\n",
                            "      <th>LUR</th>\n",
                            "      <th>NGDP_RPCH</th>\n",
                            "      <th>NGSD_NGDP</th>\n",
                            "      <th>NID_NGDP</th>\n",
                            "      <th>PCPIPCH</th>\n",
                            "      <th>PPPEX</th>\n",
                            "      <th>PPPPC</th>\n",
                            "      <th>PPPSH</th>\n",
                            "      <th>TM_RPCH</th>\n",
                            "      <th>TRWMA</th>\n",
                            "      <th>TX_RPCH</th>\n",
                            "    </tr>\n",
                            "  </thead>\n",
                            "  <tbody>\n",
                            "  </tbody>\n",
                            "</table>\n",
                            "</div>"
                        ],
                        "text/plain": [
                            "Empty DataFrame\n",
                            "Columns: [WEO_Country_Code, Country, Advanced_Country, Year, BCA_NGDPD, GGR_NGDP, GGSB_NPGDP, GGXWDG_NGDP, GGX_NGDP, LUR, NGDP_RPCH, NGSD_NGDP, NID_NGDP, PCPIPCH, PPPEX, PPPPC, PPPSH, TM_RPCH, TRWMA, TX_RPCH]\n",
                            "Index: []"
                        ]
                    },
                    "execution_count": 14,
                    "metadata": {},
                    "output_type": "execute_result"
                }
            ],
            "source": [
                "df_cleaned"
            ]
        },
        {
            "cell_type": "markdown",
            "metadata": {
                "azdata_cell_guid": "0a1e4ca3-2665-4d75-b969-1c56cb509040"
            },
            "source": [
                "# **END**"
            ]
        }
    ],
    "metadata": {
        "hide_input": false,
        "kernelspec": {
            "display_name": "base",
            "language": "python",
            "name": "python3"
        },
        "language_info": {
            "codemirror_mode": {
                "name": "ipython",
                "version": 3
            },
            "file_extension": ".py",
            "mimetype": "text/x-python",
            "name": "python",
            "nbconvert_exporter": "python",
            "pygments_lexer": "ipython3",
            "version": "3.12.7"
        }
    },
    "nbformat": 4,
    "nbformat_minor": 2
}
