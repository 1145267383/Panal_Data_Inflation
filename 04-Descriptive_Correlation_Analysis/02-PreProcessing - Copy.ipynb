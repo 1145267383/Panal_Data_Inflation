{
    "cells": [
        {
            "cell_type": "markdown",
            "metadata": {
                "azdata_cell_guid": "70d09cdf-17ef-4796-a9de-5e457fe84246"
            },
            "source": [
                "## **Project: Study On Panel Data Methodologies With Application To Macroeconometrics (Inflation Forecasting)**.\n",
                "\n",
                "> ### **Title**: Merge of Dataset.\n",
                "\n",
                "\n",
                "#### **Table of Contents:**\n",
                "<ul>\n",
                "<li><a href=\"#1\">1. Delete countries with a large number of missing values.</a></li>\n",
                "<li><a href=\"#2\">2. Delete years with a large number of missing values.</a></li>\n",
                "<li><a href=\"#3\">3. Apply the interpolation to Missing Values.</a></li>\n",
                "</ul>"
            ]
        },
        {
            "cell_type": "markdown",
            "metadata": {
                "azdata_cell_guid": "58c2f727-4919-4a17-b4cb-76d3c9ff66a7"
            },
            "source": [
                "<a id=''></a>\n",
                "\n",
                "#### Dataset Description and Variable Overview:\n",
                "\n",
                "---\n",
                "\n",
                "> #### **Inflation & Price Stability**\n",
                "\n",
                "| **Variable Code** | **Description**                                    | **Units**                                         |\n",
                "| ----------------- | -------------------------------------------------- | ------------------------------------------------- |\n",
                "| **PCPIPCH**       | Inflation, average consumer prices `(Target)`      | Percent change                                    |\n",
                "\n",
                "---\n",
                "\n",
                "> #### **Public Finance**\n",
                "| **Variable Code** | **Description**                                    | **Units**                                         |\n",
                "| ----------------- | -------------------------------------------------- | ------------------------------------------------- |\n",
                "| GGSB_NPGDP        | General government structural balance              | Percent of potential GDP                          |\n",
                "| GGXWDG_NGDP       | General government gross debt                      | Percent of GDP                                    |\n",
                "\n",
                "---\n",
                "\n",
                "\n",
                "> #### **Economic Output & Productivity**\n",
                "| **Variable Code** | **Description**                                    | **Units**                                         |\n",
                "| ----------------- | -------------------------------------------------- | ------------------------------------------------- |\n",
                "| NGDP_RPCH         | Gross domestic product, constant prices            | Percent change                                    |\n",
                "| PPPPC             | Gross domestic product per capita, current prices  | Purchasing power parity; international dollars    |\n",
                "\n",
                "---\n",
                "\n",
                "> #### **International Trade & Balance**\n",
                "| **Variable Code** | **Description**                                    | **Units**                                         |\n",
                "| ----------------- | -------------------------------------------------- | ------------------------------------------------- |\n",
                "| TX_RPCH           | Volume of exports of goods and services            | Percent change                                    |\n",
                "| TM_RPCH           | Volume of imports of goods and services            | Percent change                                    |\n",
                "| BCA_NGDPD         | Current account balance                            | Percent of GDP                                    |\n",
                "\n",
                "---\n",
                "\n",
                "> #### **Savings & Investment **\n",
                "| **Variable Code** | **Description**                                    | **Units**                                         |\n",
                "| ----------------- | -------------------------------------------------- | ------------------------------------------------- |\n",
                "| NID_NGDP          | Total investment                                   | Percent of GDP                                    |\n",
                "\n",
                "---\n",
                "\n",
                "> #### **Country Metadata**\n",
                "\n",
                "| **Variable Code** | **Description**                                    | **Units**                                         |\n",
                "| ----------------- | -------------------------------------------------- | ------------------------------------------------- |\n",
                "| Country_Code      | ID number for each country                         | ID                                                |\n",
                "| Country           | Name of 70 countries                               | String                                            |\n",
                "| Advanced_Country  | Is the country developed (1) or developing (0)?    | Boolean                                           |\n",
                "| Years             | date from 2000 to 2024                             | Date                                              |\n",
                "\n",
                "---"
            ]
        },
        {
            "cell_type": "markdown",
            "metadata": {},
            "source": [
                "\n",
                "#### **1. Inflation & Price Stability (التضخم واستقرار الأسعار)**\n",
                "\n",
                "| Variable Code    | Term             | التفسير |                تأثيره على التضخم                                            |\n",
                "| ---------------- | ---------------- | --------------------------------- | --------------------------------------------------- |\n",
                "| **PCPIPCH**   | Inflation (CPI) | معدل التضخم بناءً على متوسط أسعار المستهلكين؛ مؤشر رئيسي لاستقرار الأسعار. | المتغير الهدف، ويقيس بشكل مباشر مدى ارتفاع الأسعار. |\n",
                "\n",
                "---\n",
                "\n",
                "#### **2. Public Finance (المالية العامة)**\n",
                "\n",
                "| Variable Code    | Term             | التفسير |                تأثيره على التضخم                                            |\n",
                "| ---------------- | ---------------- | --------------------------------- | --------------------------------------------------- |\n",
                "| **GGSB_NPGDP**  | Structural Budget Balance         | الميزان الهيكلي بعد خصم أثر الدورة الاقتصادية.                         | الفائض الهيكلي يُعتبر إشارة إلى سياسة مالية انكماشية تقلل من التضخم.      |\n",
                "| **GGXWDG_NGDP** | Gross Government Debt (% of GDP)  | الدين العام كنسبة من الناتج؛ يعكس عبء الحكومة المالي.                  | ارتفاع الدين قد يُجبر الحكومة على التوسع النقدي مستقبلاً مما يزيد التضخم. |\n",
                "\n",
                "\n",
                "---\n",
                "\n",
                "\n",
                "#### **3. Economic Output & Productivity (الإنتاجية والناتج الاقتصادي)**\n",
                "\n",
                "| Variable Code    | Term             | التفسير |                تأثيره على التضخم                                            |\n",
                "| ---------------- | ---------------- | --------------------------------- | --------------------------------------------------- |\n",
                "| **NGDP_RPCH** | Real GDP Growth        | معدل نمو الناتج المحلي الإجمالي الحقيقي، يعكس النشاط الاقتصادي. | النمو المرتفع قد يؤدي إلى تضخم إذا زاد الطلب الكلي أكثر من العرض.                  |\n",
                "| **PPPPC**      | GDP per Capita (PPP)   | نصيب الفرد من الناتج باستخدام تعادل القوة الشرائية.             | ارتفاعه يشير إلى قدرة شرائية أعلى، ما قد يدفع بالأسعار إلى الارتفاع.               |\n",
                "\n",
                "---\n",
                "\n",
                "\n",
                "#### **4. International Trade & Balance (التجارة الدولية والحساب الجاري)**\n",
                "\n",
                "| Variable Code    | Term             | التفسير |                تأثيره على التضخم                                            |\n",
                "| ---------------- | ---------------- | --------------------------------- | --------------------------------------------------- |\n",
                "| **TM_RPCH**   | Import Volume Growth            | نمو حجم الواردات.                   | زيادة الواردات توفر بدائل أرخص وتقلل من التضخم.                     |\n",
                "| **BCA_NGDPD** | Current Account Balance (% GDP) | رصيد الحساب الجاري كنسبة من الناتج. | فائض الحساب الجاري يعكس تدفق عملات أجنبية مما يدعم استقرار الأسعار. |\n",
                "\n",
                "\n",
                "---\n",
                "\n",
                "#### **5. Savings & Investment (الادخار والاستثمار)**\n",
                "\n",
                "| Variable Code    | Term             | التفسير |                تأثيره على التضخم                                            |\n",
                "| ---------------- | ---------------- | --------------------------------- | --------------------------------------------------- |\n",
                "| **NID_NGDP**  | Gross Capital Formation | الاستثمار الإجمالي كنسبة من الناتج. | استثمار أكبر قد يرفع الإنتاج في الأجل الطويل مما يقلل التضخم. |\n",
                "---\n",
                "\n",
                "#### **6. Country Metadata (بيانات الدول)**\n",
                "\n",
                "| Variable Code    | Term             | التفسير |                تأثيره على التضخم                                            |\n",
                "| ---------------- | ---------------- | --------------------------------- | --------------------------------------------------- |\n",
                "| **Country_Code**     | Country ID         | معرف رقمي فريد لكل دولة. | -                 |\n",
                "| **Country**           | Country Name       | اسم الدولة.              | -                 |\n",
                "| **Advanced_Country** | Development Status | متقدمة (1) أو نامية (0). | -                 |\n",
                "| **Years**             | Year               | السنة ما بين 2000 و2024. | -                 |\n",
                "\n",
                "---\n",
                "\n"
            ]
        },
        {
            "cell_type": "markdown",
            "metadata": {},
            "source": [
                "**Import Library**"
            ]
        },
        {
            "cell_type": "code",
            "execution_count": null,
            "metadata": {},
            "outputs": [],
            "source": [
                "import os\n",
                "import numpy as np\n",
                "import pandas as pd\n",
                "import matplotlib.pyplot as plt\n",
                "import seaborn as sns \n",
                "from matplotlib.gridspec import GridSpec\n",
                "from statsmodels.nonparametric.smoothers_lowess import lowess\n",
                "\n",
                "\n",
                "import glob\n",
                "import math\n",
                "\n",
                "\n",
                "sns.set(rc={'figure.figsize': [15,5]}, font_scale=1.2);\n",
                "pd.set_option('future.no_silent_downcasting', True)\n"
            ]
        },
        {
            "cell_type": "markdown",
            "metadata": {
                "azdata_cell_guid": "953de6a1-9e01-4ced-a5f3-be605db07bb4"
            },
            "source": [
                "**Path**"
            ]
        },
        {
            "cell_type": "code",
            "execution_count": null,
            "metadata": {
                "azdata_cell_guid": "336aeb76-596b-460f-9653-fe6c9287a997",
                "language": "sql"
            },
            "outputs": [],
            "source": [
                "# Use glob to get a list of all files with the .csv extension\n",
                "folder_path = \"../02-Dataset/02-DataBase\"\n",
                "files_list = glob.glob(folder_path + \"/*.csv\")\n",
                "files_list"
            ]
        },
        {
            "cell_type": "markdown",
            "metadata": {
                "azdata_cell_guid": "c88765c0-100d-4621-9753-942ba8737d28"
            },
            "source": [
                "**Load Dataset**"
            ]
        },
        {
            "cell_type": "code",
            "execution_count": null,
            "metadata": {},
            "outputs": [],
            "source": [
                "\n",
                "# Reorder columns based on priority to control inflation\n",
                "# (Ensure column names match exactly what exists in your DataFrame)\n",
                "\n",
                "ordered_columns = [\n",
                "    # 8. Metadata\n",
                "    \"WEO_Country_Code\", \"Country\", \"Advanced_Country\", \"Year\",\n",
                "    \n",
                "    # 1. Inflation & Price Stability\n",
                "    \"PCPIPCH\",  # Inflation Rate (Consumer Prices, annual %)\n",
                "    \n",
                "    # 2. Public Finance\n",
                "    \"GGSB_NPGDP\",   # General government structural balance\n",
                "    \"GGXWDG_NGDP\",  # General government gross debt (% of GDP)\n",
                "    \n",
                "    # 3. Economic Output & Productivity & Exchange & Purchasing Power\n",
                "    \"NGDP_RPCH\",    # Real GDP growth (%)\n",
                "    \"PPPPC\",        # GDP per capita based on PPP\n",
                "    \n",
                "    # 4. Exchange & Purchasing Power\n",
                "    \n",
                "    # 5. International Trade & Balance\n",
                "    \"TM_RPCH\",      # Import volume growth\n",
                "    \"BCA_NGDPD\",    # Current account balance (% of GDP)\n",
                "\n",
                "    # 6. Savings & Investment\n",
                "    \"NID_NGDP\"     # Investment (% of GDP)\n",
                "    \n",
                "]\n",
                "\n"
            ]
        },
        {
            "cell_type": "code",
            "execution_count": null,
            "metadata": {
                "azdata_cell_guid": "4fd6e3d9-616d-4039-b3b2-eaf457d22711",
                "language": "sql"
            },
            "outputs": [],
            "source": [
                "df0 = pd.read_csv(folder_path+\"/10-WEO_Data.csv\")\n",
                "df0.info()"
            ]
        },
        {
            "cell_type": "code",
            "execution_count": null,
            "metadata": {},
            "outputs": [],
            "source": [
                "# Apply the new column order to the DataFrame\n",
                "df1 = df0[ordered_columns]\n",
                "df1.info()"
            ]
        },
        {
            "cell_type": "code",
            "execution_count": null,
            "metadata": {
                "azdata_cell_guid": "a292ead1-6864-4710-a0d8-77e06d2da491",
                "language": "sql"
            },
            "outputs": [],
            "source": [
                "df1.isna().sum()"
            ]
        },
        {
            "cell_type": "markdown",
            "metadata": {},
            "source": [
                "<a id='1'></a>\n",
                "\n",
                "### **1. Delete countries with a large number of missing values:**"
            ]
        },
        {
            "cell_type": "code",
            "execution_count": null,
            "metadata": {},
            "outputs": [],
            "source": [
                "# List to store names of countries that meet the conditions\n",
                "valid_countries = []\n",
                "\n",
                "# Loop through each unique country to check the conditions\n",
                "for country in df1['Country'].unique():\n",
                "    # Filter the data for the current country\n",
                "    df_country = df1[df1['Country'] == country]\n",
                "    \n",
                "    # Drop columns that are not actual data variables\n",
                "    data_only = df_country.drop(columns=['WEO_Country_Code', 'Country', 'Advanced_Country'])\n",
                "    \n",
                "    # Calculate the overall missing value ratio\n",
                "    overall_missing_ratio = data_only.isnull().mean().mean()\n",
                "    \n",
                "    # Calculate the maximum missing ratio for any single variable\n",
                "    max_missing_per_variable = data_only.isnull().mean().max()\n",
                "    \n",
                "    # If the country meets the criteria, add it to the list\n",
                "    if overall_missing_ratio <= 0.5 and max_missing_per_variable <= 0.8:\n",
                "        valid_countries.append(country)\n",
                "\n",
                "# Create a new DataFrame containing only the accepted countries\n",
                "filtered_df = df1[df1['Country'].isin(valid_countries)].copy()\n",
                "\n",
                "# Display a summary of the new filtered data\n",
                "print(f\"Number of countries selected: {len(valid_countries)}\")\n",
                "print(\"Selected countries:\", valid_countries)\n"
            ]
        },
        {
            "cell_type": "markdown",
            "metadata": {},
            "source": [
                "<a id='2'></a>\n",
                "\n",
                "### **2. Delete years with a large number of missing values:**"
            ]
        },
        {
            "cell_type": "code",
            "execution_count": null,
            "metadata": {},
            "outputs": [],
            "source": [
                "# Get the list of valid countries from the filtered DataFrame\n",
                "countries = filtered_df['Country'].unique()\n",
                "\n",
                "# Set the number of columns in the subplot grid\n",
                "cols = 5\n",
                "rows = math.ceil(len(countries) / cols)  # Calculate number of required rows\n",
                "\n",
                "# Create a figure and axes for subplots\n",
                "fig, axes = plt.subplots(rows, cols, figsize=(cols * 4, rows * 3))\n",
                "axes = axes.flatten()  # Flatten to easily index axes\n",
                "\n",
                "for idx, country in enumerate(countries):\n",
                "    # Filter the DataFrame for the current country\n",
                "    df_country = filtered_df[filtered_df['Country'] == country]\n",
                "\n",
                "    # Drop non-data columns\n",
                "    data_only = df_country.drop(columns=['WEO_Country_Code', 'Country', 'Advanced_Country'])\n",
                "\n",
                "    # Group by 'Year' and calculate missing value ratios for each variable\n",
                "    missing_by_year = data_only.groupby(df_country['Year']) \\\n",
                "                               .apply(lambda x: x.drop(columns=['Year'], errors='ignore').isnull().mean())\n",
                "\n",
                "    # Transpose for heatmap format\n",
                "    missing_by_year = missing_by_year.T\n",
                "\n",
                "    # Plot in the current subplot axis\n",
                "    ax = axes[idx]\n",
                "    sns.heatmap(\n",
                "        missing_by_year,\n",
                "        cmap='YlOrRd',\n",
                "        linewidths=0.3,\n",
                "        linecolor='gray',\n",
                "        cbar=False,  # Hide color bar in each subplot to avoid clutter\n",
                "        ax=ax\n",
                "    )\n",
                "\n",
                "    ax.set_title(country, fontsize=10)\n",
                "    ax.set_xlabel('Year')\n",
                "    ax.set_ylabel('Variables')\n",
                "\n",
                "# Remove any unused axes\n",
                "for j in range(len(countries), len(axes)):\n",
                "    fig.delaxes(axes[j])\n",
                "\n",
                "# Adjust layout\n",
                "plt.tight_layout()\n",
                "plt.show()\n"
            ]
        },
        {
            "cell_type": "code",
            "execution_count": null,
            "metadata": {},
            "outputs": [],
            "source": [
                "filtered_df2 = filtered_df.copy() #[filtered_df.Year.isin(np.arange(2000,2025))]\n",
                "print(filtered_df2.shape)\n",
                "filtered_df2.head()"
            ]
        },
        {
            "cell_type": "code",
            "execution_count": null,
            "metadata": {},
            "outputs": [],
            "source": [
                "filtered_df2.info()"
            ]
        },
        {
            "cell_type": "code",
            "execution_count": null,
            "metadata": {},
            "outputs": [],
            "source": [
                "filtered_df2.isna().sum()"
            ]
        },
        {
            "cell_type": "markdown",
            "metadata": {},
            "source": [
                "<a id='3'></a>\n",
                "\n",
                "### **3. Apply the interpolation to Missing Values:**"
            ]
        },
        {
            "cell_type": "code",
            "execution_count": null,
            "metadata": {},
            "outputs": [],
            "source": [
                "# columns that missing values\n",
                "cols_with_na = filtered_df2.columns[filtered_df2.isnull().any()].tolist()\n",
                "cols_with_na"
            ]
        },
        {
            "cell_type": "code",
            "execution_count": null,
            "metadata": {},
            "outputs": [],
            "source": [
                "# Sort the data by Country and Year (panel structure)\n",
                "df_panel = filtered_df2.sort_values(by=['Country', 'Year']).copy()\n",
                "\n",
                "# Drop non-numeric and identifier columns\n",
                "df_numeric = df_panel.drop(columns=['WEO_Country_Code', 'Country', 'Advanced_Country', 'Year'])\n",
                "\n",
                "# Select numeric columns\n",
                "data_columns = df_numeric.columns\n",
                "data_columns"
            ]
        },
        {
            "cell_type": "code",
            "execution_count": null,
            "metadata": {},
            "outputs": [],
            "source": [
                "from sklearn.experimental import enable_iterative_imputer\n",
                "from sklearn.impute import IterativeImputer\n",
                "from sklearn.linear_model import BayesianRidge\n",
                "\n",
                "# Copy \n",
                "df_panel_b = df_panel.copy()\n",
                "\n",
                "# Handle missing values for each country \n",
                "def handle_missing_country(country):\n",
                "    imputer = IterativeImputer(estimator=BayesianRidge(), max_iter=100, random_state=0, verbose=2)\n",
                "    country[cols_with_na] = imputer.fit_transform(country[cols_with_na])\n",
                "    return country\n",
                "\n",
                "# Apply\n",
                "df_interpolated = df_panel_b.groupby('Country', group_keys=False).apply(handle_missing_country)"
            ]
        },
        {
            "cell_type": "code",
            "execution_count": null,
            "metadata": {},
            "outputs": [],
            "source": [
                "df_interpolated.isna().sum()"
            ]
        },
        {
            "cell_type": "code",
            "execution_count": null,
            "metadata": {},
            "outputs": [],
            "source": [
                "# Select the country\n",
                "country_name = 'Egypt'#'Belarus'  # Change this as needed\n",
                "\n",
                "# Columns to interpolate (already defined earlier)\n",
                "# data_columns = [col for col in filtered_df2.columns if col not in ['WEO_Country_Code', 'Country', 'Advanced_Country', 'Year']]\n",
                "\n",
                "# Filter data before and after interpolation\n",
                "before = filtered_df2[filtered_df2['Country'] == country_name]\n",
                "after = df_interpolated[df_interpolated['Country'] == country_name]\n",
                "\n",
                "# Create subplots\n",
                "n_cols = 3\n",
                "n_rows = (len(data_columns) + n_cols - 1) // n_cols\n",
                "fig, axes = plt.subplots(n_rows, n_cols, figsize=(15, n_rows * 4), constrained_layout=True)\n",
                "\n",
                "for i, col in enumerate(data_columns):\n",
                "    row, col_idx = divmod(i, n_cols)\n",
                "    ax = axes[row, col_idx]\n",
                "\n",
                "    ax.plot(before['Year'], before[col], 'o-', label='Before interpolation', color='red')\n",
                "    ax.plot(after['Year'], after[col], '--', label='After interpolation', color='green')\n",
                "\n",
                "    ax.set_title(f'{col} over Years in {country_name}', fontsize=10)\n",
                "    ax.set_xlabel('Year')\n",
                "    ax.set_ylabel(col)\n",
                "    ax.legend()\n",
                "    ax.grid(True)\n",
                "\n",
                "# Hide any unused subplots\n",
                "for j in range(len(data_columns), n_rows * n_cols):\n",
                "    fig.delaxes(axes.flatten()[j])\n",
                "\n",
                "# Main title\n",
                "plt.suptitle(f'Time Series of All Variables for {country_name} (Before and After Interpolation)', fontsize=14)\n",
                "plt.show()\n"
            ]
        },
        {
            "cell_type": "code",
            "execution_count": null,
            "metadata": {},
            "outputs": [],
            "source": [
                "# Get the unique list of countries in the dataset\n",
                "selected_countries = df_interpolated[\"Country\"].unique()\n",
                "\n",
                "# Display the list of selected countries\n",
                "print(\"Unique countries in dataset:\")\n",
                "print(selected_countries)\n"
            ]
        },
        {
            "cell_type": "code",
            "execution_count": null,
            "metadata": {},
            "outputs": [],
            "source": [
                "df = df_interpolated.copy()\n",
                "\n",
                "# Compute correlation matrices\n",
                "corr_all = df.drop(columns=[\"Country\"]).corr(\"spearman\")\n",
                "corr_dev = df[df[\"Advanced_Country\"] == 0].drop(columns=[\"Country\", \"Advanced_Country\"]).corr(\"spearman\")\n",
                "corr_adv = df[df[\"Advanced_Country\"] == 1].drop(columns=[\"Country\", \"Advanced_Country\"]).corr(\"spearman\")\n",
                "corr_eg = df[df[\"Country\"] == \"Egypt\"].drop(columns=[\"Country\", \"Advanced_Country\"]).corr()\n",
                "corr_us = df[df[\"Country\"] == \"United States\"].drop(columns=[\"Country\", \"Advanced_Country\"]).corr()\n",
                "corr_bz = df[df[\"Country\"] == \"Brazil\"].drop(columns=[\"Country\", \"Advanced_Country\"]).corr()\n",
                "corr_uk = df[df[\"Country\"] == \"United Kingdom\"].drop(columns=[\"Country\", \"Advanced_Country\"]).corr()\n",
                "\n",
                "# List of matrices with titles\n",
                "matrices = [\n",
                "    (\"All Countries\", corr_all),\n",
                "    (\"Developing Countries\", corr_dev),\n",
                "    (\"Advanced Countries\", corr_adv),\n",
                "    (\"Egypt\", corr_eg),\n",
                "    (\"United States\", corr_us),\n",
                "    (\"Brazil\", corr_bz),\n",
                "    (\"United Kingdom\", corr_uk)\n",
                "]\n",
                "\n",
                "# Create figure and gridspec: 3 rows, 2 columns\n",
                "fig = plt.figure(figsize=(29, 27))\n",
                "gs = GridSpec(4, 2, figure=fig)\n",
                "\n",
                "# First heatmap takes full width (row 0, all columns)\n",
                "ax1 = fig.add_subplot(gs[0, :])\n",
                "mask = np.triu(np.ones_like(matrices[0][1], dtype=bool))\n",
                "sns.heatmap(matrices[0][1], mask=mask, annot=True, fmt=\".2f\", cmap=\"coolwarm\", cbar=False, annot_kws={\"size\": 19}, ax=ax1)\n",
                "ax1.set_title(matrices[0][0])\n",
                "\n",
                "# Plot remaining 4 heatmaps in a 2x2 grid (rows 1 and 2, cols 0 and 1)\n",
                "for i, (title, matrix) in enumerate(matrices[1:], start=1):\n",
                "    row = 1 + (i - 1) // 2  # row 1 or 2\n",
                "    col = (i - 1) % 2       # col 0 or 1\n",
                "    ax = fig.add_subplot(gs[row, col])\n",
                "    mask = np.triu(np.ones_like(matrix, dtype=bool))\n",
                "    sns.heatmap(matrix, mask=mask, annot=True, fmt=\".2f\", cmap=\"coolwarm\", cbar=False, annot_kws={\"size\": 17}, ax=ax)\n",
                "    ax.set_title(title)\n",
                "\n",
                "plt.tight_layout()\n",
                "plt.show()\n"
            ]
        },
        {
            "cell_type": "code",
            "execution_count": null,
            "metadata": {},
            "outputs": [],
            "source": [
                "\n",
                "# Reorder columns based on priority to control inflation\n",
                "# (Ensure column names match exactly what exists in your DataFrame)\n",
                "\n",
                "X_vars = [\n",
                "\n",
                "    # 2. Public Finance\n",
                "    \"GGSB_NPGDP\",   # General government structural balance\n",
                "    \"GGXWDG_NGDP\",  # General government gross debt (% of GDP)\n",
                "    \n",
                "    # 3. Economic Output & Productivity & Exchange & Purchasing Power\n",
                "    \"NGDP_RPCH\",    # Real GDP growth (%)\n",
                "    \"PPPPC\",        # GDP per capita based on PPP\n",
                "    \n",
                "    # 4. Exchange & Purchasing Power\n",
                "    \n",
                "    # 5. International Trade & Balance\n",
                "    \"TM_RPCH\",      # Import volume growth\n",
                "    \"BCA_NGDPD\",    # Current account balance (% of GDP)\n",
                "\n",
                "    # 6. Savings & Investment\n",
                "    \"NID_NGDP\"     # Investment (% of GDP)\n",
                "    \n",
                "]\n",
                "\n",
                "# ===============================\n",
                "# Multicollinearity\n",
                "from statsmodels.stats.outliers_influence import variance_inflation_factor\n",
                "X = df_interpolated[X_vars]\n",
                "\n",
                "X_np = X.values\n",
                "\n",
                "vif_data = pd.DataFrame()\n",
                "vif_data[\"feature\"] = X.columns\n",
                "vif_data[\"VIF\"] = [variance_inflation_factor(X_np, i) for i in range(X_np.shape[1])]\n",
                "\n",
                "print(vif_data)"
            ]
        },
        {
            "cell_type": "code",
            "execution_count": null,
            "metadata": {},
            "outputs": [],
            "source": [
                "df_interpolated.info()"
            ]
        },
        {
            "cell_type": "code",
            "execution_count": null,
            "metadata": {},
            "outputs": [],
            "source": [
                "df_interpolated.to_csv(folder_path+\"/../01.3.1-Data_Clean.csv\",index=False)"
            ]
        },
        {
            "cell_type": "markdown",
            "metadata": {},
            "source": [
                "## 2."
            ]
        },
        {
            "cell_type": "code",
            "execution_count": null,
            "metadata": {},
            "outputs": [],
            "source": [
                "# Load the dataset.\n",
                "df = pd.read_csv(\"../02-Dataset/01.3.1-Data_Clean.csv\")\n",
                "\n",
                "### Display Descriptive Statistics\n",
                "df.info()"
            ]
        },
        {
            "cell_type": "code",
            "execution_count": null,
            "metadata": {},
            "outputs": [],
            "source": [
                "df.PCPIPCH.describe().T"
            ]
        },
        {
            "cell_type": "code",
            "execution_count": null,
            "metadata": {},
            "outputs": [],
            "source": [
                "\n",
                "# Compute the mean of PCPIPCH (Inflation Rate) for each country\n",
                "mean_by_country = df.groupby(\"Country\")[\"PCPIPCH\"].mean().sort_values(ascending=False)\n",
                "\n",
                "# Select the countries with the highest inflation fluctuation (mean)\n",
                "top_fluctuating_countries = mean_by_country[mean_by_country > (df.PCPIPCH.quantile(0.75) + ((df.PCPIPCH.quantile(0.75) - df.PCPIPCH.quantile(0.25))*1.5))]\n",
                "print(\"Countries with highest inflation rate fluctuations (mean):\")\n",
                "print(top_fluctuating_countries)\n"
            ]
        },
        {
            "cell_type": "code",
            "execution_count": null,
            "metadata": {},
            "outputs": [],
            "source": [
                "\n",
                "# Compute the standard deviation of PCPIPCH (Inflation Rate) for each country\n",
                "std_by_country = df.groupby(\"Country\")[\"PCPIPCH\"].std().sort_values(ascending=False)\n",
                "\n",
                "# Select the countries with the highest inflation fluctuation (standard deviation)\n",
                "top_fluctuating_countries = std_by_country[std_by_country > (df.PCPIPCH.quantile(0.75) + ((df.PCPIPCH.quantile(0.75) - df.PCPIPCH.quantile(0.25))*1.5))]\n",
                "print(\"Countries with highest inflation rate fluctuations (standard deviation):\")\n",
                "print(top_fluctuating_countries)\n",
                "\n"
            ]
        },
        {
            "cell_type": "code",
            "execution_count": null,
            "metadata": {},
            "outputs": [],
            "source": [
                "top_fluctuating_countries = std_by_country.head(6)\n",
                "print(\"Countries with highest inflation rate fluctuations (standard deviation):\")\n",
                "print(top_fluctuating_countries)\n"
            ]
        },
        {
            "cell_type": "code",
            "execution_count": null,
            "metadata": {},
            "outputs": [],
            "source": [
                "# Filter the original DataFrame to include only these top fluctuating countries\n",
                "df_std = df[df['Country'].isin(top_fluctuating_countries.index.to_list())]\n",
                "df_std.info()"
            ]
        },
        {
            "cell_type": "code",
            "execution_count": null,
            "metadata": {},
            "outputs": [],
            "source": [
                "# Line+Point plot  for each country\n",
                "g = sns.FacetGrid(df_std, col=\"Country\", col_wrap=4, height=3, sharey=False)\n",
                "g.map_dataframe(sns.scatterplot, x=\"Year\", y=\"PCPIPCH\")\n",
                "g.map_dataframe(sns.lineplot, x=\"Year\", y=\"PCPIPCH\", color=\"orange\")\n",
                "g.fig.suptitle(\"PCPIPCH over Years per Country\", y=1.03)\n",
                "plt.show()"
            ]
        },
        {
            "cell_type": "code",
            "execution_count": null,
            "metadata": {},
            "outputs": [],
            "source": [
                "# === Smoothed scatter plot ===\n",
                "# Scatter with smoothing line per country\n",
                "sns.lmplot(\n",
                "    data=df_std,\n",
                "    x=\"Year\", y=\"PCPIPCH\",\n",
                "    hue=\"Country\", col=\"Country\", col_wrap=4,\n",
                "    height=3, aspect=1, lowess=True, scatter_kws={\"s\": 20}\n",
                ")\n",
                "plt.suptitle(\"Smoothed Scatter: PCPIPCH over Years\", y=1.03)\n",
                "plt.show()\n",
                "\n",
                "# === Plot means by Country and by Year ===\n",
                "\n",
                "# Mean plot by Country\n",
                "mean_country = top_fluctuating_countries\n",
                "plt.figure(figsize=(10,5))\n",
                "mean_country.plot(kind='bar', title=\"Heterogeneity across countries\")\n",
                "plt.ylabel(\"Mean PCPIPCH\")\n",
                "plt.xticks(rotation=45)\n",
                "plt.tight_layout()\n",
                "plt.show()\n",
                "\n"
            ]
        },
        {
            "cell_type": "code",
            "execution_count": null,
            "metadata": {},
            "outputs": [],
            "source": [
                "\n",
                "# Display the unique countries to confirm selection\n",
                "print(\"Selected countries for panel analysis:\", df_std[\"Country\"].unique())\n",
                "\n",
                "# Scatter with lowess smoothing\n",
                "plt.figure(figsize=(12, 8))\n",
                "for country in df_std[\"Country\"].unique():\n",
                "    data = df_std[df_std[\"Country\"] == country]\n",
                "    plt.scatter(data[\"Year\"], data[\"PCPIPCH\"], alpha=0.5, label=country)\n",
                "    # LOWESS smoothing\n",
                "    smoothed = lowess(data[\"PCPIPCH\"], data[\"Year\"], frac=0.)\n",
                "    plt.plot(smoothed[:, 0], smoothed[:, 1], linewidth=2)\n",
                "\n",
                "plt.xlabel(\"Year\")\n",
                "plt.ylabel(\"Inflation Rate (PCPIPCH)\")\n",
                "plt.title(\"Inflation Scatter with LOWESS Smoothing by Country\")\n",
                "plt.legend(bbox_to_anchor=(1.05, 1), loc=\"upper left\")\n",
                "plt.tight_layout()\n",
                "plt.show()\n"
            ]
        },
        {
            "cell_type": "markdown",
            "metadata": {},
            "source": []
        },
        {
            "cell_type": "code",
            "execution_count": null,
            "metadata": {},
            "outputs": [],
            "source": [
                "df_cleaned = df[~df[\"Country\"].isin(top_fluctuating_countries.index.to_list())].copy()\n",
                "df_cleaned.PCPIPCH.describe().T"
            ]
        },
        {
            "cell_type": "code",
            "execution_count": null,
            "metadata": {},
            "outputs": [],
            "source": [
                "df_cleaned.Country.value_counts()"
            ]
        },
        {
            "cell_type": "code",
            "execution_count": null,
            "metadata": {},
            "outputs": [],
            "source": [
                "df_cleaned.info()"
            ]
        },
        {
            "cell_type": "code",
            "execution_count": null,
            "metadata": {},
            "outputs": [],
            "source": [
                "df_cleaned.to_csv(folder_path+\"/../01.4.1-Data_Clean.csv\",index=False)"
            ]
        },
        {
            "cell_type": "markdown",
            "metadata": {
                "azdata_cell_guid": "0a1e4ca3-2665-4d75-b969-1c56cb509040"
            },
            "source": [
                "# **END**"
            ]
        }
    ],
    "metadata": {
        "hide_input": false,
        "kernelspec": {
            "display_name": "base",
            "language": "python",
            "name": "python3"
        },
        "language_info": {
            "codemirror_mode": {
                "name": "ipython",
                "version": 3
            },
            "file_extension": ".py",
            "mimetype": "text/x-python",
            "name": "python",
            "nbconvert_exporter": "python",
            "pygments_lexer": "ipython3",
            "version": "3.12.7"
        }
    },
    "nbformat": 4,
    "nbformat_minor": 2
}
