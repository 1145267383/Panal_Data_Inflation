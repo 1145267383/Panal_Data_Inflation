{
    "cells": [
        {
            "cell_type": "markdown",
            "metadata": {
                "azdata_cell_guid": "70d09cdf-17ef-4796-a9de-5e457fe84246"
            },
            "source": [
                "## **Project: Study On Panel Data Methodologies With Application To Macroeconometrics (Inflation Forecasting)**.\n",
                "\n",
                "> ### **Title**: Merge of Dataset.\n",
                "\n",
                "\n",
                "#### **Table of Contents:**\n",
                "<ul>\n",
                "<li><a href=\"#1\">1. .</a></li>\n",
                "<li><a href=\"#2\">2. .</a></li>\n",
                "<li><a href=\"#3\">3. .</a></li>\n",
                "</ul>"
            ]
        },
        {
            "cell_type": "markdown",
            "metadata": {},
            "source": [
                "<a id=''></a>\n",
                "\n",
                "#### Dataset Description and Variable Overview:\n",
                "\n",
                "---\n",
                "\n",
                "> #### **Inflation & Price Stability**\n",
                "\n",
                "| **Variable Code** | **Description**                                    | **Units**                                         |\n",
                "| ----------------- | -------------------------------------------------- | ------------------------------------------------- |\n",
                "| **PCPIPCH**       | Inflation, average consumer prices `(Target)`      | Percent change                                    |\n",
                "\n",
                "---\n",
                "\n",
                "> #### **Public Finance**\n",
                "| **Variable Code** | **Description**                                    | **Units**                                         |\n",
                "| ----------------- | -------------------------------------------------- | ------------------------------------------------- |\n",
                "| GGSB_NPGDP        | General government structural balance              | Percent of potential GDP                          |\n",
                "| GGXWDG_NGDP       | General government gross debt                      | Percent of GDP                                    |\n",
                "\n",
                "---\n",
                "\n",
                "\n",
                "> #### **Economic Output & Productivity**\n",
                "| **Variable Code** | **Description**                                    | **Units**                                         |\n",
                "| ----------------- | -------------------------------------------------- | ------------------------------------------------- |\n",
                "| PPPPC             | Gross domestic product per capita, current prices  | Purchasing power parity; international dollars    |\n",
                "\n",
                "---\n",
                "\n",
                "> #### **International Trade & Balance**\n",
                "| **Variable Code** | **Description**                                    | **Units**                                         |\n",
                "| ----------------- | -------------------------------------------------- | ------------------------------------------------- |\n",
                "| TX_RPCH           | Volume of exports of goods and services            | Percent change                                    |\n",
                "| TM_RPCH           | Volume of imports of goods and services            | Percent change                                    |\n",
                "---\n",
                "\n",
                "> #### **Savings & Investment **\n",
                "| **Variable Code** | **Description**                                    | **Units**                                         |\n",
                "| ----------------- | -------------------------------------------------- | ------------------------------------------------- |\n",
                "| NID_NGDP          | Total investment                                   | Percent of GDP                                    |\n",
                "\n",
                "---\n",
                "\n",
                "> #### **Country Metadata**\n",
                "\n",
                "| **Variable Code** | **Description**                                    | **Units**                                         |\n",
                "| ----------------- | -------------------------------------------------- | ------------------------------------------------- |\n",
                "| Country_Code      | ID number for each country                         | ID                                                |\n",
                "| Country           | Name of 70 countries                               | String                                            |\n",
                "| Advanced_Country  | Is the country developed (1) or developing (0)?    | Boolean                                           |\n",
                "| Years             | date from 2000 to 2024                             | Date                                              |\n",
                "\n",
                "---"
            ]
        },
        {
            "cell_type": "markdown",
            "metadata": {},
            "source": []
        },
        {
            "cell_type": "markdown",
            "metadata": {},
            "source": [
                "\n",
                "#### **1. Inflation & Price Stability (التضخم واستقرار الأسعار)**\n",
                "\n",
                "| Variable Code    | Term             | التفسير |                تأثيره على التضخم                                            |\n",
                "| ---------------- | ---------------- | --------------------------------- | --------------------------------------------------- |\n",
                "| **PCPIPCH**   | Inflation (CPI) | معدل التضخم بناءً على متوسط أسعار المستهلكين؛ مؤشر رئيسي لاستقرار الأسعار. | المتغير الهدف، ويقيس بشكل مباشر مدى ارتفاع الأسعار. |\n",
                "\n",
                "---\n",
                "\n",
                "#### **2. Public Finance (المالية العامة)**\n",
                "\n",
                "| Variable Code    | Term             | التفسير |                تأثيره على التضخم                                            |\n",
                "| ---------------- | ---------------- | --------------------------------- | --------------------------------------------------- |\n",
                "| **GGSB_NPGDP**  | Structural Budget Balance         | الميزان الهيكلي بعد خصم أثر الدورة الاقتصادية.                         | الفائض الهيكلي يُعتبر إشارة إلى سياسة مالية انكماشية تقلل من التضخم.      |\n",
                "| **GGXWDG_NGDP** | Gross Government Debt (% of GDP)  | الدين العام كنسبة من الناتج؛ يعكس عبء الحكومة المالي.                  | ارتفاع الدين قد يُجبر الحكومة على التوسع النقدي مستقبلاً مما يزيد التضخم. |\n",
                "\n",
                "\n",
                "---\n",
                "\n",
                "\n",
                "#### **3. Economic Output & Productivity (الإنتاجية والناتج الاقتصادي)**\n",
                "\n",
                "| Variable Code    | Term             | التفسير |                تأثيره على التضخم                                            |\n",
                "| ---------------- | ---------------- | --------------------------------- | --------------------------------------------------- |\n",
                "| **PPPPC**      | GDP per Capita (PPP)   | نصيب الفرد من الناتج باستخدام تعادل القوة الشرائية.             | ارتفاعه يشير إلى قدرة شرائية أعلى، ما قد يدفع بالأسعار إلى الارتفاع.               |\n",
                "\n",
                "---\n",
                "\n",
                "\n",
                "#### **4. International Trade & Balance (التجارة الدولية والحساب الجاري)**\n",
                "\n",
                "| Variable Code    | Term             | التفسير |                تأثيره على التضخم                                            |\n",
                "| ---------------- | ---------------- | --------------------------------- | --------------------------------------------------- |\n",
                "| **TX_RPCH**   | Export Volume Growth            | نمو حجم الصادرات.                   | زيادة الصادرات قد تقلل المعروض المحلي وترفع الأسعار.                |\n",
                "| **TM_RPCH**   | Import Volume Growth            | نمو حجم الواردات.                   | زيادة الواردات توفر بدائل أرخص وتقلل من التضخم.                     |\n",
                "\n",
                "---\n",
                "\n",
                "#### **5. Savings & Investment (الادخار والاستثمار)**\n",
                "\n",
                "| Variable Code    | Term             | التفسير |                تأثيره على التضخم                                            |\n",
                "| ---------------- | ---------------- | --------------------------------- | --------------------------------------------------- |\n",
                "| **NID_NGDP**  | Gross Capital Formation | الاستثمار الإجمالي كنسبة من الناتج. | استثمار أكبر قد يرفع الإنتاج في الأجل الطويل مما يقلل التضخم. |\n",
                "\n",
                "---\n",
                "\n",
                "#### **6. Country Metadata (بيانات الدول)**\n",
                "\n",
                "| Variable Code    | Term             | التفسير |                تأثيره على التضخم                                            |\n",
                "| ---------------- | ---------------- | --------------------------------- | --------------------------------------------------- |\n",
                "| **Country_Code**     | Country ID         | معرف رقمي فريد لكل دولة. | -                 |\n",
                "| **Country**           | Country Name       | اسم الدولة.              | -                 |\n",
                "| **Advanced_Country** | Development Status | متقدمة (1) أو نامية (0). | -                 |\n",
                "| **Years**             | Year               | السنة ما بين 2000 و2024. | -                 |\n",
                "\n",
                "---\n",
                "\n"
            ]
        },
        {
            "cell_type": "markdown",
            "metadata": {},
            "source": []
        },
        {
            "cell_type": "code",
            "execution_count": 1,
            "metadata": {},
            "outputs": [],
            "source": [
                "# install \n",
                "#!pip install pandas linearmodels statsmodels  pydynpd\n"
            ]
        },
        {
            "cell_type": "markdown",
            "metadata": {
                "azdata_cell_guid": "2a1b7248-0b53-45b6-ad95-efa0cb002705"
            },
            "source": [
                "**Import Library**"
            ]
        },
        {
            "cell_type": "code",
            "execution_count": 48,
            "metadata": {
                "azdata_cell_guid": "93c6991b-cad5-4222-a2fe-f38fcc5eb109",
                "language": "sql"
            },
            "outputs": [],
            "source": [
                "import os\n",
                "import numpy as np\n",
                "import pandas as pd\n",
                "import matplotlib.pyplot as plt\n",
                "import seaborn as sns \n",
                "import math\n",
                "\n",
                "import statsmodels.api as sm\n",
                "from linearmodels import  OLS\n",
                "from linearmodels.panel import PanelOLS, RandomEffects,PooledOLS\n",
                "\n",
                "from linearmodels.panel import compare\n",
                "from statsmodels.tsa.stattools import adfuller\n",
                "from scipy.stats import chi2\n",
                "from sklearn.metrics import mean_squared_error, r2_score\n",
                "from statsmodels.stats.diagnostic import het_breuschpagan, acorr_breusch_godfrey, het_white\n",
                "\n",
                "from sklearn.model_selection import train_test_split\n",
                "from sklearn.preprocessing import StandardScaler, OneHotEncoder\n",
                "from sklearn.compose import ColumnTransformer\n",
                "from sklearn.pipeline import Pipeline\n",
                "from sklearn.ensemble import RandomForestRegressor\n",
                "import xgboost as xgb\n",
                "from statsmodels.regression.mixed_linear_model import MixedLM\n",
                "\n",
                "\n",
                "sns.set(rc={'figure.figsize': [15,5]}, font_scale=1.2);\n",
                "pd.set_option('future.no_silent_downcasting', True)\n"
            ]
        },
        {
            "cell_type": "markdown",
            "metadata": {
                "azdata_cell_guid": "c88765c0-100d-4621-9753-942ba8737d28"
            },
            "source": [
                "**Load Dataset**"
            ]
        },
        {
            "cell_type": "code",
            "execution_count": 78,
            "metadata": {
                "azdata_cell_guid": "4fd6e3d9-616d-4039-b3b2-eaf457d22711",
                "language": "sql"
            },
            "outputs": [
                {
                    "name": "stdout",
                    "output_type": "stream",
                    "text": [
                        "(2925, 11)\n"
                    ]
                },
                {
                    "data": {
                        "application/vnd.microsoft.datawrangler.viewer.v0+json": {
                            "columns": [
                                {
                                    "name": "index",
                                    "rawType": "int64",
                                    "type": "integer"
                                },
                                {
                                    "name": "WEO_Country_Code",
                                    "rawType": "int64",
                                    "type": "integer"
                                },
                                {
                                    "name": "Country",
                                    "rawType": "object",
                                    "type": "string"
                                },
                                {
                                    "name": "Advanced_Country",
                                    "rawType": "int64",
                                    "type": "integer"
                                },
                                {
                                    "name": "Year",
                                    "rawType": "int64",
                                    "type": "integer"
                                },
                                {
                                    "name": "PCPIPCH",
                                    "rawType": "float64",
                                    "type": "float"
                                },
                                {
                                    "name": "GGSB_NPGDP",
                                    "rawType": "float64",
                                    "type": "float"
                                },
                                {
                                    "name": "GGXWDG_NGDP",
                                    "rawType": "float64",
                                    "type": "float"
                                },
                                {
                                    "name": "PPPPC",
                                    "rawType": "float64",
                                    "type": "float"
                                },
                                {
                                    "name": "TX_RPCH",
                                    "rawType": "float64",
                                    "type": "float"
                                },
                                {
                                    "name": "TM_RPCH",
                                    "rawType": "float64",
                                    "type": "float"
                                },
                                {
                                    "name": "NID_NGDP",
                                    "rawType": "float64",
                                    "type": "float"
                                }
                            ],
                            "ref": "6ec2e072-2308-427c-af56-7b9bff2729e2",
                            "rows": [
                                [
                                    "0",
                                    "193",
                                    "Australia",
                                    "1",
                                    "1980",
                                    "10.136",
                                    "-0.2769863977090206",
                                    "9.396714316196068",
                                    "10277.787",
                                    "-0.915",
                                    "4.997",
                                    "27.139"
                                ],
                                [
                                    "1",
                                    "193",
                                    "Australia",
                                    "1",
                                    "1981",
                                    "9.488",
                                    "0.3266790954974317",
                                    "5.183461973419867",
                                    "11529.563",
                                    "-3.403",
                                    "10.042",
                                    "28.897"
                                ],
                                [
                                    "2",
                                    "193",
                                    "Australia",
                                    "1",
                                    "1982",
                                    "11.352",
                                    "-0.2234347461285988",
                                    "14.483242474969444",
                                    "12049.62",
                                    "8.771",
                                    "5.46",
                                    "26.502"
                                ],
                                [
                                    "3",
                                    "193",
                                    "Australia",
                                    "1",
                                    "1983",
                                    "10.039",
                                    "-2.3088319164783107",
                                    "18.71508892651688",
                                    "12305.539",
                                    "-4.36",
                                    "-9.819",
                                    "23.062"
                                ],
                                [
                                    "4",
                                    "193",
                                    "Australia",
                                    "1",
                                    "1984",
                                    "3.96",
                                    "0.5929631591744307",
                                    "18.584186196663232",
                                    "13391.167",
                                    "16.092",
                                    "22.058",
                                    "26.734"
                                ]
                            ],
                            "shape": {
                                "columns": 11,
                                "rows": 5
                            }
                        },
                        "text/html": [
                            "<div>\n",
                            "<style scoped>\n",
                            "    .dataframe tbody tr th:only-of-type {\n",
                            "        vertical-align: middle;\n",
                            "    }\n",
                            "\n",
                            "    .dataframe tbody tr th {\n",
                            "        vertical-align: top;\n",
                            "    }\n",
                            "\n",
                            "    .dataframe thead th {\n",
                            "        text-align: right;\n",
                            "    }\n",
                            "</style>\n",
                            "<table border=\"1\" class=\"dataframe\">\n",
                            "  <thead>\n",
                            "    <tr style=\"text-align: right;\">\n",
                            "      <th></th>\n",
                            "      <th>WEO_Country_Code</th>\n",
                            "      <th>Country</th>\n",
                            "      <th>Advanced_Country</th>\n",
                            "      <th>Year</th>\n",
                            "      <th>PCPIPCH</th>\n",
                            "      <th>GGSB_NPGDP</th>\n",
                            "      <th>GGXWDG_NGDP</th>\n",
                            "      <th>PPPPC</th>\n",
                            "      <th>TX_RPCH</th>\n",
                            "      <th>TM_RPCH</th>\n",
                            "      <th>NID_NGDP</th>\n",
                            "    </tr>\n",
                            "  </thead>\n",
                            "  <tbody>\n",
                            "    <tr>\n",
                            "      <th>0</th>\n",
                            "      <td>193</td>\n",
                            "      <td>Australia</td>\n",
                            "      <td>1</td>\n",
                            "      <td>1980</td>\n",
                            "      <td>10.136</td>\n",
                            "      <td>-0.276986</td>\n",
                            "      <td>9.396714</td>\n",
                            "      <td>10277.787</td>\n",
                            "      <td>-0.915</td>\n",
                            "      <td>4.997</td>\n",
                            "      <td>27.139</td>\n",
                            "    </tr>\n",
                            "    <tr>\n",
                            "      <th>1</th>\n",
                            "      <td>193</td>\n",
                            "      <td>Australia</td>\n",
                            "      <td>1</td>\n",
                            "      <td>1981</td>\n",
                            "      <td>9.488</td>\n",
                            "      <td>0.326679</td>\n",
                            "      <td>5.183462</td>\n",
                            "      <td>11529.563</td>\n",
                            "      <td>-3.403</td>\n",
                            "      <td>10.042</td>\n",
                            "      <td>28.897</td>\n",
                            "    </tr>\n",
                            "    <tr>\n",
                            "      <th>2</th>\n",
                            "      <td>193</td>\n",
                            "      <td>Australia</td>\n",
                            "      <td>1</td>\n",
                            "      <td>1982</td>\n",
                            "      <td>11.352</td>\n",
                            "      <td>-0.223435</td>\n",
                            "      <td>14.483242</td>\n",
                            "      <td>12049.620</td>\n",
                            "      <td>8.771</td>\n",
                            "      <td>5.460</td>\n",
                            "      <td>26.502</td>\n",
                            "    </tr>\n",
                            "    <tr>\n",
                            "      <th>3</th>\n",
                            "      <td>193</td>\n",
                            "      <td>Australia</td>\n",
                            "      <td>1</td>\n",
                            "      <td>1983</td>\n",
                            "      <td>10.039</td>\n",
                            "      <td>-2.308832</td>\n",
                            "      <td>18.715089</td>\n",
                            "      <td>12305.539</td>\n",
                            "      <td>-4.360</td>\n",
                            "      <td>-9.819</td>\n",
                            "      <td>23.062</td>\n",
                            "    </tr>\n",
                            "    <tr>\n",
                            "      <th>4</th>\n",
                            "      <td>193</td>\n",
                            "      <td>Australia</td>\n",
                            "      <td>1</td>\n",
                            "      <td>1984</td>\n",
                            "      <td>3.960</td>\n",
                            "      <td>0.592963</td>\n",
                            "      <td>18.584186</td>\n",
                            "      <td>13391.167</td>\n",
                            "      <td>16.092</td>\n",
                            "      <td>22.058</td>\n",
                            "      <td>26.734</td>\n",
                            "    </tr>\n",
                            "  </tbody>\n",
                            "</table>\n",
                            "</div>"
                        ],
                        "text/plain": [
                            "   WEO_Country_Code    Country  Advanced_Country  Year  PCPIPCH  GGSB_NPGDP  \\\n",
                            "0               193  Australia                 1  1980   10.136   -0.276986   \n",
                            "1               193  Australia                 1  1981    9.488    0.326679   \n",
                            "2               193  Australia                 1  1982   11.352   -0.223435   \n",
                            "3               193  Australia                 1  1983   10.039   -2.308832   \n",
                            "4               193  Australia                 1  1984    3.960    0.592963   \n",
                            "\n",
                            "   GGXWDG_NGDP      PPPPC  TX_RPCH  TM_RPCH  NID_NGDP  \n",
                            "0     9.396714  10277.787   -0.915    4.997    27.139  \n",
                            "1     5.183462  11529.563   -3.403   10.042    28.897  \n",
                            "2    14.483242  12049.620    8.771    5.460    26.502  \n",
                            "3    18.715089  12305.539   -4.360   -9.819    23.062  \n",
                            "4    18.584186  13391.167   16.092   22.058    26.734  "
                        ]
                    },
                    "metadata": {},
                    "output_type": "display_data"
                }
            ],
            "source": [
                "df = pd.read_csv(\"../02-Dataset/01.4-Data_Clean.csv\")\n",
                "print(df.shape)\n",
                "display(df.head())"
            ]
        },
        {
            "cell_type": "code",
            "execution_count": 79,
            "metadata": {},
            "outputs": [
                {
                    "name": "stdout",
                    "output_type": "stream",
                    "text": [
                        "<class 'pandas.core.frame.DataFrame'>\n",
                        "RangeIndex: 2925 entries, 0 to 2924\n",
                        "Data columns (total 10 columns):\n",
                        " #   Column            Non-Null Count  Dtype  \n",
                        "---  ------            --------------  -----  \n",
                        " 0   Country           2925 non-null   object \n",
                        " 1   Advanced_Country  2925 non-null   int64  \n",
                        " 2   Year              2925 non-null   int64  \n",
                        " 3   PCPIPCH           2925 non-null   float64\n",
                        " 4   GGSB_NPGDP        2925 non-null   float64\n",
                        " 5   GGXWDG_NGDP       2925 non-null   float64\n",
                        " 6   PPPPC             2925 non-null   float64\n",
                        " 7   TX_RPCH           2925 non-null   float64\n",
                        " 8   TM_RPCH           2925 non-null   float64\n",
                        " 9   NID_NGDP          2925 non-null   float64\n",
                        "dtypes: float64(7), int64(2), object(1)\n",
                        "memory usage: 228.6+ KB\n"
                    ]
                }
            ],
            "source": [
                "df.drop(columns=[ \"WEO_Country_Code\"],inplace=True)\n",
                "df.info()"
            ]
        },
        {
            "cell_type": "code",
            "execution_count": 80,
            "metadata": {},
            "outputs": [],
            "source": [
                "# # df.PCPIPCH = ((df.PCPIPCH - df.PCPIPCH.min()) / df.PCPIPCH.max())\n",
                "# # df.PCPIPCH = np.log((df.PCPIPCH+1) + df.PCPIPCH.mean())\n",
                "# # df.PCPIPCH = np.log((df.PCPIPCH+1) - df.PCPIPCH.min())\n",
                "# #df.PCPIPCH = np.log(np.abs(df.PCPIPCH))\n",
                "\n",
                "# df[\"PCPIPCH\"] = df.groupby(\"Country\")[\"PCPIPCH\"].transform( lambda x: np.log((x+1) - x.min() ))\n",
                "\n",
                "\n",
                "# df.PCPIPCH.describe()\n",
                " "
            ]
        },
        {
            "cell_type": "markdown",
            "metadata": {},
            "source": [
                "<a id='1'></a>\n",
                "\n",
                "### **1. :**"
            ]
        },
        {
            "cell_type": "code",
            "execution_count": 81,
            "metadata": {},
            "outputs": [
                {
                    "data": {
                        "application/vnd.microsoft.datawrangler.viewer.v0+json": {
                            "columns": [
                                {
                                    "name": "('Country', 'Year')",
                                    "rawType": "object",
                                    "type": "unknown"
                                },
                                {
                                    "name": "Advanced_Country",
                                    "rawType": "int64",
                                    "type": "integer"
                                },
                                {
                                    "name": "PCPIPCH",
                                    "rawType": "float64",
                                    "type": "float"
                                },
                                {
                                    "name": "GGSB_NPGDP",
                                    "rawType": "float64",
                                    "type": "float"
                                },
                                {
                                    "name": "GGXWDG_NGDP",
                                    "rawType": "float64",
                                    "type": "float"
                                },
                                {
                                    "name": "PPPPC",
                                    "rawType": "float64",
                                    "type": "float"
                                },
                                {
                                    "name": "TX_RPCH",
                                    "rawType": "float64",
                                    "type": "float"
                                },
                                {
                                    "name": "TM_RPCH",
                                    "rawType": "float64",
                                    "type": "float"
                                },
                                {
                                    "name": "NID_NGDP",
                                    "rawType": "float64",
                                    "type": "float"
                                },
                                {
                                    "name": "Advanced_Country_lag",
                                    "rawType": "float64",
                                    "type": "float"
                                },
                                {
                                    "name": "PCPIPCH_lag",
                                    "rawType": "float64",
                                    "type": "float"
                                },
                                {
                                    "name": "GGSB_NPGDP_lag",
                                    "rawType": "float64",
                                    "type": "float"
                                },
                                {
                                    "name": "GGXWDG_NGDP_lag",
                                    "rawType": "float64",
                                    "type": "float"
                                },
                                {
                                    "name": "PPPPC_lag",
                                    "rawType": "float64",
                                    "type": "float"
                                },
                                {
                                    "name": "TX_RPCH_lag",
                                    "rawType": "float64",
                                    "type": "float"
                                },
                                {
                                    "name": "TM_RPCH_lag",
                                    "rawType": "float64",
                                    "type": "float"
                                },
                                {
                                    "name": "NID_NGDP_lag",
                                    "rawType": "float64",
                                    "type": "float"
                                }
                            ],
                            "ref": "5a98663e-a068-4492-98cf-e20842ddcaf5",
                            "rows": [
                                [
                                    "('Australia', 1980)",
                                    "1",
                                    "10.136",
                                    "-0.2769863977090206",
                                    "9.396714316196068",
                                    "10277.787",
                                    "-0.915",
                                    "4.997",
                                    "27.139",
                                    "1.0",
                                    "10.136",
                                    "-0.2769863977090206",
                                    "9.396714316196068",
                                    "10277.787",
                                    "-0.915",
                                    "4.997",
                                    "27.139"
                                ],
                                [
                                    "('Australia', 1981)",
                                    "1",
                                    "9.488",
                                    "0.3266790954974317",
                                    "5.183461973419867",
                                    "11529.563",
                                    "-3.403",
                                    "10.042",
                                    "28.897",
                                    "1.0",
                                    "10.136",
                                    "-0.2769863977090206",
                                    "9.396714316196068",
                                    "10277.787",
                                    "-0.915",
                                    "4.997",
                                    "27.139"
                                ],
                                [
                                    "('Australia', 1982)",
                                    "1",
                                    "11.352",
                                    "-0.2234347461285988",
                                    "14.483242474969444",
                                    "12049.62",
                                    "8.771",
                                    "5.46",
                                    "26.502",
                                    "1.0",
                                    "9.488",
                                    "0.3266790954974317",
                                    "5.183461973419867",
                                    "11529.563",
                                    "-3.403",
                                    "10.042",
                                    "28.897"
                                ],
                                [
                                    "('Australia', 1983)",
                                    "1",
                                    "10.039",
                                    "-2.3088319164783107",
                                    "18.71508892651688",
                                    "12305.539",
                                    "-4.36",
                                    "-9.819",
                                    "23.062",
                                    "1.0",
                                    "11.352",
                                    "-0.2234347461285988",
                                    "14.483242474969444",
                                    "12049.62",
                                    "8.771",
                                    "5.46",
                                    "26.502"
                                ],
                                [
                                    "('Australia', 1984)",
                                    "1",
                                    "3.96",
                                    "0.5929631591744307",
                                    "18.584186196663232",
                                    "13391.167",
                                    "16.092",
                                    "22.058",
                                    "26.734",
                                    "1.0",
                                    "10.039",
                                    "-2.3088319164783107",
                                    "18.71508892651688",
                                    "12305.539",
                                    "-4.36",
                                    "-9.819",
                                    "23.062"
                                ]
                            ],
                            "shape": {
                                "columns": 16,
                                "rows": 5
                            }
                        },
                        "text/html": [
                            "<div>\n",
                            "<style scoped>\n",
                            "    .dataframe tbody tr th:only-of-type {\n",
                            "        vertical-align: middle;\n",
                            "    }\n",
                            "\n",
                            "    .dataframe tbody tr th {\n",
                            "        vertical-align: top;\n",
                            "    }\n",
                            "\n",
                            "    .dataframe thead th {\n",
                            "        text-align: right;\n",
                            "    }\n",
                            "</style>\n",
                            "<table border=\"1\" class=\"dataframe\">\n",
                            "  <thead>\n",
                            "    <tr style=\"text-align: right;\">\n",
                            "      <th></th>\n",
                            "      <th></th>\n",
                            "      <th>Advanced_Country</th>\n",
                            "      <th>PCPIPCH</th>\n",
                            "      <th>GGSB_NPGDP</th>\n",
                            "      <th>GGXWDG_NGDP</th>\n",
                            "      <th>PPPPC</th>\n",
                            "      <th>TX_RPCH</th>\n",
                            "      <th>TM_RPCH</th>\n",
                            "      <th>NID_NGDP</th>\n",
                            "      <th>Advanced_Country_lag</th>\n",
                            "      <th>PCPIPCH_lag</th>\n",
                            "      <th>GGSB_NPGDP_lag</th>\n",
                            "      <th>GGXWDG_NGDP_lag</th>\n",
                            "      <th>PPPPC_lag</th>\n",
                            "      <th>TX_RPCH_lag</th>\n",
                            "      <th>TM_RPCH_lag</th>\n",
                            "      <th>NID_NGDP_lag</th>\n",
                            "    </tr>\n",
                            "    <tr>\n",
                            "      <th>Country</th>\n",
                            "      <th>Year</th>\n",
                            "      <th></th>\n",
                            "      <th></th>\n",
                            "      <th></th>\n",
                            "      <th></th>\n",
                            "      <th></th>\n",
                            "      <th></th>\n",
                            "      <th></th>\n",
                            "      <th></th>\n",
                            "      <th></th>\n",
                            "      <th></th>\n",
                            "      <th></th>\n",
                            "      <th></th>\n",
                            "      <th></th>\n",
                            "      <th></th>\n",
                            "      <th></th>\n",
                            "      <th></th>\n",
                            "    </tr>\n",
                            "  </thead>\n",
                            "  <tbody>\n",
                            "    <tr>\n",
                            "      <th rowspan=\"5\" valign=\"top\">Australia</th>\n",
                            "      <th>1980</th>\n",
                            "      <td>1</td>\n",
                            "      <td>10.136</td>\n",
                            "      <td>-0.276986</td>\n",
                            "      <td>9.396714</td>\n",
                            "      <td>10277.787</td>\n",
                            "      <td>-0.915</td>\n",
                            "      <td>4.997</td>\n",
                            "      <td>27.139</td>\n",
                            "      <td>1.0</td>\n",
                            "      <td>10.136</td>\n",
                            "      <td>-0.276986</td>\n",
                            "      <td>9.396714</td>\n",
                            "      <td>10277.787</td>\n",
                            "      <td>-0.915</td>\n",
                            "      <td>4.997</td>\n",
                            "      <td>27.139</td>\n",
                            "    </tr>\n",
                            "    <tr>\n",
                            "      <th>1981</th>\n",
                            "      <td>1</td>\n",
                            "      <td>9.488</td>\n",
                            "      <td>0.326679</td>\n",
                            "      <td>5.183462</td>\n",
                            "      <td>11529.563</td>\n",
                            "      <td>-3.403</td>\n",
                            "      <td>10.042</td>\n",
                            "      <td>28.897</td>\n",
                            "      <td>1.0</td>\n",
                            "      <td>10.136</td>\n",
                            "      <td>-0.276986</td>\n",
                            "      <td>9.396714</td>\n",
                            "      <td>10277.787</td>\n",
                            "      <td>-0.915</td>\n",
                            "      <td>4.997</td>\n",
                            "      <td>27.139</td>\n",
                            "    </tr>\n",
                            "    <tr>\n",
                            "      <th>1982</th>\n",
                            "      <td>1</td>\n",
                            "      <td>11.352</td>\n",
                            "      <td>-0.223435</td>\n",
                            "      <td>14.483242</td>\n",
                            "      <td>12049.620</td>\n",
                            "      <td>8.771</td>\n",
                            "      <td>5.460</td>\n",
                            "      <td>26.502</td>\n",
                            "      <td>1.0</td>\n",
                            "      <td>9.488</td>\n",
                            "      <td>0.326679</td>\n",
                            "      <td>5.183462</td>\n",
                            "      <td>11529.563</td>\n",
                            "      <td>-3.403</td>\n",
                            "      <td>10.042</td>\n",
                            "      <td>28.897</td>\n",
                            "    </tr>\n",
                            "    <tr>\n",
                            "      <th>1983</th>\n",
                            "      <td>1</td>\n",
                            "      <td>10.039</td>\n",
                            "      <td>-2.308832</td>\n",
                            "      <td>18.715089</td>\n",
                            "      <td>12305.539</td>\n",
                            "      <td>-4.360</td>\n",
                            "      <td>-9.819</td>\n",
                            "      <td>23.062</td>\n",
                            "      <td>1.0</td>\n",
                            "      <td>11.352</td>\n",
                            "      <td>-0.223435</td>\n",
                            "      <td>14.483242</td>\n",
                            "      <td>12049.620</td>\n",
                            "      <td>8.771</td>\n",
                            "      <td>5.460</td>\n",
                            "      <td>26.502</td>\n",
                            "    </tr>\n",
                            "    <tr>\n",
                            "      <th>1984</th>\n",
                            "      <td>1</td>\n",
                            "      <td>3.960</td>\n",
                            "      <td>0.592963</td>\n",
                            "      <td>18.584186</td>\n",
                            "      <td>13391.167</td>\n",
                            "      <td>16.092</td>\n",
                            "      <td>22.058</td>\n",
                            "      <td>26.734</td>\n",
                            "      <td>1.0</td>\n",
                            "      <td>10.039</td>\n",
                            "      <td>-2.308832</td>\n",
                            "      <td>18.715089</td>\n",
                            "      <td>12305.539</td>\n",
                            "      <td>-4.360</td>\n",
                            "      <td>-9.819</td>\n",
                            "      <td>23.062</td>\n",
                            "    </tr>\n",
                            "  </tbody>\n",
                            "</table>\n",
                            "</div>"
                        ],
                        "text/plain": [
                            "                Advanced_Country  PCPIPCH  GGSB_NPGDP  GGXWDG_NGDP      PPPPC  \\\n",
                            "Country   Year                                                                  \n",
                            "Australia 1980                 1   10.136   -0.276986     9.396714  10277.787   \n",
                            "          1981                 1    9.488    0.326679     5.183462  11529.563   \n",
                            "          1982                 1   11.352   -0.223435    14.483242  12049.620   \n",
                            "          1983                 1   10.039   -2.308832    18.715089  12305.539   \n",
                            "          1984                 1    3.960    0.592963    18.584186  13391.167   \n",
                            "\n",
                            "                TX_RPCH  TM_RPCH  NID_NGDP  Advanced_Country_lag  PCPIPCH_lag  \\\n",
                            "Country   Year                                                                  \n",
                            "Australia 1980   -0.915    4.997    27.139                   1.0       10.136   \n",
                            "          1981   -3.403   10.042    28.897                   1.0       10.136   \n",
                            "          1982    8.771    5.460    26.502                   1.0        9.488   \n",
                            "          1983   -4.360   -9.819    23.062                   1.0       11.352   \n",
                            "          1984   16.092   22.058    26.734                   1.0       10.039   \n",
                            "\n",
                            "                GGSB_NPGDP_lag  GGXWDG_NGDP_lag  PPPPC_lag  TX_RPCH_lag  \\\n",
                            "Country   Year                                                            \n",
                            "Australia 1980       -0.276986         9.396714  10277.787       -0.915   \n",
                            "          1981       -0.276986         9.396714  10277.787       -0.915   \n",
                            "          1982        0.326679         5.183462  11529.563       -3.403   \n",
                            "          1983       -0.223435        14.483242  12049.620        8.771   \n",
                            "          1984       -2.308832        18.715089  12305.539       -4.360   \n",
                            "\n",
                            "                TM_RPCH_lag  NID_NGDP_lag  \n",
                            "Country   Year                             \n",
                            "Australia 1980        4.997        27.139  \n",
                            "          1981        4.997        27.139  \n",
                            "          1982       10.042        28.897  \n",
                            "          1983        5.460        26.502  \n",
                            "          1984       -9.819        23.062  "
                        ]
                    },
                    "execution_count": 81,
                    "metadata": {},
                    "output_type": "execute_result"
                }
            ],
            "source": [
                "panel_df = df.set_index(['Country', 'Year'])\n",
                "\n",
                "for n in panel_df.columns: \n",
                "    # Include lagged inflation as independent variable (lag 1)\n",
                "    panel_df[f'{n}_lag'] = panel_df.groupby(level=0)[f'{n}'].shift(1)\n",
                "    panel_df[f'{n}_lag'] = panel_df[f'{n}_lag'].fillna(\n",
                "        panel_df.groupby(level=0)[f'{n}'].transform('first')\n",
                "    )\n",
                "\n",
                "panel_df.head()"
            ]
        },
        {
            "cell_type": "code",
            "execution_count": 82,
            "metadata": {},
            "outputs": [],
            "source": [
                "# ========== Split data for out-of-sample forecasting ==========\n",
                "# Define dependent and independent variables\n",
                "y = panel_df['PCPIPCH']  # Inflation Rate (Consumer Prices, annual %)\n",
                "X_vars = [\n",
                "\n",
                "    # 2. Public Finance\n",
                "    \"GGSB_NPGDP\",   ## General government structural balance\n",
                "    \"GGXWDG_NGDP\",  # General government gross debt (% of GDP)\n",
                "\n",
                "\n",
                "    \n",
                "    # 3. Economic Output & Productivity & Exchange & Purchasing Power\n",
                "    \"PPPPC\",        # GDP per capita based on PPP\n",
                "    \n",
                "\n",
                "    # 4. International Trade & Balance\n",
                "    \"TX_RPCH\",      # Export volume growth\n",
                "    \"TM_RPCH\",      ## Import volume growth\n",
                "    \n",
                "\n",
                "    # 5. Savings & Investment\n",
                "    \"NID_NGDP\",     ## Investment (% of GDP)\n",
                "    \n",
                "\n",
                "    # 6. Metadata\n",
                "   \"Advanced_Country\"\n",
                "    \n",
                "]\n",
                "\n",
                "X = panel_df[X_vars]\n",
                "#X = sm.add_constant(X)\n",
                "\n",
                "\n",
                "# Helper function for metrics\n",
                "def evaluate(y_true, y_pred):\n",
                "    rmse = np.sqrt(mean_squared_error(y_true, y_pred))\n",
                "    r2 = r2_score(y_true, y_pred)\n",
                "    return rmse, r2\n"
            ]
        },
        {
            "cell_type": "code",
            "execution_count": 83,
            "metadata": {},
            "outputs": [
                {
                    "name": "stdout",
                    "output_type": "stream",
                    "text": [
                        "            feature       VIF\n",
                        "0        GGSB_NPGDP  1.317427\n",
                        "1       GGXWDG_NGDP  2.674162\n",
                        "2             PPPPC  3.457454\n",
                        "3           TX_RPCH  1.665954\n",
                        "4           TM_RPCH  1.722332\n",
                        "5          NID_NGDP  3.872626\n",
                        "6  Advanced_Country  3.431196\n"
                    ]
                }
            ],
            "source": [
                "# ===============================\n",
                "# Multicollinearity\n",
                "from statsmodels.stats.outliers_influence import variance_inflation_factor\n",
                "X_np = X.values\n",
                "\n",
                "vif_data = pd.DataFrame()\n",
                "vif_data[\"feature\"] = X.columns\n",
                "vif_data[\"VIF\"] = [variance_inflation_factor(X_np, i) for i in range(X_np.shape[1])]\n",
                "\n",
                "print(vif_data)"
            ]
        },
        {
            "cell_type": "code",
            "execution_count": 84,
            "metadata": {},
            "outputs": [],
            "source": [
                "# Use years up to 2015 for training, after 2015 for testing\n",
                "train = panel_df.reset_index()\n",
                "train = train[train['Year'] <= 2024].set_index(['Country', 'Year'])\n",
                "test = panel_df.reset_index()\n",
                "test = test[test['Year'] > 2018].set_index(['Country', 'Year'])\n",
                "\n",
                "y_train = train['PCPIPCH']\n",
                "X_train = train[X_vars]\n",
                "#X_train = sm.add_constant(X_train)\n",
                "\n",
                "y_test = test['PCPIPCH']\n",
                "X_test = test[X_vars]\n",
                "\n",
                "#X_test = sm.add_constant(X_test)\n"
            ]
        },
        {
            "cell_type": "code",
            "execution_count": 86,
            "metadata": {},
            "outputs": [
                {
                    "name": "stdout",
                    "output_type": "stream",
                    "text": [
                        "Pooled OLS Results:\n",
                        "                          PooledOLS Estimation Summary                          \n",
                        "================================================================================\n",
                        "Dep. Variable:                PCPIPCH   R-squared:                        0.3760\n",
                        "Estimator:                  PooledOLS   R-squared (Between):              0.7242\n",
                        "No. Observations:                2925   R-squared (Within):               0.0013\n",
                        "Date:                Wed, Jun 11 2025   R-squared (Overall):              0.3760\n",
                        "Time:                        04:15:15   Log-likelihood                -1.008e+04\n",
                        "Cov. Estimator:            Unadjusted                                           \n",
                        "                                        F-statistic:                      251.18\n",
                        "Entities:                          65   P-value                           0.0000\n",
                        "Avg Obs:                       45.000   Distribution:                  F(7,2918)\n",
                        "Min Obs:                       45.000                                           \n",
                        "Max Obs:                       45.000   F-statistic (robust):             251.18\n",
                        "                                        P-value                           0.0000\n",
                        "Time periods:                      45   Distribution:                  F(7,2918)\n",
                        "Avg Obs:                       65.000                                           \n",
                        "Min Obs:                       65.000                                           \n",
                        "Max Obs:                       65.000                                           \n",
                        "                                                                                \n",
                        "                                Parameter Estimates                                 \n",
                        "====================================================================================\n",
                        "                  Parameter  Std. Err.     T-stat    P-value    Lower CI    Upper CI\n",
                        "------------------------------------------------------------------------------------\n",
                        "GGSB_NPGDP          -0.0014     0.0321    -0.0434     0.9654     -0.0644      0.0616\n",
                        "GGXWDG_NGDP          0.0225     0.0034     6.6722     0.0000      0.0159      0.0291\n",
                        "PPPPC            -7.284e-05  8.566e-06    -8.5031     0.0000  -8.963e-05  -5.604e-05\n",
                        "TX_RPCH             -0.0202     0.0137    -1.4746     0.1404     -0.0470      0.0067\n",
                        "TM_RPCH              0.0139     0.0168     0.8232     0.4104     -0.0192      0.0469\n",
                        "NID_NGDP             0.2493     0.0109     22.974     0.0000      0.2281      0.2706\n",
                        "Advanced_Country    -0.6738     0.3548    -1.8992     0.0576     -1.3695      0.0219\n",
                        "====================================================================================\n",
                        "Pooled OLS RMSE (out-of-sample): 5.0055 \n",
                        "Pooled OLS R_sq (out-of-sample): -0.4379\n"
                    ]
                }
            ],
            "source": [
                "# ===============================\n",
                "# A. Pooled OLS model\n",
                "pooled_ols_model = PooledOLS(y_train, X_train)\n",
                "pooled_ols_res = pooled_ols_model.fit()\n",
                "print(\"Pooled OLS Results:\")\n",
                "print(pooled_ols_res.summary)\n",
                "\n",
                "# Predict and evaluate RMSE\n",
                "pooled_preds = pooled_ols_res.predict(X_test)\n",
                "pooled_rmse,pooled_r2 = evaluate(y_test, pooled_preds)\n",
                "print(f\"Pooled OLS RMSE (out-of-sample): {pooled_rmse:.4f} \\nPooled OLS R_sq (out-of-sample): {pooled_r2:.4f}\" )"
            ]
        },
        {
            "cell_type": "code",
            "execution_count": 87,
            "metadata": {},
            "outputs": [],
            "source": [
                "X_train = X_train.drop(columns=['Advanced_Country'], errors='ignore')\n",
                "X_test = X_test.drop(columns=['Advanced_Country'], errors='ignore')"
            ]
        },
        {
            "cell_type": "code",
            "execution_count": 88,
            "metadata": {},
            "outputs": [
                {
                    "name": "stdout",
                    "output_type": "stream",
                    "text": [
                        "Fixed Effects Results:\n",
                        "                          PanelOLS Estimation Summary                           \n",
                        "================================================================================\n",
                        "Dep. Variable:                PCPIPCH   R-squared:                        0.0550\n",
                        "Estimator:                   PanelOLS   R-squared (Between):             -0.7586\n",
                        "No. Observations:                2925   R-squared (Within):               0.0550\n",
                        "Date:                Wed, Jun 11 2025   R-squared (Overall):             -0.3667\n",
                        "Time:                        04:15:17   Log-likelihood                   -9618.4\n",
                        "Cov. Estimator:            Unadjusted                                           \n",
                        "                                        F-statistic:                      27.696\n",
                        "Entities:                          65   P-value                           0.0000\n",
                        "Avg Obs:                       45.000   Distribution:                  F(6,2854)\n",
                        "Min Obs:                       45.000                                           \n",
                        "Max Obs:                       45.000   F-statistic (robust):             27.696\n",
                        "                                        P-value                           0.0000\n",
                        "Time periods:                      45   Distribution:                  F(6,2854)\n",
                        "Avg Obs:                       65.000                                           \n",
                        "Min Obs:                       65.000                                           \n",
                        "Max Obs:                       65.000                                           \n",
                        "                                                                                \n",
                        "                              Parameter Estimates                              \n",
                        "===============================================================================\n",
                        "             Parameter  Std. Err.     T-stat    P-value    Lower CI    Upper CI\n",
                        "-------------------------------------------------------------------------------\n",
                        "GGSB_NPGDP      0.0924     0.0333     2.7754     0.0055      0.0271      0.1577\n",
                        "GGXWDG_NGDP    -0.0120     0.0052    -2.3213     0.0203     -0.0221     -0.0019\n",
                        "PPPPC       -9.753e-05  9.173e-06    -10.633     0.0000     -0.0001  -7.955e-05\n",
                        "TX_RPCH         0.0268     0.0127     2.1171     0.0343      0.0020      0.0516\n",
                        "TM_RPCH        -0.0328     0.0150    -2.1873     0.0288     -0.0623     -0.0034\n",
                        "NID_NGDP        0.0161     0.0235     0.6868     0.4923     -0.0299      0.0622\n",
                        "===============================================================================\n",
                        "\n",
                        "F-test for Poolability: 10.918\n",
                        "P-value: 0.0000\n",
                        "Distribution: F(64,2854)\n",
                        "\n",
                        "Included effects: Entity\n",
                        "Fixed Effects RMSE (out-of-sample): 10.2349\n",
                        "Fixed Effects R_sq (out-of-sample):-5.0119\n"
                    ]
                }
            ],
            "source": [
                "# ===============================\n",
                "# B. Fixed Effects model\n",
                "\n",
                "fe_model = PanelOLS(y_train, X_train, entity_effects=True)\n",
                "fe_res = fe_model.fit()\n",
                "print(\"Fixed Effects Results:\")\n",
                "print(fe_res.summary)\n",
                "\n",
                "# Predict (note: fixed effects prediction only valid for known entities in test set)\n",
                "fe_preds = fe_res.predict(X_test)\n",
                "fe_rmse, fe_r2 = evaluate(y_test, fe_preds)\n",
                "print(f\"Fixed Effects RMSE (out-of-sample): {fe_rmse:.4f}\\nFixed Effects R_sq (out-of-sample):{fe_r2:.4f}\")"
            ]
        },
        {
            "cell_type": "code",
            "execution_count": 90,
            "metadata": {},
            "outputs": [
                {
                    "name": "stdout",
                    "output_type": "stream",
                    "text": [
                        "Random Effects Results:\n",
                        "                        RandomEffects Estimation Summary                        \n",
                        "================================================================================\n",
                        "Dep. Variable:                PCPIPCH   R-squared:                        0.0716\n",
                        "Estimator:              RandomEffects   R-squared (Between):              0.5854\n",
                        "No. Observations:                2925   R-squared (Within):               0.0308\n",
                        "Date:                Wed, Jun 11 2025   R-squared (Overall):              0.3182\n",
                        "Time:                        04:15:25   Log-likelihood                   -9704.5\n",
                        "Cov. Estimator:            Unadjusted                                           \n",
                        "                                        F-statistic:                      37.547\n",
                        "Entities:                          65   P-value                           0.0000\n",
                        "Avg Obs:                       45.000   Distribution:                  F(6,2919)\n",
                        "Min Obs:                       45.000                                           \n",
                        "Max Obs:                       45.000   F-statistic (robust):             37.547\n",
                        "                                        P-value                           0.0000\n",
                        "Time periods:                      45   Distribution:                  F(6,2919)\n",
                        "Avg Obs:                       65.000                                           \n",
                        "Min Obs:                       65.000                                           \n",
                        "Max Obs:                       65.000                                           \n",
                        "                                                                                \n",
                        "                              Parameter Estimates                              \n",
                        "===============================================================================\n",
                        "             Parameter  Std. Err.     T-stat    P-value    Lower CI    Upper CI\n",
                        "-------------------------------------------------------------------------------\n",
                        "GGSB_NPGDP      0.0426     0.0331     1.2901     0.1971     -0.0222      0.1075\n",
                        "GGXWDG_NGDP     0.0087     0.0046     1.8680     0.0619     -0.0004      0.0177\n",
                        "PPPPC       -8.138e-05  8.665e-06    -9.3917     0.0000  -9.837e-05  -6.439e-05\n",
                        "TX_RPCH         0.0119     0.0128     0.9350     0.3499     -0.0131      0.0370\n",
                        "TM_RPCH        -0.0241     0.0152    -1.5844     0.1132     -0.0540      0.0057\n",
                        "NID_NGDP        0.1905     0.0158     12.024     0.0000      0.1594      0.2216\n",
                        "===============================================================================\n",
                        "Random Effects RMSE (out-of-sample): 5.4794\n",
                        "Random Effects R_sq (out-of-sample): -0.7231\n"
                    ]
                }
            ],
            "source": [
                "# ===============================\n",
                "# c. Random Effects model\n",
                "re_model = RandomEffects(y_train, X_train)\n",
                "re_res = re_model.fit()\n",
                "print(\"Random Effects Results:\")\n",
                "print(re_res.summary)\n",
                "\n",
                "# Predict and RMSE\n",
                "re_preds = re_res.predict(X_test)\n",
                "re_rmse, re_r2 = evaluate(y_test, re_preds)\n",
                "print(f\"Random Effects RMSE (out-of-sample): {re_rmse:.4f}\\nRandom Effects R_sq (out-of-sample): {re_r2:.4f}\")\n"
            ]
        },
        {
            "cell_type": "markdown",
            "metadata": {},
            "source": [
                "<a id='2'></a>\n",
                "\n",
                "### **2. :**"
            ]
        },
        {
            "cell_type": "code",
            "execution_count": 91,
            "metadata": {},
            "outputs": [
                {
                    "name": "stdout",
                    "output_type": "stream",
                    "text": [
                        "Hausman test statistic: 104.8604, p-value: 0.0000\n",
                        "Hausman test suggests Fixed Effects preferred.\n"
                    ]
                }
            ],
            "source": [
                "# ===============================\n",
                "# Hausman test: fixed vs random effects\n",
                "def hausman(fe, re):\n",
                "    b_diff = fe.params - re.params\n",
                "    cov_diff = fe.cov - re.cov\n",
                "    stat = np.dot(np.dot(b_diff.T, np.linalg.inv(cov_diff)), b_diff)\n",
                "    df_n = b_diff.shape[0]\n",
                "    pval = 1 - chi2.cdf(stat, df_n)\n",
                "    return stat, pval\n",
                "\n",
                "haus_stat, haus_pval = hausman(fe_res, re_res)\n",
                "print(f\"Hausman test statistic: {haus_stat:.4f}, p-value: {haus_pval:.4f}\")\n",
                "if haus_pval < 0.05:\n",
                "    print(\"Hausman test suggests Fixed Effects preferred.\")\n",
                "else:\n",
                "    print(\"Hausman test suggests Random Effects preferred.\")"
            ]
        },
        {
            "cell_type": "code",
            "execution_count": 92,
            "metadata": {},
            "outputs": [
                {
                    "name": "stdout",
                    "output_type": "stream",
                    "text": [
                        "Wald Test (F-test) for joint significance of entity effects:\n",
                        "                   Model Comparison                  \n",
                        "=====================================================\n",
                        "                            Pooled OLS  Fixed Effects\n",
                        "-----------------------------------------------------\n",
                        "Dep. Variable                  PCPIPCH        PCPIPCH\n",
                        "Estimator                    PooledOLS       PanelOLS\n",
                        "No. Observations                  2925           2925\n",
                        "Cov. Est.                   Unadjusted     Unadjusted\n",
                        "R-squared                       0.3760         0.0550\n",
                        "R-Squared (Within)              0.0013         0.0550\n",
                        "R-Squared (Between)             0.7242        -0.7586\n",
                        "R-Squared (Overall)             0.3760        -0.3667\n",
                        "F-statistic                     251.18         27.696\n",
                        "P-value (F-stat)                0.0000         0.0000\n",
                        "=====================     ============   ============\n",
                        "GGSB_NPGDP                     -0.0014         0.0924\n",
                        "                             (-0.0434)       (2.7754)\n",
                        "GGXWDG_NGDP                     0.0225        -0.0120\n",
                        "                              (6.6722)      (-2.3213)\n",
                        "PPPPC                       -7.284e-05     -9.753e-05\n",
                        "                             (-8.5031)      (-10.633)\n",
                        "TX_RPCH                        -0.0202         0.0268\n",
                        "                             (-1.4746)       (2.1171)\n",
                        "TM_RPCH                         0.0139        -0.0328\n",
                        "                              (0.8232)      (-2.1873)\n",
                        "NID_NGDP                        0.2493         0.0161\n",
                        "                              (22.974)       (0.6868)\n",
                        "Advanced_Country               -0.6738               \n",
                        "                             (-1.8992)               \n",
                        "======================= ============== ==============\n",
                        "Effects                                        Entity\n",
                        "-----------------------------------------------------\n",
                        "\n",
                        "T-stats reported in parentheses\n"
                    ]
                }
            ],
            "source": [
                "# ===============================\n",
                "# Wald test on Fixed Effects (joint significance of entity effects)\n",
                "\n",
                "comparison = compare({ 'Pooled OLS': pooled_ols_res, 'Fixed Effects': fe_res})\n",
                "print(\"Wald Test (F-test) for joint significance of entity effects:\")\n",
                "print(comparison)\n"
            ]
        },
        {
            "cell_type": "code",
            "execution_count": 93,
            "metadata": {},
            "outputs": [
                {
                    "name": "stdout",
                    "output_type": "stream",
                    "text": [
                        "            feature       VIF\n",
                        "0        GGSB_NPGDP  1.317427\n",
                        "1       GGXWDG_NGDP  2.674162\n",
                        "2             PPPPC  3.457454\n",
                        "3           TX_RPCH  1.665954\n",
                        "4           TM_RPCH  1.722332\n",
                        "5          NID_NGDP  3.872626\n",
                        "6  Advanced_Country  3.431196\n"
                    ]
                }
            ],
            "source": [
                "# ===============================\n",
                "# 1.Multicollinearity\n",
                "from statsmodels.stats.outliers_influence import variance_inflation_factor\n",
                "X_np = X.values\n",
                "\n",
                "vif_data = pd.DataFrame()\n",
                "vif_data[\"feature\"] = X.columns\n",
                "vif_data[\"VIF\"] = [variance_inflation_factor(X_np, i) for i in range(X_np.shape[1])]\n",
                "\n",
                "print(vif_data)"
            ]
        },
        {
            "cell_type": "code",
            "execution_count": 94,
            "metadata": {},
            "outputs": [
                {
                    "name": "stdout",
                    "output_type": "stream",
                    "text": [
                        "Breusch-Pagan test: stat=50.3791, p-value=0.0000\n",
                        "White test: stat=374.6214, p-value=0.0000\n"
                    ]
                }
            ],
            "source": [
                "# ===============================\n",
                "# 2. Heteroskedasticity tests (Breusch-Pagan and White)\n",
                "\n",
                "X_with_const = sm.add_constant(X_train, has_constant='add')\n",
                "\n",
                "fe_residuals = re_res.resids\n",
                "\n",
                "bp_test = het_breuschpagan(fe_residuals, X_with_const)\n",
                "print(f\"Breusch-Pagan test: stat={bp_test[0]:.4f}, p-value={bp_test[1]:.4f}\")\n",
                "white_test = het_white(fe_residuals, X_with_const)\n",
                "print(f\"White test: stat={white_test[0]:.4f}, p-value={white_test[1]:.4f}\")\n"
            ]
        },
        {
            "cell_type": "code",
            "execution_count": 95,
            "metadata": {},
            "outputs": [
                {
                    "name": "stdout",
                    "output_type": "stream",
                    "text": [
                        "Breusch-Godfrey test for serial correlation: LM stat=1487.8106, p-value=0.0000\n"
                    ]
                }
            ],
            "source": [
                "# ===============================\n",
                "# 3. Serial Correlation test (Breusch-Godfrey) on Fixed Effects residuals\n",
                "bg_test = acorr_breusch_godfrey(sm.OLS(y_train, X_train).fit(), nlags=2)\n",
                "print(f\"Breusch-Godfrey test for serial correlation: LM stat={bg_test[0]:.4f}, p-value={bg_test[1]:.4f}\")"
            ]
        },
        {
            "cell_type": "code",
            "execution_count": 96,
            "metadata": {},
            "outputs": [
                {
                    "name": "stdout",
                    "output_type": "stream",
                    "text": [
                        "\n",
                        "========== Model Performance Summary ==========\n",
                        "Model                                RMSE         R²\n",
                        "Pooled OLS                         5.0055    -0.4379\n",
                        "Fixed Effects                     10.2349    -5.0119\n",
                        "Random Effects                     5.4794    -0.7231\n"
                    ]
                }
            ],
            "source": [
                "# ===============================\n",
                "# Summary of RMSEs for model comparison\n",
                "# Summary Table\n",
                "print(\"\\n========== Model Performance Summary ==========\")\n",
                "print(f\"{'Model':<30} {'RMSE':>10} {'R²':>10}\")\n",
                "print(f\"{'Pooled OLS':<30} {pooled_rmse:>10.4f} {pooled_r2:>10.4f}\")\n",
                "print(f\"{'Fixed Effects':<30} {fe_rmse:>10.4f} {fe_r2:>10.4f}\")\n",
                "print(f\"{'Random Effects':<30} {re_rmse:>10.4f} {re_r2:>10.4f}\")\n"
            ]
        },
        {
            "cell_type": "markdown",
            "metadata": {},
            "source": [
                "# **END**"
            ]
        },
        {
            "cell_type": "markdown",
            "metadata": {},
            "source": []
        }
    ],
    "metadata": {
        "hide_input": false,
        "kernelspec": {
            "display_name": "base",
            "language": "python",
            "name": "python3"
        },
        "language_info": {
            "codemirror_mode": {
                "name": "ipython",
                "version": 3
            },
            "file_extension": ".py",
            "mimetype": "text/x-python",
            "name": "python",
            "nbconvert_exporter": "python",
            "pygments_lexer": "ipython3",
            "version": "3.12.7"
        }
    },
    "nbformat": 4,
    "nbformat_minor": 2
}
