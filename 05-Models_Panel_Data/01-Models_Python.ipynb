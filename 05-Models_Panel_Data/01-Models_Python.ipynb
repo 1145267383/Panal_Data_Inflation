{
    "cells": [
        {
            "cell_type": "markdown",
            "metadata": {
                "azdata_cell_guid": "70d09cdf-17ef-4796-a9de-5e457fe84246"
            },
            "source": [
                "## **Project: Panel Data Methodologies With Application To Macroeconometrics (Inflation Forecasting)**.\n",
                "\n",
                "> ### **Title**: Training, Evaluation and Comparison Model.\n",
                "\n",
                "\n",
                "#### **Table of Contents:**\n",
                "<ul>\n",
                "<li><a href=\"#0\"> Dataset Description and Variable Overview.</a></li>\n",
                "<li><a href=\"#1\">1. Split dataset.</a></li>\n",
                "<li><a href=\"#2.A\">2.A. Treaning  Pooled OLS model.</a></li>\n",
                "<li><a href=\"#2.B\">2.B. Treaning  Fixed Effects model.</a></li>\n",
                "<li><a href=\"#2.C\">2.C. Treaning  Random Effects model.</a></li>\n",
                "<li><a href=\"#3.A\">3.A. Wald test: Pooled OLS vs Fixed Effects.</a></li>\n",
                "<li><a href=\"#3.B\">3.B. Hausman test: fixed vs random effects</a></li>\n",
                "<li><a href=\"#4.A\">4.A. Heteroskedasticity tests.</a></li>\n",
                "<li><a href=\"#4.B\">4.B. Serial Correlation test.</a></li>\n",
                "<li><a href=\"#5\">5. Summary of RMSEs and R_sq for model comparison.</a></li>\n",
                "\n",
                "</ul>"
            ]
        },
        {
            "cell_type": "markdown",
            "metadata": {},
            "source": [
                "<a id='1'></a>\n",
                "\n",
                "#### Dataset Description and Variable Overview:\n",
                "\n",
                "The dataset includes annual macroeconomic data for  **77 countries** over the period **1980–2024**. Most variables are sourced from the **IMF’s World Economic Outlook (WEO)**, except **TRWMA**, which is derived from the **World Bank**. The target variable is **PCPIPCH** (Inflation, average consumer prices). Below is the list of variables used:\n",
                "\n",
                "---\n",
                "\n",
                "> #### **Inflation & Price Stability**\n",
                "\n",
                "| **Variable Code** | **Description**                                    | **Units**                                         |\n",
                "| ----------------- | -------------------------------------------------- | ------------------------------------------------- |\n",
                "| **PCPIPCH**       | Inflation, average consumer prices `(Target)`      | Percent change                                    |\n",
                "\n",
                "---\n",
                "\n",
                "> #### **Public Finance**\n",
                "| **Variable Code** | **Description**                                    | **Units**                                         |\n",
                "| ----------------- | -------------------------------------------------- | ------------------------------------------------- |\n",
                "| GGSB_NPGDP        | General government structural balance              | Percent of potential GDP                          |\n",
                "| GGXWDG_NGDP       | General government gross debt                      | Percent of GDP                                    |\n",
                "\n",
                "---\n",
                "\n",
                "\n",
                "> #### **Economic Output & Productivity**\n",
                "| **Variable Code** | **Description**                                    | **Units**                                         |\n",
                "| ----------------- | -------------------------------------------------- | ------------------------------------------------- |\n",
                "| PPPPC             | Gross domestic product per capita, current prices  | Purchasing power parity; international dollars    |\n",
                "\n",
                "---\n",
                "\n",
                "> #### **International Trade & Balance**\n",
                "| **Variable Code** | **Description**                                    | **Units**                                         |\n",
                "| ----------------- | -------------------------------------------------- | ------------------------------------------------- |\n",
                "| TX_RPCH           | Volume of exports of goods and services            | Percent change                                    |\n",
                "| TM_RPCH           | Volume of imports of goods and services            | Percent change                                    |\n",
                "---\n",
                "\n",
                "> #### **Savings & Investment **\n",
                "| **Variable Code** | **Description**                                    | **Units**                                         |\n",
                "| ----------------- | -------------------------------------------------- | ------------------------------------------------- |\n",
                "| NID_NGDP          | Total investment                                   | Percent of GDP                                    |\n",
                "\n",
                "---\n",
                "\n",
                "> #### **Country Metadata**\n",
                "\n",
                "| **Variable Code** | **Description**                                    | **Units**                                         |\n",
                "| ----------------- | -------------------------------------------------- | ------------------------------------------------- |\n",
                "| Country_Code      | ID number for each country                         | ID                                                |\n",
                "| Country           | Name of 70 countries                               | String                                            |\n",
                "| Advanced_Country  | Is the country developed (1) or developing (0)?    | Boolean                                           |\n",
                "| Years             | date from 2000 to 2024                             | Date                                              |\n",
                "\n",
                "---"
            ]
        },
        {
            "cell_type": "markdown",
            "metadata": {},
            "source": []
        },
        {
            "cell_type": "markdown",
            "metadata": {},
            "source": [
                "\n",
                "#### **1. Inflation & Price Stability (التضخم واستقرار الأسعار)**\n",
                "\n",
                "| Variable Code    | Term             | التفسير |                تأثيره على التضخم                                            |\n",
                "| ---------------- | ---------------- | --------------------------------- | --------------------------------------------------- |\n",
                "| **PCPIPCH**   | Inflation (CPI) | معدل التضخم بناءً على متوسط أسعار المستهلكين؛ مؤشر رئيسي لاستقرار الأسعار. | المتغير الهدف، ويقيس بشكل مباشر مدى ارتفاع الأسعار. |\n",
                "\n",
                "---\n",
                "\n",
                "#### **2. Public Finance (المالية العامة)**\n",
                "\n",
                "| Variable Code    | Term             | التفسير |                تأثيره على التضخم                                            |\n",
                "| ---------------- | ---------------- | --------------------------------- | --------------------------------------------------- |\n",
                "| **GGSB_NPGDP**  | Structural Budget Balance         | الميزان الهيكلي بعد خصم أثر الدورة الاقتصادية.                         | الفائض الهيكلي يُعتبر إشارة إلى سياسة مالية انكماشية تقلل من التضخم.      |\n",
                "| **GGXWDG_NGDP** | Gross Government Debt (% of GDP)  | الدين العام كنسبة من الناتج؛ يعكس عبء الحكومة المالي.                  | ارتفاع الدين قد يُجبر الحكومة على التوسع النقدي مستقبلاً مما يزيد التضخم. |\n",
                "\n",
                "\n",
                "---\n",
                "\n",
                "\n",
                "#### **3. Economic Output & Productivity (الإنتاجية والناتج الاقتصادي)**\n",
                "\n",
                "| Variable Code    | Term             | التفسير |                تأثيره على التضخم                                            |\n",
                "| ---------------- | ---------------- | --------------------------------- | --------------------------------------------------- |\n",
                "| **PPPPC**      | GDP per Capita (PPP)   | نصيب الفرد من الناتج باستخدام تعادل القوة الشرائية.             | ارتفاعه يشير إلى قدرة شرائية أعلى، ما قد يدفع بالأسعار إلى الارتفاع.               |\n",
                "\n",
                "---\n",
                "\n",
                "\n",
                "#### **4. International Trade & Balance (التجارة الدولية والحساب الجاري)**\n",
                "\n",
                "| Variable Code    | Term             | التفسير |                تأثيره على التضخم                                            |\n",
                "| ---------------- | ---------------- | --------------------------------- | --------------------------------------------------- |\n",
                "| **TX_RPCH**   | Export Volume Growth            | نمو حجم الصادرات.                   | زيادة الصادرات قد تقلل المعروض المحلي وترفع الأسعار.                |\n",
                "| **TM_RPCH**   | Import Volume Growth            | نمو حجم الواردات.                   | زيادة الواردات توفر بدائل أرخص وتقلل من التضخم.                     |\n",
                "\n",
                "---\n",
                "\n",
                "#### **5. Savings & Investment (الادخار والاستثمار)**\n",
                "\n",
                "| Variable Code    | Term             | التفسير |                تأثيره على التضخم                                            |\n",
                "| ---------------- | ---------------- | --------------------------------- | --------------------------------------------------- |\n",
                "| **NID_NGDP**  | Gross Capital Formation | الاستثمار الإجمالي كنسبة من الناتج. | استثمار أكبر قد يرفع الإنتاج في الأجل الطويل مما يقلل التضخم. |\n",
                "\n",
                "---\n",
                "\n",
                "#### **6. Country Metadata (بيانات الدول)**\n",
                "\n",
                "| Variable Code    | Term             | التفسير |                تأثيره على التضخم                                            |\n",
                "| ---------------- | ---------------- | --------------------------------- | --------------------------------------------------- |\n",
                "| **Country_Code**     | Country ID         | معرف رقمي فريد لكل دولة. | -                 |\n",
                "| **Country**           | Country Name       | اسم الدولة.              | -                 |\n",
                "| **Advanced_Country** | Development Status | متقدمة (1) أو نامية (0). | -                 |\n",
                "| **Years**             | Year               | السنة ما بين 2000 و2024. | -                 |\n",
                "\n",
                "---\n",
                "\n"
            ]
        },
        {
            "cell_type": "markdown",
            "metadata": {},
            "source": []
        },
        {
            "cell_type": "code",
            "execution_count": 1,
            "metadata": {},
            "outputs": [],
            "source": [
                "# install \n",
                "#!pip install pandas linearmodels statsmodels  pydynpd\n"
            ]
        },
        {
            "cell_type": "markdown",
            "metadata": {
                "azdata_cell_guid": "2a1b7248-0b53-45b6-ad95-efa0cb002705"
            },
            "source": [
                "**Import Library**"
            ]
        },
        {
            "cell_type": "code",
            "execution_count": 1,
            "metadata": {
                "azdata_cell_guid": "93c6991b-cad5-4222-a2fe-f38fcc5eb109",
                "language": "sql"
            },
            "outputs": [],
            "source": [
                "import os\n",
                "import numpy as np\n",
                "import pandas as pd\n",
                "import matplotlib.pyplot as plt\n",
                "import seaborn as sns \n",
                "import math\n",
                "\n",
                "import statsmodels.api as sm\n",
                "from linearmodels import  OLS\n",
                "from linearmodels.panel import PanelOLS, RandomEffects,PooledOLS\n",
                "\n",
                "from linearmodels.panel import compare\n",
                "from statsmodels.tsa.stattools import adfuller\n",
                "from scipy.stats import chi2\n",
                "from sklearn.metrics import mean_squared_error, r2_score\n",
                "from statsmodels.stats.diagnostic import het_breuschpagan, acorr_breusch_godfrey, het_white\n",
                "\n",
                "from sklearn.model_selection import train_test_split\n",
                "from sklearn.preprocessing import StandardScaler, OneHotEncoder\n",
                "from sklearn.compose import ColumnTransformer\n",
                "from sklearn.pipeline import Pipeline\n",
                "from sklearn.ensemble import RandomForestRegressor\n",
                "import xgboost as xgb\n",
                "from statsmodels.regression.mixed_linear_model import MixedLM\n",
                "\n",
                "\n",
                "sns.set(rc={'figure.figsize': [15,5]}, font_scale=1.2);\n",
                "pd.set_option('future.no_silent_downcasting', True)\n"
            ]
        },
        {
            "cell_type": "markdown",
            "metadata": {
                "azdata_cell_guid": "c88765c0-100d-4621-9753-942ba8737d28"
            },
            "source": [
                "**Load Dataset**"
            ]
        },
        {
            "cell_type": "code",
            "execution_count": 47,
            "metadata": {
                "azdata_cell_guid": "4fd6e3d9-616d-4039-b3b2-eaf457d22711",
                "language": "sql"
            },
            "outputs": [
                {
                    "name": "stdout",
                    "output_type": "stream",
                    "text": [
                        "(3735, 11)\n"
                    ]
                },
                {
                    "data": {
                        "application/vnd.microsoft.datawrangler.viewer.v0+json": {
                            "columns": [
                                {
                                    "name": "index",
                                    "rawType": "int64",
                                    "type": "integer"
                                },
                                {
                                    "name": "WEO_Country_Code",
                                    "rawType": "int64",
                                    "type": "integer"
                                },
                                {
                                    "name": "Country",
                                    "rawType": "object",
                                    "type": "string"
                                },
                                {
                                    "name": "Advanced_Country",
                                    "rawType": "int64",
                                    "type": "integer"
                                },
                                {
                                    "name": "Year",
                                    "rawType": "int64",
                                    "type": "integer"
                                },
                                {
                                    "name": "PCPIPCH",
                                    "rawType": "float64",
                                    "type": "float"
                                },
                                {
                                    "name": "GGSB_NPGDP",
                                    "rawType": "float64",
                                    "type": "float"
                                },
                                {
                                    "name": "GGXWDG_NGDP",
                                    "rawType": "float64",
                                    "type": "float"
                                },
                                {
                                    "name": "PPPPC",
                                    "rawType": "float64",
                                    "type": "float"
                                },
                                {
                                    "name": "TX_RPCH",
                                    "rawType": "float64",
                                    "type": "float"
                                },
                                {
                                    "name": "TM_RPCH",
                                    "rawType": "float64",
                                    "type": "float"
                                },
                                {
                                    "name": "NID_NGDP",
                                    "rawType": "float64",
                                    "type": "float"
                                }
                            ],
                            "ref": "ccddfd79-8be3-4da4-b8bb-71e99eb31b8a",
                            "rows": [
                                [
                                    "0",
                                    "614",
                                    "Angola",
                                    "0",
                                    "1980",
                                    "46.708",
                                    "1.3696547441170406",
                                    "46.347760707917885",
                                    "1510.407",
                                    "-3.0",
                                    "-39.0",
                                    "12.122"
                                ],
                                [
                                    "1",
                                    "614",
                                    "Angola",
                                    "0",
                                    "1981",
                                    "1.391",
                                    "1.346576325914964",
                                    "4.31114395145184",
                                    "1538.971",
                                    "8.0",
                                    "17.3",
                                    "13.148"
                                ],
                                [
                                    "2",
                                    "614",
                                    "Angola",
                                    "0",
                                    "1982",
                                    "1.833",
                                    "1.3161411255956152",
                                    "20.61613068942887",
                                    "1591.954",
                                    "-12.9",
                                    "1.7",
                                    "14.916"
                                ],
                                [
                                    "3",
                                    "614",
                                    "Angola",
                                    "0",
                                    "1983",
                                    "1.833",
                                    "1.2627206478873445",
                                    "14.596401289166185",
                                    "1679.796",
                                    "4.6",
                                    "-2.7",
                                    "12.381"
                                ],
                                [
                                    "4",
                                    "614",
                                    "Angola",
                                    "0",
                                    "1984",
                                    "1.833",
                                    "1.1912176605390536",
                                    "9.758853909138464",
                                    "1797.332",
                                    "12.5",
                                    "2.2",
                                    "12.347"
                                ]
                            ],
                            "shape": {
                                "columns": 11,
                                "rows": 5
                            }
                        },
                        "text/html": [
                            "<div>\n",
                            "<style scoped>\n",
                            "    .dataframe tbody tr th:only-of-type {\n",
                            "        vertical-align: middle;\n",
                            "    }\n",
                            "\n",
                            "    .dataframe tbody tr th {\n",
                            "        vertical-align: top;\n",
                            "    }\n",
                            "\n",
                            "    .dataframe thead th {\n",
                            "        text-align: right;\n",
                            "    }\n",
                            "</style>\n",
                            "<table border=\"1\" class=\"dataframe\">\n",
                            "  <thead>\n",
                            "    <tr style=\"text-align: right;\">\n",
                            "      <th></th>\n",
                            "      <th>WEO_Country_Code</th>\n",
                            "      <th>Country</th>\n",
                            "      <th>Advanced_Country</th>\n",
                            "      <th>Year</th>\n",
                            "      <th>PCPIPCH</th>\n",
                            "      <th>GGSB_NPGDP</th>\n",
                            "      <th>GGXWDG_NGDP</th>\n",
                            "      <th>PPPPC</th>\n",
                            "      <th>TX_RPCH</th>\n",
                            "      <th>TM_RPCH</th>\n",
                            "      <th>NID_NGDP</th>\n",
                            "    </tr>\n",
                            "  </thead>\n",
                            "  <tbody>\n",
                            "    <tr>\n",
                            "      <th>0</th>\n",
                            "      <td>614</td>\n",
                            "      <td>Angola</td>\n",
                            "      <td>0</td>\n",
                            "      <td>1980</td>\n",
                            "      <td>46.708</td>\n",
                            "      <td>1.369655</td>\n",
                            "      <td>46.347761</td>\n",
                            "      <td>1510.407</td>\n",
                            "      <td>-3.0</td>\n",
                            "      <td>-39.0</td>\n",
                            "      <td>12.122</td>\n",
                            "    </tr>\n",
                            "    <tr>\n",
                            "      <th>1</th>\n",
                            "      <td>614</td>\n",
                            "      <td>Angola</td>\n",
                            "      <td>0</td>\n",
                            "      <td>1981</td>\n",
                            "      <td>1.391</td>\n",
                            "      <td>1.346576</td>\n",
                            "      <td>4.311144</td>\n",
                            "      <td>1538.971</td>\n",
                            "      <td>8.0</td>\n",
                            "      <td>17.3</td>\n",
                            "      <td>13.148</td>\n",
                            "    </tr>\n",
                            "    <tr>\n",
                            "      <th>2</th>\n",
                            "      <td>614</td>\n",
                            "      <td>Angola</td>\n",
                            "      <td>0</td>\n",
                            "      <td>1982</td>\n",
                            "      <td>1.833</td>\n",
                            "      <td>1.316141</td>\n",
                            "      <td>20.616131</td>\n",
                            "      <td>1591.954</td>\n",
                            "      <td>-12.9</td>\n",
                            "      <td>1.7</td>\n",
                            "      <td>14.916</td>\n",
                            "    </tr>\n",
                            "    <tr>\n",
                            "      <th>3</th>\n",
                            "      <td>614</td>\n",
                            "      <td>Angola</td>\n",
                            "      <td>0</td>\n",
                            "      <td>1983</td>\n",
                            "      <td>1.833</td>\n",
                            "      <td>1.262721</td>\n",
                            "      <td>14.596401</td>\n",
                            "      <td>1679.796</td>\n",
                            "      <td>4.6</td>\n",
                            "      <td>-2.7</td>\n",
                            "      <td>12.381</td>\n",
                            "    </tr>\n",
                            "    <tr>\n",
                            "      <th>4</th>\n",
                            "      <td>614</td>\n",
                            "      <td>Angola</td>\n",
                            "      <td>0</td>\n",
                            "      <td>1984</td>\n",
                            "      <td>1.833</td>\n",
                            "      <td>1.191218</td>\n",
                            "      <td>9.758854</td>\n",
                            "      <td>1797.332</td>\n",
                            "      <td>12.5</td>\n",
                            "      <td>2.2</td>\n",
                            "      <td>12.347</td>\n",
                            "    </tr>\n",
                            "  </tbody>\n",
                            "</table>\n",
                            "</div>"
                        ],
                        "text/plain": [
                            "   WEO_Country_Code Country  Advanced_Country  Year  PCPIPCH  GGSB_NPGDP  \\\n",
                            "0               614  Angola                 0  1980   46.708    1.369655   \n",
                            "1               614  Angola                 0  1981    1.391    1.346576   \n",
                            "2               614  Angola                 0  1982    1.833    1.316141   \n",
                            "3               614  Angola                 0  1983    1.833    1.262721   \n",
                            "4               614  Angola                 0  1984    1.833    1.191218   \n",
                            "\n",
                            "   GGXWDG_NGDP     PPPPC  TX_RPCH  TM_RPCH  NID_NGDP  \n",
                            "0    46.347761  1510.407     -3.0    -39.0    12.122  \n",
                            "1     4.311144  1538.971      8.0     17.3    13.148  \n",
                            "2    20.616131  1591.954    -12.9      1.7    14.916  \n",
                            "3    14.596401  1679.796      4.6     -2.7    12.381  \n",
                            "4     9.758854  1797.332     12.5      2.2    12.347  "
                        ]
                    },
                    "metadata": {},
                    "output_type": "display_data"
                }
            ],
            "source": [
                "df = pd.read_csv(\"../02-Dataset/01.3-Data_Clean.csv\")\n",
                "print(df.shape)\n",
                "display(df.head())"
            ]
        },
        {
            "cell_type": "code",
            "execution_count": 48,
            "metadata": {},
            "outputs": [
                {
                    "name": "stdout",
                    "output_type": "stream",
                    "text": [
                        "<class 'pandas.core.frame.DataFrame'>\n",
                        "RangeIndex: 3735 entries, 0 to 3734\n",
                        "Data columns (total 10 columns):\n",
                        " #   Column            Non-Null Count  Dtype  \n",
                        "---  ------            --------------  -----  \n",
                        " 0   Country           3735 non-null   object \n",
                        " 1   Advanced_Country  3735 non-null   int64  \n",
                        " 2   Year              3735 non-null   int64  \n",
                        " 3   PCPIPCH           3735 non-null   float64\n",
                        " 4   GGSB_NPGDP        3735 non-null   float64\n",
                        " 5   GGXWDG_NGDP       3735 non-null   float64\n",
                        " 6   PPPPC             3735 non-null   float64\n",
                        " 7   TX_RPCH           3735 non-null   float64\n",
                        " 8   TM_RPCH           3735 non-null   float64\n",
                        " 9   NID_NGDP          3735 non-null   float64\n",
                        "dtypes: float64(7), int64(2), object(1)\n",
                        "memory usage: 291.9+ KB\n"
                    ]
                }
            ],
            "source": [
                "df.drop(columns=[ \"WEO_Country_Code\"],inplace=True)\n",
                "df.info()"
            ]
        },
        {
            "cell_type": "code",
            "execution_count": 49,
            "metadata": {},
            "outputs": [],
            "source": [
                "# # df.PCPIPCH = ((df.PCPIPCH - df.PCPIPCH.min()) / df.PCPIPCH.max())\n",
                "# # df.PCPIPCH = np.log((df.PCPIPCH+1) + df.PCPIPCH.mean())\n",
                "# # df.PCPIPCH = np.log((df.PCPIPCH+1) - df.PCPIPCH.min())\n",
                "# #df.PCPIPCH = np.log(np.abs(df.PCPIPCH))\n",
                "\n",
                "# df[\"PCPIPCH\"] = df.groupby(\"Country\")[\"PCPIPCH\"].transform( lambda x: np.log((x+1) - x.min() ))\n",
                "\n",
                "# df.PCPIPCH.describe()"
            ]
        },
        {
            "cell_type": "code",
            "execution_count": 50,
            "metadata": {},
            "outputs": [
                {
                    "data": {
                        "application/vnd.microsoft.datawrangler.viewer.v0+json": {
                            "columns": [
                                {
                                    "name": "('Country', 'Year')",
                                    "rawType": "object",
                                    "type": "unknown"
                                },
                                {
                                    "name": "Advanced_Country",
                                    "rawType": "int64",
                                    "type": "integer"
                                },
                                {
                                    "name": "PCPIPCH",
                                    "rawType": "float64",
                                    "type": "float"
                                },
                                {
                                    "name": "GGSB_NPGDP",
                                    "rawType": "float64",
                                    "type": "float"
                                },
                                {
                                    "name": "GGXWDG_NGDP",
                                    "rawType": "float64",
                                    "type": "float"
                                },
                                {
                                    "name": "PPPPC",
                                    "rawType": "float64",
                                    "type": "float"
                                },
                                {
                                    "name": "TX_RPCH",
                                    "rawType": "float64",
                                    "type": "float"
                                },
                                {
                                    "name": "TM_RPCH",
                                    "rawType": "float64",
                                    "type": "float"
                                },
                                {
                                    "name": "NID_NGDP",
                                    "rawType": "float64",
                                    "type": "float"
                                },
                                {
                                    "name": "Advanced_Country_lag",
                                    "rawType": "float64",
                                    "type": "float"
                                },
                                {
                                    "name": "PCPIPCH_lag",
                                    "rawType": "float64",
                                    "type": "float"
                                },
                                {
                                    "name": "GGSB_NPGDP_lag",
                                    "rawType": "float64",
                                    "type": "float"
                                },
                                {
                                    "name": "GGXWDG_NGDP_lag",
                                    "rawType": "float64",
                                    "type": "float"
                                },
                                {
                                    "name": "PPPPC_lag",
                                    "rawType": "float64",
                                    "type": "float"
                                },
                                {
                                    "name": "TX_RPCH_lag",
                                    "rawType": "float64",
                                    "type": "float"
                                },
                                {
                                    "name": "TM_RPCH_lag",
                                    "rawType": "float64",
                                    "type": "float"
                                },
                                {
                                    "name": "NID_NGDP_lag",
                                    "rawType": "float64",
                                    "type": "float"
                                }
                            ],
                            "ref": "86ec0395-0a8a-45b8-8b27-ec798dbfbc28",
                            "rows": [
                                [
                                    "('Angola', 1980)",
                                    "0",
                                    "46.708",
                                    "1.3696547441170406",
                                    "46.347760707917885",
                                    "1510.407",
                                    "-3.0",
                                    "-39.0",
                                    "12.122",
                                    "0.0",
                                    "46.708",
                                    "1.3696547441170406",
                                    "46.347760707917885",
                                    "1510.407",
                                    "-3.0",
                                    "-39.0",
                                    "12.122"
                                ],
                                [
                                    "('Angola', 1981)",
                                    "0",
                                    "1.391",
                                    "1.346576325914964",
                                    "4.31114395145184",
                                    "1538.971",
                                    "8.0",
                                    "17.3",
                                    "13.148",
                                    "0.0",
                                    "46.708",
                                    "1.3696547441170406",
                                    "46.347760707917885",
                                    "1510.407",
                                    "-3.0",
                                    "-39.0",
                                    "12.122"
                                ],
                                [
                                    "('Angola', 1982)",
                                    "0",
                                    "1.833",
                                    "1.3161411255956152",
                                    "20.61613068942887",
                                    "1591.954",
                                    "-12.9",
                                    "1.7",
                                    "14.916",
                                    "0.0",
                                    "1.391",
                                    "1.346576325914964",
                                    "4.31114395145184",
                                    "1538.971",
                                    "8.0",
                                    "17.3",
                                    "13.148"
                                ],
                                [
                                    "('Angola', 1983)",
                                    "0",
                                    "1.833",
                                    "1.2627206478873445",
                                    "14.596401289166185",
                                    "1679.796",
                                    "4.6",
                                    "-2.7",
                                    "12.381",
                                    "0.0",
                                    "1.833",
                                    "1.3161411255956152",
                                    "20.61613068942887",
                                    "1591.954",
                                    "-12.9",
                                    "1.7",
                                    "14.916"
                                ],
                                [
                                    "('Angola', 1984)",
                                    "0",
                                    "1.833",
                                    "1.1912176605390536",
                                    "9.758853909138464",
                                    "1797.332",
                                    "12.5",
                                    "2.2",
                                    "12.347",
                                    "0.0",
                                    "1.833",
                                    "1.2627206478873445",
                                    "14.596401289166185",
                                    "1679.796",
                                    "4.6",
                                    "-2.7",
                                    "12.381"
                                ]
                            ],
                            "shape": {
                                "columns": 16,
                                "rows": 5
                            }
                        },
                        "text/html": [
                            "<div>\n",
                            "<style scoped>\n",
                            "    .dataframe tbody tr th:only-of-type {\n",
                            "        vertical-align: middle;\n",
                            "    }\n",
                            "\n",
                            "    .dataframe tbody tr th {\n",
                            "        vertical-align: top;\n",
                            "    }\n",
                            "\n",
                            "    .dataframe thead th {\n",
                            "        text-align: right;\n",
                            "    }\n",
                            "</style>\n",
                            "<table border=\"1\" class=\"dataframe\">\n",
                            "  <thead>\n",
                            "    <tr style=\"text-align: right;\">\n",
                            "      <th></th>\n",
                            "      <th></th>\n",
                            "      <th>Advanced_Country</th>\n",
                            "      <th>PCPIPCH</th>\n",
                            "      <th>GGSB_NPGDP</th>\n",
                            "      <th>GGXWDG_NGDP</th>\n",
                            "      <th>PPPPC</th>\n",
                            "      <th>TX_RPCH</th>\n",
                            "      <th>TM_RPCH</th>\n",
                            "      <th>NID_NGDP</th>\n",
                            "      <th>Advanced_Country_lag</th>\n",
                            "      <th>PCPIPCH_lag</th>\n",
                            "      <th>GGSB_NPGDP_lag</th>\n",
                            "      <th>GGXWDG_NGDP_lag</th>\n",
                            "      <th>PPPPC_lag</th>\n",
                            "      <th>TX_RPCH_lag</th>\n",
                            "      <th>TM_RPCH_lag</th>\n",
                            "      <th>NID_NGDP_lag</th>\n",
                            "    </tr>\n",
                            "    <tr>\n",
                            "      <th>Country</th>\n",
                            "      <th>Year</th>\n",
                            "      <th></th>\n",
                            "      <th></th>\n",
                            "      <th></th>\n",
                            "      <th></th>\n",
                            "      <th></th>\n",
                            "      <th></th>\n",
                            "      <th></th>\n",
                            "      <th></th>\n",
                            "      <th></th>\n",
                            "      <th></th>\n",
                            "      <th></th>\n",
                            "      <th></th>\n",
                            "      <th></th>\n",
                            "      <th></th>\n",
                            "      <th></th>\n",
                            "      <th></th>\n",
                            "    </tr>\n",
                            "  </thead>\n",
                            "  <tbody>\n",
                            "    <tr>\n",
                            "      <th rowspan=\"5\" valign=\"top\">Angola</th>\n",
                            "      <th>1980</th>\n",
                            "      <td>0</td>\n",
                            "      <td>46.708</td>\n",
                            "      <td>1.369655</td>\n",
                            "      <td>46.347761</td>\n",
                            "      <td>1510.407</td>\n",
                            "      <td>-3.0</td>\n",
                            "      <td>-39.0</td>\n",
                            "      <td>12.122</td>\n",
                            "      <td>0.0</td>\n",
                            "      <td>46.708</td>\n",
                            "      <td>1.369655</td>\n",
                            "      <td>46.347761</td>\n",
                            "      <td>1510.407</td>\n",
                            "      <td>-3.0</td>\n",
                            "      <td>-39.0</td>\n",
                            "      <td>12.122</td>\n",
                            "    </tr>\n",
                            "    <tr>\n",
                            "      <th>1981</th>\n",
                            "      <td>0</td>\n",
                            "      <td>1.391</td>\n",
                            "      <td>1.346576</td>\n",
                            "      <td>4.311144</td>\n",
                            "      <td>1538.971</td>\n",
                            "      <td>8.0</td>\n",
                            "      <td>17.3</td>\n",
                            "      <td>13.148</td>\n",
                            "      <td>0.0</td>\n",
                            "      <td>46.708</td>\n",
                            "      <td>1.369655</td>\n",
                            "      <td>46.347761</td>\n",
                            "      <td>1510.407</td>\n",
                            "      <td>-3.0</td>\n",
                            "      <td>-39.0</td>\n",
                            "      <td>12.122</td>\n",
                            "    </tr>\n",
                            "    <tr>\n",
                            "      <th>1982</th>\n",
                            "      <td>0</td>\n",
                            "      <td>1.833</td>\n",
                            "      <td>1.316141</td>\n",
                            "      <td>20.616131</td>\n",
                            "      <td>1591.954</td>\n",
                            "      <td>-12.9</td>\n",
                            "      <td>1.7</td>\n",
                            "      <td>14.916</td>\n",
                            "      <td>0.0</td>\n",
                            "      <td>1.391</td>\n",
                            "      <td>1.346576</td>\n",
                            "      <td>4.311144</td>\n",
                            "      <td>1538.971</td>\n",
                            "      <td>8.0</td>\n",
                            "      <td>17.3</td>\n",
                            "      <td>13.148</td>\n",
                            "    </tr>\n",
                            "    <tr>\n",
                            "      <th>1983</th>\n",
                            "      <td>0</td>\n",
                            "      <td>1.833</td>\n",
                            "      <td>1.262721</td>\n",
                            "      <td>14.596401</td>\n",
                            "      <td>1679.796</td>\n",
                            "      <td>4.6</td>\n",
                            "      <td>-2.7</td>\n",
                            "      <td>12.381</td>\n",
                            "      <td>0.0</td>\n",
                            "      <td>1.833</td>\n",
                            "      <td>1.316141</td>\n",
                            "      <td>20.616131</td>\n",
                            "      <td>1591.954</td>\n",
                            "      <td>-12.9</td>\n",
                            "      <td>1.7</td>\n",
                            "      <td>14.916</td>\n",
                            "    </tr>\n",
                            "    <tr>\n",
                            "      <th>1984</th>\n",
                            "      <td>0</td>\n",
                            "      <td>1.833</td>\n",
                            "      <td>1.191218</td>\n",
                            "      <td>9.758854</td>\n",
                            "      <td>1797.332</td>\n",
                            "      <td>12.5</td>\n",
                            "      <td>2.2</td>\n",
                            "      <td>12.347</td>\n",
                            "      <td>0.0</td>\n",
                            "      <td>1.833</td>\n",
                            "      <td>1.262721</td>\n",
                            "      <td>14.596401</td>\n",
                            "      <td>1679.796</td>\n",
                            "      <td>4.6</td>\n",
                            "      <td>-2.7</td>\n",
                            "      <td>12.381</td>\n",
                            "    </tr>\n",
                            "  </tbody>\n",
                            "</table>\n",
                            "</div>"
                        ],
                        "text/plain": [
                            "              Advanced_Country  PCPIPCH  GGSB_NPGDP  GGXWDG_NGDP     PPPPC  \\\n",
                            "Country Year                                                                 \n",
                            "Angola  1980                 0   46.708    1.369655    46.347761  1510.407   \n",
                            "        1981                 0    1.391    1.346576     4.311144  1538.971   \n",
                            "        1982                 0    1.833    1.316141    20.616131  1591.954   \n",
                            "        1983                 0    1.833    1.262721    14.596401  1679.796   \n",
                            "        1984                 0    1.833    1.191218     9.758854  1797.332   \n",
                            "\n",
                            "              TX_RPCH  TM_RPCH  NID_NGDP  Advanced_Country_lag  PCPIPCH_lag  \\\n",
                            "Country Year                                                                  \n",
                            "Angola  1980     -3.0    -39.0    12.122                   0.0       46.708   \n",
                            "        1981      8.0     17.3    13.148                   0.0       46.708   \n",
                            "        1982    -12.9      1.7    14.916                   0.0        1.391   \n",
                            "        1983      4.6     -2.7    12.381                   0.0        1.833   \n",
                            "        1984     12.5      2.2    12.347                   0.0        1.833   \n",
                            "\n",
                            "              GGSB_NPGDP_lag  GGXWDG_NGDP_lag  PPPPC_lag  TX_RPCH_lag  \\\n",
                            "Country Year                                                            \n",
                            "Angola  1980        1.369655        46.347761   1510.407         -3.0   \n",
                            "        1981        1.369655        46.347761   1510.407         -3.0   \n",
                            "        1982        1.346576         4.311144   1538.971          8.0   \n",
                            "        1983        1.316141        20.616131   1591.954        -12.9   \n",
                            "        1984        1.262721        14.596401   1679.796          4.6   \n",
                            "\n",
                            "              TM_RPCH_lag  NID_NGDP_lag  \n",
                            "Country Year                             \n",
                            "Angola  1980        -39.0        12.122  \n",
                            "        1981        -39.0        12.122  \n",
                            "        1982         17.3        13.148  \n",
                            "        1983          1.7        14.916  \n",
                            "        1984         -2.7        12.381  "
                        ]
                    },
                    "execution_count": 50,
                    "metadata": {},
                    "output_type": "execute_result"
                }
            ],
            "source": [
                "panel_df = df.set_index(['Country', 'Year'])\n",
                "\n",
                "# for n in panel_df.columns: \n",
                "#     # Include lagged inflation as independent variable (lag 1)\n",
                "#     panel_df[f'{n}_lag'] = panel_df.groupby(level=0)[f'{n}'].shift(1)\n",
                "#     panel_df[f'{n}_lag'] = panel_df[f'{n}_lag'].fillna(\n",
                "#         panel_df.groupby(level=0)[f'{n}'].transform('first')\n",
                "#     )\n",
                "\n",
                "panel_df.head()"
            ]
        },
        {
            "cell_type": "markdown",
            "metadata": {},
            "source": [
                "<a id='1'></a>\n",
                "\n",
                "### **1. Split dataset:**"
            ]
        },
        {
            "cell_type": "code",
            "execution_count": 61,
            "metadata": {},
            "outputs": [],
            "source": [
                "# ========== Split data for out-of-sample forecasting ==========\n",
                "# Define dependent and independent variables\n",
                "y = panel_df['PCPIPCH']  # Inflation Rate (Consumer Prices, annual %)\n",
                "X_vars = [\n",
                "\n",
                "    # 2. Public Finance\n",
                "    \"GGSB_NPGDP\",   ## General government structural balance\n",
                "    \"GGXWDG_NGDP\",  # General government gross debt (% of GDP)\n",
                "\n",
                "\n",
                "    \n",
                "    # 3. Economic Output & Productivity & Exchange & Purchasing Power\n",
                "    \"PPPPC\",        # GDP per capita based on PPP\n",
                "    \n",
                "\n",
                "    # 4. International Trade & Balance\n",
                "    \"TX_RPCH\",      # Export volume growth\n",
                "    \"TM_RPCH\",      ## Import volume growth\n",
                "    \n",
                "\n",
                "    # 5. Savings & Investment\n",
                "    \"NID_NGDP\",     ## Investment (% of GDP)\n",
                "    \n",
                "\n",
                "    # 6. Metadata\n",
                "   \"Advanced_Country\"\n",
                "    \n",
                "]\n",
                "\n",
                "X = panel_df[X_vars]\n",
                "#X = sm.add_constant(X)\n",
                "\n",
                "\n",
                "# Helper function for metrics\n",
                "def evaluate(y_true, y_pred):\n",
                "    rmse = np.sqrt(mean_squared_error(y_true, y_pred))\n",
                "    r2 = r2_score(y_true, y_pred)\n",
                "    return rmse, r2\n"
            ]
        },
        {
            "cell_type": "code",
            "execution_count": 62,
            "metadata": {},
            "outputs": [
                {
                    "name": "stdout",
                    "output_type": "stream",
                    "text": [
                        "            feature       VIF\n",
                        "0        GGSB_NPGDP  5.264086\n",
                        "1       GGXWDG_NGDP  5.505110\n",
                        "2             PPPPC  3.221777\n",
                        "3           TX_RPCH  1.759235\n",
                        "4           TM_RPCH  1.720691\n",
                        "5          NID_NGDP  2.338008\n",
                        "6  Advanced_Country  2.784970\n"
                    ]
                }
            ],
            "source": [
                "# ===============================\n",
                "# Multicollinearity\n",
                "from statsmodels.stats.outliers_influence import variance_inflation_factor\n",
                "X_np = X.values\n",
                "\n",
                "vif_data = pd.DataFrame()\n",
                "vif_data[\"feature\"] = X.columns\n",
                "vif_data[\"VIF\"] = [variance_inflation_factor(X_np, i) for i in range(X_np.shape[1])]\n",
                "\n",
                "print(vif_data)"
            ]
        },
        {
            "cell_type": "code",
            "execution_count": null,
            "metadata": {},
            "outputs": [],
            "source": [
                "# Use years up to 2015 for training, after 2015 for testing\n",
                "train = panel_df.reset_index()\n",
                "train = train[train['Year'] <= 2024].set_index(['Country', 'Year'])\n",
                "test = panel_df.reset_index()\n",
                "test = test[test['Year'] >= 2015].set_index(['Country', 'Year'])\n",
                "\n",
                "y_train = train['PCPIPCH']\n",
                "X_train = train[X_vars]\n",
                "#X_train = sm.add_constant(X_train)\n",
                "\n",
                "y_test = test['PCPIPCH']\n",
                "X_test = test[X_vars]\n",
                "\n",
                "#X_test = sm.add_constant(X_test)\n"
            ]
        },
        {
            "cell_type": "markdown",
            "metadata": {},
            "source": [
                "<a id='2.A'></a>\n",
                "\n",
                "### **2.A. Treaning  Pooled OLS model:**\n"
            ]
        },
        {
            "cell_type": "code",
            "execution_count": 75,
            "metadata": {},
            "outputs": [
                {
                    "name": "stdout",
                    "output_type": "stream",
                    "text": [
                        "Pooled OLS Results:\n",
                        "                          PooledOLS Estimation Summary                          \n",
                        "================================================================================\n",
                        "Dep. Variable:                PCPIPCH   R-squared:                        0.4589\n",
                        "Estimator:                  PooledOLS   R-squared (Between):              0.3626\n",
                        "No. Observations:                3735   R-squared (Within):               0.4684\n",
                        "Date:                Wed, Jun 11 2025   R-squared (Overall):              0.4589\n",
                        "Time:                        18:55:34   Log-likelihood                -2.405e+04\n",
                        "Cov. Estimator:            Unadjusted                                           \n",
                        "                                        F-statistic:                      527.18\n",
                        "Entities:                          83   P-value                           0.0000\n",
                        "Avg Obs:                       45.000   Distribution:                  F(6,3729)\n",
                        "Min Obs:                       45.000                                           \n",
                        "Max Obs:                       45.000   F-statistic (robust):             527.18\n",
                        "                                        P-value                           0.0000\n",
                        "Time periods:                      45   Distribution:                  F(6,3729)\n",
                        "Avg Obs:                       83.000                                           \n",
                        "Min Obs:                       83.000                                           \n",
                        "Max Obs:                       83.000                                           \n",
                        "                                                                                \n",
                        "                              Parameter Estimates                              \n",
                        "===============================================================================\n",
                        "             Parameter  Std. Err.     T-stat    P-value    Lower CI    Upper CI\n",
                        "-------------------------------------------------------------------------------\n",
                        "GGSB_NPGDP     -3.9755     0.3173    -12.529     0.0000     -4.5976     -3.3534\n",
                        "GGXWDG_NGDP     0.3279     0.0262     12.537     0.0000      0.2766      0.3791\n",
                        "PPPPC          -0.0006     0.0001    -4.9873     0.0000     -0.0009     -0.0004\n",
                        "TX_RPCH        -0.0132     0.2153    -0.0612     0.9512     -0.4354      0.4090\n",
                        "TM_RPCH         0.7324     0.2024     3.6189     0.0003      0.3356      1.1293\n",
                        "NID_NGDP        0.0929     0.1487     0.6245     0.5324     -0.1987      0.3845\n",
                        "===============================================================================\n",
                        "Pooled OLS RMSE (out-of-sample): 28.9366 \n",
                        "Pooled OLS R_sq (out-of-sample): -4.3540\n"
                    ]
                }
            ],
            "source": [
                "# ===============================\n",
                "# A. Pooled OLS model\n",
                "pooled_ols_model = PooledOLS(y_train, X_train)\n",
                "pooled_ols_res = pooled_ols_model.fit()\n",
                "print(\"Pooled OLS Results:\")\n",
                "print(pooled_ols_res.summary)\n",
                "\n",
                "# Predict and evaluate RMSE\n",
                "pooled_preds = pooled_ols_res.predict(X_test)\n",
                "pooled_rmse,pooled_r2 = evaluate(y_test, pooled_preds)\n",
                "print(f\"Pooled OLS RMSE (out-of-sample): {pooled_rmse:.4f} \\nPooled OLS R_sq (out-of-sample): {pooled_r2:.4f}\" )"
            ]
        },
        {
            "cell_type": "markdown",
            "metadata": {},
            "source": [
                "<a id='2.B'></a>\n",
                "\n",
                "### **2.B. Treaning  Fixed Effects model:**"
            ]
        },
        {
            "cell_type": "code",
            "execution_count": null,
            "metadata": {},
            "outputs": [],
            "source": [
                "X_train = X_train.drop(columns=['Advanced_Country'], errors='ignore')\n",
                "X_test = X_test.drop(columns=['Advanced_Country'], errors='ignore')\n"
            ]
        },
        {
            "cell_type": "code",
            "execution_count": 67,
            "metadata": {},
            "outputs": [
                {
                    "name": "stdout",
                    "output_type": "stream",
                    "text": [
                        "Fixed Effects Results:\n",
                        "                          PanelOLS Estimation Summary                           \n",
                        "================================================================================\n",
                        "Dep. Variable:                PCPIPCH   R-squared:                        0.4686\n",
                        "Estimator:                   PanelOLS   R-squared (Between):              0.3381\n",
                        "No. Observations:                3735   R-squared (Within):               0.4686\n",
                        "Date:                Wed, Jun 11 2025   R-squared (Overall):              0.4570\n",
                        "Time:                        14:38:20   Log-likelihood                -2.384e+04\n",
                        "Cov. Estimator:            Unadjusted                                           \n",
                        "                                        F-statistic:                      535.95\n",
                        "Entities:                          83   P-value                           0.0000\n",
                        "Avg Obs:                       45.000   Distribution:                  F(6,3646)\n",
                        "Min Obs:                       45.000                                           \n",
                        "Max Obs:                       45.000   F-statistic (robust):             535.95\n",
                        "                                        P-value                           0.0000\n",
                        "Time periods:                      45   Distribution:                  F(6,3646)\n",
                        "Avg Obs:                       83.000                                           \n",
                        "Min Obs:                       83.000                                           \n",
                        "Max Obs:                       83.000                                           \n",
                        "                                                                                \n",
                        "                              Parameter Estimates                              \n",
                        "===============================================================================\n",
                        "             Parameter  Std. Err.     T-stat    P-value    Lower CI    Upper CI\n",
                        "-------------------------------------------------------------------------------\n",
                        "GGSB_NPGDP     -4.2066     0.3314    -12.692     0.0000     -4.8564     -3.5568\n",
                        "GGXWDG_NGDP     0.3169     0.0274     11.563     0.0000      0.2632      0.3706\n",
                        "PPPPC          -0.0006     0.0002    -3.3779     0.0007     -0.0010     -0.0003\n",
                        "TX_RPCH         0.0321     0.2212     0.1449     0.8848     -0.4016      0.4657\n",
                        "TM_RPCH         0.7695     0.2032     3.7874     0.0002      0.3711      1.1678\n",
                        "NID_NGDP       -0.2718     0.4377    -0.6209     0.5347     -1.1300      0.5865\n",
                        "===============================================================================\n",
                        "\n",
                        "F-test for Poolability: 5.2416\n",
                        "P-value: 0.0000\n",
                        "Distribution: F(82,3646)\n",
                        "\n",
                        "Included effects: Entity\n",
                        "Fixed Effects RMSE (out-of-sample): 28.3705\n",
                        "Fixed Effects R_sq (out-of-sample):-4.1466\n"
                    ]
                }
            ],
            "source": [
                "# ===============================\n",
                "# B. Fixed Effects model\n",
                "\n",
                "fe_model = PanelOLS(y_train, X_train, entity_effects=True)\n",
                "fe_res = fe_model.fit()\n",
                "print(\"Fixed Effects Results:\")\n",
                "print(fe_res.summary)\n",
                "\n",
                "# Predict (note: fixed effects prediction only valid for known entities in test set)\n",
                "fe_preds = fe_res.predict(X_test)\n",
                "fe_rmse, fe_r2 = evaluate(y_test, fe_preds)\n",
                "print(f\"Fixed Effects RMSE (out-of-sample): {fe_rmse:.4f}\\nFixed Effects R_sq (out-of-sample):{fe_r2:.4f}\")"
            ]
        },
        {
            "cell_type": "markdown",
            "metadata": {},
            "source": [
                "<a id='2.C'></a>\n",
                "\n",
                "### **2.C. Treaning  Random Effects model:**"
            ]
        },
        {
            "cell_type": "code",
            "execution_count": 68,
            "metadata": {},
            "outputs": [
                {
                    "name": "stdout",
                    "output_type": "stream",
                    "text": [
                        "Random Effects Results:\n",
                        "                        RandomEffects Estimation Summary                        \n",
                        "================================================================================\n",
                        "Dep. Variable:                PCPIPCH   R-squared:                        0.4666\n",
                        "Estimator:              RandomEffects   R-squared (Between):              0.3593\n",
                        "No. Observations:                3735   R-squared (Within):               0.4686\n",
                        "Date:                Wed, Jun 11 2025   R-squared (Overall):              0.4588\n",
                        "Time:                        14:38:21   Log-likelihood                -2.389e+04\n",
                        "Cov. Estimator:            Unadjusted                                           \n",
                        "                                        F-statistic:                      543.76\n",
                        "Entities:                          83   P-value                           0.0000\n",
                        "Avg Obs:                       45.000   Distribution:                  F(6,3729)\n",
                        "Min Obs:                       45.000                                           \n",
                        "Max Obs:                       45.000   F-statistic (robust):             543.76\n",
                        "                                        P-value                           0.0000\n",
                        "Time periods:                      45   Distribution:                  F(6,3729)\n",
                        "Avg Obs:                       83.000                                           \n",
                        "Min Obs:                       83.000                                           \n",
                        "Max Obs:                       83.000                                           \n",
                        "                                                                                \n",
                        "                              Parameter Estimates                              \n",
                        "===============================================================================\n",
                        "             Parameter  Std. Err.     T-stat    P-value    Lower CI    Upper CI\n",
                        "-------------------------------------------------------------------------------\n",
                        "GGSB_NPGDP     -4.1541     0.3254    -12.768     0.0000     -4.7919     -3.5162\n",
                        "GGXWDG_NGDP     0.3201     0.0269     11.913     0.0000      0.2674      0.3727\n",
                        "PPPPC          -0.0006     0.0002    -3.7578     0.0002     -0.0009     -0.0003\n",
                        "TX_RPCH         0.0168     0.2178     0.0770     0.9386     -0.4102      0.4437\n",
                        "TM_RPCH         0.7597     0.2011     3.7771     0.0002      0.3654      1.1541\n",
                        "NID_NGDP        0.0030     0.2294     0.0129     0.9897     -0.4467      0.4527\n",
                        "===============================================================================\n",
                        "Random Effects RMSE (out-of-sample): 28.5822\n",
                        "Random Effects R_sq (out-of-sample): -4.2237\n"
                    ]
                }
            ],
            "source": [
                "# ===============================\n",
                "# c. Random Effects model\n",
                "re_model = RandomEffects(y_train, X_train)\n",
                "re_res = re_model.fit()\n",
                "print(\"Random Effects Results:\")\n",
                "print(re_res.summary)\n",
                "\n",
                "# Predict and RMSE\n",
                "re_preds = re_res.predict(X_test)\n",
                "re_rmse, re_r2 = evaluate(y_test, re_preds)\n",
                "print(f\"Random Effects RMSE (out-of-sample): {re_rmse:.4f}\\nRandom Effects R_sq (out-of-sample): {re_r2:.4f}\")\n"
            ]
        },
        {
            "cell_type": "markdown",
            "metadata": {},
            "source": [
                "<a id='3.A'></a>\n",
                "\n",
                "### **3.A. Wald test: Pooled OLS vs Fixed Effects:**"
            ]
        },
        {
            "cell_type": "code",
            "execution_count": null,
            "metadata": {},
            "outputs": [
                {
                    "name": "stdout",
                    "output_type": "stream",
                    "text": [
                        "Wald Test (F-test) for joint significance of entity effects:\n",
                        "                   Model Comparison                  \n",
                        "=====================================================\n",
                        "                            Pooled OLS  Fixed Effects\n",
                        "-----------------------------------------------------\n",
                        "Dep. Variable                  PCPIPCH        PCPIPCH\n",
                        "Estimator                    PooledOLS       PanelOLS\n",
                        "No. Observations                  3735           3735\n",
                        "Cov. Est.                   Unadjusted     Unadjusted\n",
                        "R-squared                       0.4603         0.4686\n",
                        "R-Squared (Within)              0.4680         0.4686\n",
                        "R-Squared (Between)             0.3823         0.3381\n",
                        "R-Squared (Overall)             0.4603         0.4570\n",
                        "F-statistic                     454.25         535.95\n",
                        "P-value (F-stat)                0.0000         0.0000\n",
                        "=====================     ============   ============\n",
                        "GGSB_NPGDP                     -4.0484        -4.2066\n",
                        "                             (-12.738)      (-12.692)\n",
                        "GGXWDG_NGDP                     0.3216         0.3169\n",
                        "                              (12.276)       (11.563)\n",
                        "PPPPC                          -0.0003        -0.0006\n",
                        "                             (-1.9546)      (-3.3779)\n",
                        "TX_RPCH                        -0.0021         0.0321\n",
                        "                             (-0.0098)       (0.1449)\n",
                        "TM_RPCH                         0.7340         0.7695\n",
                        "                              (3.6306)       (3.7874)\n",
                        "NID_NGDP                        0.1820        -0.2718\n",
                        "                              (1.2025)      (-0.6209)\n",
                        "Advanced_Country               -19.344               \n",
                        "                             (-3.0790)               \n",
                        "======================= ============== ==============\n",
                        "Effects                                        Entity\n",
                        "-----------------------------------------------------\n",
                        "\n",
                        "T-stats reported in parentheses\n"
                    ]
                }
            ],
            "source": [
                "# ===============================\n",
                "# Wald test: Pooled OLS vs Fixed Effects  (joint significance of entity effects)\n",
                "\n",
                "comparison = compare({ 'Pooled OLS': pooled_ols_res, 'Fixed Effects': fe_res})\n",
                "print(\"Wald Test (F-test) for joint significance of entity effects:\")\n",
                "print(comparison)\n"
            ]
        },
        {
            "cell_type": "markdown",
            "metadata": {},
            "source": [
                "<a id='3.B'></a>\n",
                "\n",
                "### **3.B. Hausman test: fixed vs random effects:**"
            ]
        },
        {
            "cell_type": "code",
            "execution_count": null,
            "metadata": {},
            "outputs": [
                {
                    "name": "stdout",
                    "output_type": "stream",
                    "text": [
                        "Hausman test statistic: 2.6467, p-value: 0.8517\n",
                        "Hausman test suggests Random Effects preferred.\n"
                    ]
                }
            ],
            "source": [
                "# ===============================\n",
                "# Hausman test: fixed vs random effects\n",
                "def hausman(fe, re):\n",
                "    b_diff = fe.params - re.params\n",
                "    cov_diff = fe.cov - re.cov\n",
                "    stat = np.dot(np.dot(b_diff.T, np.linalg.inv(cov_diff)), b_diff)\n",
                "    df_n = b_diff.shape[0]\n",
                "    pval = 1 - chi2.cdf(stat, df_n)\n",
                "    return stat, pval\n",
                "\n",
                "haus_stat, haus_pval = hausman(fe_res, re_res)\n",
                "print(f\"Hausman test statistic: {haus_stat:.4f}, p-value: {haus_pval:.4f}\")\n",
                "if haus_pval < 0.05:\n",
                "    print(\"Hausman test suggests Fixed Effects preferred.\")\n",
                "else:\n",
                "    print(\"Hausman test suggests Random Effects preferred.\")"
            ]
        },
        {
            "cell_type": "markdown",
            "metadata": {},
            "source": [
                "<a id='4.A'></a>\n",
                "\n",
                "### **4.A. Heteroskedasticity tests :**"
            ]
        },
        {
            "cell_type": "code",
            "execution_count": 72,
            "metadata": {},
            "outputs": [
                {
                    "name": "stdout",
                    "output_type": "stream",
                    "text": [
                        "Breusch-Pagan test: stat=14.6902, p-value=0.0228\n",
                        "White test: stat=1122.6717, p-value=0.0000\n"
                    ]
                }
            ],
            "source": [
                "# ===============================\n",
                "# A. Heteroskedasticity tests (Breusch-Pagan and White)\n",
                "\n",
                "X_with_const = sm.add_constant(X_train, has_constant='add')\n",
                "\n",
                "fe_residuals = re_res.resids\n",
                "\n",
                "bp_test = het_breuschpagan(fe_residuals, X_with_const)\n",
                "print(f\"Breusch-Pagan test: stat={bp_test[0]:.4f}, p-value={bp_test[1]:.4f}\")\n",
                "white_test = het_white(fe_residuals, X_with_const)\n",
                "print(f\"White test: stat={white_test[0]:.4f}, p-value={white_test[1]:.4f}\")\n"
            ]
        },
        {
            "cell_type": "markdown",
            "metadata": {},
            "source": [
                "<a id='4.B'></a>\n",
                "\n",
                "### **4.B. Serial Correlation test:**"
            ]
        },
        {
            "cell_type": "code",
            "execution_count": 73,
            "metadata": {},
            "outputs": [
                {
                    "name": "stdout",
                    "output_type": "stream",
                    "text": [
                        "Breusch-Godfrey test for serial correlation: LM stat=868.9845, p-value=0.0000\n"
                    ]
                }
            ],
            "source": [
                "# ===============================\n",
                "# 3. Serial Correlation test (Breusch-Godfrey) on Fixed Effects residuals\n",
                "bg_test = acorr_breusch_godfrey(sm.OLS(y_train, X_train).fit(), nlags=2)\n",
                "print(f\"Breusch-Godfrey test for serial correlation: LM stat={bg_test[0]:.4f}, p-value={bg_test[1]:.4f}\")"
            ]
        },
        {
            "cell_type": "markdown",
            "metadata": {},
            "source": [
                "<a id='5'></a>\n",
                "\n",
                "### **5. Summary of RMSEs and R_sq for model comparison:**"
            ]
        },
        {
            "cell_type": "code",
            "execution_count": 74,
            "metadata": {},
            "outputs": [
                {
                    "name": "stdout",
                    "output_type": "stream",
                    "text": [
                        "\n",
                        "========== Model Performance Summary ==========\n",
                        "Model                                RMSE         R²\n",
                        "Pooled OLS                        30.1637    -4.8177\n",
                        "Fixed Effects                     28.3705    -4.1466\n",
                        "Random Effects                    28.5822    -4.2237\n"
                    ]
                }
            ],
            "source": [
                "# ===============================\n",
                "# Summary of RMSEs and R_sq for model comparison\n",
                "print(\"\\n========== Model Performance Summary ==========\")\n",
                "print(f\"{'Model':<30} {'RMSE':>10} {'R²':>10}\")\n",
                "print(f\"{'Pooled OLS':<30} {pooled_rmse:>10.4f} {pooled_r2:>10.4f}\")\n",
                "print(f\"{'Fixed Effects':<30} {fe_rmse:>10.4f} {fe_r2:>10.4f}\")\n",
                "print(f\"{'Random Effects':<30} {re_rmse:>10.4f} {re_r2:>10.4f}\")\n"
            ]
        },
        {
            "cell_type": "markdown",
            "metadata": {},
            "source": [
                "# **END**"
            ]
        },
        {
            "cell_type": "markdown",
            "metadata": {},
            "source": []
        }
    ],
    "metadata": {
        "hide_input": false,
        "kernelspec": {
            "display_name": "base",
            "language": "python",
            "name": "python3"
        },
        "language_info": {
            "codemirror_mode": {
                "name": "ipython",
                "version": 3
            },
            "file_extension": ".py",
            "mimetype": "text/x-python",
            "name": "python",
            "nbconvert_exporter": "python",
            "pygments_lexer": "ipython3",
            "version": "3.12.7"
        }
    },
    "nbformat": 4,
    "nbformat_minor": 2
}
