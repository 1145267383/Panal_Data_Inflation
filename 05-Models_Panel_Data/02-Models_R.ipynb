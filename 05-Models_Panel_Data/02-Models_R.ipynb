{
    "cells": [
        {
            "cell_type": "markdown",
            "metadata": {
                "azdata_cell_guid": "70d09cdf-17ef-4796-a9de-5e457fe84246"
            },
            "source": [
                "## **Project: Study On Panel Data Methodologies With Application To Macroeconometrics (Inflation Forecasting)**.\n",
                "\n",
                "> ### **Title**: Merge of Dataset.\n",
                "\n",
                "\n",
                "#### **Table of Contents:**\n",
                "<ul>\n",
                "<li><a href=\"#1\">1. .</a></li>\n",
                "<li><a href=\"#2\">2. .</a></li>\n",
                "<li><a href=\"#3\">3. .</a></li>\n",
                "</ul>"
            ]
        },
        {
            "cell_type": "markdown",
            "metadata": {},
            "source": [
                "<a id=''></a>\n",
                "\n",
                "#### Dataset Description and Variable Overview:\n",
                "\n",
                "The dataset includes annual macroeconomic data for  **70 countries** over the period **2000–2024**. Most variables are sourced from the **IMF’s World Economic Outlook (WEO)**, except **TRWMA**, which is derived from the **World Bank**. The target variable is **PCPIPCH** (Inflation, average consumer prices). Below is the list of variables used:\n",
                "\n",
                "| **Variable Code** | **Description**                                    | **Units**                                         |\n",
                "| ----------------- | -------------------------------------------------- | ------------------------------------------------- |\n",
                "| Country_Code      | ID number for each country                         | ID                                                |\n",
                "| Country           | Name of 70 countries                               | String                                            |\n",
                "| Advanced_Country  | Is the country developed (1) or developing (0)?    | Boolean                                           |\n",
                "| Years             | date from 2000 to 2024                             | Date                                              |\n",
                "| NGDP_RPCH         | Gross domestic product, constant prices            | Percent change                                    |\n",
                "| PPPPC             | Gross domestic product per capita, current prices  | Purchasing power parity; international dollars    |\n",
                "| PPPSH             | Gross domestic product based on purchasing-power-parity (PPP) share of world total | Percent           |\n",
                "| NGSD_NGDP         | Gross national savings                             | Percent of GDP                                    |\n",
                "| NID_NGDP          | Total investment                                   | Percent of GDP                                    |\n",
                "| PPPEX             | Implied PPP conversion rate                        | National currency per current international dollar|\n",
                "| TX_RPCH           | Volume of exports of goods and services            | Percent change                                    |\n",
                "| TM_RPCH           | Volume of imports of goods and services            | Percent change                                    |\n",
                "| LUR               | Unemployment rate                                  | Percent of total labor force                      |\n",
                "| GGR_NGDP          | General government revenue                         | Percent of GDP                                    |\n",
                "| GGX_NGDP          | General government total expenditure               | Percent of GDP                                    |\n",
                "| GGSB_NPGDP        | General government structural balance              | Percent of potential GDP                          |\n",
                "| GGXWDG_NGDP       | General government gross debt                      | Percent of GDP                                    |\n",
                "| BCA_NGDPD         | Current account balance                            | Percent of GDP                                    |\n",
                "| TRWMA             | Tariff rate, applied, weighted mean, all products  | Percent                                           |\n",
                "| **PCPIPCH**       | Inflation, average consumer prices `(Target)`      | Percent change                                    |\n",
                "\n",
                "\n",
                "\n",
                "---\n"
            ]
        },
        {
            "cell_type": "markdown",
            "metadata": {},
            "source": []
        },
        {
            "cell_type": "markdown",
            "metadata": {},
            "source": [
                "\n",
                "#### **1. Inflation & Price Stability (التضخم واستقرار الأسعار)**\n",
                "\n",
                "| Variable Code    | Term             | التفسير |                تأثيره على التضخم                                            |\n",
                "| ---------------- | ---------------- | --------------------------------- | --------------------------------------------------- |\n",
                "| **PCPIPCH**   | Inflation (CPI) | معدل التضخم بناءً على متوسط أسعار المستهلكين؛ مؤشر رئيسي لاستقرار الأسعار. | المتغير الهدف، ويقيس بشكل مباشر مدى ارتفاع الأسعار. |\n",
                "\n",
                "---\n",
                "\n",
                "#### **2. Public Finance (المالية العامة)**\n",
                "\n",
                "| Variable Code    | Term             | التفسير |                تأثيره على التضخم                                            |\n",
                "| ---------------- | ---------------- | --------------------------------- | --------------------------------------------------- |\n",
                "| **GGR_NGDP**    | Government Revenue (% of GDP)     | إيرادات الحكومة كنسبة من الناتج؛ تشمل الضرائب والإيرادات الأخرى.       | الإيرادات المرتفعة قد تخفف التضخم من خلال تقليص الطلب الكلي.              |\n",
                "| **GGX_NGDP**    | Government Expenditure (% of GDP) | نفقات الحكومة كنسبة من الناتج؛ تشمل الإنفاق على الخدمات العامة والدعم. | زيادة الإنفاق الحكومي قد تؤدي إلى زيادة التضخم من خلال رفع الطلب الكلي.   |\n",
                "| **GGSB_NPGDP**  | Structural Budget Balance         | الميزان الهيكلي بعد خصم أثر الدورة الاقتصادية.                         | الفائض الهيكلي يُعتبر إشارة إلى سياسة مالية انكماشية تقلل من التضخم.      |\n",
                "| **GGXWDG_NGDP** | Gross Government Debt (% of GDP)  | الدين العام كنسبة من الناتج؛ يعكس عبء الحكومة المالي.                  | ارتفاع الدين قد يُجبر الحكومة على التوسع النقدي مستقبلاً مما يزيد التضخم. |\n",
                "\n",
                "\n",
                "---\n",
                "\n",
                "\n",
                "#### **3. Economic Output & Productivity (الإنتاجية والناتج الاقتصادي)**\n",
                "\n",
                "| Variable Code    | Term             | التفسير |                تأثيره على التضخم                                            |\n",
                "| ---------------- | ---------------- | --------------------------------- | --------------------------------------------------- |\n",
                "| **NGDP_RPCH** | Real GDP Growth        | معدل نمو الناتج المحلي الإجمالي الحقيقي، يعكس النشاط الاقتصادي. | النمو المرتفع قد يؤدي إلى تضخم إذا زاد الطلب الكلي أكثر من العرض.                  |\n",
                "| **PPPPC**      | GDP per Capita (PPP)   | نصيب الفرد من الناتج باستخدام تعادل القوة الشرائية.             | ارتفاعه يشير إلى قدرة شرائية أعلى، ما قد يدفع بالأسعار إلى الارتفاع.               |\n",
                "| **PPPSH**      | PPP Share of World GDP | حصة الدولة من الناتج العالمي حسب القوة الشرائية.                | تأثير غير مباشر؛ يعكس القوة الاقتصادية النسبية والتي قد تؤثر على تدفقات رأس المال. |\n",
                "\n",
                "---\n",
                "\n",
                "#### **4. Exchange & Purchasing Power (سعر الصرف والقوة الشرائية)**\n",
                "\n",
                "| Variable Code    | Term             | التفسير |                تأثيره على التضخم                                            |\n",
                "| ---------------- | ---------------- | --------------------------------- | --------------------------------------------------- |\n",
                "| **PPPEX**     | PPP Conversion Factor | معدل التحويل على أساس تعادل القوة الشرائية. | انخفاض قيمة العملة المحلية مقابل الدولار قد يزيد من تكلفة الاستيراد وبالتالي التضخم. |\n",
                "\n",
                "---\n",
                "\n",
                "#### **5. International Trade & Balance (التجارة الدولية والحساب الجاري)**\n",
                "\n",
                "| Variable Code    | Term             | التفسير |                تأثيره على التضخم                                            |\n",
                "| ---------------- | ---------------- | --------------------------------- | --------------------------------------------------- |\n",
                "| **TX_RPCH**   | Export Volume Growth            | نمو حجم الصادرات.                   | زيادة الصادرات قد تقلل المعروض المحلي وترفع الأسعار.                |\n",
                "| **TM_RPCH**   | Import Volume Growth            | نمو حجم الواردات.                   | زيادة الواردات توفر بدائل أرخص وتقلل من التضخم.                     |\n",
                "| **BCA_NGDPD** | Current Account Balance (% GDP) | رصيد الحساب الجاري كنسبة من الناتج. | فائض الحساب الجاري يعكس تدفق عملات أجنبية مما يدعم استقرار الأسعار. |\n",
                "| **TRWMA**      | Weighted Tariff Rate            | متوسط الرسوم الجمركية المطبقة.      | الرسوم العالية على الواردات ترفع الأسعار وتزيد التضخم.              |\n",
                "\n",
                "---\n",
                "\n",
                "#### **6. Savings & Investment (الادخار والاستثمار)**\n",
                "\n",
                "| Variable Code    | Term             | التفسير |                تأثيره على التضخم                                            |\n",
                "| ---------------- | ---------------- | --------------------------------- | --------------------------------------------------- |\n",
                "| **NGSD_NGDP** | Gross National Savings  | الادخار الوطني كنسبة من الناتج.     | ارتفاع الادخار يقلل من الاستهلاك وبالتالي يقلل الضغط التضخمي. |\n",
                "| **NID_NGDP**  | Gross Capital Formation | الاستثمار الإجمالي كنسبة من الناتج. | استثمار أكبر قد يرفع الإنتاج في الأجل الطويل مما يقلل التضخم. |\n",
                "\n",
                "---\n",
                "\n",
                "#### **7. Labor Market Indicators (سوق العمل)**\n",
                "\n",
                "| Variable Code    | Term             | التفسير |                تأثيره على التضخم                                            |\n",
                "| ---------------- | ---------------- | --------------------------------- | --------------------------------------------------- |\n",
                "| **LUR**       | Unemployment Rate | معدل البطالة كنسبة من القوة العاملة. | انخفاض البطالة قد يرفع الأجور وبالتالي الأسعار، مما يزيد التضخم. |\n",
                "\n",
                "---\n",
                "\n",
                "#### **8. Country Metadata (بيانات الدول)**\n",
                "\n",
                "| Variable Code    | Term             | التفسير |                تأثيره على التضخم                                            |\n",
                "| ---------------- | ---------------- | --------------------------------- | --------------------------------------------------- |\n",
                "| **Country_Code**     | Country ID         | معرف رقمي فريد لكل دولة. | -                 |\n",
                "| **Country**           | Country Name       | اسم الدولة.              | -                 |\n",
                "| **Advanced_Country** | Development Status | متقدمة (1) أو نامية (0). | -                 |\n",
                "| **Years**             | Year               | السنة ما بين 2000 و2024. | -                 |\n",
                "\n",
                "---\n",
                "\n"
            ]
        },
        {
            "cell_type": "markdown",
            "metadata": {},
            "source": []
        },
        {
            "cell_type": "markdown",
            "metadata": {
                "azdata_cell_guid": "2a1b7248-0b53-45b6-ad95-efa0cb002705"
            },
            "source": [
                "**Import Library**"
            ]
        },
        {
            "cell_type": "code",
            "execution_count": 2,
            "metadata": {
                "azdata_cell_guid": "93c6991b-cad5-4222-a2fe-f38fcc5eb109",
                "language": "sql",
                "vscode": {
                    "languageId": "r"
                }
            },
            "outputs": [],
            "source": [
                "# Load required libraries\n",
                "library(dplyr)\n",
                "library(readxl)\n",
                "library(car)\n",
                "library(gplots)\n",
                "library(plm)\n",
                "\n",
                "library(tidyverse)\n",
                "library(corrplot)\n",
                "\n",
                "library(Metrics)  # for rmse\n",
                "library(caret)    # for R-squared\n",
                "library(lmtest)\n",
                "\n",
                "\n",
                "library(sandwich)\n"
            ]
        },
        {
            "cell_type": "markdown",
            "metadata": {
                "azdata_cell_guid": "c88765c0-100d-4621-9753-942ba8737d28"
            },
            "source": [
                "**Load Dataset**"
            ]
        },
        {
            "cell_type": "code",
            "execution_count": 3,
            "metadata": {
                "azdata_cell_guid": "4fd6e3d9-616d-4039-b3b2-eaf457d22711",
                "language": "sql",
                "vscode": {
                    "languageId": "r"
                }
            },
            "outputs": [
                {
                    "data": {
                        "text/html": [
                            "<style>\n",
                            ".list-inline {list-style: none; margin:0; padding: 0}\n",
                            ".list-inline>li {display: inline-block}\n",
                            ".list-inline>li:not(:last-child)::after {content: \"\\00b7\"; padding: 0 .5ex}\n",
                            "</style>\n",
                            "<ol class=list-inline><li>1600</li><li>20</li></ol>\n"
                        ],
                        "text/latex": [
                            "\\begin{enumerate*}\n",
                            "\\item 1600\n",
                            "\\item 20\n",
                            "\\end{enumerate*}\n"
                        ],
                        "text/markdown": [
                            "1. 1600\n",
                            "2. 20\n",
                            "\n",
                            "\n"
                        ],
                        "text/plain": [
                            "[1] 1600   20"
                        ]
                    },
                    "metadata": {},
                    "output_type": "display_data"
                },
                {
                    "data": {
                        "text/html": [
                            "<table class=\"dataframe\">\n",
                            "<caption>A data.frame: 6 × 20</caption>\n",
                            "<thead>\n",
                            "\t<tr><th></th><th scope=col>WEO_Country_Code</th><th scope=col>Country</th><th scope=col>Advanced_Country</th><th scope=col>Year</th><th scope=col>BCA_NGDPD</th><th scope=col>GGR_NGDP</th><th scope=col>GGSB_NPGDP</th><th scope=col>GGXWDG_NGDP</th><th scope=col>GGX_NGDP</th><th scope=col>LUR</th><th scope=col>NGDP_RPCH</th><th scope=col>NGSD_NGDP</th><th scope=col>NID_NGDP</th><th scope=col>PCPIPCH</th><th scope=col>PPPEX</th><th scope=col>PPPPC</th><th scope=col>PPPSH</th><th scope=col>TM_RPCH</th><th scope=col>TRWMA</th><th scope=col>TX_RPCH</th></tr>\n",
                            "\t<tr><th></th><th scope=col>&lt;int&gt;</th><th scope=col>&lt;chr&gt;</th><th scope=col>&lt;int&gt;</th><th scope=col>&lt;int&gt;</th><th scope=col>&lt;dbl&gt;</th><th scope=col>&lt;dbl&gt;</th><th scope=col>&lt;dbl&gt;</th><th scope=col>&lt;dbl&gt;</th><th scope=col>&lt;dbl&gt;</th><th scope=col>&lt;dbl&gt;</th><th scope=col>&lt;dbl&gt;</th><th scope=col>&lt;dbl&gt;</th><th scope=col>&lt;dbl&gt;</th><th scope=col>&lt;dbl&gt;</th><th scope=col>&lt;dbl&gt;</th><th scope=col>&lt;dbl&gt;</th><th scope=col>&lt;dbl&gt;</th><th scope=col>&lt;dbl&gt;</th><th scope=col>&lt;dbl&gt;</th><th scope=col>&lt;dbl&gt;</th></tr>\n",
                            "</thead>\n",
                            "<tbody>\n",
                            "\t<tr><th scope=row>1</th><td>193</td><td>Australia</td><td>1</td><td>2000</td><td>-4.046</td><td>36.461</td><td>1.318</td><td>19.494</td><td>35.211</td><td>6.292</td><td>3.094</td><td>21.210</td><td>24.946</td><td>4.457</td><td>1.264</td><td>28405.21</td><td>1.087</td><td> 8.036</td><td>5.83</td><td>11.738</td></tr>\n",
                            "\t<tr><th scope=row>2</th><td>193</td><td>Australia</td><td>1</td><td>2001</td><td>-2.249</td><td>35.591</td><td>0.132</td><td>17.107</td><td>35.622</td><td>6.775</td><td>2.606</td><td>21.145</td><td>23.460</td><td>4.407</td><td>1.280</td><td>29424.45</td><td>1.089</td><td>-4.651</td><td>4.80</td><td> 3.027</td></tr>\n",
                            "\t<tr><th scope=row>3</th><td>193</td><td>Australia</td><td>1</td><td>2002</td><td>-3.799</td><td>35.110</td><td>0.299</td><td>15.012</td><td>34.917</td><td>6.358</td><td>4.162</td><td>21.471</td><td>25.219</td><td>3.049</td><td>1.296</td><td>30777.88</td><td>1.105</td><td>10.877</td><td>3.69</td><td> 0.836</td></tr>\n",
                            "\t<tr><th scope=row>4</th><td>193</td><td>Australia</td><td>1</td><td>2003</td><td>-5.323</td><td>35.957</td><td>1.025</td><td>13.185</td><td>34.906</td><td>5.942</td><td>3.022</td><td>21.464</td><td>26.748</td><td>2.731</td><td>1.310</td><td>31972.50</td><td>1.098</td><td>11.006</td><td>3.74</td><td>-1.202</td></tr>\n",
                            "\t<tr><th scope=row>5</th><td>193</td><td>Australia</td><td>1</td><td>2004</td><td>-6.306</td><td>36.158</td><td>1.207</td><td>11.907</td><td>34.835</td><td>5.383</td><td>4.103</td><td>21.007</td><td>27.214</td><td>2.342</td><td>1.320</td><td>33806.14</td><td>1.087</td><td>15.548</td><td>3.69</td><td> 3.864</td></tr>\n",
                            "\t<tr><th scope=row>6</th><td>193</td><td>Australia</td><td>1</td><td>2005</td><td>-5.952</td><td>36.286</td><td>1.603</td><td>10.859</td><td>34.580</td><td>5.033</td><td>3.024</td><td>21.706</td><td>27.834</td><td>2.659</td><td>1.339</td><td>35450.93</td><td>1.071</td><td> 9.361</td><td>3.07</td><td> 3.352</td></tr>\n",
                            "</tbody>\n",
                            "</table>\n"
                        ],
                        "text/latex": [
                            "A data.frame: 6 × 20\n",
                            "\\begin{tabular}{r|llllllllllllllllllll}\n",
                            "  & WEO\\_Country\\_Code & Country & Advanced\\_Country & Year & BCA\\_NGDPD & GGR\\_NGDP & GGSB\\_NPGDP & GGXWDG\\_NGDP & GGX\\_NGDP & LUR & NGDP\\_RPCH & NGSD\\_NGDP & NID\\_NGDP & PCPIPCH & PPPEX & PPPPC & PPPSH & TM\\_RPCH & TRWMA & TX\\_RPCH\\\\\n",
                            "  & <int> & <chr> & <int> & <int> & <dbl> & <dbl> & <dbl> & <dbl> & <dbl> & <dbl> & <dbl> & <dbl> & <dbl> & <dbl> & <dbl> & <dbl> & <dbl> & <dbl> & <dbl> & <dbl>\\\\\n",
                            "\\hline\n",
                            "\t1 & 193 & Australia & 1 & 2000 & -4.046 & 36.461 & 1.318 & 19.494 & 35.211 & 6.292 & 3.094 & 21.210 & 24.946 & 4.457 & 1.264 & 28405.21 & 1.087 &  8.036 & 5.83 & 11.738\\\\\n",
                            "\t2 & 193 & Australia & 1 & 2001 & -2.249 & 35.591 & 0.132 & 17.107 & 35.622 & 6.775 & 2.606 & 21.145 & 23.460 & 4.407 & 1.280 & 29424.45 & 1.089 & -4.651 & 4.80 &  3.027\\\\\n",
                            "\t3 & 193 & Australia & 1 & 2002 & -3.799 & 35.110 & 0.299 & 15.012 & 34.917 & 6.358 & 4.162 & 21.471 & 25.219 & 3.049 & 1.296 & 30777.88 & 1.105 & 10.877 & 3.69 &  0.836\\\\\n",
                            "\t4 & 193 & Australia & 1 & 2003 & -5.323 & 35.957 & 1.025 & 13.185 & 34.906 & 5.942 & 3.022 & 21.464 & 26.748 & 2.731 & 1.310 & 31972.50 & 1.098 & 11.006 & 3.74 & -1.202\\\\\n",
                            "\t5 & 193 & Australia & 1 & 2004 & -6.306 & 36.158 & 1.207 & 11.907 & 34.835 & 5.383 & 4.103 & 21.007 & 27.214 & 2.342 & 1.320 & 33806.14 & 1.087 & 15.548 & 3.69 &  3.864\\\\\n",
                            "\t6 & 193 & Australia & 1 & 2005 & -5.952 & 36.286 & 1.603 & 10.859 & 34.580 & 5.033 & 3.024 & 21.706 & 27.834 & 2.659 & 1.339 & 35450.93 & 1.071 &  9.361 & 3.07 &  3.352\\\\\n",
                            "\\end{tabular}\n"
                        ],
                        "text/markdown": [
                            "\n",
                            "A data.frame: 6 × 20\n",
                            "\n",
                            "| <!--/--> | WEO_Country_Code &lt;int&gt; | Country &lt;chr&gt; | Advanced_Country &lt;int&gt; | Year &lt;int&gt; | BCA_NGDPD &lt;dbl&gt; | GGR_NGDP &lt;dbl&gt; | GGSB_NPGDP &lt;dbl&gt; | GGXWDG_NGDP &lt;dbl&gt; | GGX_NGDP &lt;dbl&gt; | LUR &lt;dbl&gt; | NGDP_RPCH &lt;dbl&gt; | NGSD_NGDP &lt;dbl&gt; | NID_NGDP &lt;dbl&gt; | PCPIPCH &lt;dbl&gt; | PPPEX &lt;dbl&gt; | PPPPC &lt;dbl&gt; | PPPSH &lt;dbl&gt; | TM_RPCH &lt;dbl&gt; | TRWMA &lt;dbl&gt; | TX_RPCH &lt;dbl&gt; |\n",
                            "|---|---|---|---|---|---|---|---|---|---|---|---|---|---|---|---|---|---|---|---|---|\n",
                            "| 1 | 193 | Australia | 1 | 2000 | -4.046 | 36.461 | 1.318 | 19.494 | 35.211 | 6.292 | 3.094 | 21.210 | 24.946 | 4.457 | 1.264 | 28405.21 | 1.087 |  8.036 | 5.83 | 11.738 |\n",
                            "| 2 | 193 | Australia | 1 | 2001 | -2.249 | 35.591 | 0.132 | 17.107 | 35.622 | 6.775 | 2.606 | 21.145 | 23.460 | 4.407 | 1.280 | 29424.45 | 1.089 | -4.651 | 4.80 |  3.027 |\n",
                            "| 3 | 193 | Australia | 1 | 2002 | -3.799 | 35.110 | 0.299 | 15.012 | 34.917 | 6.358 | 4.162 | 21.471 | 25.219 | 3.049 | 1.296 | 30777.88 | 1.105 | 10.877 | 3.69 |  0.836 |\n",
                            "| 4 | 193 | Australia | 1 | 2003 | -5.323 | 35.957 | 1.025 | 13.185 | 34.906 | 5.942 | 3.022 | 21.464 | 26.748 | 2.731 | 1.310 | 31972.50 | 1.098 | 11.006 | 3.74 | -1.202 |\n",
                            "| 5 | 193 | Australia | 1 | 2004 | -6.306 | 36.158 | 1.207 | 11.907 | 34.835 | 5.383 | 4.103 | 21.007 | 27.214 | 2.342 | 1.320 | 33806.14 | 1.087 | 15.548 | 3.69 |  3.864 |\n",
                            "| 6 | 193 | Australia | 1 | 2005 | -5.952 | 36.286 | 1.603 | 10.859 | 34.580 | 5.033 | 3.024 | 21.706 | 27.834 | 2.659 | 1.339 | 35450.93 | 1.071 |  9.361 | 3.07 |  3.352 |\n",
                            "\n"
                        ],
                        "text/plain": [
                            "  WEO_Country_Code Country   Advanced_Country Year BCA_NGDPD GGR_NGDP\n",
                            "1 193              Australia 1                2000 -4.046    36.461  \n",
                            "2 193              Australia 1                2001 -2.249    35.591  \n",
                            "3 193              Australia 1                2002 -3.799    35.110  \n",
                            "4 193              Australia 1                2003 -5.323    35.957  \n",
                            "5 193              Australia 1                2004 -6.306    36.158  \n",
                            "6 193              Australia 1                2005 -5.952    36.286  \n",
                            "  GGSB_NPGDP GGXWDG_NGDP GGX_NGDP LUR   NGDP_RPCH NGSD_NGDP NID_NGDP PCPIPCH\n",
                            "1 1.318      19.494      35.211   6.292 3.094     21.210    24.946   4.457  \n",
                            "2 0.132      17.107      35.622   6.775 2.606     21.145    23.460   4.407  \n",
                            "3 0.299      15.012      34.917   6.358 4.162     21.471    25.219   3.049  \n",
                            "4 1.025      13.185      34.906   5.942 3.022     21.464    26.748   2.731  \n",
                            "5 1.207      11.907      34.835   5.383 4.103     21.007    27.214   2.342  \n",
                            "6 1.603      10.859      34.580   5.033 3.024     21.706    27.834   2.659  \n",
                            "  PPPEX PPPPC    PPPSH TM_RPCH TRWMA TX_RPCH\n",
                            "1 1.264 28405.21 1.087  8.036  5.83  11.738 \n",
                            "2 1.280 29424.45 1.089 -4.651  4.80   3.027 \n",
                            "3 1.296 30777.88 1.105 10.877  3.69   0.836 \n",
                            "4 1.310 31972.50 1.098 11.006  3.74  -1.202 \n",
                            "5 1.320 33806.14 1.087 15.548  3.69   3.864 \n",
                            "6 1.339 35450.93 1.071  9.361  3.07   3.352 "
                        ]
                    },
                    "metadata": {},
                    "output_type": "display_data"
                }
            ],
            "source": [
                "\n",
                "# Load the dataset.\n",
                "df <- read.csv(\"../02-Dataset/01.2-Data_Clean.csv\")  \n",
                "\n",
                "# Display the first 5 rows of data.\n",
                "dim(df)\n",
                "head(df)"
            ]
        },
        {
            "cell_type": "code",
            "execution_count": 4,
            "metadata": {
                "vscode": {
                    "languageId": "r"
                }
            },
            "outputs": [
                {
                    "name": "stdout",
                    "output_type": "stream",
                    "text": [
                        "'data.frame':\t1600 obs. of  19 variables:\n",
                        " $ Country         : chr  \"Australia\" \"Australia\" \"Australia\" \"Australia\" ...\n",
                        " $ Advanced_Country: int  1 1 1 1 1 1 1 1 1 1 ...\n",
                        " $ Year            : int  2000 2001 2002 2003 2004 2005 2006 2007 2008 2009 ...\n",
                        " $ BCA_NGDPD       : num  -4.05 -2.25 -3.8 -5.32 -6.31 ...\n",
                        " $ GGR_NGDP        : num  36.5 35.6 35.1 36 36.2 ...\n",
                        " $ GGSB_NPGDP      : num  1.318 0.132 0.299 1.025 1.207 ...\n",
                        " $ GGXWDG_NGDP     : num  19.5 17.1 15 13.2 11.9 ...\n",
                        " $ GGX_NGDP        : num  35.2 35.6 34.9 34.9 34.8 ...\n",
                        " $ LUR             : num  6.29 6.78 6.36 5.94 5.38 ...\n",
                        " $ NGDP_RPCH       : num  3.09 2.61 4.16 3.02 4.1 ...\n",
                        " $ NGSD_NGDP       : num  21.2 21.1 21.5 21.5 21 ...\n",
                        " $ NID_NGDP        : num  24.9 23.5 25.2 26.7 27.2 ...\n",
                        " $ PCPIPCH         : num  4.46 4.41 3.05 2.73 2.34 ...\n",
                        " $ PPPEX           : num  1.26 1.28 1.3 1.31 1.32 ...\n",
                        " $ PPPPC           : num  28405 29424 30778 31973 33806 ...\n",
                        " $ PPPSH           : num  1.09 1.09 1.1 1.1 1.09 ...\n",
                        " $ TM_RPCH         : num  8.04 -4.65 10.88 11.01 15.55 ...\n",
                        " $ TRWMA           : num  5.83 4.8 3.69 3.74 3.69 3.07 3.38 3.45 3.15 3.67 ...\n",
                        " $ TX_RPCH         : num  11.738 3.027 0.836 -1.202 3.864 ...\n"
                    ]
                }
            ],
            "source": [
                "# Drop \"WEO_Country_Code\"\n",
                "df$WEO_Country_Code <- NULL\n",
                "\n",
                "str(df)"
            ]
        },
        {
            "cell_type": "code",
            "execution_count": 5,
            "metadata": {
                "vscode": {
                    "languageId": "r"
                }
            },
            "outputs": [
                {
                    "data": {
                        "text/html": [
                            "<table class=\"dataframe\">\n",
                            "<caption>A data.frame: 6 × 19</caption>\n",
                            "<thead>\n",
                            "\t<tr><th></th><th scope=col>Country</th><th scope=col>Advanced_Country</th><th scope=col>Year</th><th scope=col>PCPIPCH</th><th scope=col>GGR_NGDP</th><th scope=col>GGX_NGDP</th><th scope=col>GGSB_NPGDP</th><th scope=col>GGXWDG_NGDP</th><th scope=col>NGDP_RPCH</th><th scope=col>PPPPC</th><th scope=col>PPPSH</th><th scope=col>PPPEX</th><th scope=col>TX_RPCH</th><th scope=col>TM_RPCH</th><th scope=col>BCA_NGDPD</th><th scope=col>TRWMA</th><th scope=col>NGSD_NGDP</th><th scope=col>NID_NGDP</th><th scope=col>LUR</th></tr>\n",
                            "\t<tr><th></th><th scope=col>&lt;chr&gt;</th><th scope=col>&lt;int&gt;</th><th scope=col>&lt;int&gt;</th><th scope=col>&lt;dbl&gt;</th><th scope=col>&lt;dbl&gt;</th><th scope=col>&lt;dbl&gt;</th><th scope=col>&lt;dbl&gt;</th><th scope=col>&lt;dbl&gt;</th><th scope=col>&lt;dbl&gt;</th><th scope=col>&lt;dbl&gt;</th><th scope=col>&lt;dbl&gt;</th><th scope=col>&lt;dbl&gt;</th><th scope=col>&lt;dbl&gt;</th><th scope=col>&lt;dbl&gt;</th><th scope=col>&lt;dbl&gt;</th><th scope=col>&lt;dbl&gt;</th><th scope=col>&lt;dbl&gt;</th><th scope=col>&lt;dbl&gt;</th><th scope=col>&lt;dbl&gt;</th></tr>\n",
                            "</thead>\n",
                            "<tbody>\n",
                            "\t<tr><th scope=row>1</th><td>Australia</td><td>1</td><td>2000</td><td>4.457</td><td>36.461</td><td>35.211</td><td>1.318</td><td>19.494</td><td>3.094</td><td>28405.21</td><td>1.087</td><td>1.264</td><td>11.738</td><td> 8.036</td><td>-4.046</td><td>5.83</td><td>21.210</td><td>24.946</td><td>6.292</td></tr>\n",
                            "\t<tr><th scope=row>2</th><td>Australia</td><td>1</td><td>2001</td><td>4.407</td><td>35.591</td><td>35.622</td><td>0.132</td><td>17.107</td><td>2.606</td><td>29424.45</td><td>1.089</td><td>1.280</td><td> 3.027</td><td>-4.651</td><td>-2.249</td><td>4.80</td><td>21.145</td><td>23.460</td><td>6.775</td></tr>\n",
                            "\t<tr><th scope=row>3</th><td>Australia</td><td>1</td><td>2002</td><td>3.049</td><td>35.110</td><td>34.917</td><td>0.299</td><td>15.012</td><td>4.162</td><td>30777.88</td><td>1.105</td><td>1.296</td><td> 0.836</td><td>10.877</td><td>-3.799</td><td>3.69</td><td>21.471</td><td>25.219</td><td>6.358</td></tr>\n",
                            "\t<tr><th scope=row>4</th><td>Australia</td><td>1</td><td>2003</td><td>2.731</td><td>35.957</td><td>34.906</td><td>1.025</td><td>13.185</td><td>3.022</td><td>31972.50</td><td>1.098</td><td>1.310</td><td>-1.202</td><td>11.006</td><td>-5.323</td><td>3.74</td><td>21.464</td><td>26.748</td><td>5.942</td></tr>\n",
                            "\t<tr><th scope=row>5</th><td>Australia</td><td>1</td><td>2004</td><td>2.342</td><td>36.158</td><td>34.835</td><td>1.207</td><td>11.907</td><td>4.103</td><td>33806.14</td><td>1.087</td><td>1.320</td><td> 3.864</td><td>15.548</td><td>-6.306</td><td>3.69</td><td>21.007</td><td>27.214</td><td>5.383</td></tr>\n",
                            "\t<tr><th scope=row>6</th><td>Australia</td><td>1</td><td>2005</td><td>2.659</td><td>36.286</td><td>34.580</td><td>1.603</td><td>10.859</td><td>3.024</td><td>35450.93</td><td>1.071</td><td>1.339</td><td> 3.352</td><td> 9.361</td><td>-5.952</td><td>3.07</td><td>21.706</td><td>27.834</td><td>5.033</td></tr>\n",
                            "</tbody>\n",
                            "</table>\n"
                        ],
                        "text/latex": [
                            "A data.frame: 6 × 19\n",
                            "\\begin{tabular}{r|lllllllllllllllllll}\n",
                            "  & Country & Advanced\\_Country & Year & PCPIPCH & GGR\\_NGDP & GGX\\_NGDP & GGSB\\_NPGDP & GGXWDG\\_NGDP & NGDP\\_RPCH & PPPPC & PPPSH & PPPEX & TX\\_RPCH & TM\\_RPCH & BCA\\_NGDPD & TRWMA & NGSD\\_NGDP & NID\\_NGDP & LUR\\\\\n",
                            "  & <chr> & <int> & <int> & <dbl> & <dbl> & <dbl> & <dbl> & <dbl> & <dbl> & <dbl> & <dbl> & <dbl> & <dbl> & <dbl> & <dbl> & <dbl> & <dbl> & <dbl> & <dbl>\\\\\n",
                            "\\hline\n",
                            "\t1 & Australia & 1 & 2000 & 4.457 & 36.461 & 35.211 & 1.318 & 19.494 & 3.094 & 28405.21 & 1.087 & 1.264 & 11.738 &  8.036 & -4.046 & 5.83 & 21.210 & 24.946 & 6.292\\\\\n",
                            "\t2 & Australia & 1 & 2001 & 4.407 & 35.591 & 35.622 & 0.132 & 17.107 & 2.606 & 29424.45 & 1.089 & 1.280 &  3.027 & -4.651 & -2.249 & 4.80 & 21.145 & 23.460 & 6.775\\\\\n",
                            "\t3 & Australia & 1 & 2002 & 3.049 & 35.110 & 34.917 & 0.299 & 15.012 & 4.162 & 30777.88 & 1.105 & 1.296 &  0.836 & 10.877 & -3.799 & 3.69 & 21.471 & 25.219 & 6.358\\\\\n",
                            "\t4 & Australia & 1 & 2003 & 2.731 & 35.957 & 34.906 & 1.025 & 13.185 & 3.022 & 31972.50 & 1.098 & 1.310 & -1.202 & 11.006 & -5.323 & 3.74 & 21.464 & 26.748 & 5.942\\\\\n",
                            "\t5 & Australia & 1 & 2004 & 2.342 & 36.158 & 34.835 & 1.207 & 11.907 & 4.103 & 33806.14 & 1.087 & 1.320 &  3.864 & 15.548 & -6.306 & 3.69 & 21.007 & 27.214 & 5.383\\\\\n",
                            "\t6 & Australia & 1 & 2005 & 2.659 & 36.286 & 34.580 & 1.603 & 10.859 & 3.024 & 35450.93 & 1.071 & 1.339 &  3.352 &  9.361 & -5.952 & 3.07 & 21.706 & 27.834 & 5.033\\\\\n",
                            "\\end{tabular}\n"
                        ],
                        "text/markdown": [
                            "\n",
                            "A data.frame: 6 × 19\n",
                            "\n",
                            "| <!--/--> | Country &lt;chr&gt; | Advanced_Country &lt;int&gt; | Year &lt;int&gt; | PCPIPCH &lt;dbl&gt; | GGR_NGDP &lt;dbl&gt; | GGX_NGDP &lt;dbl&gt; | GGSB_NPGDP &lt;dbl&gt; | GGXWDG_NGDP &lt;dbl&gt; | NGDP_RPCH &lt;dbl&gt; | PPPPC &lt;dbl&gt; | PPPSH &lt;dbl&gt; | PPPEX &lt;dbl&gt; | TX_RPCH &lt;dbl&gt; | TM_RPCH &lt;dbl&gt; | BCA_NGDPD &lt;dbl&gt; | TRWMA &lt;dbl&gt; | NGSD_NGDP &lt;dbl&gt; | NID_NGDP &lt;dbl&gt; | LUR &lt;dbl&gt; |\n",
                            "|---|---|---|---|---|---|---|---|---|---|---|---|---|---|---|---|---|---|---|---|\n",
                            "| 1 | Australia | 1 | 2000 | 4.457 | 36.461 | 35.211 | 1.318 | 19.494 | 3.094 | 28405.21 | 1.087 | 1.264 | 11.738 |  8.036 | -4.046 | 5.83 | 21.210 | 24.946 | 6.292 |\n",
                            "| 2 | Australia | 1 | 2001 | 4.407 | 35.591 | 35.622 | 0.132 | 17.107 | 2.606 | 29424.45 | 1.089 | 1.280 |  3.027 | -4.651 | -2.249 | 4.80 | 21.145 | 23.460 | 6.775 |\n",
                            "| 3 | Australia | 1 | 2002 | 3.049 | 35.110 | 34.917 | 0.299 | 15.012 | 4.162 | 30777.88 | 1.105 | 1.296 |  0.836 | 10.877 | -3.799 | 3.69 | 21.471 | 25.219 | 6.358 |\n",
                            "| 4 | Australia | 1 | 2003 | 2.731 | 35.957 | 34.906 | 1.025 | 13.185 | 3.022 | 31972.50 | 1.098 | 1.310 | -1.202 | 11.006 | -5.323 | 3.74 | 21.464 | 26.748 | 5.942 |\n",
                            "| 5 | Australia | 1 | 2004 | 2.342 | 36.158 | 34.835 | 1.207 | 11.907 | 4.103 | 33806.14 | 1.087 | 1.320 |  3.864 | 15.548 | -6.306 | 3.69 | 21.007 | 27.214 | 5.383 |\n",
                            "| 6 | Australia | 1 | 2005 | 2.659 | 36.286 | 34.580 | 1.603 | 10.859 | 3.024 | 35450.93 | 1.071 | 1.339 |  3.352 |  9.361 | -5.952 | 3.07 | 21.706 | 27.834 | 5.033 |\n",
                            "\n"
                        ],
                        "text/plain": [
                            "  Country   Advanced_Country Year PCPIPCH GGR_NGDP GGX_NGDP GGSB_NPGDP\n",
                            "1 Australia 1                2000 4.457   36.461   35.211   1.318     \n",
                            "2 Australia 1                2001 4.407   35.591   35.622   0.132     \n",
                            "3 Australia 1                2002 3.049   35.110   34.917   0.299     \n",
                            "4 Australia 1                2003 2.731   35.957   34.906   1.025     \n",
                            "5 Australia 1                2004 2.342   36.158   34.835   1.207     \n",
                            "6 Australia 1                2005 2.659   36.286   34.580   1.603     \n",
                            "  GGXWDG_NGDP NGDP_RPCH PPPPC    PPPSH PPPEX TX_RPCH TM_RPCH BCA_NGDPD TRWMA\n",
                            "1 19.494      3.094     28405.21 1.087 1.264 11.738   8.036  -4.046    5.83 \n",
                            "2 17.107      2.606     29424.45 1.089 1.280  3.027  -4.651  -2.249    4.80 \n",
                            "3 15.012      4.162     30777.88 1.105 1.296  0.836  10.877  -3.799    3.69 \n",
                            "4 13.185      3.022     31972.50 1.098 1.310 -1.202  11.006  -5.323    3.74 \n",
                            "5 11.907      4.103     33806.14 1.087 1.320  3.864  15.548  -6.306    3.69 \n",
                            "6 10.859      3.024     35450.93 1.071 1.339  3.352   9.361  -5.952    3.07 \n",
                            "  NGSD_NGDP NID_NGDP LUR  \n",
                            "1 21.210    24.946   6.292\n",
                            "2 21.145    23.460   6.775\n",
                            "3 21.471    25.219   6.358\n",
                            "4 21.464    26.748   5.942\n",
                            "5 21.007    27.214   5.383\n",
                            "6 21.706    27.834   5.033"
                        ]
                    },
                    "metadata": {},
                    "output_type": "display_data"
                }
            ],
            "source": [
                "# Reorder columns based on priority to control inflation\n",
                "# (Ensure column names match exactly what exists in your DataFrame)\n",
                "\n",
                "\n",
                "ordered_columns <- c(\n",
                "    # 8. Metadata\n",
                "    \"Country\", \"Advanced_Country\", \"Year\",\n",
                "    \n",
                "    # 1. Inflation & Price Stability\n",
                "    \"PCPIPCH\",  # Inflation Rate (Consumer Prices, annual %)\n",
                "    \n",
                "    # 2. Public Finance\n",
                "    \"GGR_NGDP\",     # General government revenue (% of GDP)\n",
                "    \"GGX_NGDP\",     # General government expenditure (% of GDP)\n",
                "    \"GGSB_NPGDP\",   # General government structural balance\n",
                "    \"GGXWDG_NGDP\",  # General government gross debt (% of GDP)\n",
                "    \n",
                "    # 3. Economic Output & Productivity\n",
                "    \"NGDP_RPCH\",    # Real GDP growth (%)\n",
                "    \"PPPPC\",        # GDP per capita based on PPP\n",
                "    \"PPPSH\",        # PPP share of world total\n",
                "    \n",
                "    # 4. Exchange & Purchasing Power\n",
                "    \"PPPEX\",        # PPP exchange rate\n",
                "    \n",
                "    # 5. International Trade & Balance\n",
                "    \"TX_RPCH\",      # Export volume growth\n",
                "    \"TM_RPCH\",      # Import volume growth\n",
                "    \"BCA_NGDPD\",    # Current account balance (% of GDP)\n",
                "    \"TRWMA\",        # World trade volume (goods and services)\n",
                "    \n",
                "    # 6. Savings & Investment\n",
                "    \"NGSD_NGDP\",    # Net government saving (% of GDP)\n",
                "    \"NID_NGDP\",     # Investment (% of GDP)\n",
                "    \n",
                "    # 7. Labor Market\n",
                "    \"LUR\"           # Unemployment rate (%)\n",
                ")\n",
                "\n",
                "# Apply the new column order to the DataFrame\n",
                "df <- df[, ordered_columns]\n",
                "\n",
                "# Display the first 5 rows to confirm new order\n",
                "head(df)\n"
            ]
        },
        {
            "cell_type": "code",
            "execution_count": 6,
            "metadata": {
                "vscode": {
                    "languageId": "r"
                }
            },
            "outputs": [
                {
                    "data": {
                        "text/plain": [
                            "   Country          Advanced_Country      Year         PCPIPCH      \n",
                            " Length:1600        Min.   :0.0000   Min.   :2000   Min.   :-3.723  \n",
                            " Class :character   1st Qu.:0.0000   1st Qu.:2006   1st Qu.: 1.441  \n",
                            " Mode  :character   Median :1.0000   Median :2012   Median : 2.736  \n",
                            "                    Mean   :0.5312   Mean   :2012   Mean   : 3.764  \n",
                            "                    3rd Qu.:1.0000   3rd Qu.:2018   3rd Qu.: 4.755  \n",
                            "                    Max.   :1.0000   Max.   :2024   Max.   :51.461  \n",
                            "    GGR_NGDP        GGX_NGDP        GGSB_NPGDP        GGXWDG_NGDP     \n",
                            " Min.   :12.35   Min.   : 9.015   Min.   :-14.9730   Min.   :  0.052  \n",
                            " 1st Qu.:22.96   1st Qu.:25.566   1st Qu.: -4.2583   1st Qu.: 35.832  \n",
                            " Median :34.20   Median :36.307   Median : -2.1880   Median : 50.336  \n",
                            " Mean   :33.28   Mean   :35.584   Mean   : -2.4064   Mean   : 58.071  \n",
                            " 3rd Qu.:42.25   3rd Qu.:45.063   3rd Qu.: -0.3603   3rd Qu.: 73.436  \n",
                            " Max.   :63.05   Max.   :74.416   Max.   : 11.1370   Max.   :258.374  \n",
                            "   NGDP_RPCH           PPPPC            PPPSH              PPPEX         \n",
                            " Min.   :-28.759   Min.   :  3230   Min.   : 0.00300   Min.   :   0.195  \n",
                            " 1st Qu.:  1.392   1st Qu.: 13709   1st Qu.: 0.09475   1st Qu.:   0.663  \n",
                            " Median :  2.951   Median : 26891   Median : 0.35600   Median :   1.302  \n",
                            " Mean   :  2.894   Mean   : 30293   Mean   : 1.02466   Mean   : 142.048  \n",
                            " 3rd Qu.:  4.855   3rd Qu.: 42307   3rd Qu.: 0.92675   3rd Qu.:   9.913  \n",
                            " Max.   : 24.616   Max.   :148186   Max.   :20.50200   Max.   :4917.825  \n",
                            "    TX_RPCH            TM_RPCH           BCA_NGDPD            TRWMA       \n",
                            " Min.   :-57.6130   Min.   :-41.6230   Min.   :-23.8920   Min.   :-4.056  \n",
                            " 1st Qu.:  0.8087   1st Qu.:  0.3508   1st Qu.: -4.2560   1st Qu.: 1.688  \n",
                            " Median :  4.2785   Median :  4.8480   Median : -1.2280   Median : 2.240  \n",
                            " Mean   :  4.5481   Mean   :  4.6904   Mean   : -0.7273   Mean   : 3.646  \n",
                            " 3rd Qu.:  8.7692   3rd Qu.:  9.4955   3rd Qu.:  2.3790   3rd Qu.: 4.320  \n",
                            " Max.   : 57.4970   Max.   : 41.9010   Max.   : 30.1650   Max.   :26.380  \n",
                            "   NGSD_NGDP         NID_NGDP           LUR        \n",
                            " Min.   :-76.45   Min.   : 8.932   Min.   : 0.700  \n",
                            " 1st Qu.: 17.87   1st Qu.:20.078   1st Qu.: 4.891  \n",
                            " Median : 22.16   Median :22.829   Median : 7.074  \n",
                            " Mean   : 22.45   Mean   :23.271   Mean   : 8.392  \n",
                            " 3rd Qu.: 26.66   3rd Qu.:25.706   3rd Qu.: 9.911  \n",
                            " Max.   : 51.86   Max.   :53.713   Max.   :34.300  "
                        ]
                    },
                    "metadata": {},
                    "output_type": "display_data"
                }
            ],
            "source": [
                "### Display Descriptive Statistics\n",
                "summary(df %>% select(all_of(ordered_columns)))\n"
            ]
        },
        {
            "cell_type": "code",
            "execution_count": 8,
            "metadata": {
                "vscode": {
                    "languageId": "r"
                }
            },
            "outputs": [
                {
                    "data": {
                        "text/html": [
                            "<table class=\"dataframe\">\n",
                            "<caption>A pdata.frame: 6 × 19</caption>\n",
                            "<thead>\n",
                            "\t<tr><th></th><th scope=col>Country</th><th scope=col>Advanced_Country</th><th scope=col>Year</th><th scope=col>PCPIPCH</th><th scope=col>GGR_NGDP</th><th scope=col>GGX_NGDP</th><th scope=col>GGSB_NPGDP</th><th scope=col>GGXWDG_NGDP</th><th scope=col>NGDP_RPCH</th><th scope=col>PPPPC</th><th scope=col>PPPSH</th><th scope=col>PPPEX</th><th scope=col>TX_RPCH</th><th scope=col>TM_RPCH</th><th scope=col>BCA_NGDPD</th><th scope=col>TRWMA</th><th scope=col>NGSD_NGDP</th><th scope=col>NID_NGDP</th><th scope=col>LUR</th></tr>\n",
                            "\t<tr><th></th><th scope=col>&lt;fct&gt;</th><th scope=col>&lt;int&gt;</th><th scope=col>&lt;fct&gt;</th><th scope=col>&lt;dbl&gt;</th><th scope=col>&lt;dbl&gt;</th><th scope=col>&lt;dbl&gt;</th><th scope=col>&lt;dbl&gt;</th><th scope=col>&lt;dbl&gt;</th><th scope=col>&lt;dbl&gt;</th><th scope=col>&lt;dbl&gt;</th><th scope=col>&lt;dbl&gt;</th><th scope=col>&lt;dbl&gt;</th><th scope=col>&lt;dbl&gt;</th><th scope=col>&lt;dbl&gt;</th><th scope=col>&lt;dbl&gt;</th><th scope=col>&lt;dbl&gt;</th><th scope=col>&lt;dbl&gt;</th><th scope=col>&lt;dbl&gt;</th><th scope=col>&lt;dbl&gt;</th></tr>\n",
                            "</thead>\n",
                            "<tbody>\n",
                            "\t<tr><th scope=row>Australia-2000</th><td>Australia</td><td>1</td><td>2000</td><td>4.457</td><td>36.461</td><td>35.211</td><td>1.318</td><td>19.494</td><td>3.094</td><td>28405.21</td><td>1.087</td><td>1.264</td><td>11.738</td><td> 8.036</td><td>-4.046</td><td>5.83</td><td>21.210</td><td>24.946</td><td>6.292</td></tr>\n",
                            "\t<tr><th scope=row>Australia-2001</th><td>Australia</td><td>1</td><td>2001</td><td>4.407</td><td>35.591</td><td>35.622</td><td>0.132</td><td>17.107</td><td>2.606</td><td>29424.45</td><td>1.089</td><td>1.280</td><td> 3.027</td><td>-4.651</td><td>-2.249</td><td>4.80</td><td>21.145</td><td>23.460</td><td>6.775</td></tr>\n",
                            "\t<tr><th scope=row>Australia-2002</th><td>Australia</td><td>1</td><td>2002</td><td>3.049</td><td>35.110</td><td>34.917</td><td>0.299</td><td>15.012</td><td>4.162</td><td>30777.88</td><td>1.105</td><td>1.296</td><td> 0.836</td><td>10.877</td><td>-3.799</td><td>3.69</td><td>21.471</td><td>25.219</td><td>6.358</td></tr>\n",
                            "\t<tr><th scope=row>Australia-2003</th><td>Australia</td><td>1</td><td>2003</td><td>2.731</td><td>35.957</td><td>34.906</td><td>1.025</td><td>13.185</td><td>3.022</td><td>31972.50</td><td>1.098</td><td>1.310</td><td>-1.202</td><td>11.006</td><td>-5.323</td><td>3.74</td><td>21.464</td><td>26.748</td><td>5.942</td></tr>\n",
                            "\t<tr><th scope=row>Australia-2004</th><td>Australia</td><td>1</td><td>2004</td><td>2.342</td><td>36.158</td><td>34.835</td><td>1.207</td><td>11.907</td><td>4.103</td><td>33806.14</td><td>1.087</td><td>1.320</td><td> 3.864</td><td>15.548</td><td>-6.306</td><td>3.69</td><td>21.007</td><td>27.214</td><td>5.383</td></tr>\n",
                            "\t<tr><th scope=row>Australia-2005</th><td>Australia</td><td>1</td><td>2005</td><td>2.659</td><td>36.286</td><td>34.580</td><td>1.603</td><td>10.859</td><td>3.024</td><td>35450.93</td><td>1.071</td><td>1.339</td><td> 3.352</td><td> 9.361</td><td>-5.952</td><td>3.07</td><td>21.706</td><td>27.834</td><td>5.033</td></tr>\n",
                            "</tbody>\n",
                            "</table>\n"
                        ],
                        "text/latex": [
                            "A pdata.frame: 6 × 19\n",
                            "\\begin{tabular}{r|lllllllllllllllllll}\n",
                            "  & Country & Advanced\\_Country & Year & PCPIPCH & GGR\\_NGDP & GGX\\_NGDP & GGSB\\_NPGDP & GGXWDG\\_NGDP & NGDP\\_RPCH & PPPPC & PPPSH & PPPEX & TX\\_RPCH & TM\\_RPCH & BCA\\_NGDPD & TRWMA & NGSD\\_NGDP & NID\\_NGDP & LUR\\\\\n",
                            "  & <fct> & <int> & <fct> & <dbl> & <dbl> & <dbl> & <dbl> & <dbl> & <dbl> & <dbl> & <dbl> & <dbl> & <dbl> & <dbl> & <dbl> & <dbl> & <dbl> & <dbl> & <dbl>\\\\\n",
                            "\\hline\n",
                            "\tAustralia-2000 & Australia & 1 & 2000 & 4.457 & 36.461 & 35.211 & 1.318 & 19.494 & 3.094 & 28405.21 & 1.087 & 1.264 & 11.738 &  8.036 & -4.046 & 5.83 & 21.210 & 24.946 & 6.292\\\\\n",
                            "\tAustralia-2001 & Australia & 1 & 2001 & 4.407 & 35.591 & 35.622 & 0.132 & 17.107 & 2.606 & 29424.45 & 1.089 & 1.280 &  3.027 & -4.651 & -2.249 & 4.80 & 21.145 & 23.460 & 6.775\\\\\n",
                            "\tAustralia-2002 & Australia & 1 & 2002 & 3.049 & 35.110 & 34.917 & 0.299 & 15.012 & 4.162 & 30777.88 & 1.105 & 1.296 &  0.836 & 10.877 & -3.799 & 3.69 & 21.471 & 25.219 & 6.358\\\\\n",
                            "\tAustralia-2003 & Australia & 1 & 2003 & 2.731 & 35.957 & 34.906 & 1.025 & 13.185 & 3.022 & 31972.50 & 1.098 & 1.310 & -1.202 & 11.006 & -5.323 & 3.74 & 21.464 & 26.748 & 5.942\\\\\n",
                            "\tAustralia-2004 & Australia & 1 & 2004 & 2.342 & 36.158 & 34.835 & 1.207 & 11.907 & 4.103 & 33806.14 & 1.087 & 1.320 &  3.864 & 15.548 & -6.306 & 3.69 & 21.007 & 27.214 & 5.383\\\\\n",
                            "\tAustralia-2005 & Australia & 1 & 2005 & 2.659 & 36.286 & 34.580 & 1.603 & 10.859 & 3.024 & 35450.93 & 1.071 & 1.339 &  3.352 &  9.361 & -5.952 & 3.07 & 21.706 & 27.834 & 5.033\\\\\n",
                            "\\end{tabular}\n"
                        ],
                        "text/markdown": [
                            "\n",
                            "A pdata.frame: 6 × 19\n",
                            "\n",
                            "| <!--/--> | Country &lt;fct&gt; | Advanced_Country &lt;int&gt; | Year &lt;fct&gt; | PCPIPCH &lt;dbl&gt; | GGR_NGDP &lt;dbl&gt; | GGX_NGDP &lt;dbl&gt; | GGSB_NPGDP &lt;dbl&gt; | GGXWDG_NGDP &lt;dbl&gt; | NGDP_RPCH &lt;dbl&gt; | PPPPC &lt;dbl&gt; | PPPSH &lt;dbl&gt; | PPPEX &lt;dbl&gt; | TX_RPCH &lt;dbl&gt; | TM_RPCH &lt;dbl&gt; | BCA_NGDPD &lt;dbl&gt; | TRWMA &lt;dbl&gt; | NGSD_NGDP &lt;dbl&gt; | NID_NGDP &lt;dbl&gt; | LUR &lt;dbl&gt; |\n",
                            "|---|---|---|---|---|---|---|---|---|---|---|---|---|---|---|---|---|---|---|---|\n",
                            "| Australia-2000 | Australia | 1 | 2000 | 4.457 | 36.461 | 35.211 | 1.318 | 19.494 | 3.094 | 28405.21 | 1.087 | 1.264 | 11.738 |  8.036 | -4.046 | 5.83 | 21.210 | 24.946 | 6.292 |\n",
                            "| Australia-2001 | Australia | 1 | 2001 | 4.407 | 35.591 | 35.622 | 0.132 | 17.107 | 2.606 | 29424.45 | 1.089 | 1.280 |  3.027 | -4.651 | -2.249 | 4.80 | 21.145 | 23.460 | 6.775 |\n",
                            "| Australia-2002 | Australia | 1 | 2002 | 3.049 | 35.110 | 34.917 | 0.299 | 15.012 | 4.162 | 30777.88 | 1.105 | 1.296 |  0.836 | 10.877 | -3.799 | 3.69 | 21.471 | 25.219 | 6.358 |\n",
                            "| Australia-2003 | Australia | 1 | 2003 | 2.731 | 35.957 | 34.906 | 1.025 | 13.185 | 3.022 | 31972.50 | 1.098 | 1.310 | -1.202 | 11.006 | -5.323 | 3.74 | 21.464 | 26.748 | 5.942 |\n",
                            "| Australia-2004 | Australia | 1 | 2004 | 2.342 | 36.158 | 34.835 | 1.207 | 11.907 | 4.103 | 33806.14 | 1.087 | 1.320 |  3.864 | 15.548 | -6.306 | 3.69 | 21.007 | 27.214 | 5.383 |\n",
                            "| Australia-2005 | Australia | 1 | 2005 | 2.659 | 36.286 | 34.580 | 1.603 | 10.859 | 3.024 | 35450.93 | 1.071 | 1.339 |  3.352 |  9.361 | -5.952 | 3.07 | 21.706 | 27.834 | 5.033 |\n",
                            "\n"
                        ],
                        "text/plain": [
                            "               Country   Advanced_Country Year PCPIPCH GGR_NGDP GGX_NGDP\n",
                            "Australia-2000 Australia 1                2000 4.457   36.461   35.211  \n",
                            "Australia-2001 Australia 1                2001 4.407   35.591   35.622  \n",
                            "Australia-2002 Australia 1                2002 3.049   35.110   34.917  \n",
                            "Australia-2003 Australia 1                2003 2.731   35.957   34.906  \n",
                            "Australia-2004 Australia 1                2004 2.342   36.158   34.835  \n",
                            "Australia-2005 Australia 1                2005 2.659   36.286   34.580  \n",
                            "               GGSB_NPGDP GGXWDG_NGDP NGDP_RPCH PPPPC    PPPSH PPPEX TX_RPCH\n",
                            "Australia-2000 1.318      19.494      3.094     28405.21 1.087 1.264 11.738 \n",
                            "Australia-2001 0.132      17.107      2.606     29424.45 1.089 1.280  3.027 \n",
                            "Australia-2002 0.299      15.012      4.162     30777.88 1.105 1.296  0.836 \n",
                            "Australia-2003 1.025      13.185      3.022     31972.50 1.098 1.310 -1.202 \n",
                            "Australia-2004 1.207      11.907      4.103     33806.14 1.087 1.320  3.864 \n",
                            "Australia-2005 1.603      10.859      3.024     35450.93 1.071 1.339  3.352 \n",
                            "               TM_RPCH BCA_NGDPD TRWMA NGSD_NGDP NID_NGDP LUR  \n",
                            "Australia-2000  8.036  -4.046    5.83  21.210    24.946   6.292\n",
                            "Australia-2001 -4.651  -2.249    4.80  21.145    23.460   6.775\n",
                            "Australia-2002 10.877  -3.799    3.69  21.471    25.219   6.358\n",
                            "Australia-2003 11.006  -5.323    3.74  21.464    26.748   5.942\n",
                            "Australia-2004 15.548  -6.306    3.69  21.007    27.214   5.383\n",
                            "Australia-2005  9.361  -5.952    3.07  21.706    27.834   5.033"
                        ]
                    },
                    "metadata": {},
                    "output_type": "display_data"
                }
            ],
            "source": [
                "# panel data\n",
                "panel_df <- pdata.frame(df, index = c(\"Country\", \"Year\"))\n",
                "head(panel_df)\n"
            ]
        },
        {
            "cell_type": "markdown",
            "metadata": {},
            "source": [
                "<a id='1'></a>\n",
                "\n",
                "### **1. :**"
            ]
        },
        {
            "cell_type": "code",
            "execution_count": 9,
            "metadata": {
                "vscode": {
                    "languageId": "r"
                }
            },
            "outputs": [
                {
                    "data": {
                        "text/html": [
                            "<table class=\"dataframe\">\n",
                            "<caption>A pdata.frame: 6 × 36</caption>\n",
                            "<thead>\n",
                            "\t<tr><th></th><th scope=col>Country</th><th scope=col>Advanced_Country</th><th scope=col>Year</th><th scope=col>PCPIPCH</th><th scope=col>GGR_NGDP</th><th scope=col>GGX_NGDP</th><th scope=col>GGSB_NPGDP</th><th scope=col>GGXWDG_NGDP</th><th scope=col>NGDP_RPCH</th><th scope=col>PPPPC</th><th scope=col>⋯</th><th scope=col>PPPPC_lag</th><th scope=col>PPPSH_lag</th><th scope=col>PPPEX_lag</th><th scope=col>TX_RPCH_lag</th><th scope=col>TM_RPCH_lag</th><th scope=col>BCA_NGDPD_lag</th><th scope=col>TRWMA_lag</th><th scope=col>NGSD_NGDP_lag</th><th scope=col>NID_NGDP_lag</th><th scope=col>LUR_lag</th></tr>\n",
                            "\t<tr><th></th><th scope=col>&lt;fct&gt;</th><th scope=col>&lt;int&gt;</th><th scope=col>&lt;fct&gt;</th><th scope=col>&lt;dbl&gt;</th><th scope=col>&lt;dbl&gt;</th><th scope=col>&lt;dbl&gt;</th><th scope=col>&lt;dbl&gt;</th><th scope=col>&lt;dbl&gt;</th><th scope=col>&lt;dbl&gt;</th><th scope=col>&lt;dbl&gt;</th><th scope=col>⋯</th><th scope=col>&lt;dbl&gt;</th><th scope=col>&lt;dbl&gt;</th><th scope=col>&lt;dbl&gt;</th><th scope=col>&lt;dbl&gt;</th><th scope=col>&lt;dbl&gt;</th><th scope=col>&lt;dbl&gt;</th><th scope=col>&lt;dbl&gt;</th><th scope=col>&lt;dbl&gt;</th><th scope=col>&lt;dbl&gt;</th><th scope=col>&lt;dbl&gt;</th></tr>\n",
                            "</thead>\n",
                            "<tbody>\n",
                            "\t<tr><th scope=row>Australia-2000</th><td>Australia</td><td>1</td><td>2000</td><td>4.457</td><td>36.461</td><td>35.211</td><td>1.318</td><td>19.494</td><td>3.094</td><td>28405.21</td><td>⋯</td><td>28405.21</td><td>1.087</td><td>1.264</td><td>11.738</td><td> 8.036</td><td>-4.046</td><td>5.83</td><td>21.210</td><td>24.946</td><td>6.292</td></tr>\n",
                            "\t<tr><th scope=row>Australia-2001</th><td>Australia</td><td>1</td><td>2001</td><td>4.407</td><td>35.591</td><td>35.622</td><td>0.132</td><td>17.107</td><td>2.606</td><td>29424.45</td><td>⋯</td><td>28405.21</td><td>1.087</td><td>1.264</td><td>11.738</td><td> 8.036</td><td>-4.046</td><td>5.83</td><td>21.210</td><td>24.946</td><td>6.292</td></tr>\n",
                            "\t<tr><th scope=row>Australia-2002</th><td>Australia</td><td>1</td><td>2002</td><td>3.049</td><td>35.110</td><td>34.917</td><td>0.299</td><td>15.012</td><td>4.162</td><td>30777.88</td><td>⋯</td><td>29424.45</td><td>1.089</td><td>1.280</td><td> 3.027</td><td>-4.651</td><td>-2.249</td><td>4.80</td><td>21.145</td><td>23.460</td><td>6.775</td></tr>\n",
                            "\t<tr><th scope=row>Australia-2003</th><td>Australia</td><td>1</td><td>2003</td><td>2.731</td><td>35.957</td><td>34.906</td><td>1.025</td><td>13.185</td><td>3.022</td><td>31972.50</td><td>⋯</td><td>30777.88</td><td>1.105</td><td>1.296</td><td> 0.836</td><td>10.877</td><td>-3.799</td><td>3.69</td><td>21.471</td><td>25.219</td><td>6.358</td></tr>\n",
                            "\t<tr><th scope=row>Australia-2004</th><td>Australia</td><td>1</td><td>2004</td><td>2.342</td><td>36.158</td><td>34.835</td><td>1.207</td><td>11.907</td><td>4.103</td><td>33806.14</td><td>⋯</td><td>31972.50</td><td>1.098</td><td>1.310</td><td>-1.202</td><td>11.006</td><td>-5.323</td><td>3.74</td><td>21.464</td><td>26.748</td><td>5.942</td></tr>\n",
                            "\t<tr><th scope=row>Australia-2005</th><td>Australia</td><td>1</td><td>2005</td><td>2.659</td><td>36.286</td><td>34.580</td><td>1.603</td><td>10.859</td><td>3.024</td><td>35450.93</td><td>⋯</td><td>33806.14</td><td>1.087</td><td>1.320</td><td> 3.864</td><td>15.548</td><td>-6.306</td><td>3.69</td><td>21.007</td><td>27.214</td><td>5.383</td></tr>\n",
                            "</tbody>\n",
                            "</table>\n"
                        ],
                        "text/latex": [
                            "A pdata.frame: 6 × 36\n",
                            "\\begin{tabular}{r|lllllllllllllllllllll}\n",
                            "  & Country & Advanced\\_Country & Year & PCPIPCH & GGR\\_NGDP & GGX\\_NGDP & GGSB\\_NPGDP & GGXWDG\\_NGDP & NGDP\\_RPCH & PPPPC & ⋯ & PPPPC\\_lag & PPPSH\\_lag & PPPEX\\_lag & TX\\_RPCH\\_lag & TM\\_RPCH\\_lag & BCA\\_NGDPD\\_lag & TRWMA\\_lag & NGSD\\_NGDP\\_lag & NID\\_NGDP\\_lag & LUR\\_lag\\\\\n",
                            "  & <fct> & <int> & <fct> & <dbl> & <dbl> & <dbl> & <dbl> & <dbl> & <dbl> & <dbl> & ⋯ & <dbl> & <dbl> & <dbl> & <dbl> & <dbl> & <dbl> & <dbl> & <dbl> & <dbl> & <dbl>\\\\\n",
                            "\\hline\n",
                            "\tAustralia-2000 & Australia & 1 & 2000 & 4.457 & 36.461 & 35.211 & 1.318 & 19.494 & 3.094 & 28405.21 & ⋯ & 28405.21 & 1.087 & 1.264 & 11.738 &  8.036 & -4.046 & 5.83 & 21.210 & 24.946 & 6.292\\\\\n",
                            "\tAustralia-2001 & Australia & 1 & 2001 & 4.407 & 35.591 & 35.622 & 0.132 & 17.107 & 2.606 & 29424.45 & ⋯ & 28405.21 & 1.087 & 1.264 & 11.738 &  8.036 & -4.046 & 5.83 & 21.210 & 24.946 & 6.292\\\\\n",
                            "\tAustralia-2002 & Australia & 1 & 2002 & 3.049 & 35.110 & 34.917 & 0.299 & 15.012 & 4.162 & 30777.88 & ⋯ & 29424.45 & 1.089 & 1.280 &  3.027 & -4.651 & -2.249 & 4.80 & 21.145 & 23.460 & 6.775\\\\\n",
                            "\tAustralia-2003 & Australia & 1 & 2003 & 2.731 & 35.957 & 34.906 & 1.025 & 13.185 & 3.022 & 31972.50 & ⋯ & 30777.88 & 1.105 & 1.296 &  0.836 & 10.877 & -3.799 & 3.69 & 21.471 & 25.219 & 6.358\\\\\n",
                            "\tAustralia-2004 & Australia & 1 & 2004 & 2.342 & 36.158 & 34.835 & 1.207 & 11.907 & 4.103 & 33806.14 & ⋯ & 31972.50 & 1.098 & 1.310 & -1.202 & 11.006 & -5.323 & 3.74 & 21.464 & 26.748 & 5.942\\\\\n",
                            "\tAustralia-2005 & Australia & 1 & 2005 & 2.659 & 36.286 & 34.580 & 1.603 & 10.859 & 3.024 & 35450.93 & ⋯ & 33806.14 & 1.087 & 1.320 &  3.864 & 15.548 & -6.306 & 3.69 & 21.007 & 27.214 & 5.383\\\\\n",
                            "\\end{tabular}\n"
                        ],
                        "text/markdown": [
                            "\n",
                            "A pdata.frame: 6 × 36\n",
                            "\n",
                            "| <!--/--> | Country &lt;fct&gt; | Advanced_Country &lt;int&gt; | Year &lt;fct&gt; | PCPIPCH &lt;dbl&gt; | GGR_NGDP &lt;dbl&gt; | GGX_NGDP &lt;dbl&gt; | GGSB_NPGDP &lt;dbl&gt; | GGXWDG_NGDP &lt;dbl&gt; | NGDP_RPCH &lt;dbl&gt; | PPPPC &lt;dbl&gt; | ⋯ ⋯ | PPPPC_lag &lt;dbl&gt; | PPPSH_lag &lt;dbl&gt; | PPPEX_lag &lt;dbl&gt; | TX_RPCH_lag &lt;dbl&gt; | TM_RPCH_lag &lt;dbl&gt; | BCA_NGDPD_lag &lt;dbl&gt; | TRWMA_lag &lt;dbl&gt; | NGSD_NGDP_lag &lt;dbl&gt; | NID_NGDP_lag &lt;dbl&gt; | LUR_lag &lt;dbl&gt; |\n",
                            "|---|---|---|---|---|---|---|---|---|---|---|---|---|---|---|---|---|---|---|---|---|---|\n",
                            "| Australia-2000 | Australia | 1 | 2000 | 4.457 | 36.461 | 35.211 | 1.318 | 19.494 | 3.094 | 28405.21 | ⋯ | 28405.21 | 1.087 | 1.264 | 11.738 |  8.036 | -4.046 | 5.83 | 21.210 | 24.946 | 6.292 |\n",
                            "| Australia-2001 | Australia | 1 | 2001 | 4.407 | 35.591 | 35.622 | 0.132 | 17.107 | 2.606 | 29424.45 | ⋯ | 28405.21 | 1.087 | 1.264 | 11.738 |  8.036 | -4.046 | 5.83 | 21.210 | 24.946 | 6.292 |\n",
                            "| Australia-2002 | Australia | 1 | 2002 | 3.049 | 35.110 | 34.917 | 0.299 | 15.012 | 4.162 | 30777.88 | ⋯ | 29424.45 | 1.089 | 1.280 |  3.027 | -4.651 | -2.249 | 4.80 | 21.145 | 23.460 | 6.775 |\n",
                            "| Australia-2003 | Australia | 1 | 2003 | 2.731 | 35.957 | 34.906 | 1.025 | 13.185 | 3.022 | 31972.50 | ⋯ | 30777.88 | 1.105 | 1.296 |  0.836 | 10.877 | -3.799 | 3.69 | 21.471 | 25.219 | 6.358 |\n",
                            "| Australia-2004 | Australia | 1 | 2004 | 2.342 | 36.158 | 34.835 | 1.207 | 11.907 | 4.103 | 33806.14 | ⋯ | 31972.50 | 1.098 | 1.310 | -1.202 | 11.006 | -5.323 | 3.74 | 21.464 | 26.748 | 5.942 |\n",
                            "| Australia-2005 | Australia | 1 | 2005 | 2.659 | 36.286 | 34.580 | 1.603 | 10.859 | 3.024 | 35450.93 | ⋯ | 33806.14 | 1.087 | 1.320 |  3.864 | 15.548 | -6.306 | 3.69 | 21.007 | 27.214 | 5.383 |\n",
                            "\n"
                        ],
                        "text/plain": [
                            "               Country   Advanced_Country Year PCPIPCH GGR_NGDP GGX_NGDP\n",
                            "Australia-2000 Australia 1                2000 4.457   36.461   35.211  \n",
                            "Australia-2001 Australia 1                2001 4.407   35.591   35.622  \n",
                            "Australia-2002 Australia 1                2002 3.049   35.110   34.917  \n",
                            "Australia-2003 Australia 1                2003 2.731   35.957   34.906  \n",
                            "Australia-2004 Australia 1                2004 2.342   36.158   34.835  \n",
                            "Australia-2005 Australia 1                2005 2.659   36.286   34.580  \n",
                            "               GGSB_NPGDP GGXWDG_NGDP NGDP_RPCH PPPPC    ⋯ PPPPC_lag PPPSH_lag\n",
                            "Australia-2000 1.318      19.494      3.094     28405.21 ⋯ 28405.21  1.087    \n",
                            "Australia-2001 0.132      17.107      2.606     29424.45 ⋯ 28405.21  1.087    \n",
                            "Australia-2002 0.299      15.012      4.162     30777.88 ⋯ 29424.45  1.089    \n",
                            "Australia-2003 1.025      13.185      3.022     31972.50 ⋯ 30777.88  1.105    \n",
                            "Australia-2004 1.207      11.907      4.103     33806.14 ⋯ 31972.50  1.098    \n",
                            "Australia-2005 1.603      10.859      3.024     35450.93 ⋯ 33806.14  1.087    \n",
                            "               PPPEX_lag TX_RPCH_lag TM_RPCH_lag BCA_NGDPD_lag TRWMA_lag\n",
                            "Australia-2000 1.264     11.738       8.036      -4.046        5.83     \n",
                            "Australia-2001 1.264     11.738       8.036      -4.046        5.83     \n",
                            "Australia-2002 1.280      3.027      -4.651      -2.249        4.80     \n",
                            "Australia-2003 1.296      0.836      10.877      -3.799        3.69     \n",
                            "Australia-2004 1.310     -1.202      11.006      -5.323        3.74     \n",
                            "Australia-2005 1.320      3.864      15.548      -6.306        3.69     \n",
                            "               NGSD_NGDP_lag NID_NGDP_lag LUR_lag\n",
                            "Australia-2000 21.210        24.946       6.292  \n",
                            "Australia-2001 21.210        24.946       6.292  \n",
                            "Australia-2002 21.145        23.460       6.775  \n",
                            "Australia-2003 21.471        25.219       6.358  \n",
                            "Australia-2004 21.464        26.748       5.942  \n",
                            "Australia-2005 21.007        27.214       5.383  "
                        ]
                    },
                    "metadata": {},
                    "output_type": "display_data"
                }
            ],
            "source": [
                "\n",
                "# Get column names excluding the index columns (Country and Year)\n",
                "vars <- setdiff(colnames(panel_df), c(\"Country\", \"Year\"))\n",
                "\n",
                "# For each variable, create lagged version and fill NA with first observation per group\n",
                "for (n in vars) {\n",
                "  lagged_name <- paste0(n, \"_lag\")\n",
                "  \n",
                "  # Create lag by country (group)\n",
                "  panel_df[[lagged_name]] <- ave(panel_df[[n]], panel_df$Country, FUN = function(x) dplyr::lag(x, 1))\n",
                "  \n",
                "  # Replace NA values (first lag) with first observation in each group\n",
                "  panel_df[[lagged_name]] <- ifelse(\n",
                "    is.na(panel_df[[lagged_name]]),\n",
                "    ave(panel_df[[n]], panel_df$Country, FUN = function(x) rep(x[1], length(x))),\n",
                "    panel_df[[lagged_name]]\n",
                "  )\n",
                "}\n",
                "\n",
                "head(panel_df)\n"
            ]
        },
        {
            "cell_type": "code",
            "execution_count": 15,
            "metadata": {
                "vscode": {
                    "languageId": "r"
                }
            },
            "outputs": [],
            "source": [
                "# ========== Split data for out-of-sample forecasting ==========\n",
                "# Define dependent and independent variables\n",
                "y <- panel_df[,'PCPIPCH']  # Inflation Rate (Consumer Prices, annual %)\n",
                "X_vars <- c(\n",
                "\n",
                "    # 2. Public Finance\n",
                "    #\"GGR_NGDP\",     ## General government revenue (% of GDP)\n",
                "    #\"GGX_NGDP\",     ## General government expenditure (% of GDP)\n",
                "    #\"GGSB_NPGDP\",   ## General government structural balance\n",
                "    \"GGXWDG_NGDP\",  # General government gross debt (% of GDP)\n",
                "\n",
                "    \n",
                "    # 3. Economic Output & Productivity\n",
                "    #\"NGDP_RPCH\",    ## Real GDP growth (%)\n",
                "    \"PPPPC\",        # GDP per capita based on PPP\n",
                "    #\"PPPSH\",        ## PPP share of world total\n",
                "    \n",
                "\n",
                "\n",
                "    # 4. Exchange & Purchasing Power\n",
                "    \"PPPEX\",        # PPP exchange rate\n",
                "\n",
                "    # 5. International Trade & Balance\n",
                "    \"TX_RPCH\",      # Export volume growth\n",
                "    #\"TM_RPCH\",      ## Import volume growth\n",
                "    \"BCA_NGDPD\",    # Current account balance (% of GDP)\n",
                "    \"TRWMA\",        # World trade volume (goods and services)\n",
                "    \n",
                "\n",
                "    # 6. Savings & Investment\n",
                "    \"NGSD_NGDP\",    ## Net government saving (% of GDP)\n",
                "    #\"NID_NGDP\",     ## Investment (% of GDP)\n",
                "    \n",
                "\n",
                "\n",
                "    \n",
                "    # 7. Labor Market\n",
                "    \"LUR\",           # Unemployment rate (%)\n",
                "\n",
                "    # # 8. lagged \n",
                "    # #\"GGR_NGDP_lag\",    \n",
                "    # #\"GGX_NGDP_lag\",  \n",
                "    # \"GGSB_NPGDP_lag\",   \n",
                "    # \"GGXWDG_NGDP_lag\",  \n",
                "\n",
                "    # \"NGDP_RPCH_lag\", \n",
                "    # \"PPPPC_lag\",       \n",
                "    # \"PPPSH_lag\",       \n",
                "    \n",
                "    # \"PPPEX_lag\",      \n",
                "    \n",
                "    # \"TX_RPCH_lag\",      \n",
                "    # \"TM_RPCH_lag\",      \n",
                "    # \"BCA_NGDPD_lag\",    \n",
                "    # \"TRWMA_lag\",        \n",
                "    \n",
                "    # \"NGSD_NGDP_lag\",    \n",
                "    # #\"NID_NGDP_lag\",    \n",
                "    # \"LUR_lag\",    \n",
                "\n",
                "    #\"PCPIPCH_lag\",      #inflation \n",
                "    # 8. Metadata\n",
                "   \"Advanced_Country\"\n",
                "    \n",
                ")\n",
                "\n",
                "X <- panel_df[, X_vars]\n",
                "\n",
                "# Define evaluation function (RMSE and R-squared)\n",
                "evaluate <- function(y_true, y_pred) {\n",
                "  rmse <- sqrt(mean((y_true - y_pred)^2))                  # Root Mean Squared Error\n",
                "  ss_total <- sum((y_true - mean(y_true))^2)               # Total Sum of Squares\n",
                "  ss_res <- sum((y_true - y_pred)^2)                       # Residual Sum of Squares\n",
                "  r2 <- 1 - (ss_res / ss_total)                            # R-squared\n",
                "  return(list(rmse = rmse, r2 = r2))\n",
                "}\n"
            ]
        },
        {
            "cell_type": "code",
            "execution_count": 16,
            "metadata": {
                "vscode": {
                    "languageId": "r"
                }
            },
            "outputs": [],
            "source": [
                "# Step 1: Convert Year to numeric to allow comparison\n",
                "panel_df$Year <- as.numeric(as.character(panel_df$Year))\n",
                "\n",
                "# Split data into train and test\n",
                "train <- panel_df %>% \n",
                "  as.data.frame() %>%\n",
                "  filter(Year <= 2022) %>%\n",
                "  pdata.frame(index = c(\"Country\", \"Year\"))\n",
                "\n",
                "test <- panel_df %>% \n",
                "  as.data.frame() %>%\n",
                "  filter(Year > 2022) %>%\n",
                "  pdata.frame(index = c(\"Country\", \"Year\"))\n",
                "\n",
                "# Define dependent and independent variables\n",
                "y_train <- train$PCPIPCH\n",
                "X_train <- train[, X_vars]\n",
                "\n",
                "y_test <- test$PCPIPCH\n",
                "X_test <- test[, X_vars]\n",
                "\n",
                "# Combine y and X for training model\n",
                "train_model_df <- train[, c(\"PCPIPCH\", X_vars)]\n",
                "\n",
                "test_model_df <- test[, c(\"PCPIPCH\", X_vars)]\n"
            ]
        },
        {
            "cell_type": "code",
            "execution_count": 17,
            "metadata": {
                "vscode": {
                    "languageId": "r"
                }
            },
            "outputs": [
                {
                    "data": {
                        "text/plain": [
                            "Pooling Model\n",
                            "\n",
                            "Call:\n",
                            "plm(formula = formula_str, data = train_model_df, model = \"pooling\", \n",
                            "    index = c(\"Country\", \"Year\"))\n",
                            "\n",
                            "Balanced Panel: n = 64, T = 23, N = 1472\n",
                            "\n",
                            "Residuals:\n",
                            "   Min. 1st Qu.  Median    Mean 3rd Qu.    Max. \n",
                            " -8.173  -1.685  -0.400   0.166   1.046  47.487 \n",
                            "\n",
                            "Coefficients:\n",
                            "                    Estimate  Std. Error t-value  Pr(>|t|)    \n",
                            "GGXWDG_NGDP      -3.0365e-03  3.0179e-03 -1.0061  0.314515    \n",
                            "PPPPC             3.2941e-05  9.3261e-06  3.5322  0.000425 ***\n",
                            "PPPEX             2.6159e-04  1.9640e-04  1.3319  0.183106    \n",
                            "TX_RPCH           4.6585e-02  1.1710e-02  3.9784 7.278e-05 ***\n",
                            "BCA_NGDPD        -1.8054e-01  2.0220e-02 -8.9287 < 2.2e-16 ***\n",
                            "TRWMA             1.3647e-01  3.1198e-02  4.3743 1.305e-05 ***\n",
                            "NGSD_NGDP         1.1960e-01  1.2657e-02  9.4491 < 2.2e-16 ***\n",
                            "LUR               5.5569e-02  1.9424e-02  2.8608  0.004286 ** \n",
                            "Advanced_Country -2.5211e+00  3.1257e-01 -8.0655 1.504e-15 ***\n",
                            "---\n",
                            "Signif. codes:  0 '***' 0.001 '**' 0.01 '*' 0.05 '.' 0.1 ' ' 1\n",
                            "\n",
                            "Total Sum of Squares:    25882\n",
                            "Residual Sum of Squares: 23644\n",
                            "R-Squared:      0.095082\n",
                            "Adj. R-Squared: 0.090133\n",
                            "F-statistic: 151.176 on 9 and 1463 DF, p-value: < 2.22e-16"
                        ]
                    },
                    "metadata": {},
                    "output_type": "display_data"
                },
                {
                    "name": "stdout",
                    "output_type": "stream",
                    "text": [
                        "Pooled OLS RMSE (out-of-sample): 4.6451\n",
                        "Pooled OLS R² (out-of-sample): 0.0003\n"
                    ]
                }
            ],
            "source": [
                "# ===============================\n",
                "# A. Pooled OLS model\n",
                "\n",
                "# Create formula for model\n",
                "formula_str <- as.formula(paste(\"PCPIPCH ~ -1 +\", paste(X_vars, collapse = \" + \")))\n",
                "\n",
                "#  Fit Pooled OLS model\n",
                "pooled_model <- plm(formula_str, data = train_model_df, model = \"pooling\", index = c(\"Country\", \"Year\"))\n",
                "\n",
                "# Display model summary\n",
                "summary(pooled_model)\n",
                "\n",
                "# Predict using the model\n",
                "pooled_preds <- predict(pooled_model, newdata = X_test)\n",
                "\n",
                "# Evaluate model performance\n",
                "pooled_rmse <- rmse(y_test, pooled_preds)\n",
                "pooled_r2   <- R2( y_test, pooled_preds)\n",
                "\n",
                "# Print results\n",
                "cat(sprintf(\"Pooled OLS RMSE (out-of-sample): %.4f\\n\", pooled_rmse))\n",
                "cat(sprintf(\"Pooled OLS R² (out-of-sample): %.4f\\n\", pooled_r2))\n"
            ]
        },
        {
            "cell_type": "code",
            "execution_count": 18,
            "metadata": {
                "vscode": {
                    "languageId": "r"
                }
            },
            "outputs": [],
            "source": [
                "if (\"Advanced_Country\" %in% colnames(X_train)) {\n",
                "  X_train <- X_train[, !colnames(X_train) %in% \"Advanced_Country\"]\n",
                "}\n",
                "\n",
                "if (\"Advanced_Country\" %in% colnames(X_test)) {\n",
                "  X_test <- X_test[, !colnames(X_test) %in% \"Advanced_Country\"]\n",
                "}\n",
                "\n",
                "if (\"Advanced_Country\" %in% colnames(train_model_df)) {\n",
                "  train_model_df <- train_model_df[, !colnames(train_model_df) %in% \"Advanced_Country\"]\n",
                "}\n",
                "if (\"Advanced_Country\" %in% colnames(test_model_df)) {\n",
                "  test_model_df <- test_model_df[, !colnames(test_model_df) %in% \"Advanced_Country\"]\n",
                "}\n",
                "\n",
                "X_vars <- setdiff(X_vars, \"Advanced_Country\")\n",
                "\n",
                "\n",
                "# Create formula for model\n",
                "formula_str <- as.formula(paste(\"PCPIPCH ~ -1 +\", paste(X_vars, collapse = \" + \" )))\n"
            ]
        },
        {
            "cell_type": "code",
            "execution_count": 19,
            "metadata": {
                "vscode": {
                    "languageId": "r"
                }
            },
            "outputs": [
                {
                    "data": {
                        "text/plain": [
                            "Oneway (individual) effect Within Model\n",
                            "\n",
                            "Call:\n",
                            "plm(formula = formula_str, data = train_model_df, model = \"within\", \n",
                            "    index = c(\"Country\", \"Year\"))\n",
                            "\n",
                            "Balanced Panel: n = 64, T = 23, N = 1472\n",
                            "\n",
                            "Residuals:\n",
                            "     Min.   1st Qu.    Median   3rd Qu.      Max. \n",
                            "-13.41976  -1.35622  -0.36541   0.86815  44.44232 \n",
                            "\n",
                            "Coefficients:\n",
                            "               Estimate  Std. Error t-value  Pr(>|t|)    \n",
                            "GGXWDG_NGDP  2.3667e-03  6.9889e-03  0.3386  0.734937    \n",
                            "PPPPC        1.5359e-05  1.2164e-05  1.2627  0.206925    \n",
                            "PPPEX       -2.8160e-03  5.8901e-04 -4.7809 1.929e-06 ***\n",
                            "TX_RPCH      4.1192e-02  1.0300e-02  3.9991 6.689e-05 ***\n",
                            "BCA_NGDPD   -1.5662e-01  2.7118e-02 -5.7757 9.431e-09 ***\n",
                            "TRWMA        1.1836e-01  4.1758e-02  2.8345  0.004656 ** \n",
                            "NGSD_NGDP    3.2775e-02  2.1681e-02  1.5117  0.130841    \n",
                            "LUR         -1.0521e-01  3.8440e-02 -2.7368  0.006282 ** \n",
                            "---\n",
                            "Signif. codes:  0 '***' 0.001 '**' 0.01 '*' 0.05 '.' 0.1 ' ' 1\n",
                            "\n",
                            "Total Sum of Squares:    17313\n",
                            "Residual Sum of Squares: 16208\n",
                            "R-Squared:      0.063823\n",
                            "Adj. R-Squared: 0.016346\n",
                            "F-statistic: 11.9305 on 8 and 1400 DF, p-value: < 2.22e-16"
                        ]
                    },
                    "metadata": {},
                    "output_type": "display_data"
                },
                {
                    "name": "stdout",
                    "output_type": "stream",
                    "text": [
                        "Fixed Effects RMSE (out-of-sample): 4.0241\n",
                        "Fixed Effects R² (out-of-sample): 0.2025\n"
                    ]
                }
            ],
            "source": [
                "# ===============================\n",
                "# B. Fixed Effects model\n",
                "\n",
                "# Fit Fixed Effects (within)\n",
                "fe_model <- plm(formula_str, data = train_model_df, model = \"within\", index = c(\"Country\", \"Year\"))\n",
                "\n",
                "# Display model summary\n",
                "summary(fe_model)\n",
                "\n",
                "# Predict using the model\n",
                "fe_preds <- predict(fe_model, newdata = X_test)\n",
                "\n",
                "# Evaluate model performance\n",
                "\n",
                "fe_rmse <- rmse(y_test, fe_preds)\n",
                "fe_r2   <- R2( y_test,fe_preds)\n",
                "\n",
                "# Print results\n",
                "cat(sprintf(\"Fixed Effects RMSE (out-of-sample): %.4f\\n\", fe_rmse))\n",
                "cat(sprintf(\"Fixed Effects R² (out-of-sample): %.4f\\n\", fe_r2))\n"
            ]
        },
        {
            "cell_type": "code",
            "execution_count": 20,
            "metadata": {
                "vscode": {
                    "languageId": "r"
                }
            },
            "outputs": [
                {
                    "data": {
                        "text/plain": [
                            "Oneway (individual) effect Random Effect Model \n",
                            "   (Swamy-Arora's transformation)\n",
                            "\n",
                            "Call:\n",
                            "plm(formula = formula_str, data = train_model_df, model = \"random\", \n",
                            "    index = c(\"Country\", \"Year\"))\n",
                            "\n",
                            "Balanced Panel: n = 64, T = 23, N = 1472\n",
                            "\n",
                            "Effects:\n",
                            "                 var std.dev share\n",
                            "idiosyncratic 11.577   3.403 0.689\n",
                            "individual     5.217   2.284 0.311\n",
                            "theta: 0.7034\n",
                            "\n",
                            "Residuals:\n",
                            "   Min. 1st Qu.  Median    Mean 3rd Qu.    Max. \n",
                            " -9.991  -1.363  -0.403   0.141   0.832  45.625 \n",
                            "\n",
                            "Coefficients:\n",
                            "               Estimate  Std. Error z-value  Pr(>|z|)    \n",
                            "GGXWDG_NGDP  3.7846e-03  5.3824e-03  0.7031   0.48197    \n",
                            "PPPPC        1.5759e-05  1.0370e-05  1.5196   0.12860    \n",
                            "PPPEX       -7.4495e-04  4.0871e-04 -1.8227   0.06835 .  \n",
                            "TX_RPCH      4.0384e-02  1.0367e-02  3.8955 9.801e-05 ***\n",
                            "BCA_NGDPD   -1.8743e-01  2.3119e-02 -8.1073 5.176e-16 ***\n",
                            "TRWMA        1.8455e-01  3.7193e-02  4.9619 6.981e-07 ***\n",
                            "NGSD_NGDP    7.9027e-02  1.5770e-02  5.0111 5.411e-07 ***\n",
                            "LUR         -2.0412e-02  3.0134e-02 -0.6774   0.49817    \n",
                            "---\n",
                            "Signif. codes:  0 '***' 0.001 '**' 0.01 '*' 0.05 '.' 0.1 ' ' 1\n",
                            "\n",
                            "Total Sum of Squares:    18067\n",
                            "Residual Sum of Squares: 17374\n",
                            "R-Squared:      0.041892\n",
                            "Adj. R-Squared: 0.037311\n",
                            "Chisq: 204.877 on 8 DF, p-value: < 2.22e-16"
                        ]
                    },
                    "metadata": {},
                    "output_type": "display_data"
                },
                {
                    "name": "stdout",
                    "output_type": "stream",
                    "text": [
                        "Random Effects RMSE (out-of-sample): 4.7645\n",
                        "Random Effects R² (out-of-sample): 0.0024\n"
                    ]
                }
            ],
            "source": [
                "# ===============================\n",
                "# C. Random Effects model\n",
                "\n",
                "\n",
                "# Step 2: Fit Random Effects model using plm\n",
                "re_model <- plm(formula_str, data = train_model_df, model = \"random\", index = c(\"Country\", \"Year\"))\n",
                "\n",
                "# re_model <- plm(formula_str, data = train_model_df, model = \"random\", \n",
                "#                 random.method = \"amemiya\", index = c(\"Country\", \"Year\"))\n",
                "\n",
                "# re_model <- plm(formula_str, data = train_model_df, model = \"random\", \n",
                "#                 random.method = \"walhus\", index = c(\"Country\", \"Year\"))\n",
                "\n",
                "# Step 3: Display model summary\n",
                "summary(re_model)\n",
                "\n",
                "# Step 4: Predict using the model\n",
                "re_preds <- predict(re_model, newdata = X_test)\n",
                "\n",
                "# Step 5: Evaluate model performance\n",
                "re_rmse <- rmse(y_test, re_preds)\n",
                "re_r2   <- R2( y_test, re_preds)\n",
                "\n",
                "# Step 6: Print results\n",
                "cat(sprintf(\"Random Effects RMSE (out-of-sample): %.4f\\n\", re_rmse))\n",
                "cat(sprintf(\"Random Effects R² (out-of-sample): %.4f\\n\", re_r2))\n"
            ]
        },
        {
            "cell_type": "markdown",
            "metadata": {},
            "source": [
                "<a id='2'></a>\n",
                "\n",
                "### **2. :**"
            ]
        },
        {
            "cell_type": "code",
            "execution_count": 21,
            "metadata": {
                "vscode": {
                    "languageId": "r"
                }
            },
            "outputs": [
                {
                    "name": "stdout",
                    "output_type": "stream",
                    "text": [
                        "\n",
                        "\tHausman Test\n",
                        "\n",
                        "data:  formula_str\n",
                        "chisq = 48.398, df = 8, p-value = 8.292e-08\n",
                        "alternative hypothesis: one model is inconsistent\n",
                        "\n",
                        "Hausman test suggests Fixed Effects preferred.\n"
                    ]
                }
            ],
            "source": [
                "# ===============================\n",
                "# Hausman test: fixed vs random effects\n",
                "hausman_test <- phtest(fe_model, re_model)\n",
                "print(hausman_test)\n",
                "\n",
                "haus_pval <- hausman_test$p.value\n",
                "\n",
                "if (haus_pval < 0.05) {\n",
                "  cat(\"Hausman test suggests Fixed Effects preferred.\\n\")\n",
                "} else {\n",
                "  cat(\"Hausman test suggests Random Effects preferred.\\n\")\n",
                "}"
            ]
        },
        {
            "cell_type": "code",
            "execution_count": 22,
            "metadata": {
                "vscode": {
                    "languageId": "r"
                }
            },
            "outputs": [
                {
                    "name": "stdout",
                    "output_type": "stream",
                    "text": [
                        "Wald Test (F-test) for joint significance of entity effects:\n"
                    ]
                },
                {
                    "data": {
                        "text/html": [
                            "<table class=\"dataframe\">\n",
                            "<caption>A anova: 2 × 4</caption>\n",
                            "<thead>\n",
                            "\t<tr><th></th><th scope=col>Res.Df</th><th scope=col>Df</th><th scope=col>F</th><th scope=col>Pr(&gt;F)</th></tr>\n",
                            "\t<tr><th></th><th scope=col>&lt;dbl&gt;</th><th scope=col>&lt;dbl&gt;</th><th scope=col>&lt;dbl&gt;</th><th scope=col>&lt;dbl&gt;</th></tr>\n",
                            "</thead>\n",
                            "<tbody>\n",
                            "\t<tr><th scope=row>1</th><td>1463</td><td>NA</td><td>      NA</td><td>          NA</td></tr>\n",
                            "\t<tr><th scope=row>2</th><td>1400</td><td>-1</td><td>65.05279</td><td>1.504067e-15</td></tr>\n",
                            "</tbody>\n",
                            "</table>\n"
                        ],
                        "text/latex": [
                            "A anova: 2 × 4\n",
                            "\\begin{tabular}{r|llll}\n",
                            "  & Res.Df & Df & F & Pr(>F)\\\\\n",
                            "  & <dbl> & <dbl> & <dbl> & <dbl>\\\\\n",
                            "\\hline\n",
                            "\t1 & 1463 & NA &       NA &           NA\\\\\n",
                            "\t2 & 1400 & -1 & 65.05279 & 1.504067e-15\\\\\n",
                            "\\end{tabular}\n"
                        ],
                        "text/markdown": [
                            "\n",
                            "A anova: 2 × 4\n",
                            "\n",
                            "| <!--/--> | Res.Df &lt;dbl&gt; | Df &lt;dbl&gt; | F &lt;dbl&gt; | Pr(&gt;F) &lt;dbl&gt; |\n",
                            "|---|---|---|---|---|\n",
                            "| 1 | 1463 | NA |       NA |           NA |\n",
                            "| 2 | 1400 | -1 | 65.05279 | 1.504067e-15 |\n",
                            "\n"
                        ],
                        "text/plain": [
                            "  Res.Df Df F        Pr(>F)      \n",
                            "1 1463   NA       NA           NA\n",
                            "2 1400   -1 65.05279 1.504067e-15"
                        ]
                    },
                    "metadata": {},
                    "output_type": "display_data"
                },
                {
                    "name": "stdout",
                    "output_type": "stream",
                    "text": [
                        "Wald test suggests Fixed Effects preferred.\n"
                    ]
                }
            ],
            "source": [
                "# ===============================\n",
                "# Wald test on Fixed Effects (joint significance of entity effects)\n",
                "# ===============================\n",
                "\n",
                "comparison <- waldtest(pooled_model, fe_model, test = \"F\")\n",
                "cat(\"Wald Test (F-test) for joint significance of entity effects:\\n\")\n",
                "comparison\n",
                "\n",
                "# Extract p-value from the comparison table (last row, last column)\n",
                "wald_pval <- comparison[2, \"Pr(>F)\"]\n",
                "\n",
                "# Decision rule\n",
                "if (wald_pval < 0.05) {\n",
                "  cat(\"Wald test suggests Fixed Effects preferred.\\n\")\n",
                "} else {\n",
                "  cat(\"Wald test suggests Pooled OLS preferred.\\n\")\n",
                "}\n"
            ]
        },
        {
            "cell_type": "markdown",
            "metadata": {},
            "source": [
                "### 3."
            ]
        },
        {
            "cell_type": "markdown",
            "metadata": {},
            "source": [
                "#### # 1.Multicollinearity check using VIF"
            ]
        },
        {
            "cell_type": "code",
            "execution_count": null,
            "metadata": {
                "vscode": {
                    "languageId": "r"
                }
            },
            "outputs": [
                {
                    "name": "stderr",
                    "output_type": "stream",
                    "text": [
                        "Warning message in vif.default(pooled_model):\n",
                        "\"No intercept: vifs may not be sensible.\"\n"
                    ]
                },
                {
                    "name": "stdout",
                    "output_type": "stream",
                    "text": [
                        "[1] \"Variance Inflation Factors (VIF):\"\n"
                    ]
                },
                {
                    "name": "stdout",
                    "output_type": "stream",
                    "text": [
                        "           feature      VIF\n",
                        "1      GGXWDG_NGDP 3.830427\n",
                        "2            PPPPC 9.259275\n",
                        "3            PPPEX 1.175088\n",
                        "4          TX_RPCH 1.296313\n",
                        "5        BCA_NGDPD 1.455958\n",
                        "6            TRWMA 2.421082\n",
                        "7        NGSD_NGDP 8.253084\n",
                        "8              LUR 3.494869\n",
                        "9 Advanced_Country 4.727554\n"
                    ]
                }
            ],
            "source": [
                "# ===============================\n",
                "# 1.Multicollinearity check using VIF\n",
                "\n",
                "model <- lm(PCPIPCH ~ . , data = train_model_df)\n",
                "\n",
                "# Compute VIF values\n",
                "vif_values <- vif(model)\n",
                "# Create a data frame to store VIF results\n",
                "vif_data <- data.frame(\n",
                "  feature = names(vif_values),\n",
                "  VIF = as.numeric(vif_values)\n",
                ")\n",
                "\n",
                "# Display the result\n",
                "print(\"Variance Inflation Factors (VIF):\")\n",
                "print(vif_data)"
            ]
        },
        {
            "cell_type": "markdown",
            "metadata": {},
            "source": []
        },
        {
            "cell_type": "code",
            "execution_count": 25,
            "metadata": {
                "vscode": {
                    "languageId": "r"
                }
            },
            "outputs": [
                {
                    "data": {
                        "text/plain": [
                            "\n",
                            "Call:\n",
                            "lm(formula = fe_residuals ~ . - 1, data = train_model_df)\n",
                            "\n",
                            "Residuals:\n",
                            "     Min       1Q   Median       3Q      Max \n",
                            "-11.5810  -0.7160   0.1566   0.9151  13.2851 \n",
                            "\n",
                            "Coefficients:\n",
                            "              Estimate Std. Error t value Pr(>|t|)    \n",
                            "PCPIPCH      6.563e-01  1.242e-02  52.859  < 2e-16 ***\n",
                            "GGXWDG_NGDP  3.882e-03  1.456e-03   2.665 0.007773 ** \n",
                            "PPPPC        7.372e-06  3.667e-06   2.011 0.044540 *  \n",
                            "PPPEX       -2.554e-04  9.514e-05  -2.684 0.007347 ** \n",
                            "TX_RPCH     -2.701e-02  5.697e-03  -4.741 2.34e-06 ***\n",
                            "BCA_NGDPD    1.104e-01  1.001e-02  11.036  < 2e-16 ***\n",
                            "TRWMA       -1.257e-01  1.497e-02  -8.402  < 2e-16 ***\n",
                            "NGSD_NGDP   -7.776e-02  6.317e-03 -12.310  < 2e-16 ***\n",
                            "LUR         -3.135e-02  9.435e-03  -3.322 0.000915 ***\n",
                            "---\n",
                            "Signif. codes:  0 '***' 0.001 '**' 0.01 '*' 0.05 '.' 0.1 ' ' 1\n",
                            "\n",
                            "Residual standard error: 1.951 on 1463 degrees of freedom\n",
                            "Multiple R-squared:  0.6563,\tAdjusted R-squared:  0.6542 \n",
                            "F-statistic: 310.4 on 9 and 1463 DF,  p-value: < 2.2e-16\n"
                        ]
                    },
                    "metadata": {},
                    "output_type": "display_data"
                },
                {
                    "name": "stderr",
                    "output_type": "stream",
                    "text": [
                        "Warning message in summary.lm(white_diag_model):\n",
                        "\"essentially perfect fit: summary may be unreliable\"\n"
                    ]
                },
                {
                    "data": {
                        "text/plain": [
                            "\n",
                            "Call:\n",
                            "lm(formula = fe_residuals_test ~ . - 1, data = test_data_with_resid)\n",
                            "\n",
                            "Residuals:\n",
                            "       Min         1Q     Median         3Q        Max \n",
                            "-1.963e-15 -2.058e-16 -8.620e-17  6.470e-17  9.547e-15 \n",
                            "\n",
                            "Coefficients:\n",
                            "                Estimate Std. Error    t value Pr(>|t|)    \n",
                            "ffe_residuals  1.000e+00  2.186e-17  4.575e+16   <2e-16 ***\n",
                            "GGXWDG_NGDP   -1.352e-18  2.100e-18 -6.440e-01    0.521    \n",
                            "PPPPC          3.161e-21  4.382e-21  7.210e-01    0.472    \n",
                            "PPPEX         -3.697e-20  1.255e-19 -2.950e-01    0.769    \n",
                            "TX_RPCH        2.236e-17  1.608e-17  1.390e+00    0.167    \n",
                            "BCA_NGDPD     -1.164e-17  2.032e-17 -5.730e-01    0.568    \n",
                            "TRWMA         -7.676e-18  3.226e-17 -2.380e-01    0.812    \n",
                            "NGSD_NGDP      9.502e-19  1.098e-17  8.700e-02    0.931    \n",
                            "LUR           -3.333e-18  1.703e-17 -1.960e-01    0.845    \n",
                            "---\n",
                            "Signif. codes:  0 '***' 0.001 '**' 0.01 '*' 0.05 '.' 0.1 ' ' 1\n",
                            "\n",
                            "Residual standard error: 9.282e-16 on 119 degrees of freedom\n",
                            "Multiple R-squared:      1,\tAdjusted R-squared:      1 \n",
                            "F-statistic: 2.673e+32 on 9 and 119 DF,  p-value: < 2.2e-16\n"
                        ]
                    },
                    "metadata": {},
                    "output_type": "display_data"
                }
            ],
            "source": [
                "# Calculating residuals from a fixed-effects model\n",
                "fe_residuals <- residuals(fe_model)\n",
                "\n",
                "resid_model <- lm(fe_residuals ~ . -1, data = train_model_df)\n",
                "summary(resid_model)\n",
                "\n",
                "\n",
                "fe_residuals_test <- y_test - fe_preds\n",
                "test_data_with_resid <- cbind(ffe_residuals = fe_residuals_test, X_test)\n",
                "\n",
                "# Creating the diagnostic model for White's test\n",
                "white_diag_model <- lm(fe_residuals_test ~ . -1, data = test_data_with_resid)\n",
                "\n",
                "# Printing the results\n",
                "summary(white_diag_model)"
            ]
        },
        {
            "cell_type": "code",
            "execution_count": 26,
            "metadata": {
                "vscode": {
                    "languageId": "r"
                }
            },
            "outputs": [
                {
                    "name": "stdout",
                    "output_type": "stream",
                    "text": [
                        "[1] \"Breusch-Pagan and White Test for Heteroskedasticity:\"\n",
                        "Breusch-Pagan test: stat=18.3914, p-value=0.0103\n"
                    ]
                },
                {
                    "name": "stdout",
                    "output_type": "stream",
                    "text": [
                        "White test: stat=9.4640, p-value=0.3047\n",
                        "Heteroskedasticity detected: consider robust standard errors.\n"
                    ]
                }
            ],
            "source": [
                "# ===============================\n",
                "# 2. Heteroskedasticity tests (Breusch-Pagan and White on Fixed Effects residuals)\n",
                "\n",
                "print(\"Breusch-Pagan and White Test for Heteroskedasticity:\")\n",
                "\n",
                "# Breusch-Pagan Test\n",
                "bp_test <- bptest(fe_model)\n",
                "cat(sprintf(\"Breusch-Pagan test: stat=%.4f, p-value=%.4f\\n\", bp_test$statistic, bp_test$p.value))\n",
                "\n",
                "# White Test (using quadratic interactions)\n",
                "fe_residuals <- residuals(fe_model)\n",
                "\n",
                "white_test <- bptest(lm(fe_residuals^2 ~ ., data = train_model_df[, X_vars]))\n",
                "cat(sprintf(\"White test: stat=%.4f, p-value=%.4f\\n\", white_test$statistic, white_test$p.value))\n",
                "\n",
                "# Decision rule\n",
                "if (bp_test$p.value < 0.05 | white_test$p.value < 0.05) {\n",
                "  cat(\"Heteroskedasticity detected: consider robust standard errors.\\n\")\n",
                "} else {\n",
                "  cat(\"No significant heteroskedasticity detected.\\n\")\n",
                "}"
            ]
        },
        {
            "cell_type": "code",
            "execution_count": 27,
            "metadata": {
                "vscode": {
                    "languageId": "r"
                }
            },
            "outputs": [
                {
                    "name": "stdout",
                    "output_type": "stream",
                    "text": [
                        "White Diagnostic Regression:\n"
                    ]
                },
                {
                    "data": {
                        "text/plain": [
                            "\n",
                            "Call:\n",
                            "lm(formula = I(fe_residuals^2) ~ . - 1, data = train_model_df)\n",
                            "\n",
                            "Residuals:\n",
                            "    Min      1Q  Median      3Q     Max \n",
                            "-156.90  -16.94    0.93   14.00 1392.43 \n",
                            "\n",
                            "Coefficients:\n",
                            "              Estimate Std. Error t value Pr(>|t|)    \n",
                            "PCPIPCH      1.181e+01  3.727e-01  31.690  < 2e-16 ***\n",
                            "GGXWDG_NGDP  6.754e-02  4.372e-02   1.545  0.12256    \n",
                            "PPPPC       -7.864e-05  1.101e-04  -0.715  0.47500    \n",
                            "PPPEX       -8.962e-03  2.856e-03  -3.138  0.00173 ** \n",
                            "TX_RPCH     -4.536e-01  1.710e-01  -2.652  0.00808 ** \n",
                            "BCA_NGDPD    2.022e+00  3.004e-01   6.732 2.39e-11 ***\n",
                            "TRWMA       -1.183e+00  4.492e-01  -2.633  0.00856 ** \n",
                            "NGSD_NGDP   -9.112e-01  1.896e-01  -4.806 1.70e-06 ***\n",
                            "LUR         -3.513e-01  2.832e-01  -1.240  0.21501    \n",
                            "---\n",
                            "Signif. codes:  0 '***' 0.001 '**' 0.01 '*' 0.05 '.' 0.1 ' ' 1\n",
                            "\n",
                            "Residual standard error: 58.57 on 1463 degrees of freedom\n",
                            "Multiple R-squared:  0.4219,\tAdjusted R-squared:  0.4183 \n",
                            "F-statistic: 118.6 on 9 and 1463 DF,  p-value: < 2.2e-16\n"
                        ]
                    },
                    "metadata": {},
                    "output_type": "display_data"
                },
                {
                    "data": {
                        "text/plain": [
                            "\n",
                            "Call:\n",
                            "lm(formula = fe_residuals_test^2 ~ . - 1, data = test_data_with_resid)\n",
                            "\n",
                            "Residuals:\n",
                            "   Min     1Q Median     3Q    Max \n",
                            "-46.36 -20.99  -4.44  10.68 324.07 \n",
                            "\n",
                            "Coefficients:\n",
                            "                Estimate Std. Error t value Pr(>|t|)    \n",
                            "ffe_residuals 10.8228166  0.9868059  10.968   <2e-16 ***\n",
                            "GGXWDG_NGDP    0.0369828  0.0948089   0.390   0.6972    \n",
                            "PPPPC         -0.0000152  0.0001979  -0.077   0.9389    \n",
                            "PPPEX         -0.0006716  0.0056657  -0.119   0.9058    \n",
                            "TX_RPCH        0.4750649  0.7262220   0.654   0.5143    \n",
                            "BCA_NGDPD     -1.7175760  0.9172524  -1.873   0.0636 .  \n",
                            "TRWMA          0.6738308  1.4566755   0.463   0.6445    \n",
                            "NGSD_NGDP     -0.0678551  0.4959137  -0.137   0.8914    \n",
                            "LUR           -0.1034898  0.7687692  -0.135   0.8931    \n",
                            "---\n",
                            "Signif. codes:  0 '***' 0.001 '**' 0.01 '*' 0.05 '.' 0.1 ' ' 1\n",
                            "\n",
                            "Residual standard error: 41.91 on 119 degrees of freedom\n",
                            "Multiple R-squared:  0.5506,\tAdjusted R-squared:  0.5166 \n",
                            "F-statistic:  16.2 on 9 and 119 DF,  p-value: < 2.2e-16\n"
                        ]
                    },
                    "metadata": {},
                    "output_type": "display_data"
                }
            ],
            "source": [
                "# Calculating residuals from a fixed-effects model\n",
                "fe_residuals <- residuals(fe_model)\n",
                "\n",
                "# Creating the diagnostic model for White's test\n",
                "white_diag_model <- lm(I(fe_residuals^2) ~ . -1 , data = train_model_df)\n",
                "\n",
                "# Printing the results\n",
                "cat(\"White Diagnostic Regression:\\n\")\n",
                "summary(white_diag_model)\n",
                "\n",
                "\n",
                "\n",
                "fe_residuals_test <- y_test - fe_preds\n",
                "#test_data_with_resid <- cbind(ffe_residuals = fe_residuals_test^2, X_test)\n",
                "\n",
                "# Creating the diagnostic model for White's test\n",
                "white_diag_model <- lm(fe_residuals_test^2 ~ . -1, data = test_data_with_resid)\n",
                "\n",
                "# Printing the results\n",
                "summary(white_diag_model)"
            ]
        },
        {
            "cell_type": "code",
            "execution_count": 28,
            "metadata": {
                "vscode": {
                    "languageId": "r"
                }
            },
            "outputs": [
                {
                    "data": {
                        "text/plain": [
                            "\n",
                            "t test of coefficients:\n",
                            "\n",
                            "               Estimate  Std. Error t value  Pr(>|t|)    \n",
                            "GGXWDG_NGDP  2.3667e-03  8.9857e-03  0.2634  0.792294    \n",
                            "PPPPC        1.5359e-05  1.5002e-05  1.0238  0.306106    \n",
                            "PPPEX       -2.8160e-03  5.0825e-04 -5.5406 3.597e-08 ***\n",
                            "TX_RPCH      4.1192e-02  1.3909e-02  2.9615  0.003113 ** \n",
                            "BCA_NGDPD   -1.5662e-01  4.1751e-02 -3.7514  0.000183 ***\n",
                            "TRWMA        1.1836e-01  9.6307e-02  1.2290  0.219280    \n",
                            "NGSD_NGDP    3.2775e-02  2.0351e-02  1.6105  0.107521    \n",
                            "LUR         -1.0521e-01  3.9737e-02 -2.6475  0.008199 ** \n",
                            "---\n",
                            "Signif. codes:  0 '***' 0.001 '**' 0.01 '*' 0.05 '.' 0.1 ' ' 1\n"
                        ]
                    },
                    "metadata": {},
                    "output_type": "display_data"
                }
            ],
            "source": [
                "# Correcting standard error using Cluster-Robust SE (country level)\n",
                "robust_se <- vcovHC(fe_model, method = \"arellano\", type = \"HC1\", cluster = \"group\")\n",
                "\n",
                "# Testing significance using corrected standard error\n",
                "coeftest(fe_model, vcov = robust_se)"
            ]
        },
        {
            "cell_type": "code",
            "execution_count": 29,
            "metadata": {
                "vscode": {
                    "languageId": "r"
                }
            },
            "outputs": [
                {
                    "data": {
                        "text/plain": [
                            "\n",
                            "t test of coefficients:\n",
                            "\n",
                            "               Estimate  Std. Error t value  Pr(>|t|)    \n",
                            "GGXWDG_NGDP  2.3667e-03  6.5757e-03  0.3599  0.718966    \n",
                            "PPPPC        1.5359e-05  5.3639e-05  0.2863  0.774661    \n",
                            "PPPEX       -2.8160e-03  5.7121e-04 -4.9299 9.208e-07 ***\n",
                            "TX_RPCH      4.1192e-02  1.5758e-02  2.6140  0.009046 ** \n",
                            "BCA_NGDPD   -1.5662e-01  5.6665e-02 -2.7641  0.005784 ** \n",
                            "TRWMA        1.1836e-01  4.5088e-02  2.6251  0.008756 ** \n",
                            "NGSD_NGDP    3.2775e-02  1.9561e-02  1.6755  0.094054 .  \n",
                            "LUR         -1.0521e-01  4.7585e-02 -2.2109  0.027203 *  \n",
                            "---\n",
                            "Signif. codes:  0 '***' 0.001 '**' 0.01 '*' 0.05 '.' 0.1 ' ' 1\n"
                        ]
                    },
                    "metadata": {},
                    "output_type": "display_data"
                }
            ],
            "source": [
                "robust_se_scc <- vcovSCC(fe_model, type = \"HC1\")\n",
                "coeftest(fe_model, vcov = robust_se_scc)\n"
            ]
        },
        {
            "cell_type": "code",
            "execution_count": 30,
            "metadata": {
                "vscode": {
                    "languageId": "r"
                }
            },
            "outputs": [
                {
                    "name": "stdout",
                    "output_type": "stream",
                    "text": [
                        "[1] \"Breusch-Godfrey/Wooldridge test for Serial Correlation:\"\n"
                    ]
                },
                {
                    "data": {
                        "text/plain": [
                            "\n",
                            "\tBreusch-Godfrey/Wooldridge test for serial correlation in panel models\n",
                            "\n",
                            "data:  formula_str\n",
                            "chisq = 347.48, df = 23, p-value < 2.2e-16\n",
                            "alternative hypothesis: serial correlation in idiosyncratic errors\n"
                        ]
                    },
                    "metadata": {},
                    "output_type": "display_data"
                }
            ],
            "source": [
                "# ===============================\n",
                "# 3. Serial Correlation test (Breusch-Godfrey) on Fixed Effects residuals\n",
                "\n",
                "bg_test <- pbgtest(fe_model)\n",
                "print(\"Breusch-Godfrey/Wooldridge test for Serial Correlation:\")\n",
                "bg_test\n"
            ]
        },
        {
            "cell_type": "markdown",
            "metadata": {},
            "source": []
        },
        {
            "cell_type": "markdown",
            "metadata": {},
            "source": [
                "<a id='3'></a>\n",
                "\n",
                "### **3. Apply the interpolation to Missing Values:**"
            ]
        },
        {
            "cell_type": "markdown",
            "metadata": {},
            "source": [
                "# **END**"
            ]
        }
    ],
    "metadata": {
        "hide_input": false,
        "kernelspec": {
            "display_name": "R",
            "language": "R",
            "name": "ir"
        },
        "language_info": {
            "codemirror_mode": "r",
            "file_extension": ".r",
            "mimetype": "text/x-r-source",
            "name": "R",
            "pygments_lexer": "r",
            "version": "4.4.2"
        }
    },
    "nbformat": 4,
    "nbformat_minor": 2
}
