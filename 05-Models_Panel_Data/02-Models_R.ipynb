{
    "cells": [
        {
            "cell_type": "markdown",
            "metadata": {
                "azdata_cell_guid": "70d09cdf-17ef-4796-a9de-5e457fe84246"
            },
            "source": [
                "## **Project: Panel Data Methodologies With Application To Macroeconometrics (Inflation Forecasting)**.\n",
                "\n",
                "> ### **Title**: Training, Evaluation and Comparison Model.\n",
                "\n",
                "\n",
                "#### **Table of Contents:**\n",
                "<ul>\n",
                "<li><a href=\"#0\"> Dataset Description and Variable Overview.</a></li>\n",
                "<li><a href=\"#1\">1. Split dataset.</a></li>\n",
                "<li><a href=\"#2.A\">2.A. Treaning  Pooled OLS model.</a></li>\n",
                "<li><a href=\"#2.B\">2.B. Treaning  Fixed Effects model.</a></li>\n",
                "<li><a href=\"#2.C\">2.C. Treaning  Random Effects model.</a></li>\n",
                "<li><a href=\"#3.A\">3.A. Wald test: Pooled OLS vs Fixed Effects.</a></li>\n",
                "<li><a href=\"#3.B\">3.B. Hausman test: fixed vs random effects</a></li>\n",
                "<li><a href=\"#4.A\">4.A. Heteroskedasticity tests.</a></li>\n",
                "<li><a href=\"#4.B\">4.B. Serial Correlation test.</a></li>\n",
                "<li><a href=\"#4.C\">4.C. Test Pesaran CD.</a></li>\n",
                "<li><a href=\"#4.D\">4.D. test Levin, Lin & Chu.</a></li>\n",
                "<li><a href=\"#4.E\">4.E. Correcting standard error.</a></li>\n",
                "<li><a href=\"#5\">5. the Dynamic Panel (GMM) model.</a></li>\n",
                "<li><a href=\"#5.A\">5.A. Build the formula string.</a></li>\n",
                "<li><a href=\"#5.B\">5.B. Estimate the GMM model.</a></li>\n",
                "<li><a href=\"#5.C\">5.C. Diagnostics for the Difference GMM model.</a></li>\n",
                "<li><a href=\"#\">.</a></li>\n",
                "\n",
                "</ul>\n",
                "\n",
                "\n"
            ]
        },
        {
            "cell_type": "markdown",
            "metadata": {},
            "source": [
                "<a id='1'></a>\n",
                "\n",
                "#### Dataset Description and Variable Overview:\n",
                "\n",
                "The dataset includes annual macroeconomic data for  **77 countries** over the period **1980–2024**. Most variables are sourced from the **IMF’s World Economic Outlook (WEO)**, except **TRWMA**, which is derived from the **World Bank**. The target variable is **PCPIPCH** (Inflation, average consumer prices). Below is the list of variables used:\n",
                "\n",
                "---\n",
                "\n",
                "> #### **Inflation & Price Stability**\n",
                "\n",
                "| **Variable Code** | **Description**                                    | **Units**                                         |\n",
                "| ----------------- | -------------------------------------------------- | ------------------------------------------------- |\n",
                "| **PCPIPCH**       | Inflation, average consumer prices `(Target)`      | Percent change                                    |\n",
                "\n",
                "---\n",
                "\n",
                "> #### **Public Finance**\n",
                "| **Variable Code** | **Description**                                    | **Units**                                         |\n",
                "| ----------------- | -------------------------------------------------- | ------------------------------------------------- |\n",
                "| GGSB_NPGDP        | General government structural balance              | Percent of potential GDP                          |\n",
                "| GGXWDG_NGDP       | General government gross debt                      | Percent of GDP                                    |\n",
                "\n",
                "---\n",
                "\n",
                "\n",
                "> #### **Economic Output & Productivity**\n",
                "| **Variable Code** | **Description**                                    | **Units**                                         |\n",
                "| ----------------- | -------------------------------------------------- | ------------------------------------------------- |\n",
                "| PPPPC             | Gross domestic product per capita, current prices  | Purchasing power parity; international dollars    |\n",
                "\n",
                "---\n",
                "\n",
                "> #### **International Trade & Balance**\n",
                "| **Variable Code** | **Description**                                    | **Units**                                         |\n",
                "| ----------------- | -------------------------------------------------- | ------------------------------------------------- |\n",
                "| TX_RPCH           | Volume of exports of goods and services            | Percent change                                    |\n",
                "| TM_RPCH           | Volume of imports of goods and services            | Percent change                                    |\n",
                "---\n",
                "\n",
                "> #### **Savings & Investment **\n",
                "| **Variable Code** | **Description**                                    | **Units**                                         |\n",
                "| ----------------- | -------------------------------------------------- | ------------------------------------------------- |\n",
                "| NID_NGDP          | Total investment                                   | Percent of GDP                                    |\n",
                "\n",
                "---\n",
                "\n",
                "> #### **Country Metadata**\n",
                "\n",
                "| **Variable Code** | **Description**                                    | **Units**                                         |\n",
                "| ----------------- | -------------------------------------------------- | ------------------------------------------------- |\n",
                "| Country_Code      | ID number for each country                         | ID                                                |\n",
                "| Country           | Name of 70 countries                               | String                                            |\n",
                "| Advanced_Country  | Is the country developed (1) or developing (0)?    | Boolean                                           |\n",
                "| Years             | date from 2000 to 2024                             | Date                                              |\n",
                "\n",
                "---"
            ]
        },
        {
            "cell_type": "markdown",
            "metadata": {},
            "source": []
        },
        {
            "cell_type": "markdown",
            "metadata": {},
            "source": [
                "\n",
                "#### **1. Inflation & Price Stability (التضخم واستقرار الأسعار)**\n",
                "\n",
                "| Variable Code    | Term             | التفسير |                تأثيره على التضخم                                            |\n",
                "| ---------------- | ---------------- | --------------------------------- | --------------------------------------------------- |\n",
                "| **PCPIPCH**   | Inflation (CPI) | معدل التضخم بناءً على متوسط أسعار المستهلكين؛ مؤشر رئيسي لاستقرار الأسعار. | المتغير الهدف، ويقيس بشكل مباشر مدى ارتفاع الأسعار. |\n",
                "\n",
                "---\n",
                "\n",
                "#### **2. Public Finance (المالية العامة)**\n",
                "\n",
                "| Variable Code    | Term             | التفسير |                تأثيره على التضخم                                            |\n",
                "| ---------------- | ---------------- | --------------------------------- | --------------------------------------------------- |\n",
                "| **GGSB_NPGDP**  | Structural Budget Balance         | الميزان الهيكلي بعد خصم أثر الدورة الاقتصادية.                         | الفائض الهيكلي يُعتبر إشارة إلى سياسة مالية انكماشية تقلل من التضخم.      |\n",
                "| **GGXWDG_NGDP** | Gross Government Debt (% of GDP)  | الدين العام كنسبة من الناتج؛ يعكس عبء الحكومة المالي.                  | ارتفاع الدين قد يُجبر الحكومة على التوسع النقدي مستقبلاً مما يزيد التضخم. |\n",
                "\n",
                "\n",
                "---\n",
                "\n",
                "\n",
                "#### **3. Economic Output & Productivity (الإنتاجية والناتج الاقتصادي)**\n",
                "\n",
                "| Variable Code    | Term             | التفسير |                تأثيره على التضخم                                            |\n",
                "| ---------------- | ---------------- | --------------------------------- | --------------------------------------------------- |\n",
                "| **PPPPC**      | GDP per Capita (PPP)   | نصيب الفرد من الناتج باستخدام تعادل القوة الشرائية.             | ارتفاعه يشير إلى قدرة شرائية أعلى، ما قد يدفع بالأسعار إلى الارتفاع.               |\n",
                "\n",
                "---\n",
                "\n",
                "\n",
                "#### **4. International Trade & Balance (التجارة الدولية والحساب الجاري)**\n",
                "\n",
                "| Variable Code    | Term             | التفسير |                تأثيره على التضخم                                            |\n",
                "| ---------------- | ---------------- | --------------------------------- | --------------------------------------------------- |\n",
                "| **TX_RPCH**   | Export Volume Growth            | نمو حجم الصادرات.                   | زيادة الصادرات قد تقلل المعروض المحلي وترفع الأسعار.                |\n",
                "| **TM_RPCH**   | Import Volume Growth            | نمو حجم الواردات.                   | زيادة الواردات توفر بدائل أرخص وتقلل من التضخم.                     |\n",
                "\n",
                "---\n",
                "\n",
                "#### **5. Savings & Investment (الادخار والاستثمار)**\n",
                "\n",
                "| Variable Code    | Term             | التفسير |                تأثيره على التضخم                                            |\n",
                "| ---------------- | ---------------- | --------------------------------- | --------------------------------------------------- |\n",
                "| **NID_NGDP**  | Gross Capital Formation | الاستثمار الإجمالي كنسبة من الناتج. | استثمار أكبر قد يرفع الإنتاج في الأجل الطويل مما يقلل التضخم. |\n",
                "\n",
                "---\n",
                "\n",
                "#### **6. Country Metadata (بيانات الدول)**\n",
                "\n",
                "| Variable Code    | Term             | التفسير |                تأثيره على التضخم                                            |\n",
                "| ---------------- | ---------------- | --------------------------------- | --------------------------------------------------- |\n",
                "| **Country_Code**     | Country ID         | معرف رقمي فريد لكل دولة. | -                 |\n",
                "| **Country**           | Country Name       | اسم الدولة.              | -                 |\n",
                "| **Advanced_Country** | Development Status | متقدمة (1) أو نامية (0). | -                 |\n",
                "| **Years**             | Year               | السنة ما بين 2000 و2024. | -                 |\n",
                "\n",
                "---\n",
                "\n"
            ]
        },
        {
            "cell_type": "markdown",
            "metadata": {},
            "source": []
        },
        {
            "cell_type": "code",
            "execution_count": 1,
            "metadata": {
                "vscode": {
                    "languageId": "r"
                }
            },
            "outputs": [],
            "source": [
                "#install.packages(\"modelsummary\")"
            ]
        },
        {
            "cell_type": "markdown",
            "metadata": {
                "azdata_cell_guid": "2a1b7248-0b53-45b6-ad95-efa0cb002705"
            },
            "source": [
                "**Import Library**"
            ]
        },
        {
            "cell_type": "code",
            "execution_count": 2,
            "metadata": {
                "azdata_cell_guid": "93c6991b-cad5-4222-a2fe-f38fcc5eb109",
                "language": "sql",
                "vscode": {
                    "languageId": "r"
                }
            },
            "outputs": [
                {
                    "name": "stderr",
                    "output_type": "stream",
                    "text": [
                        "\n",
                        "Attaching package: 'dplyr'\n",
                        "\n",
                        "\n",
                        "The following objects are masked from 'package:stats':\n",
                        "\n",
                        "    filter, lag\n",
                        "\n",
                        "\n",
                        "The following objects are masked from 'package:base':\n",
                        "\n",
                        "    intersect, setdiff, setequal, union\n",
                        "\n",
                        "\n",
                        "Warning message:\n",
                        "\"package 'readxl' was built under R version 4.4.3\"\n",
                        "Loading required package: carData\n",
                        "\n",
                        "\n",
                        "Attaching package: 'car'\n",
                        "\n",
                        "\n",
                        "The following object is masked from 'package:dplyr':\n",
                        "\n",
                        "    recode\n",
                        "\n",
                        "\n",
                        "Warning message:\n",
                        "\"package 'gplots' was built under R version 4.4.3\"\n",
                        "\n",
                        "Attaching package: 'gplots'\n",
                        "\n",
                        "\n",
                        "The following object is masked from 'package:stats':\n",
                        "\n",
                        "    lowess\n",
                        "\n",
                        "\n",
                        "Warning message:\n",
                        "\"package 'plm' was built under R version 4.4.3\"\n",
                        "\n",
                        "Attaching package: 'plm'\n",
                        "\n",
                        "\n",
                        "The following objects are masked from 'package:dplyr':\n",
                        "\n",
                        "    between, lag, lead\n",
                        "\n",
                        "\n",
                        "Warning message:\n",
                        "\"package 'ggplot2' was built under R version 4.4.3\"\n",
                        "Warning message:\n",
                        "\"package 'purrr' was built under R version 4.4.3\"\n",
                        "Warning message:\n",
                        "\"package 'lubridate' was built under R version 4.4.3\"\n",
                        "── \u001b[1mAttaching core tidyverse packages\u001b[22m ──────────────────────── tidyverse 2.0.0 ──\n",
                        "\u001b[32m✔\u001b[39m \u001b[34mforcats  \u001b[39m 1.0.0     \u001b[32m✔\u001b[39m \u001b[34mreadr    \u001b[39m 2.1.5\n",
                        "\u001b[32m✔\u001b[39m \u001b[34mggplot2  \u001b[39m 3.5.2     \u001b[32m✔\u001b[39m \u001b[34mstringr  \u001b[39m 1.5.1\n",
                        "\u001b[32m✔\u001b[39m \u001b[34mlubridate\u001b[39m 1.9.4     \u001b[32m✔\u001b[39m \u001b[34mtibble   \u001b[39m 3.2.1\n",
                        "\u001b[32m✔\u001b[39m \u001b[34mpurrr    \u001b[39m 1.0.4     \u001b[32m✔\u001b[39m \u001b[34mtidyr    \u001b[39m 1.3.1\n",
                        "── \u001b[1mConflicts\u001b[22m ────────────────────────────────────────── tidyverse_conflicts() ──\n",
                        "\u001b[31m✖\u001b[39m \u001b[34mplm\u001b[39m::\u001b[32mbetween()\u001b[39m  masks \u001b[34mdplyr\u001b[39m::between()\n",
                        "\u001b[31m✖\u001b[39m \u001b[34mdplyr\u001b[39m::\u001b[32mfilter()\u001b[39m masks \u001b[34mstats\u001b[39m::filter()\n",
                        "\u001b[31m✖\u001b[39m \u001b[34mplm\u001b[39m::\u001b[32mlag()\u001b[39m      masks \u001b[34mdplyr\u001b[39m::lag(), \u001b[34mstats\u001b[39m::lag()\n",
                        "\u001b[31m✖\u001b[39m \u001b[34mplm\u001b[39m::\u001b[32mlead()\u001b[39m     masks \u001b[34mdplyr\u001b[39m::lead()\n",
                        "\u001b[31m✖\u001b[39m \u001b[34mcar\u001b[39m::\u001b[32mrecode()\u001b[39m   masks \u001b[34mdplyr\u001b[39m::recode()\n",
                        "\u001b[31m✖\u001b[39m \u001b[34mpurrr\u001b[39m::\u001b[32msome()\u001b[39m   masks \u001b[34mcar\u001b[39m::some()\n",
                        "\u001b[36mℹ\u001b[39m Use the conflicted package (\u001b[3m\u001b[34m<http://conflicted.r-lib.org/>\u001b[39m\u001b[23m) to force all conflicts to become errors\n",
                        "corrplot 0.95 loaded\n",
                        "\n",
                        "Warning message:\n",
                        "\"package 'Metrics' was built under R version 4.4.3\"\n",
                        "Loading required package: lattice\n",
                        "\n",
                        "\n",
                        "Attaching package: 'caret'\n",
                        "\n",
                        "\n",
                        "The following objects are masked from 'package:Metrics':\n",
                        "\n",
                        "    precision, recall\n",
                        "\n",
                        "\n",
                        "The following object is masked from 'package:purrr':\n",
                        "\n",
                        "    lift\n",
                        "\n",
                        "\n",
                        "Loading required package: zoo\n",
                        "\n",
                        "Warning message:\n",
                        "\"package 'zoo' was built under R version 4.4.3\"\n",
                        "\n",
                        "Attaching package: 'zoo'\n",
                        "\n",
                        "\n",
                        "The following objects are masked from 'package:base':\n",
                        "\n",
                        "    as.Date, as.Date.numeric\n",
                        "\n",
                        "\n",
                        "Loading required package: survival\n",
                        "\n",
                        "\n",
                        "Attaching package: 'survival'\n",
                        "\n",
                        "\n",
                        "The following object is masked from 'package:caret':\n",
                        "\n",
                        "    cluster\n",
                        "\n",
                        "\n"
                    ]
                }
            ],
            "source": [
                "# Load required libraries\n",
                "library(dplyr)\n",
                "library(readxl)\n",
                "library(car)\n",
                "library(gplots)\n",
                "library(plm)\n",
                "\n",
                "library(tidyverse)\n",
                "library(corrplot)\n",
                "\n",
                "library(Metrics)  # for rmse\n",
                "library(caret)    # for R-squared\n",
                "library(lmtest)\n",
                "\n",
                "\n",
                "library(sandwich)\n",
                "\n",
                "library(urca) # test Levin, Lin & Chu\n",
                "\n",
                "library(AER)      # for Hausman test\n"
            ]
        },
        {
            "cell_type": "markdown",
            "metadata": {
                "azdata_cell_guid": "c88765c0-100d-4621-9753-942ba8737d28"
            },
            "source": [
                "**Load Dataset**"
            ]
        },
        {
            "cell_type": "code",
            "execution_count": 3,
            "metadata": {
                "azdata_cell_guid": "4fd6e3d9-616d-4039-b3b2-eaf457d22711",
                "language": "sql",
                "vscode": {
                    "languageId": "r"
                }
            },
            "outputs": [
                {
                    "data": {
                        "text/html": [
                            "<style>\n",
                            ".list-inline {list-style: none; margin:0; padding: 0}\n",
                            ".list-inline>li {display: inline-block}\n",
                            ".list-inline>li:not(:last-child)::after {content: \"\\00b7\"; padding: 0 .5ex}\n",
                            "</style>\n",
                            "<ol class=list-inline><li>3735</li><li>11</li></ol>\n"
                        ],
                        "text/latex": [
                            "\\begin{enumerate*}\n",
                            "\\item 3735\n",
                            "\\item 11\n",
                            "\\end{enumerate*}\n"
                        ],
                        "text/markdown": [
                            "1. 3735\n",
                            "2. 11\n",
                            "\n",
                            "\n"
                        ],
                        "text/plain": [
                            "[1] 3735   11"
                        ]
                    },
                    "metadata": {},
                    "output_type": "display_data"
                },
                {
                    "data": {
                        "text/html": [
                            "<table class=\"dataframe\">\n",
                            "<caption>A data.frame: 6 × 11</caption>\n",
                            "<thead>\n",
                            "\t<tr><th></th><th scope=col>WEO_Country_Code</th><th scope=col>Country</th><th scope=col>Advanced_Country</th><th scope=col>Year</th><th scope=col>PCPIPCH</th><th scope=col>GGSB_NPGDP</th><th scope=col>GGXWDG_NGDP</th><th scope=col>PPPPC</th><th scope=col>TX_RPCH</th><th scope=col>TM_RPCH</th><th scope=col>NID_NGDP</th></tr>\n",
                            "\t<tr><th></th><th scope=col>&lt;int&gt;</th><th scope=col>&lt;chr&gt;</th><th scope=col>&lt;int&gt;</th><th scope=col>&lt;int&gt;</th><th scope=col>&lt;dbl&gt;</th><th scope=col>&lt;dbl&gt;</th><th scope=col>&lt;dbl&gt;</th><th scope=col>&lt;dbl&gt;</th><th scope=col>&lt;dbl&gt;</th><th scope=col>&lt;dbl&gt;</th><th scope=col>&lt;dbl&gt;</th></tr>\n",
                            "</thead>\n",
                            "<tbody>\n",
                            "\t<tr><th scope=row>1</th><td>614</td><td>Angola</td><td>0</td><td>1980</td><td>46.708</td><td>1.369655</td><td>46.347761</td><td>1510.407</td><td> -3.0</td><td>-39.0</td><td>12.122</td></tr>\n",
                            "\t<tr><th scope=row>2</th><td>614</td><td>Angola</td><td>0</td><td>1981</td><td> 1.391</td><td>1.346576</td><td> 4.311144</td><td>1538.971</td><td>  8.0</td><td> 17.3</td><td>13.148</td></tr>\n",
                            "\t<tr><th scope=row>3</th><td>614</td><td>Angola</td><td>0</td><td>1982</td><td> 1.833</td><td>1.316141</td><td>20.616131</td><td>1591.954</td><td>-12.9</td><td>  1.7</td><td>14.916</td></tr>\n",
                            "\t<tr><th scope=row>4</th><td>614</td><td>Angola</td><td>0</td><td>1983</td><td> 1.833</td><td>1.262721</td><td>14.596401</td><td>1679.796</td><td>  4.6</td><td> -2.7</td><td>12.381</td></tr>\n",
                            "\t<tr><th scope=row>5</th><td>614</td><td>Angola</td><td>0</td><td>1984</td><td> 1.833</td><td>1.191218</td><td> 9.758854</td><td>1797.332</td><td> 12.5</td><td>  2.2</td><td>12.347</td></tr>\n",
                            "\t<tr><th scope=row>6</th><td>614</td><td>Angola</td><td>0</td><td>1985</td><td> 1.833</td><td>1.249193</td><td>20.533547</td><td>1703.032</td><td> -5.9</td><td> -9.4</td><td> 9.450</td></tr>\n",
                            "</tbody>\n",
                            "</table>\n"
                        ],
                        "text/latex": [
                            "A data.frame: 6 × 11\n",
                            "\\begin{tabular}{r|lllllllllll}\n",
                            "  & WEO\\_Country\\_Code & Country & Advanced\\_Country & Year & PCPIPCH & GGSB\\_NPGDP & GGXWDG\\_NGDP & PPPPC & TX\\_RPCH & TM\\_RPCH & NID\\_NGDP\\\\\n",
                            "  & <int> & <chr> & <int> & <int> & <dbl> & <dbl> & <dbl> & <dbl> & <dbl> & <dbl> & <dbl>\\\\\n",
                            "\\hline\n",
                            "\t1 & 614 & Angola & 0 & 1980 & 46.708 & 1.369655 & 46.347761 & 1510.407 &  -3.0 & -39.0 & 12.122\\\\\n",
                            "\t2 & 614 & Angola & 0 & 1981 &  1.391 & 1.346576 &  4.311144 & 1538.971 &   8.0 &  17.3 & 13.148\\\\\n",
                            "\t3 & 614 & Angola & 0 & 1982 &  1.833 & 1.316141 & 20.616131 & 1591.954 & -12.9 &   1.7 & 14.916\\\\\n",
                            "\t4 & 614 & Angola & 0 & 1983 &  1.833 & 1.262721 & 14.596401 & 1679.796 &   4.6 &  -2.7 & 12.381\\\\\n",
                            "\t5 & 614 & Angola & 0 & 1984 &  1.833 & 1.191218 &  9.758854 & 1797.332 &  12.5 &   2.2 & 12.347\\\\\n",
                            "\t6 & 614 & Angola & 0 & 1985 &  1.833 & 1.249193 & 20.533547 & 1703.032 &  -5.9 &  -9.4 &  9.450\\\\\n",
                            "\\end{tabular}\n"
                        ],
                        "text/markdown": [
                            "\n",
                            "A data.frame: 6 × 11\n",
                            "\n",
                            "| <!--/--> | WEO_Country_Code &lt;int&gt; | Country &lt;chr&gt; | Advanced_Country &lt;int&gt; | Year &lt;int&gt; | PCPIPCH &lt;dbl&gt; | GGSB_NPGDP &lt;dbl&gt; | GGXWDG_NGDP &lt;dbl&gt; | PPPPC &lt;dbl&gt; | TX_RPCH &lt;dbl&gt; | TM_RPCH &lt;dbl&gt; | NID_NGDP &lt;dbl&gt; |\n",
                            "|---|---|---|---|---|---|---|---|---|---|---|---|\n",
                            "| 1 | 614 | Angola | 0 | 1980 | 46.708 | 1.369655 | 46.347761 | 1510.407 |  -3.0 | -39.0 | 12.122 |\n",
                            "| 2 | 614 | Angola | 0 | 1981 |  1.391 | 1.346576 |  4.311144 | 1538.971 |   8.0 |  17.3 | 13.148 |\n",
                            "| 3 | 614 | Angola | 0 | 1982 |  1.833 | 1.316141 | 20.616131 | 1591.954 | -12.9 |   1.7 | 14.916 |\n",
                            "| 4 | 614 | Angola | 0 | 1983 |  1.833 | 1.262721 | 14.596401 | 1679.796 |   4.6 |  -2.7 | 12.381 |\n",
                            "| 5 | 614 | Angola | 0 | 1984 |  1.833 | 1.191218 |  9.758854 | 1797.332 |  12.5 |   2.2 | 12.347 |\n",
                            "| 6 | 614 | Angola | 0 | 1985 |  1.833 | 1.249193 | 20.533547 | 1703.032 |  -5.9 |  -9.4 |  9.450 |\n",
                            "\n"
                        ],
                        "text/plain": [
                            "  WEO_Country_Code Country Advanced_Country Year PCPIPCH GGSB_NPGDP GGXWDG_NGDP\n",
                            "1 614              Angola  0                1980 46.708  1.369655   46.347761  \n",
                            "2 614              Angola  0                1981  1.391  1.346576    4.311144  \n",
                            "3 614              Angola  0                1982  1.833  1.316141   20.616131  \n",
                            "4 614              Angola  0                1983  1.833  1.262721   14.596401  \n",
                            "5 614              Angola  0                1984  1.833  1.191218    9.758854  \n",
                            "6 614              Angola  0                1985  1.833  1.249193   20.533547  \n",
                            "  PPPPC    TX_RPCH TM_RPCH NID_NGDP\n",
                            "1 1510.407  -3.0   -39.0   12.122  \n",
                            "2 1538.971   8.0    17.3   13.148  \n",
                            "3 1591.954 -12.9     1.7   14.916  \n",
                            "4 1679.796   4.6    -2.7   12.381  \n",
                            "5 1797.332  12.5     2.2   12.347  \n",
                            "6 1703.032  -5.9    -9.4    9.450  "
                        ]
                    },
                    "metadata": {},
                    "output_type": "display_data"
                }
            ],
            "source": [
                "\n",
                "# Load the dataset.\n",
                "df <- read.csv(\"../02-Dataset/01.4-Data_Clean.csv\")\n",
                "\n",
                "# Display the first 5 rows of data.\n",
                "dim(df)\n",
                "head(df)"
            ]
        },
        {
            "cell_type": "code",
            "execution_count": 4,
            "metadata": {
                "vscode": {
                    "languageId": "r"
                }
            },
            "outputs": [
                {
                    "name": "stdout",
                    "output_type": "stream",
                    "text": [
                        "'data.frame':\t3735 obs. of  10 variables:\n",
                        " $ Country         : chr  \"Angola\" \"Angola\" \"Angola\" \"Angola\" ...\n",
                        " $ Advanced_Country: int  0 0 0 0 0 0 0 0 0 0 ...\n",
                        " $ Year            : int  1980 1981 1982 1983 1984 1985 1986 1987 1988 1989 ...\n",
                        " $ PCPIPCH         : num  46.71 1.39 1.83 1.83 1.83 ...\n",
                        " $ GGSB_NPGDP      : num  1.37 1.35 1.32 1.26 1.19 ...\n",
                        " $ GGXWDG_NGDP     : num  46.35 4.31 20.62 14.6 9.76 ...\n",
                        " $ PPPPC           : num  1510 1539 1592 1680 1797 ...\n",
                        " $ TX_RPCH         : num  -3 8 -12.9 4.6 12.5 -5.9 -33.8 54.3 7 2.7 ...\n",
                        " $ TM_RPCH         : num  -39 17.3 1.7 -2.7 2.2 -9.4 -6.5 -1.5 26.9 -22 ...\n",
                        " $ NID_NGDP        : num  12.1 13.1 14.9 12.4 12.3 ...\n"
                    ]
                }
            ],
            "source": [
                "# Drop \"WEO_Country_Code\"\n",
                "df$WEO_Country_Code <- NULL\n",
                "\n",
                "str(df)"
            ]
        },
        {
            "cell_type": "code",
            "execution_count": 5,
            "metadata": {
                "vscode": {
                    "languageId": "r"
                }
            },
            "outputs": [
                {
                    "data": {
                        "text/plain": [
                            "   Country          Advanced_Country      Year         PCPIPCH        \n",
                            " Length:3735        Min.   :0.0000   Min.   :1980   Min.   : -86.089  \n",
                            " Class :character   1st Qu.:0.0000   1st Qu.:1991   1st Qu.:   2.070  \n",
                            " Mode  :character   Median :0.0000   Median :2002   Median :   4.185  \n",
                            "                    Mean   :0.4337   Mean   :2002   Mean   :  24.608  \n",
                            "                    3rd Qu.:1.0000   3rd Qu.:2013   3rd Qu.:   9.293  \n",
                            "                    Max.   :1.0000   Max.   :2024   Max.   :7481.691  \n",
                            "   GGSB_NPGDP         GGXWDG_NGDP           PPPPC             TX_RPCH         \n",
                            " Min.   :-947.6097   Min.   :-3746.85   Min.   :   274.6   Min.   :-175.0328  \n",
                            " 1st Qu.:  -4.1904   1st Qu.:   29.37   1st Qu.:  7667.6   1st Qu.:   0.5745  \n",
                            " Median :  -2.1580   Median :   46.00   Median : 14819.9   Median :   5.1890  \n",
                            " Mean   :  -2.8788   Mean   :   58.63   Mean   : 20692.3   Mean   :   4.6383  \n",
                            " 3rd Qu.:  -0.1656   3rd Qu.:   68.77   3rd Qu.: 28010.8   3rd Qu.:   9.5619  \n",
                            " Max.   : 125.1350   Max.   :11007.32   Max.   :151145.8   Max.   : 245.3800  \n",
                            "    TM_RPCH             NID_NGDP     \n",
                            " Min.   :-176.6720   Min.   :-34.79  \n",
                            " 1st Qu.:   0.2485   1st Qu.: 19.79  \n",
                            " Median :   5.3060   Median : 23.28  \n",
                            " Mean   :   5.0349   Mean   : 23.74  \n",
                            " 3rd Qu.:  10.4760   3rd Qu.: 27.29  \n",
                            " Max.   : 413.3746   Max.   : 68.21  "
                        ]
                    },
                    "metadata": {},
                    "output_type": "display_data"
                }
            ],
            "source": [
                "### Display Descriptive Statistics\n",
                "summary(df)\n"
            ]
        },
        {
            "cell_type": "code",
            "execution_count": 6,
            "metadata": {
                "vscode": {
                    "languageId": "r"
                }
            },
            "outputs": [
                {
                    "data": {
                        "text/html": [
                            "<table class=\"dataframe\">\n",
                            "<caption>A pdata.frame: 6 × 10</caption>\n",
                            "<thead>\n",
                            "\t<tr><th></th><th scope=col>Country</th><th scope=col>Advanced_Country</th><th scope=col>Year</th><th scope=col>PCPIPCH</th><th scope=col>GGSB_NPGDP</th><th scope=col>GGXWDG_NGDP</th><th scope=col>PPPPC</th><th scope=col>TX_RPCH</th><th scope=col>TM_RPCH</th><th scope=col>NID_NGDP</th></tr>\n",
                            "\t<tr><th></th><th scope=col>&lt;fct&gt;</th><th scope=col>&lt;int&gt;</th><th scope=col>&lt;fct&gt;</th><th scope=col>&lt;dbl&gt;</th><th scope=col>&lt;dbl&gt;</th><th scope=col>&lt;dbl&gt;</th><th scope=col>&lt;dbl&gt;</th><th scope=col>&lt;dbl&gt;</th><th scope=col>&lt;dbl&gt;</th><th scope=col>&lt;dbl&gt;</th></tr>\n",
                            "</thead>\n",
                            "<tbody>\n",
                            "\t<tr><th scope=row>Angola-1980</th><td>Angola</td><td>0</td><td>1980</td><td>46.708</td><td>1.369655</td><td>46.347761</td><td>1510.407</td><td> -3.0</td><td>-39.0</td><td>12.122</td></tr>\n",
                            "\t<tr><th scope=row>Angola-1981</th><td>Angola</td><td>0</td><td>1981</td><td> 1.391</td><td>1.346576</td><td> 4.311144</td><td>1538.971</td><td>  8.0</td><td> 17.3</td><td>13.148</td></tr>\n",
                            "\t<tr><th scope=row>Angola-1982</th><td>Angola</td><td>0</td><td>1982</td><td> 1.833</td><td>1.316141</td><td>20.616131</td><td>1591.954</td><td>-12.9</td><td>  1.7</td><td>14.916</td></tr>\n",
                            "\t<tr><th scope=row>Angola-1983</th><td>Angola</td><td>0</td><td>1983</td><td> 1.833</td><td>1.262721</td><td>14.596401</td><td>1679.796</td><td>  4.6</td><td> -2.7</td><td>12.381</td></tr>\n",
                            "\t<tr><th scope=row>Angola-1984</th><td>Angola</td><td>0</td><td>1984</td><td> 1.833</td><td>1.191218</td><td> 9.758854</td><td>1797.332</td><td> 12.5</td><td>  2.2</td><td>12.347</td></tr>\n",
                            "\t<tr><th scope=row>Angola-1985</th><td>Angola</td><td>0</td><td>1985</td><td> 1.833</td><td>1.249193</td><td>20.533547</td><td>1703.032</td><td> -5.9</td><td> -9.4</td><td> 9.450</td></tr>\n",
                            "</tbody>\n",
                            "</table>\n"
                        ],
                        "text/latex": [
                            "A pdata.frame: 6 × 10\n",
                            "\\begin{tabular}{r|llllllllll}\n",
                            "  & Country & Advanced\\_Country & Year & PCPIPCH & GGSB\\_NPGDP & GGXWDG\\_NGDP & PPPPC & TX\\_RPCH & TM\\_RPCH & NID\\_NGDP\\\\\n",
                            "  & <fct> & <int> & <fct> & <dbl> & <dbl> & <dbl> & <dbl> & <dbl> & <dbl> & <dbl>\\\\\n",
                            "\\hline\n",
                            "\tAngola-1980 & Angola & 0 & 1980 & 46.708 & 1.369655 & 46.347761 & 1510.407 &  -3.0 & -39.0 & 12.122\\\\\n",
                            "\tAngola-1981 & Angola & 0 & 1981 &  1.391 & 1.346576 &  4.311144 & 1538.971 &   8.0 &  17.3 & 13.148\\\\\n",
                            "\tAngola-1982 & Angola & 0 & 1982 &  1.833 & 1.316141 & 20.616131 & 1591.954 & -12.9 &   1.7 & 14.916\\\\\n",
                            "\tAngola-1983 & Angola & 0 & 1983 &  1.833 & 1.262721 & 14.596401 & 1679.796 &   4.6 &  -2.7 & 12.381\\\\\n",
                            "\tAngola-1984 & Angola & 0 & 1984 &  1.833 & 1.191218 &  9.758854 & 1797.332 &  12.5 &   2.2 & 12.347\\\\\n",
                            "\tAngola-1985 & Angola & 0 & 1985 &  1.833 & 1.249193 & 20.533547 & 1703.032 &  -5.9 &  -9.4 &  9.450\\\\\n",
                            "\\end{tabular}\n"
                        ],
                        "text/markdown": [
                            "\n",
                            "A pdata.frame: 6 × 10\n",
                            "\n",
                            "| <!--/--> | Country &lt;fct&gt; | Advanced_Country &lt;int&gt; | Year &lt;fct&gt; | PCPIPCH &lt;dbl&gt; | GGSB_NPGDP &lt;dbl&gt; | GGXWDG_NGDP &lt;dbl&gt; | PPPPC &lt;dbl&gt; | TX_RPCH &lt;dbl&gt; | TM_RPCH &lt;dbl&gt; | NID_NGDP &lt;dbl&gt; |\n",
                            "|---|---|---|---|---|---|---|---|---|---|---|\n",
                            "| Angola-1980 | Angola | 0 | 1980 | 46.708 | 1.369655 | 46.347761 | 1510.407 |  -3.0 | -39.0 | 12.122 |\n",
                            "| Angola-1981 | Angola | 0 | 1981 |  1.391 | 1.346576 |  4.311144 | 1538.971 |   8.0 |  17.3 | 13.148 |\n",
                            "| Angola-1982 | Angola | 0 | 1982 |  1.833 | 1.316141 | 20.616131 | 1591.954 | -12.9 |   1.7 | 14.916 |\n",
                            "| Angola-1983 | Angola | 0 | 1983 |  1.833 | 1.262721 | 14.596401 | 1679.796 |   4.6 |  -2.7 | 12.381 |\n",
                            "| Angola-1984 | Angola | 0 | 1984 |  1.833 | 1.191218 |  9.758854 | 1797.332 |  12.5 |   2.2 | 12.347 |\n",
                            "| Angola-1985 | Angola | 0 | 1985 |  1.833 | 1.249193 | 20.533547 | 1703.032 |  -5.9 |  -9.4 |  9.450 |\n",
                            "\n"
                        ],
                        "text/plain": [
                            "            Country Advanced_Country Year PCPIPCH GGSB_NPGDP GGXWDG_NGDP\n",
                            "Angola-1980 Angola  0                1980 46.708  1.369655   46.347761  \n",
                            "Angola-1981 Angola  0                1981  1.391  1.346576    4.311144  \n",
                            "Angola-1982 Angola  0                1982  1.833  1.316141   20.616131  \n",
                            "Angola-1983 Angola  0                1983  1.833  1.262721   14.596401  \n",
                            "Angola-1984 Angola  0                1984  1.833  1.191218    9.758854  \n",
                            "Angola-1985 Angola  0                1985  1.833  1.249193   20.533547  \n",
                            "            PPPPC    TX_RPCH TM_RPCH NID_NGDP\n",
                            "Angola-1980 1510.407  -3.0   -39.0   12.122  \n",
                            "Angola-1981 1538.971   8.0    17.3   13.148  \n",
                            "Angola-1982 1591.954 -12.9     1.7   14.916  \n",
                            "Angola-1983 1679.796   4.6    -2.7   12.381  \n",
                            "Angola-1984 1797.332  12.5     2.2   12.347  \n",
                            "Angola-1985 1703.032  -5.9    -9.4    9.450  "
                        ]
                    },
                    "metadata": {},
                    "output_type": "display_data"
                }
            ],
            "source": [
                "# panel data\n",
                "panel_df <- pdata.frame(df, index = c(\"Country\", \"Year\"))\n",
                "head(panel_df)\n"
            ]
        },
        {
            "cell_type": "code",
            "execution_count": 7,
            "metadata": {
                "vscode": {
                    "languageId": "r"
                }
            },
            "outputs": [],
            "source": [
                "# # Apply log transformation: log((x + 1) - min(x)) within each country\n",
                "# panel_df <- panel_df %>%\n",
                "#   group_by(Country) %>%\n",
                "#   mutate(\n",
                "#     PCPIPCH = log((PCPIPCH + 1) - min(PCPIPCH))\n",
                "#   ) %>%\n",
                "#   ungroup()\n",
                "\n",
                "# # Summary statistics\n",
                "# summary(panel_df$PCPIPCH)\n",
                "\n",
                "# #    of PCPIPCH within each country\n",
                "# panel_df <- panel_df %>%\n",
                "#   group_by(Country) %>%\n",
                "#   mutate(PCPIPCH_diff = diff(x)\n",
                "# # View result\n",
                "# summary(panel_df$PCPIPCH_diff)"
            ]
        },
        {
            "cell_type": "markdown",
            "metadata": {},
            "source": [
                "<a id='1'></a>\n",
                "\n",
                "### **1. Split dataset:**"
            ]
        },
        {
            "cell_type": "code",
            "execution_count": 8,
            "metadata": {
                "vscode": {
                    "languageId": "r"
                }
            },
            "outputs": [],
            "source": [
                "# ========== Split data for out-of-sample forecasting ==========\n",
                "# Define dependent and independent variables\n",
                "y <- panel_df[,'PCPIPCH']  # Inflation Rate (Consumer Prices, annual %)\n",
                "X_vars <- c(\n",
                "\n",
                "    # 2. Public Finance\n",
                "\n",
                "    \"GGSB_NPGDP\",   ## General government structural balance\n",
                "    \"GGXWDG_NGDP\",  # General government gross debt (% of GDP)\n",
                "\n",
                "    \n",
                "    # 3. Economic Output & Productivity & Exchange & Purchasing Power\n",
                "    \"PPPPC\",        # GDP per capita based on PPP\n",
                "    \n",
                "\n",
                "    # 4. International Trade & Balance\n",
                "    \"TX_RPCH\",      # Export volume growth\n",
                "    \"TM_RPCH\",     ## Import volume growth\n",
                "\n",
                "\n",
                "    # 5. Savings & Investment\n",
                "    #\"NGSD_NGDP\",    ## Net government saving (% of GDP)\n",
                "    \"NID_NGDP\",     ## Investment (% of GDP)\n",
                "    \n",
                "    # 6. Metadata\n",
                "   \"Advanced_Country\"\n",
                "    \n",
                ")\n",
                "\n",
                "X <- panel_df[, X_vars]\n",
                "\n",
                "# Define evaluation function (RMSE and R-squared)\n",
                "evaluate <- function(y_true, y_pred) {\n",
                "  rmse <- sqrt(mean((y_true - y_pred)^2))                  # Root Mean Squared Error\n",
                "  ss_total <- sum((y_true - mean(y_true))^2)               # Total Sum of Squares\n",
                "  ss_res <- sum((y_true - y_pred)^2)                       # Residual Sum of Squares\n",
                "  r2 <- 1 - (ss_res / ss_total)                            # R-squared\n",
                "  return(list(rmse = rmse, r2 = r2))\n",
                "}\n"
            ]
        },
        {
            "cell_type": "code",
            "execution_count": 9,
            "metadata": {
                "vscode": {
                    "languageId": "r"
                }
            },
            "outputs": [],
            "source": [
                "# Convert Year to numeric to allow comparison\n",
                "panel_df$Year <- as.numeric(as.character(panel_df$Year))\n",
                "\n",
                "# Split data into train and test\n",
                "train <- panel_df %>% \n",
                "  as.data.frame() %>%\n",
                "  filter(Year <= 2024) %>%\n",
                "  pdata.frame(index = c(\"Country\", \"Year\"))\n",
                "\n",
                "test <- panel_df %>% \n",
                "  as.data.frame() %>%\n",
                "  filter(Year >= 2015) %>%\n",
                "  pdata.frame(index = c(\"Country\", \"Year\"))\n",
                "\n",
                "# Define dependent and independent variables\n",
                "y_train <- train$PCPIPCH\n",
                "X_train <- train[, X_vars]\n",
                "\n",
                "y_test <- test$PCPIPCH\n",
                "X_test <- test[, X_vars]\n",
                "\n",
                "# Combine y and X for training model\n",
                "train_model_df <- train[, c(\"PCPIPCH\", X_vars)]\n",
                "\n",
                "test_model_df <- test[, c(\"PCPIPCH\", X_vars)]\n"
            ]
        },
        {
            "cell_type": "markdown",
            "metadata": {},
            "source": [
                "<a id='2.A'></a>\n",
                "\n",
                "### **2.A. Treaning  Pooled OLS model:**\n"
            ]
        },
        {
            "cell_type": "code",
            "execution_count": 10,
            "metadata": {
                "vscode": {
                    "languageId": "r"
                }
            },
            "outputs": [
                {
                    "data": {
                        "text/plain": [
                            "Pooling Model\n",
                            "\n",
                            "Call:\n",
                            "plm(formula = formula_str, data = train_model_df, model = \"pooling\", \n",
                            "    index = c(\"Country\", \"Year\"))\n",
                            "\n",
                            "Balanced Panel: n = 83, T = 45, N = 3735\n",
                            "\n",
                            "Residuals:\n",
                            "   Min. 1st Qu.  Median    Mean 3rd Qu.    Max. \n",
                            " -217.6   -27.2   -11.4     0.9     6.2  4673.4 \n",
                            "\n",
                            "Coefficients:\n",
                            "                    Estimate  Std. Error  t-value  Pr(>|t|)    \n",
                            "GGSB_NPGDP       -4.0484e+00  3.1783e-01 -12.7379 < 2.2e-16 ***\n",
                            "GGXWDG_NGDP       3.2163e-01  2.6201e-02  12.2756 < 2.2e-16 ***\n",
                            "PPPPC            -3.0971e-04  1.5845e-04  -1.9546 0.0507057 .  \n",
                            "TX_RPCH          -2.1189e-03  2.1513e-01  -0.0098 0.9921419    \n",
                            "TM_RPCH           7.3398e-01  2.0216e-01   3.6306 0.0002866 ***\n",
                            "NID_NGDP          1.8201e-01  1.5135e-01   1.2025 0.2292347    \n",
                            "Advanced_Country -1.9344e+01  6.2825e+00  -3.0790 0.0020924 ** \n",
                            "---\n",
                            "Signif. codes:  0 '***' 0.001 '**' 0.01 '*' 0.05 '.' 0.1 ' ' 1\n",
                            "\n",
                            "Total Sum of Squares:    156340000\n",
                            "Residual Sum of Squares: 85592000\n",
                            "R-Squared:      0.45253\n",
                            "Adj. R-Squared: 0.45165\n",
                            "F-statistic: 454.253 on 7 and 3728 DF, p-value: < 2.22e-16"
                        ]
                    },
                    "metadata": {},
                    "output_type": "display_data"
                },
                {
                    "name": "stdout",
                    "output_type": "stream",
                    "text": [
                        "Pooled OLS RMSE (out-of-sample): 29.9687\n",
                        "Pooled OLS R² (out-of-sample): 0.0192\n"
                    ]
                }
            ],
            "source": [
                "# ===============================\n",
                "# A. Pooled OLS model\n",
                "\n",
                "# Create formula for model\n",
                "formula_str <- as.formula(paste(\"PCPIPCH ~ -1 +\", paste(X_vars, collapse = \" + \")))\n",
                "\n",
                "#  Fit Pooled OLS model\n",
                "pooled_model <- plm(formula_str, data = train_model_df, model = \"pooling\", index = c(\"Country\", \"Year\"))\n",
                "\n",
                "# Display model summary\n",
                "summary(pooled_model)\n",
                "\n",
                "# Predict using the model\n",
                "pooled_preds <- predict(pooled_model, newdata = X_test)\n",
                "\n",
                "# Evaluate model performance\n",
                "pooled_rmse <- rmse(y_test, pooled_preds)\n",
                "pooled_r2   <- R2( y_test, pooled_preds)\n",
                "\n",
                "# Print results\n",
                "cat(sprintf(\"Pooled OLS RMSE (out-of-sample): %.4f\\n\", pooled_rmse))\n",
                "cat(sprintf(\"Pooled OLS R² (out-of-sample): %.4f\\n\", pooled_r2))\n"
            ]
        },
        {
            "cell_type": "markdown",
            "metadata": {},
            "source": [
                "<a id='2.B'></a>\n",
                "\n",
                "### **2.B. Treaning  Fixed Effects model:**"
            ]
        },
        {
            "cell_type": "code",
            "execution_count": 11,
            "metadata": {
                "vscode": {
                    "languageId": "r"
                }
            },
            "outputs": [],
            "source": [
                "if (\"Advanced_Country\" %in% colnames(X_train)) {\n",
                "  X_train <- X_train[, !colnames(X_train) %in% \"Advanced_Country\"]\n",
                "}\n",
                "\n",
                "if (\"Advanced_Country\" %in% colnames(X_test)) {\n",
                "  X_test <- X_test[, !colnames(X_test) %in% \"Advanced_Country\"]\n",
                "}\n",
                "\n",
                "if (\"Advanced_Country\" %in% colnames(train_model_df)) {\n",
                "  train_model_df <- train_model_df[, !colnames(train_model_df) %in% \"Advanced_Country\"]\n",
                "}\n",
                "if (\"Advanced_Country\" %in% colnames(test_model_df)) {\n",
                "  test_model_df <- test_model_df[, !colnames(test_model_df) %in% \"Advanced_Country\"]\n",
                "}\n",
                "\n",
                "X_vars <- setdiff(X_vars, \"Advanced_Country\")\n",
                "\n",
                "\n",
                "# Create formula for model\n",
                "formula_str <- as.formula(paste(\"PCPIPCH ~ -1 +\", paste(X_vars, collapse = \" + \" )))\n"
            ]
        },
        {
            "cell_type": "code",
            "execution_count": 12,
            "metadata": {
                "vscode": {
                    "languageId": "r"
                }
            },
            "outputs": [
                {
                    "data": {
                        "text/plain": [
                            "Oneway (individual) effect Within Model\n",
                            "\n",
                            "Call:\n",
                            "plm(formula = formula_str, data = train_model_df, model = \"within\", \n",
                            "    index = c(\"Country\", \"Year\"))\n",
                            "\n",
                            "Balanced Panel: n = 83, T = 45, N = 3735\n",
                            "\n",
                            "Residuals:\n",
                            "     Min.   1st Qu.    Median   3rd Qu.      Max. \n",
                            "-274.2957  -13.7988   -1.1049    8.4419 4503.3152 \n",
                            "\n",
                            "Coefficients:\n",
                            "               Estimate  Std. Error  t-value  Pr(>|t|)    \n",
                            "GGSB_NPGDP  -4.20662575  0.33142670 -12.6925 < 2.2e-16 ***\n",
                            "GGXWDG_NGDP  0.31689675  0.02740521  11.5634 < 2.2e-16 ***\n",
                            "PPPPC       -0.00062272  0.00018435  -3.3779 0.0007380 ***\n",
                            "TX_RPCH      0.03205378  0.22116789   0.1449 0.8847745    \n",
                            "TM_RPCH      0.76946904  0.20316750   3.7874 0.0001547 ***\n",
                            "NID_NGDP    -0.27179001  0.43774941  -0.6209 0.5347172    \n",
                            "---\n",
                            "Signif. codes:  0 '***' 0.001 '**' 0.01 '*' 0.05 '.' 0.1 ' ' 1\n",
                            "\n",
                            "Total Sum of Squares:    144410000\n",
                            "Residual Sum of Squares: 76733000\n",
                            "R-Squared:      0.46864\n",
                            "Adj. R-Squared: 0.45582\n",
                            "F-statistic: 535.948 on 6 and 3646 DF, p-value: < 2.22e-16"
                        ]
                    },
                    "metadata": {},
                    "output_type": "display_data"
                },
                {
                    "name": "stdout",
                    "output_type": "stream",
                    "text": [
                        "Fixed Effects RMSE (out-of-sample): 52.8248\n",
                        "Fixed Effects R² (out-of-sample): 0.0228\n"
                    ]
                }
            ],
            "source": [
                "# ===============================\n",
                "# B. Fixed Effects model\n",
                "\n",
                "# Fit Fixed Effects (within)\n",
                "fe_model <- plm(formula_str, data = train_model_df, model = \"within\", index = c(\"Country\", \"Year\"))\n",
                "\n",
                "# Display model summary\n",
                "summary(fe_model)\n",
                "\n",
                "# Predict using the model\n",
                "fe_preds <- predict(fe_model, newdata = X_test)\n",
                "\n",
                "# Evaluate model performance\n",
                "\n",
                "fe_rmse <- rmse(y_test, fe_preds)\n",
                "fe_r2   <- R2( y_test,fe_preds)\n",
                "\n",
                "# Print results\n",
                "cat(sprintf(\"Fixed Effects RMSE (out-of-sample): %.4f\\n\", fe_rmse))\n",
                "cat(sprintf(\"Fixed Effects R² (out-of-sample): %.4f\\n\", fe_r2))\n"
            ]
        },
        {
            "cell_type": "markdown",
            "metadata": {},
            "source": [
                "<a id='2.C'></a>\n",
                "\n",
                "### **2.C. Treaning  Random Effects model:**"
            ]
        },
        {
            "cell_type": "code",
            "execution_count": 13,
            "metadata": {
                "vscode": {
                    "languageId": "r"
                }
            },
            "outputs": [
                {
                    "data": {
                        "text/plain": [
                            "Oneway (individual) effect Random Effect Model \n",
                            "   (Swamy-Arora's transformation)\n",
                            "\n",
                            "Call:\n",
                            "plm(formula = formula_str, data = train_model_df, model = \"random\", \n",
                            "    index = c(\"Country\", \"Year\"))\n",
                            "\n",
                            "Balanced Panel: n = 83, T = 45, N = 3735\n",
                            "\n",
                            "Effects:\n",
                            "                   var  std.dev share\n",
                            "idiosyncratic 21045.69   145.07 0.909\n",
                            "individual     2111.90    45.96 0.091\n",
                            "theta: 0.5742\n",
                            "\n",
                            "Residuals:\n",
                            "   Min. 1st Qu.  Median    Mean 3rd Qu.    Max. \n",
                            " -191.1   -18.6    -6.4     0.9     5.5  4577.0 \n",
                            "\n",
                            "Coefficients:\n",
                            "               Estimate  Std. Error  z-value  Pr(>|z|)    \n",
                            "GGSB_NPGDP  -4.15466064  0.32538128 -12.7686 < 2.2e-16 ***\n",
                            "GGXWDG_NGDP  0.32003797  0.02687020  11.9105 < 2.2e-16 ***\n",
                            "PPPPC       -0.00059052  0.00015733  -3.7534 0.0001744 ***\n",
                            "TX_RPCH      0.01689206  0.21776416   0.0776 0.9381697    \n",
                            "TM_RPCH      0.75983554  0.20113762   3.7777 0.0001583 ***\n",
                            "NID_NGDP     0.00216012  0.23012417   0.0094 0.9925105    \n",
                            "---\n",
                            "Signif. codes:  0 '***' 0.001 '**' 0.01 '*' 0.05 '.' 0.1 ' ' 1\n",
                            "\n",
                            "Total Sum of Squares:    146570000\n",
                            "Residual Sum of Squares: 78390000\n",
                            "R-Squared:      0.4652\n",
                            "Adj. R-Squared: 0.46448\n",
                            "Chisq: 3262.87 on 6 DF, p-value: < 2.22e-16"
                        ]
                    },
                    "metadata": {},
                    "output_type": "display_data"
                },
                {
                    "name": "stdout",
                    "output_type": "stream",
                    "text": [
                        "Random Effects RMSE (out-of-sample): 28.3358\n",
                        "Random Effects R² (out-of-sample): 0.0081\n"
                    ]
                }
            ],
            "source": [
                "# ===============================\n",
                "# C. Random Effects model\n",
                "\n",
                "\n",
                "# Step 2: Fit Random Effects model using plm\n",
                "re_model <- plm(formula_str, data = train_model_df, model = \"random\", index = c(\"Country\", \"Year\"))\n",
                "\n",
                "# re_model <- plm(formula_str, data = train_model_df, model = \"random\", \n",
                "#                 random.method = \"amemiya\", index = c(\"Country\", \"Year\"))\n",
                "\n",
                "# re_model <- plm(formula_str, data = train_model_df, model = \"random\", \n",
                "#                 random.method = \"walhus\", index = c(\"Country\", \"Year\"))\n",
                "\n",
                "# Step 3: Display model summary\n",
                "summary(re_model)\n",
                "\n",
                "# Step 4: Predict using the model\n",
                "re_preds <- predict(re_model, newdata = X_test)\n",
                "\n",
                "# Step 5: Evaluate model performance\n",
                "re_rmse <- rmse(y_test, re_preds)\n",
                "re_r2   <- R2( y_test, re_preds)\n",
                "\n",
                "# Step 6: Print results\n",
                "cat(sprintf(\"Random Effects RMSE (out-of-sample): %.4f\\n\", re_rmse))\n",
                "cat(sprintf(\"Random Effects R² (out-of-sample): %.4f\\n\", re_r2))\n"
            ]
        },
        {
            "cell_type": "markdown",
            "metadata": {},
            "source": [
                "<a id='3.A'></a>\n",
                "\n",
                "### **3.A. Wald test: Pooled OLS vs Fixed Effects:**"
            ]
        },
        {
            "cell_type": "code",
            "execution_count": 14,
            "metadata": {
                "vscode": {
                    "languageId": "r"
                }
            },
            "outputs": [
                {
                    "name": "stdout",
                    "output_type": "stream",
                    "text": [
                        "Wald Test (F-test) for joint significance of entity effects:\n"
                    ]
                },
                {
                    "data": {
                        "text/html": [
                            "<table class=\"dataframe\">\n",
                            "<caption>A anova: 2 × 4</caption>\n",
                            "<thead>\n",
                            "\t<tr><th></th><th scope=col>Res.Df</th><th scope=col>Df</th><th scope=col>F</th><th scope=col>Pr(&gt;F)</th></tr>\n",
                            "\t<tr><th></th><th scope=col>&lt;dbl&gt;</th><th scope=col>&lt;dbl&gt;</th><th scope=col>&lt;dbl&gt;</th><th scope=col>&lt;dbl&gt;</th></tr>\n",
                            "</thead>\n",
                            "<tbody>\n",
                            "\t<tr><th scope=row>1</th><td>3728</td><td>NA</td><td>      NA</td><td>         NA</td></tr>\n",
                            "\t<tr><th scope=row>2</th><td>3646</td><td>-1</td><td>9.479994</td><td>0.002092365</td></tr>\n",
                            "</tbody>\n",
                            "</table>\n"
                        ],
                        "text/latex": [
                            "A anova: 2 × 4\n",
                            "\\begin{tabular}{r|llll}\n",
                            "  & Res.Df & Df & F & Pr(>F)\\\\\n",
                            "  & <dbl> & <dbl> & <dbl> & <dbl>\\\\\n",
                            "\\hline\n",
                            "\t1 & 3728 & NA &       NA &          NA\\\\\n",
                            "\t2 & 3646 & -1 & 9.479994 & 0.002092365\\\\\n",
                            "\\end{tabular}\n"
                        ],
                        "text/markdown": [
                            "\n",
                            "A anova: 2 × 4\n",
                            "\n",
                            "| <!--/--> | Res.Df &lt;dbl&gt; | Df &lt;dbl&gt; | F &lt;dbl&gt; | Pr(&gt;F) &lt;dbl&gt; |\n",
                            "|---|---|---|---|---|\n",
                            "| 1 | 3728 | NA |       NA |          NA |\n",
                            "| 2 | 3646 | -1 | 9.479994 | 0.002092365 |\n",
                            "\n"
                        ],
                        "text/plain": [
                            "  Res.Df Df F        Pr(>F)     \n",
                            "1 3728   NA       NA          NA\n",
                            "2 3646   -1 9.479994 0.002092365"
                        ]
                    },
                    "metadata": {},
                    "output_type": "display_data"
                },
                {
                    "name": "stdout",
                    "output_type": "stream",
                    "text": [
                        "Wald test suggests Fixed Effects preferred.\n"
                    ]
                }
            ],
            "source": [
                "# ===============================\n",
                "# Wald test: Pooled OLS vs Fixed Effects (joint significance of entity effects)\n",
                "# ===============================\n",
                "\n",
                "comparison <- waldtest(pooled_model, fe_model, test = \"F\")\n",
                "cat(\"Wald Test (F-test) for joint significance of entity effects:\\n\")\n",
                "comparison\n",
                "\n",
                "# Extract p-value from the comparison table (last row, last column)\n",
                "wald_pval <- comparison[2, \"Pr(>F)\"]\n",
                "\n",
                "# Decision rule\n",
                "if (wald_pval < 0.05) {\n",
                "  cat(\"Wald test suggests Fixed Effects preferred.\\n\")\n",
                "} else {\n",
                "  cat(\"Wald test suggests Pooled OLS preferred.\\n\")\n",
                "}\n"
            ]
        },
        {
            "cell_type": "markdown",
            "metadata": {},
            "source": [
                "<a id='3.B'></a>\n",
                "\n",
                "### **3.B. Hausman test: fixed vs random effects:**"
            ]
        },
        {
            "cell_type": "code",
            "execution_count": 15,
            "metadata": {
                "vscode": {
                    "languageId": "r"
                }
            },
            "outputs": [
                {
                    "name": "stdout",
                    "output_type": "stream",
                    "text": [
                        "\n",
                        "\tHausman Test\n",
                        "\n",
                        "data:  formula_str\n",
                        "chisq = 2.5778, df = 6, p-value = 0.8597\n",
                        "alternative hypothesis: one model is inconsistent\n",
                        "\n",
                        "Hausman test suggests Random Effects preferred.\n"
                    ]
                }
            ],
            "source": [
                "# ===============================\n",
                "# Hausman test: fixed vs random effects\n",
                "hausman_test <- phtest(fe_model, re_model)\n",
                "print(hausman_test)\n",
                "\n",
                "haus_pval <- hausman_test$p.value\n",
                "\n",
                "if (haus_pval < 0.05) {\n",
                "  cat(\"Hausman test suggests Fixed Effects preferred.\\n\")\n",
                "} else {\n",
                "  cat(\"Hausman test suggests Random Effects preferred.\\n\")\n",
                "}"
            ]
        },
        {
            "cell_type": "markdown",
            "metadata": {},
            "source": [
                "<a id='4.A'></a>\n",
                "\n",
                "### **4.A. Heteroskedasticity tests :**"
            ]
        },
        {
            "cell_type": "code",
            "execution_count": 16,
            "metadata": {
                "vscode": {
                    "languageId": "r"
                }
            },
            "outputs": [
                {
                    "name": "stdout",
                    "output_type": "stream",
                    "text": [
                        "[1] \"Breusch-Pagan and White Test for Heteroskedasticity:\"\n",
                        "Breusch-Pagan test: stat=13.6197, p-value=0.0182\n",
                        "White test: stat=17.5631, p-value=0.0074\n"
                    ]
                },
                {
                    "name": "stdout",
                    "output_type": "stream",
                    "text": [
                        "Heteroskedasticity detected: consider robust standard errors.\n"
                    ]
                }
            ],
            "source": [
                "# ===============================\n",
                "# A. Heteroskedasticity tests (Breusch-Pagan and White on residuals)\n",
                "\n",
                "print(\"Breusch-Pagan and White Test for Heteroskedasticity:\")\n",
                "\n",
                "# Breusch-Pagan Test\n",
                "bp_test <- bptest(re_model)\n",
                "cat(sprintf(\"Breusch-Pagan test: stat=%.4f, p-value=%.4f\\n\", bp_test$statistic, bp_test$p.value))\n",
                "\n",
                "# White Test (using quadratic interactions)\n",
                "fe_residuals <- residuals(fe_model)\n",
                "\n",
                "white_test <- bptest(lm(fe_residuals^2 ~ ., data = train_model_df[, X_vars]))\n",
                "cat(sprintf(\"White test: stat=%.4f, p-value=%.4f\\n\", white_test$statistic, white_test$p.value))\n",
                "\n",
                "# Decision rule\n",
                "if (bp_test$p.value < 0.05 | white_test$p.value < 0.05) {\n",
                "  cat(\"Heteroskedasticity detected: consider robust standard errors.\\n\")\n",
                "} else {\n",
                "  cat(\"No significant heteroskedasticity detected.\\n\")\n",
                "}"
            ]
        },
        {
            "cell_type": "markdown",
            "metadata": {},
            "source": [
                "<a id='4.B'></a>\n",
                "\n",
                "### **4.B. Serial Correlation test:**"
            ]
        },
        {
            "cell_type": "code",
            "execution_count": 17,
            "metadata": {
                "vscode": {
                    "languageId": "r"
                }
            },
            "outputs": [
                {
                    "name": "stdout",
                    "output_type": "stream",
                    "text": [
                        "[1] \"Breusch-Godfrey/Wooldridge test for Serial Correlation:\"\n"
                    ]
                },
                {
                    "data": {
                        "text/plain": [
                            "\n",
                            "\tBreusch-Godfrey/Wooldridge test for serial correlation in panel models\n",
                            "\n",
                            "data:  formula_str\n",
                            "chisq = 747.71, df = 45, p-value < 2.2e-16\n",
                            "alternative hypothesis: serial correlation in idiosyncratic errors\n"
                        ]
                    },
                    "metadata": {},
                    "output_type": "display_data"
                }
            ],
            "source": [
                "# ===============================\n",
                "# B. Serial Correlation test (Breusch-Godfrey) on Fixed Effects residuals\n",
                "\n",
                "bg_test <- pbgtest(fe_model)\n",
                "print(\"Breusch-Godfrey/Wooldridge test for Serial Correlation:\")\n",
                "bg_test\n"
            ]
        },
        {
            "cell_type": "markdown",
            "metadata": {},
            "source": [
                "<a id='4.C'></a>\n",
                "\n",
                "### **4.C. Test Pesaran CD:**"
            ]
        },
        {
            "cell_type": "code",
            "execution_count": 18,
            "metadata": {
                "vscode": {
                    "languageId": "r"
                }
            },
            "outputs": [
                {
                    "data": {
                        "text/plain": [
                            "\n",
                            "\tPesaran CD test for cross-sectional dependence in panels\n",
                            "\n",
                            "data:  PCPIPCH ~ -1 + GGSB_NPGDP + GGXWDG_NGDP + PPPPC + TX_RPCH + TM_RPCH +     NID_NGDP\n",
                            "z = 22.653, p-value < 2.2e-16\n",
                            "alternative hypothesis: cross-sectional dependence\n"
                        ]
                    },
                    "metadata": {},
                    "output_type": "display_data"
                }
            ],
            "source": [
                "# Test Pesaran CD\n",
                "pcdtest(re_model, test = \"cd\")"
            ]
        },
        {
            "cell_type": "markdown",
            "metadata": {},
            "source": [
                "<a id='4.D'></a>\n",
                "\n",
                "### **4.D. test Levin, Lin & Chu:**"
            ]
        },
        {
            "cell_type": "code",
            "execution_count": 19,
            "metadata": {
                "vscode": {
                    "languageId": "r"
                }
            },
            "outputs": [
                {
                    "data": {
                        "text/plain": [
                            "Levin-Lin-Chu Unit-Root Test \n",
                            "Exogenous variables: None \n",
                            "Automatic selection of lags using SIC: 0 - 10 lags (max: 10)\n",
                            "statistic: -20.159 \n",
                            "p-value: 0 \n",
                            "\n",
                            "                         lags obs         rho       trho       p.trho\n",
                            "Angola                      0  44 -0.40021247 -3.3178554 8.878553e-04\n",
                            "Argentina                   0  44  0.14530149  1.8161629 9.838137e-01\n",
                            "Australia                   0  44 -0.11195443 -2.0808989 3.596249e-02\n",
                            "Austria                     2  42 -0.10255813 -1.3407712 1.671187e-01\n",
                            "Barbados                    0  44 -0.27536168 -3.7722649 1.616201e-04\n",
                            "Belarus                     0  44 -0.31332881 -2.8692742 4.004519e-03\n",
                            "Belgium                     2  42 -0.19687123 -2.1741055 2.859874e-02\n",
                            "Bosnia and Herzegovina      0  44 -0.43536688 -3.5024826 4.539668e-04\n",
                            "Botswana                    0  44 -0.06018470 -1.3985521 1.509864e-01\n",
                            "Brazil                      6  38 -0.31107228 -2.0689221 3.701596e-02\n",
                            "Bulgaria                    0  44 -0.83398832 -5.6198207 3.414318e-08\n",
                            "Canada                      0  44 -0.13689831 -2.5690754 9.884428e-03\n",
                            "Chile                       0  44 -0.16995965 -2.9382639 3.214764e-03\n",
                            "China                       0  44 -0.20064727 -2.2936215 2.106274e-02\n",
                            "Colombia                    0  44 -0.04479774 -1.6168548 9.997984e-02\n",
                            "Costa Rica                  2  42 -0.33953505 -7.0892783 1.054695e-11\n",
                            "Croatia                     0  44 -0.85073472 -5.7107911 2.131684e-08\n",
                            "Cyprus                      0  44 -0.22611097 -3.4614389 5.283714e-04\n",
                            "Czech Republic              0  44 -0.18637093 -2.1557602 2.993724e-02\n",
                            "Denmark                     0  44 -0.16572941 -2.9888116 2.729783e-03\n",
                            "Dominican Republic          0  44 -0.29166208 -2.8217023 4.646815e-03\n",
                            "Ecuador                     0  44 -0.12018787 -1.6918457 8.590650e-02\n",
                            "Egypt                       0  44 -0.04445614 -0.7118952 4.086450e-01\n",
                            "El Salvador                 2  42 -0.07230506 -1.2486202 1.952552e-01\n",
                            "Estonia                     0  44 -0.23075415 -2.4190873 1.505488e-02\n",
                            "Finland                     0  44 -0.14123980 -2.8991791 3.643173e-03\n",
                            "France                      0  44 -0.16877897 -3.1320885 1.696437e-03\n",
                            "Georgia                     2  42 -0.09929661 -1.0954918 2.483610e-01\n",
                            "Germany                     2  42 -0.12191722 -1.5433160 1.154406e-01\n",
                            "Greece                      0  44 -0.08056147 -2.4145287 1.524362e-02\n",
                            "Grenada                     1  43 -0.43117178 -5.9142889 7.316769e-09\n",
                            "Guatemala                   4  40 -0.06091878 -0.6949135 4.161501e-01\n",
                            "Guyana                      1  43 -0.17260088 -1.8214226 6.528431e-02\n",
                            "Hong Kong SAR               0  44 -0.07271479 -1.3438680 1.662246e-01\n",
                            "Hungary                     0  44 -0.06893731 -1.3014905 1.787479e-01\n",
                            "Iceland                     0  44 -0.19974920 -3.0121560 2.529212e-03\n",
                            "India                       0  44 -0.08682667 -1.6165754 1.000354e-01\n",
                            "Indonesia                   0  44 -0.39021821 -3.4001237 6.610654e-04\n",
                            "Ireland                     0  44 -0.16827481 -3.5759254 3.447669e-04\n",
                            "Italy                       2  42 -0.18903989 -4.0777433 4.694791e-05\n",
                            "Japan                       0  44 -0.33384880 -4.5832419 5.215169e-06\n",
                            "Jordan                      1  43 -0.30449958 -2.6510349 7.781390e-03\n",
                            "Kazakhstan                  1  43 -0.48546698 -3.9363653 8.395303e-05\n",
                            "Korea                       2  42 -0.12929670 -1.9102811 5.359719e-02\n",
                            "Kosovo                      0  44 -0.42823250 -3.4756703 5.013659e-04\n",
                            "Latvia                      0  44 -0.46807447 -3.6809738 2.307756e-04\n",
                            "Lithuania                   0  44 -0.34636117 -3.0634576 2.135881e-03\n",
                            "Luxembourg                  0  44 -0.15204341 -2.1212877 3.259461e-02\n",
                            "Malaysia                    1  43 -0.20721041 -2.9185883 3.423875e-03\n",
                            "Malta                       2  42 -0.19605068 -2.0019199 4.340707e-02\n",
                            "Mauritius                   1  43 -0.29157069 -3.9167858 9.088129e-05\n",
                            "Mexico                     10  34 -0.23206672 -3.1069739 1.846560e-03\n",
                            "Morocco                     0  44 -0.15907937 -2.2773871 2.197407e-02\n",
                            "Netherlands                 0  44 -0.24041937 -2.4377697 1.430256e-02\n",
                            "New Zealand                 0  44 -0.16612932 -2.7979021 5.001708e-03\n",
                            "Norway                      1  43 -0.14759459 -3.4829346 4.880852e-04\n",
                            "Panama                      0  44 -0.34498522 -5.0014490 7.421970e-07\n",
                            "Paraguay                    3  41 -0.04848629 -0.9225255 3.169922e-01\n",
                            "Peru                        7  37 -0.56845980 -1.9551435 4.838611e-02\n",
                            "Philippines                 7  37 -0.12128500 -2.0404653 3.962908e-02\n",
                            "Poland                      6  38 -0.38451210 -1.7118537 8.242333e-02\n",
                            "Portugal                    0  44 -0.07309654 -1.3251639 1.716726e-01\n",
                            "Romania                     0  44 -0.16964605 -2.0190327 4.169477e-02\n",
                            "Russia                      0  44 -0.43435036 -3.5030899 4.529435e-04\n",
                            "São Tomé and Príncipe       0  44 -0.08896833 -1.3888795 1.536013e-01\n",
                            "Serbia                      0  44 -0.18118478 -2.1239320 3.238576e-02\n",
                            "Singapore                   0  44 -0.28525805 -3.3021401 9.389539e-04\n",
                            "Slovak Republic             2  42 -0.05371008 -0.7541316 3.899480e-01\n",
                            "Slovenia                    0  44 -0.14462275 -1.8880478 5.634637e-02\n",
                            "South Africa                4  40 -0.05538440 -1.7145394 8.196463e-02\n",
                            "Spain                       0  44 -0.11782970 -2.8034597 4.916719e-03\n",
                            "Suriname                    0  44 -0.34599969 -3.0256828 2.420124e-03\n",
                            "Sweden                      0  44 -0.20850978 -3.8442791 1.000000e-04\n",
                            "Switzerland                 0  44 -0.16000254 -2.1714990 2.878575e-02\n",
                            "Taiwan Province of China    1  43 -0.38665024 -4.5719244 5.488919e-06\n",
                            "Thailand                    1  43 -0.31641651 -3.7734456 1.608700e-04\n",
                            "The Gambia                  0  44 -0.21901515 -2.2529759 2.340924e-02\n",
                            "Tunisia                     0  44 -0.05037111 -1.2851990 1.837316e-01\n",
                            "Türkiye                     0  44 -0.09924676 -1.9617646 4.765342e-02\n",
                            "Ukraine                     0  44 -0.74414638 -5.1107163 4.378599e-07\n",
                            "United Kingdom              2  42 -0.15584410 -2.6813385 7.114820e-03\n",
                            "United States               2  42 -0.13583134 -2.1036076 3.403446e-02\n",
                            "Uruguay                     2  42 -0.03562587 -0.9738647 2.957887e-01\n",
                            "                             sigma2ST     sigma2LT\n",
                            "Angola                   4.003456e+05 1.034827e+05\n",
                            "Argentina                5.384078e+02 9.472006e+02\n",
                            "Australia                3.161015e+00 1.324316e+00\n",
                            "Austria                  1.820762e+00 6.595051e-01\n",
                            "Barbados                 7.429936e+00 5.395128e+00\n",
                            "Belarus                  8.869859e+04 2.393736e+04\n",
                            "Belgium                  3.456009e+00 1.008268e+00\n",
                            "Bosnia and Herzegovina   8.433174e+00 1.182257e+00\n",
                            "Botswana                 6.964738e+00 1.431801e+00\n",
                            "Brazil                   2.441000e+05 7.322281e+04\n",
                            "Bulgaria                 2.827467e+04 4.787053e+03\n",
                            "Canada                   2.133050e+00 1.392815e+00\n",
                            "Chile                    2.490774e+01 1.254782e+01\n",
                            "China                    1.787911e+01 5.919847e+00\n",
                            "Colombia                 8.949253e+00 8.800089e+00\n",
                            "Costa Rica               2.873909e+01 2.731057e+01\n",
                            "Croatia                  5.246166e+04 8.499441e+03\n",
                            "Cyprus                   3.560176e+00 2.403086e+00\n",
                            "Czech Republic           7.815733e+00 1.578481e+00\n",
                            "Denmark                  2.284214e+00 1.761757e+00\n",
                            "Dominican Republic       1.737223e+02 3.098340e+01\n",
                            "Ecuador                  2.169248e+02 7.592333e+01\n",
                            "Egypt                    3.173041e+01 1.810282e+01\n",
                            "El Salvador              1.734476e+01 8.140477e+00\n",
                            "Estonia                  4.882018e+01 1.104231e+01\n",
                            "Finland                  1.997674e+00 1.644965e+00\n",
                            "France                   2.644853e+00 2.460717e+00\n",
                            "Georgia                  1.347410e+01 1.749746e+00\n",
                            "Germany                  1.517613e+00 6.186725e-01\n",
                            "Greece                   6.429765e+00 6.050047e+00\n",
                            "Grenada                  4.241787e+00 7.988373e+00\n",
                            "Guatemala                3.700473e+01 9.647400e+00\n",
                            "Guyana                   2.351718e+02 7.784083e+01\n",
                            "Hong Kong SAR            4.315106e+00 3.107073e+00\n",
                            "Hungary                  2.079018e+01 1.317988e+01\n",
                            "Iceland                  8.978587e+01 5.836053e+01\n",
                            "India                    8.068993e+00 1.347072e+00\n",
                            "Indonesia                8.624327e+01 1.433609e+01\n",
                            "Ireland                  3.506482e+00 5.628193e+00\n",
                            "Italy                    2.276165e+00 5.777476e+00\n",
                            "Japan                    9.201565e-01 1.078744e+00\n",
                            "Jordan                   2.024916e+01 3.894401e+00\n",
                            "Kazakhstan               6.176228e+04 1.688946e+04\n",
                            "Korea                    3.342289e+00 1.269829e+01\n",
                            "Kosovo                   1.027192e+01 1.207907e+00\n",
                            "Latvia                   2.667306e+02 4.532988e+01\n",
                            "Lithuania                2.083063e+01 2.890293e+00\n",
                            "Luxembourg               3.131325e+00 9.017124e-01\n",
                            "Malaysia                 2.236846e+00 7.839756e-01\n",
                            "Malta                    2.598994e+00 7.277430e-01\n",
                            "Mauritius                1.522182e+01 1.569338e+01\n",
                            "Mexico                   3.241029e+00 1.406954e+02\n",
                            "Morocco                  5.340378e+00 1.350637e+00\n",
                            "Netherlands              4.121480e+00 7.594135e-01\n",
                            "New Zealand              6.702725e+00 4.301979e+00\n",
                            "Norway                   1.612321e+00 1.522579e+00\n",
                            "Panama                   2.486659e+00 4.115644e+00\n",
                            "Paraguay                 2.214748e+01 8.486801e+00\n",
                            "Peru                     1.439581e+06 2.555550e+05\n",
                            "Philippines              3.985410e+00 8.595117e+00\n",
                            "Poland                   8.035514e+03 1.579040e+03\n",
                            "Portugal                 1.225689e+01 8.494809e+00\n",
                            "Romania                  1.469529e+03 7.215873e+02\n",
                            "Russia                   1.520588e+04 3.171954e+03\n",
                            "São Tomé and Príncipe    1.139575e+02 6.194843e+01\n",
                            "Serbia                   1.405530e+02 3.878201e+01\n",
                            "Singapore                3.076417e+00 1.532312e+00\n",
                            "Slovak Republic          6.347140e+00 2.118856e+00\n",
                            "Slovenia                 1.698622e+01 5.560302e+00\n",
                            "South Africa             3.343254e+00 2.036518e+00\n",
                            "Spain                    2.883146e+00 2.547354e+00\n",
                            "Suriname                 7.005099e+02 1.327176e+02\n",
                            "Sweden                   3.620009e+00 3.612634e+00\n",
                            "Switzerland              1.428331e+00 4.170673e-01\n",
                            "Taiwan Province of China 2.045562e+00 6.562164e+00\n",
                            "Thailand                 5.101961e+00 6.342028e+00\n",
                            "The Gambia               6.687939e+01 1.741829e+01\n",
                            "Tunisia                  2.526134e+00 1.025523e+00\n",
                            "Türkiye                  2.871471e+02 2.751910e+02\n",
                            "Ukraine                  5.068050e+05 8.441891e+04\n",
                            "United Kingdom           2.110942e+00 3.626624e+00\n",
                            "United States            1.901278e+00 2.374186e+00\n",
                            "Uruguay                  9.002606e+01 1.040696e+02"
                        ]
                    },
                    "metadata": {},
                    "output_type": "display_data"
                }
            ],
            "source": [
                "# test Levin, Lin & Chu\n",
                "llc_test <- purtest(panel_df$PCPIPCH, test = \"levinlin\")\n",
                "summary(llc_test)\n"
            ]
        },
        {
            "cell_type": "markdown",
            "metadata": {},
            "source": [
                "<a id='4.E'></a>\n",
                "\n",
                "### **4.E. Correcting standard error:**"
            ]
        },
        {
            "cell_type": "code",
            "execution_count": 20,
            "metadata": {
                "vscode": {
                    "languageId": "r"
                }
            },
            "outputs": [
                {
                    "data": {
                        "text/plain": [
                            "\n",
                            "t test of coefficients:\n",
                            "\n",
                            "               Estimate  Std. Error t value Pr(>|t|)  \n",
                            "GGSB_NPGDP  -4.20662575  4.86983220 -0.8638  0.38775  \n",
                            "GGXWDG_NGDP  0.31689675  0.43962964  0.7208  0.47106  \n",
                            "PPPPC       -0.00062272  0.00030736 -2.0261  0.04283 *\n",
                            "TX_RPCH      0.03205378  0.29236972  0.1096  0.91271  \n",
                            "TM_RPCH      0.76946904  0.39270042  1.9594  0.05014 .\n",
                            "NID_NGDP    -0.27179001  0.35897906 -0.7571  0.44903  \n",
                            "---\n",
                            "Signif. codes:  0 '***' 0.001 '**' 0.01 '*' 0.05 '.' 0.1 ' ' 1\n"
                        ]
                    },
                    "metadata": {},
                    "output_type": "display_data"
                }
            ],
            "source": [
                "# Correcting standard error using Cluster-Robust SE (country level)\n",
                "robust_se <- vcovHC(re_model, method = \"arellano\", type = \"HC1\", cluster = \"group\")\n",
                "\n",
                "# Testing significance using corrected standard error\n",
                "coeftest(fe_model, vcov = robust_se)"
            ]
        },
        {
            "cell_type": "code",
            "execution_count": 21,
            "metadata": {
                "vscode": {
                    "languageId": "r"
                }
            },
            "outputs": [
                {
                    "data": {
                        "text/plain": [
                            "\n",
                            "t test of coefficients:\n",
                            "\n",
                            "               Estimate  Std. Error t value Pr(>|t|)   \n",
                            "GGSB_NPGDP  -4.20662575  4.35426172 -0.9661 0.334061   \n",
                            "GGXWDG_NGDP  0.31689675  0.38639373  0.8201 0.412190   \n",
                            "PPPPC       -0.00062272  0.00020310 -3.0660 0.002185 **\n",
                            "TX_RPCH      0.03205378  0.24146673  0.1327 0.894401   \n",
                            "TM_RPCH      0.76946904  0.24878611  3.0929 0.001997 **\n",
                            "NID_NGDP    -0.27179001  0.60999807 -0.4456 0.655942   \n",
                            "---\n",
                            "Signif. codes:  0 '***' 0.001 '**' 0.01 '*' 0.05 '.' 0.1 ' ' 1\n"
                        ]
                    },
                    "metadata": {},
                    "output_type": "display_data"
                }
            ],
            "source": [
                "robust_se_scc <- vcovSCC(re_model, type = \"HC1\")\n",
                "coeftest(fe_model, vcov = robust_se_scc)\n"
            ]
        },
        {
            "cell_type": "markdown",
            "metadata": {},
            "source": [
                "<a id='5.C'></a>\n",
                "\n",
                "### **5.C. Diagnostics for the Difference GMM model:**"
            ]
        },
        {
            "cell_type": "markdown",
            "metadata": {},
            "source": [
                "\n",
                "<a id='5.'></a>\n",
                "\n",
                "## **5. the Dynamic Panel (GMM) model:**\n",
                "\n",
                "<a id='5.A'></a>\n",
                "\n",
                "### **5.A. Build the formula string:**"
            ]
        },
        {
            "cell_type": "code",
            "execution_count": 22,
            "metadata": {
                "vscode": {
                    "languageId": "r"
                }
            },
            "outputs": [],
            "source": [
                "# Build the formula string:\n",
                "# Left of | : regressors that include lag(PCPIPCH,1) + strictly exogenous X’s\n",
                "# Right of |: instruments for the endogenous part = lag(PCPIPCH, 2:…) \n",
                "dynamic_formula <- as.formula(\n",
                "  paste0( \"PCPIPCH ~ lag(PCPIPCH, 1) + \",\n",
                "    paste(X_vars, collapse = \" + \"), \n",
                "    \" | lag(PCPIPCH, 2:7)\"\n",
                "  )\n",
                ")"
            ]
        },
        {
            "cell_type": "markdown",
            "metadata": {},
            "source": [
                "<a id='5.B'></a>\n",
                "\n",
                "### **5.B. Estimate the GMM model:**"
            ]
        },
        {
            "cell_type": "code",
            "execution_count": 23,
            "metadata": {
                "vscode": {
                    "languageId": "r"
                }
            },
            "outputs": [
                {
                    "name": "stderr",
                    "output_type": "stream",
                    "text": [
                        "Warning message in vcovHC.pgmm(object):\n",
                        "\"a general inverse is used\"\n"
                    ]
                },
                {
                    "data": {
                        "text/plain": [
                            "Oneway (individual) effect Two-steps model System GMM \n",
                            "\n",
                            "Call:\n",
                            "pgmm(formula = dynamic_formula, data = panel_df, effect = \"individual\", \n",
                            "    model = \"twosteps\", collapse = TRUE, transformation = \"ld\")\n",
                            "\n",
                            "Balanced Panel: n = 83, T = 45, N = 3735\n",
                            "\n",
                            "Number of Observations Used: 7044\n",
                            "Residuals:\n",
                            "     Min.   1st Qu.    Median      Mean   3rd Qu.      Max. \n",
                            "-5032.789   -10.749    -0.409     2.396     7.206  4639.103 \n",
                            "\n",
                            "Coefficients:\n",
                            "                  Estimate Std. Error z-value Pr(>|z|)   \n",
                            "lag(PCPIPCH, 1)  0.2740680  0.0936327  2.9271 0.003422 **\n",
                            "GGSB_NPGDP      -3.2432799  1.4749911 -2.1988 0.027889 * \n",
                            "GGXWDG_NGDP      0.2870040  0.1456152  1.9710 0.048727 * \n",
                            "PPPPC           -0.0002192  0.0001943 -1.1281 0.259270   \n",
                            "TX_RPCH          0.2467464  0.3035139  0.8130 0.416238   \n",
                            "TM_RPCH          0.5278181  0.2599239  2.0307 0.042289 * \n",
                            "NID_NGDP        -0.5357864  0.3328519 -1.6097 0.107467   \n",
                            "---\n",
                            "Signif. codes:  0 '***' 0.001 '**' 0.01 '*' 0.05 '.' 0.1 ' ' 1\n",
                            "\n",
                            "Sargan test: chisq(12) = 11.86007 (p-value = 0.45698)\n",
                            "Autocorrelation test (1): normal = -0.9772982 (p-value = 0.32842)\n",
                            "Autocorrelation test (2): normal = -0.5797143 (p-value = 0.56211)\n",
                            "Wald test for coefficients: chisq(7) = 660.0722 (p-value = < 2.22e-16)"
                        ]
                    },
                    "metadata": {},
                    "output_type": "display_data"
                }
            ],
            "source": [
                "# ──────────────────────────────────────────────────────────────────────────────\n",
                "# Estimate the GMM model\n",
                "# ──────────────────────────────────────────────────────────────────────────────\n",
                "\n",
                "gmm_model <- pgmm(\n",
                "  formula   = dynamic_formula,\n",
                "  data      = panel_df,\n",
                "  effect    = \"individual\",    # “individual” = fixed‐effect on Country, twoways\n",
                "  model     = \"twosteps\",       # onestep GMM   |  # \"twosteps\"> two‐step GMM\n",
                "  transformation = \"ld\",         # difference GMM (Arellano–Bond) |  # \"ld\"> difference + level (System GMM)\n",
                "  collapse       = TRUE\n",
                "\n",
                ")\n",
                "summary(gmm_model)"
            ]
        },
        {
            "cell_type": "markdown",
            "metadata": {},
            "source": [
                "<a id='5.C'></a>\n",
                "\n",
                "### **5.C. Diagnostics for the Difference GMM model:**"
            ]
        },
        {
            "cell_type": "code",
            "execution_count": 24,
            "metadata": {
                "vscode": {
                    "languageId": "r"
                }
            },
            "outputs": [
                {
                    "name": "stdout",
                    "output_type": "stream",
                    "text": [
                        "Sargan test (overid):\n",
                        "\n",
                        "\tSargan test\n",
                        "\n",
                        "data:  dynamic_formula\n",
                        "chisq = 11.86, df = 12, p-value = 0.457\n",
                        "alternative hypothesis: overidentifying restrictions not valid\n",
                        "\n",
                        "\n",
                        "Arellano–Bond AR(1) test:\n"
                    ]
                },
                {
                    "name": "stdout",
                    "output_type": "stream",
                    "text": [
                        "\n",
                        "\tArellano-Bond autocorrelation test of degree 1\n",
                        "\n",
                        "data:  dynamic_formula\n",
                        "normal = -0.99476, p-value = 0.3199\n",
                        "alternative hypothesis: autocorrelation present\n",
                        "\n",
                        "\n",
                        "Arellano–Bond AR(2) test:\n",
                        "\n",
                        "\tArellano-Bond autocorrelation test of degree 2\n",
                        "\n",
                        "data:  dynamic_formula\n",
                        "normal = -0.58182, p-value = 0.5607\n",
                        "alternative hypothesis: autocorrelation present\n",
                        "\n"
                    ]
                }
            ],
            "source": [
                "# ──────────────────────────────────────────────────────────────────────────────\n",
                "# Diagnostics for the Difference GMM model\n",
                "# ──────────────────────────────────────────────────────────────────────────────\n",
                "\n",
                "# (i) Hansen/Sargan test for overid (validity of instruments) ((p > 0.05))\n",
                "cat(\"Sargan test (overid):\\n\")\n",
                "print(sargan(gmm_model))\n",
                "\n",
                "# (ii) Arellano–Bond tests for autocorrelation in residuals\n",
                "\n",
                "# AR(1) test: should reject (serial correlation expected)\n",
                "cat(\"\\nArellano–Bond AR(1) test:\\n\")\n",
                "print(mtest(gmm_model, order = 1))\n",
                "\n",
                "# AR(2) test: should not reject (no serial correlation expected(p > 0.05))\n",
                "cat(\"\\nArellano–Bond AR(2) test:\\n\")\n",
                "print(mtest(gmm_model, order = 2))\n"
            ]
        },
        {
            "cell_type": "markdown",
            "metadata": {},
            "source": [
                "<a id='6.'></a>\n",
                "\n",
                "### **6. residuals models:**"
            ]
        },
        {
            "cell_type": "markdown",
            "metadata": {
                "azdata_cell_guid": "0a1e4ca3-2665-4d75-b969-1c56cb509040"
            },
            "source": [
                "# **END**"
            ]
        }
    ],
    "metadata": {
        "hide_input": false,
        "kernelspec": {
            "display_name": "R",
            "language": "R",
            "name": "ir"
        },
        "language_info": {
            "codemirror_mode": "r",
            "file_extension": ".r",
            "mimetype": "text/x-r-source",
            "name": "R",
            "pygments_lexer": "r",
            "version": "4.4.2"
        }
    },
    "nbformat": 4,
    "nbformat_minor": 2
}
