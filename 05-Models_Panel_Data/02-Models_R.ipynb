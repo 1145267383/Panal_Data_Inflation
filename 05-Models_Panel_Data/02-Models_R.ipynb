{
    "cells": [
        {
            "cell_type": "markdown",
            "metadata": {
                "azdata_cell_guid": "70d09cdf-17ef-4796-a9de-5e457fe84246"
            },
            "source": [
                "## **Project: Panel Data Methodologies With Application To Macroeconometrics (Inflation Forecasting)**.\n",
                "\n",
                "> ### **Title**: Training, Evaluation and Comparison Model.\n",
                "\n",
                "\n",
                "#### **Table of Contents:**\n",
                "<ul>\n",
                "<li><a href=\"#0\"> Dataset Description and Variable Overview.</a></li>\n",
                "<li><a href=\"#1\">1. Split dataset.</a></li>\n",
                "<li><a href=\"#2.A\">2.A. Treaning  Pooled OLS model.</a></li>\n",
                "<li><a href=\"#2.B\">2.B. Treaning  Fixed Effects model.</a></li>\n",
                "<li><a href=\"#2.C\">2.C. Treaning  Random Effects model.</a></li>\n",
                "<li><a href=\"#3.A\">3.A. Wald test: Pooled OLS vs Fixed Effects.</a></li>\n",
                "<li><a href=\"#3.B\">3.B. Hausman test: fixed vs random effects</a></li>\n",
                "<li><a href=\"#4.A\">4.A. Heteroskedasticity tests.</a></li>\n",
                "<li><a href=\"#4.B\">4.B. Serial Correlation test.</a></li>\n",
                "<li><a href=\"#4.C\">4.C. Test Pesaran CD.</a></li>\n",
                "<li><a href=\"#4.D\">4.D. test Levin, Lin & Chu.</a></li>\n",
                "<li><a href=\"#4.E\">4.E. Correcting standard error.</a></li>\n",
                "<li><a href=\"#5\">5. the Dynamic Panel (GMM) model.</a></li>\n",
                "<li><a href=\"#5.A\">5.A. Build the formula string.</a></li>\n",
                "<li><a href=\"#5.B\">5.B. Estimate the GMM model.</a></li>\n",
                "<li><a href=\"#5.C\">5.C. Diagnostics for the Difference GMM model.</a></li>\n",
                "<li><a href=\"#\">.</a></li>\n",
                "\n",
                "</ul>\n",
                "\n",
                "\n"
            ]
        },
        {
            "cell_type": "markdown",
            "metadata": {},
            "source": [
                "<a id='1'></a>\n",
                "\n",
                "#### Dataset Description and Variable Overview:\n",
                "\n",
                "The dataset includes annual macroeconomic data for  **77 countries** over the period **1980–2024**. Most variables are sourced from the **IMF’s World Economic Outlook (WEO)**, except **TRWMA**, which is derived from the **World Bank**. The target variable is **PCPIPCH** (Inflation, average consumer prices). Below is the list of variables used:\n",
                "\n",
                "---\n",
                "\n",
                "> #### **Inflation & Price Stability**\n",
                "\n",
                "| **Variable Code** | **Description**                                    | **Units**                                         |\n",
                "| ----------------- | -------------------------------------------------- | ------------------------------------------------- |\n",
                "| **PCPIPCH**       | Inflation, average consumer prices `(Target)`      | Percent change                                    |\n",
                "\n",
                "---\n",
                "\n",
                "> #### **Public Finance**\n",
                "| **Variable Code** | **Description**                                    | **Units**                                         |\n",
                "| ----------------- | -------------------------------------------------- | ------------------------------------------------- |\n",
                "| GGSB_NPGDP        | General government structural balance              | Percent of potential GDP                          |\n",
                "| GGXWDG_NGDP       | General government gross debt                      | Percent of GDP                                    |\n",
                "\n",
                "---\n",
                "\n",
                "\n",
                "> #### **Economic Output & Productivity**\n",
                "| **Variable Code** | **Description**                                    | **Units**                                         |\n",
                "| ----------------- | -------------------------------------------------- | ------------------------------------------------- |\n",
                "| PPPPC             | Gross domestic product per capita, current prices  | Purchasing power parity; international dollars    |\n",
                "\n",
                "---\n",
                "\n",
                "> #### **International Trade & Balance**\n",
                "| **Variable Code** | **Description**                                    | **Units**                                         |\n",
                "| ----------------- | -------------------------------------------------- | ------------------------------------------------- |\n",
                "| TX_RPCH           | Volume of exports of goods and services            | Percent change                                    |\n",
                "| TM_RPCH           | Volume of imports of goods and services            | Percent change                                    |\n",
                "---\n",
                "\n",
                "> #### **Savings & Investment **\n",
                "| **Variable Code** | **Description**                                    | **Units**                                         |\n",
                "| ----------------- | -------------------------------------------------- | ------------------------------------------------- |\n",
                "| NID_NGDP          | Total investment                                   | Percent of GDP                                    |\n",
                "\n",
                "---\n",
                "\n",
                "> #### **Country Metadata**\n",
                "\n",
                "| **Variable Code** | **Description**                                    | **Units**                                         |\n",
                "| ----------------- | -------------------------------------------------- | ------------------------------------------------- |\n",
                "| Country_Code      | ID number for each country                         | ID                                                |\n",
                "| Country           | Name of 70 countries                               | String                                            |\n",
                "| Advanced_Country  | Is the country developed (1) or developing (0)?    | Boolean                                           |\n",
                "| Years             | date from 2000 to 2024                             | Date                                              |\n",
                "\n",
                "---"
            ]
        },
        {
            "cell_type": "markdown",
            "metadata": {},
            "source": []
        },
        {
            "cell_type": "markdown",
            "metadata": {},
            "source": [
                "\n",
                "#### **1. Inflation & Price Stability (التضخم واستقرار الأسعار)**\n",
                "\n",
                "| Variable Code    | Term             | التفسير |                تأثيره على التضخم                                            |\n",
                "| ---------------- | ---------------- | --------------------------------- | --------------------------------------------------- |\n",
                "| **PCPIPCH**   | Inflation (CPI) | معدل التضخم بناءً على متوسط أسعار المستهلكين؛ مؤشر رئيسي لاستقرار الأسعار. | المتغير الهدف، ويقيس بشكل مباشر مدى ارتفاع الأسعار. |\n",
                "\n",
                "---\n",
                "\n",
                "#### **2. Public Finance (المالية العامة)**\n",
                "\n",
                "| Variable Code    | Term             | التفسير |                تأثيره على التضخم                                            |\n",
                "| ---------------- | ---------------- | --------------------------------- | --------------------------------------------------- |\n",
                "| **GGSB_NPGDP**  | Structural Budget Balance         | الميزان الهيكلي بعد خصم أثر الدورة الاقتصادية.                         | الفائض الهيكلي يُعتبر إشارة إلى سياسة مالية انكماشية تقلل من التضخم.      |\n",
                "| **GGXWDG_NGDP** | Gross Government Debt (% of GDP)  | الدين العام كنسبة من الناتج؛ يعكس عبء الحكومة المالي.                  | ارتفاع الدين قد يُجبر الحكومة على التوسع النقدي مستقبلاً مما يزيد التضخم. |\n",
                "\n",
                "\n",
                "---\n",
                "\n",
                "\n",
                "#### **3. Economic Output & Productivity (الإنتاجية والناتج الاقتصادي)**\n",
                "\n",
                "| Variable Code    | Term             | التفسير |                تأثيره على التضخم                                            |\n",
                "| ---------------- | ---------------- | --------------------------------- | --------------------------------------------------- |\n",
                "| **PPPPC**      | GDP per Capita (PPP)   | نصيب الفرد من الناتج باستخدام تعادل القوة الشرائية.             | ارتفاعه يشير إلى قدرة شرائية أعلى، ما قد يدفع بالأسعار إلى الارتفاع.               |\n",
                "\n",
                "---\n",
                "\n",
                "\n",
                "#### **4. International Trade & Balance (التجارة الدولية والحساب الجاري)**\n",
                "\n",
                "| Variable Code    | Term             | التفسير |                تأثيره على التضخم                                            |\n",
                "| ---------------- | ---------------- | --------------------------------- | --------------------------------------------------- |\n",
                "| **TX_RPCH**   | Export Volume Growth            | نمو حجم الصادرات.                   | زيادة الصادرات قد تقلل المعروض المحلي وترفع الأسعار.                |\n",
                "| **TM_RPCH**   | Import Volume Growth            | نمو حجم الواردات.                   | زيادة الواردات توفر بدائل أرخص وتقلل من التضخم.                     |\n",
                "\n",
                "---\n",
                "\n",
                "#### **5. Savings & Investment (الادخار والاستثمار)**\n",
                "\n",
                "| Variable Code    | Term             | التفسير |                تأثيره على التضخم                                            |\n",
                "| ---------------- | ---------------- | --------------------------------- | --------------------------------------------------- |\n",
                "| **NID_NGDP**  | Gross Capital Formation | الاستثمار الإجمالي كنسبة من الناتج. | استثمار أكبر قد يرفع الإنتاج في الأجل الطويل مما يقلل التضخم. |\n",
                "\n",
                "---\n",
                "\n",
                "#### **6. Country Metadata (بيانات الدول)**\n",
                "\n",
                "| Variable Code    | Term             | التفسير |                تأثيره على التضخم                                            |\n",
                "| ---------------- | ---------------- | --------------------------------- | --------------------------------------------------- |\n",
                "| **Country_Code**     | Country ID         | معرف رقمي فريد لكل دولة. | -                 |\n",
                "| **Country**           | Country Name       | اسم الدولة.              | -                 |\n",
                "| **Advanced_Country** | Development Status | متقدمة (1) أو نامية (0). | -                 |\n",
                "| **Years**             | Year               | السنة ما بين 2000 و2024. | -                 |\n",
                "\n",
                "---\n",
                "\n"
            ]
        },
        {
            "cell_type": "markdown",
            "metadata": {},
            "source": []
        },
        {
            "cell_type": "code",
            "execution_count": 1,
            "metadata": {
                "vscode": {
                    "languageId": "r"
                }
            },
            "outputs": [],
            "source": [
                "#install.packages(\"modelsummary\")"
            ]
        },
        {
            "cell_type": "markdown",
            "metadata": {
                "azdata_cell_guid": "2a1b7248-0b53-45b6-ad95-efa0cb002705"
            },
            "source": [
                "**Import Library**"
            ]
        },
        {
            "cell_type": "code",
            "execution_count": 3,
            "metadata": {
                "azdata_cell_guid": "93c6991b-cad5-4222-a2fe-f38fcc5eb109",
                "language": "sql",
                "vscode": {
                    "languageId": "r"
                }
            },
            "outputs": [],
            "source": [
                "# Load required libraries\n",
                "library(dplyr)\n",
                "library(readxl)\n",
                "library(car)\n",
                "library(gplots)\n",
                "library(plm)\n",
                "\n",
                "library(tidyverse)\n",
                "library(corrplot)\n",
                "\n",
                "library(Metrics)  # for rmse\n",
                "library(caret)    # for R-squared\n",
                "library(lmtest)\n",
                "\n",
                "\n",
                "library(sandwich)\n",
                "\n",
                "library(urca) # test Levin, Lin & Chu\n",
                "\n",
                "library(AER)      # for Hausman test\n"
            ]
        },
        {
            "cell_type": "markdown",
            "metadata": {
                "azdata_cell_guid": "c88765c0-100d-4621-9753-942ba8737d28"
            },
            "source": [
                "**Load Dataset**"
            ]
        },
        {
            "cell_type": "code",
            "execution_count": 4,
            "metadata": {
                "azdata_cell_guid": "4fd6e3d9-616d-4039-b3b2-eaf457d22711",
                "language": "sql",
                "vscode": {
                    "languageId": "r"
                }
            },
            "outputs": [
                {
                    "data": {
                        "text/html": [
                            "<style>\n",
                            ".list-inline {list-style: none; margin:0; padding: 0}\n",
                            ".list-inline>li {display: inline-block}\n",
                            ".list-inline>li:not(:last-child)::after {content: \"\\00b7\"; padding: 0 .5ex}\n",
                            "</style>\n",
                            "<ol class=list-inline><li>3735</li><li>11</li></ol>\n"
                        ],
                        "text/latex": [
                            "\\begin{enumerate*}\n",
                            "\\item 3735\n",
                            "\\item 11\n",
                            "\\end{enumerate*}\n"
                        ],
                        "text/markdown": [
                            "1. 3735\n",
                            "2. 11\n",
                            "\n",
                            "\n"
                        ],
                        "text/plain": [
                            "[1] 3735   11"
                        ]
                    },
                    "metadata": {},
                    "output_type": "display_data"
                },
                {
                    "data": {
                        "text/html": [
                            "<table class=\"dataframe\">\n",
                            "<caption>A data.frame: 6 × 11</caption>\n",
                            "<thead>\n",
                            "\t<tr><th></th><th scope=col>WEO_Country_Code</th><th scope=col>Country</th><th scope=col>Advanced_Country</th><th scope=col>Year</th><th scope=col>PCPIPCH</th><th scope=col>GGSB_NPGDP</th><th scope=col>GGXWDG_NGDP</th><th scope=col>PPPPC</th><th scope=col>TX_RPCH</th><th scope=col>TM_RPCH</th><th scope=col>NID_NGDP</th></tr>\n",
                            "\t<tr><th></th><th scope=col>&lt;int&gt;</th><th scope=col>&lt;chr&gt;</th><th scope=col>&lt;int&gt;</th><th scope=col>&lt;int&gt;</th><th scope=col>&lt;dbl&gt;</th><th scope=col>&lt;dbl&gt;</th><th scope=col>&lt;dbl&gt;</th><th scope=col>&lt;dbl&gt;</th><th scope=col>&lt;dbl&gt;</th><th scope=col>&lt;dbl&gt;</th><th scope=col>&lt;dbl&gt;</th></tr>\n",
                            "</thead>\n",
                            "<tbody>\n",
                            "\t<tr><th scope=row>1</th><td>614</td><td>Angola</td><td>0</td><td>1980</td><td>46.708</td><td>1.369655</td><td>46.347761</td><td>1510.407</td><td> -3.0</td><td>-39.0</td><td>12.122</td></tr>\n",
                            "\t<tr><th scope=row>2</th><td>614</td><td>Angola</td><td>0</td><td>1981</td><td> 1.391</td><td>1.346576</td><td> 4.311144</td><td>1538.971</td><td>  8.0</td><td> 17.3</td><td>13.148</td></tr>\n",
                            "\t<tr><th scope=row>3</th><td>614</td><td>Angola</td><td>0</td><td>1982</td><td> 1.833</td><td>1.316141</td><td>20.616131</td><td>1591.954</td><td>-12.9</td><td>  1.7</td><td>14.916</td></tr>\n",
                            "\t<tr><th scope=row>4</th><td>614</td><td>Angola</td><td>0</td><td>1983</td><td> 1.833</td><td>1.262721</td><td>14.596401</td><td>1679.796</td><td>  4.6</td><td> -2.7</td><td>12.381</td></tr>\n",
                            "\t<tr><th scope=row>5</th><td>614</td><td>Angola</td><td>0</td><td>1984</td><td> 1.833</td><td>1.191218</td><td> 9.758854</td><td>1797.332</td><td> 12.5</td><td>  2.2</td><td>12.347</td></tr>\n",
                            "\t<tr><th scope=row>6</th><td>614</td><td>Angola</td><td>0</td><td>1985</td><td> 1.833</td><td>1.249193</td><td>20.533547</td><td>1703.032</td><td> -5.9</td><td> -9.4</td><td> 9.450</td></tr>\n",
                            "</tbody>\n",
                            "</table>\n"
                        ],
                        "text/latex": [
                            "A data.frame: 6 × 11\n",
                            "\\begin{tabular}{r|lllllllllll}\n",
                            "  & WEO\\_Country\\_Code & Country & Advanced\\_Country & Year & PCPIPCH & GGSB\\_NPGDP & GGXWDG\\_NGDP & PPPPC & TX\\_RPCH & TM\\_RPCH & NID\\_NGDP\\\\\n",
                            "  & <int> & <chr> & <int> & <int> & <dbl> & <dbl> & <dbl> & <dbl> & <dbl> & <dbl> & <dbl>\\\\\n",
                            "\\hline\n",
                            "\t1 & 614 & Angola & 0 & 1980 & 46.708 & 1.369655 & 46.347761 & 1510.407 &  -3.0 & -39.0 & 12.122\\\\\n",
                            "\t2 & 614 & Angola & 0 & 1981 &  1.391 & 1.346576 &  4.311144 & 1538.971 &   8.0 &  17.3 & 13.148\\\\\n",
                            "\t3 & 614 & Angola & 0 & 1982 &  1.833 & 1.316141 & 20.616131 & 1591.954 & -12.9 &   1.7 & 14.916\\\\\n",
                            "\t4 & 614 & Angola & 0 & 1983 &  1.833 & 1.262721 & 14.596401 & 1679.796 &   4.6 &  -2.7 & 12.381\\\\\n",
                            "\t5 & 614 & Angola & 0 & 1984 &  1.833 & 1.191218 &  9.758854 & 1797.332 &  12.5 &   2.2 & 12.347\\\\\n",
                            "\t6 & 614 & Angola & 0 & 1985 &  1.833 & 1.249193 & 20.533547 & 1703.032 &  -5.9 &  -9.4 &  9.450\\\\\n",
                            "\\end{tabular}\n"
                        ],
                        "text/markdown": [
                            "\n",
                            "A data.frame: 6 × 11\n",
                            "\n",
                            "| <!--/--> | WEO_Country_Code &lt;int&gt; | Country &lt;chr&gt; | Advanced_Country &lt;int&gt; | Year &lt;int&gt; | PCPIPCH &lt;dbl&gt; | GGSB_NPGDP &lt;dbl&gt; | GGXWDG_NGDP &lt;dbl&gt; | PPPPC &lt;dbl&gt; | TX_RPCH &lt;dbl&gt; | TM_RPCH &lt;dbl&gt; | NID_NGDP &lt;dbl&gt; |\n",
                            "|---|---|---|---|---|---|---|---|---|---|---|---|\n",
                            "| 1 | 614 | Angola | 0 | 1980 | 46.708 | 1.369655 | 46.347761 | 1510.407 |  -3.0 | -39.0 | 12.122 |\n",
                            "| 2 | 614 | Angola | 0 | 1981 |  1.391 | 1.346576 |  4.311144 | 1538.971 |   8.0 |  17.3 | 13.148 |\n",
                            "| 3 | 614 | Angola | 0 | 1982 |  1.833 | 1.316141 | 20.616131 | 1591.954 | -12.9 |   1.7 | 14.916 |\n",
                            "| 4 | 614 | Angola | 0 | 1983 |  1.833 | 1.262721 | 14.596401 | 1679.796 |   4.6 |  -2.7 | 12.381 |\n",
                            "| 5 | 614 | Angola | 0 | 1984 |  1.833 | 1.191218 |  9.758854 | 1797.332 |  12.5 |   2.2 | 12.347 |\n",
                            "| 6 | 614 | Angola | 0 | 1985 |  1.833 | 1.249193 | 20.533547 | 1703.032 |  -5.9 |  -9.4 |  9.450 |\n",
                            "\n"
                        ],
                        "text/plain": [
                            "  WEO_Country_Code Country Advanced_Country Year PCPIPCH GGSB_NPGDP GGXWDG_NGDP\n",
                            "1 614              Angola  0                1980 46.708  1.369655   46.347761  \n",
                            "2 614              Angola  0                1981  1.391  1.346576    4.311144  \n",
                            "3 614              Angola  0                1982  1.833  1.316141   20.616131  \n",
                            "4 614              Angola  0                1983  1.833  1.262721   14.596401  \n",
                            "5 614              Angola  0                1984  1.833  1.191218    9.758854  \n",
                            "6 614              Angola  0                1985  1.833  1.249193   20.533547  \n",
                            "  PPPPC    TX_RPCH TM_RPCH NID_NGDP\n",
                            "1 1510.407  -3.0   -39.0   12.122  \n",
                            "2 1538.971   8.0    17.3   13.148  \n",
                            "3 1591.954 -12.9     1.7   14.916  \n",
                            "4 1679.796   4.6    -2.7   12.381  \n",
                            "5 1797.332  12.5     2.2   12.347  \n",
                            "6 1703.032  -5.9    -9.4    9.450  "
                        ]
                    },
                    "metadata": {},
                    "output_type": "display_data"
                }
            ],
            "source": [
                "\n",
                "# Load the dataset.\n",
                "df <- read.csv(\"../02-Dataset/01.3-Data_Clean.csv\")\n",
                "\n",
                "# Display the first 5 rows of data.\n",
                "dim(df)\n",
                "head(df)"
            ]
        },
        {
            "cell_type": "code",
            "execution_count": 5,
            "metadata": {
                "vscode": {
                    "languageId": "r"
                }
            },
            "outputs": [
                {
                    "name": "stdout",
                    "output_type": "stream",
                    "text": [
                        "'data.frame':\t3735 obs. of  10 variables:\n",
                        " $ Country         : chr  \"Angola\" \"Angola\" \"Angola\" \"Angola\" ...\n",
                        " $ Advanced_Country: int  0 0 0 0 0 0 0 0 0 0 ...\n",
                        " $ Year            : int  1980 1981 1982 1983 1984 1985 1986 1987 1988 1989 ...\n",
                        " $ PCPIPCH         : num  46.71 1.39 1.83 1.83 1.83 ...\n",
                        " $ GGSB_NPGDP      : num  1.37 1.35 1.32 1.26 1.19 ...\n",
                        " $ GGXWDG_NGDP     : num  46.35 4.31 20.62 14.6 9.76 ...\n",
                        " $ PPPPC           : num  1510 1539 1592 1680 1797 ...\n",
                        " $ TX_RPCH         : num  -3 8 -12.9 4.6 12.5 -5.9 -33.8 54.3 7 2.7 ...\n",
                        " $ TM_RPCH         : num  -39 17.3 1.7 -2.7 2.2 -9.4 -6.5 -1.5 26.9 -22 ...\n",
                        " $ NID_NGDP        : num  12.1 13.1 14.9 12.4 12.3 ...\n"
                    ]
                }
            ],
            "source": [
                "# Drop \"WEO_Country_Code\"\n",
                "df$WEO_Country_Code <- NULL\n",
                "\n",
                "str(df)"
            ]
        },
        {
            "cell_type": "code",
            "execution_count": 6,
            "metadata": {
                "vscode": {
                    "languageId": "r"
                }
            },
            "outputs": [
                {
                    "data": {
                        "text/plain": [
                            "   Country          Advanced_Country      Year         PCPIPCH        \n",
                            " Length:3735        Min.   :0.0000   Min.   :1980   Min.   : -86.089  \n",
                            " Class :character   1st Qu.:0.0000   1st Qu.:1991   1st Qu.:   2.070  \n",
                            " Mode  :character   Median :0.0000   Median :2002   Median :   4.185  \n",
                            "                    Mean   :0.4337   Mean   :2002   Mean   :  24.608  \n",
                            "                    3rd Qu.:1.0000   3rd Qu.:2013   3rd Qu.:   9.293  \n",
                            "                    Max.   :1.0000   Max.   :2024   Max.   :7481.691  \n",
                            "   GGSB_NPGDP         GGXWDG_NGDP           PPPPC             TX_RPCH         \n",
                            " Min.   :-947.6097   Min.   :-3746.85   Min.   :   274.6   Min.   :-175.0328  \n",
                            " 1st Qu.:  -4.1904   1st Qu.:   29.37   1st Qu.:  7667.6   1st Qu.:   0.5745  \n",
                            " Median :  -2.1580   Median :   46.00   Median : 14819.9   Median :   5.1890  \n",
                            " Mean   :  -2.8788   Mean   :   58.63   Mean   : 20692.3   Mean   :   4.6383  \n",
                            " 3rd Qu.:  -0.1656   3rd Qu.:   68.77   3rd Qu.: 28010.8   3rd Qu.:   9.5619  \n",
                            " Max.   : 125.1350   Max.   :11007.32   Max.   :151145.8   Max.   : 245.3800  \n",
                            "    TM_RPCH             NID_NGDP     \n",
                            " Min.   :-176.6720   Min.   :-34.79  \n",
                            " 1st Qu.:   0.2485   1st Qu.: 19.79  \n",
                            " Median :   5.3060   Median : 23.28  \n",
                            " Mean   :   5.0349   Mean   : 23.74  \n",
                            " 3rd Qu.:  10.4760   3rd Qu.: 27.29  \n",
                            " Max.   : 413.3746   Max.   : 68.21  "
                        ]
                    },
                    "metadata": {},
                    "output_type": "display_data"
                }
            ],
            "source": [
                "### Display Descriptive Statistics\n",
                "summary(df)\n"
            ]
        },
        {
            "cell_type": "code",
            "execution_count": 7,
            "metadata": {
                "vscode": {
                    "languageId": "r"
                }
            },
            "outputs": [
                {
                    "data": {
                        "text/html": [
                            "<table class=\"dataframe\">\n",
                            "<caption>A pdata.frame: 6 × 10</caption>\n",
                            "<thead>\n",
                            "\t<tr><th></th><th scope=col>Country</th><th scope=col>Advanced_Country</th><th scope=col>Year</th><th scope=col>PCPIPCH</th><th scope=col>GGSB_NPGDP</th><th scope=col>GGXWDG_NGDP</th><th scope=col>PPPPC</th><th scope=col>TX_RPCH</th><th scope=col>TM_RPCH</th><th scope=col>NID_NGDP</th></tr>\n",
                            "\t<tr><th></th><th scope=col>&lt;fct&gt;</th><th scope=col>&lt;int&gt;</th><th scope=col>&lt;fct&gt;</th><th scope=col>&lt;dbl&gt;</th><th scope=col>&lt;dbl&gt;</th><th scope=col>&lt;dbl&gt;</th><th scope=col>&lt;dbl&gt;</th><th scope=col>&lt;dbl&gt;</th><th scope=col>&lt;dbl&gt;</th><th scope=col>&lt;dbl&gt;</th></tr>\n",
                            "</thead>\n",
                            "<tbody>\n",
                            "\t<tr><th scope=row>Angola-1980</th><td>Angola</td><td>0</td><td>1980</td><td>46.708</td><td>1.369655</td><td>46.347761</td><td>1510.407</td><td> -3.0</td><td>-39.0</td><td>12.122</td></tr>\n",
                            "\t<tr><th scope=row>Angola-1981</th><td>Angola</td><td>0</td><td>1981</td><td> 1.391</td><td>1.346576</td><td> 4.311144</td><td>1538.971</td><td>  8.0</td><td> 17.3</td><td>13.148</td></tr>\n",
                            "\t<tr><th scope=row>Angola-1982</th><td>Angola</td><td>0</td><td>1982</td><td> 1.833</td><td>1.316141</td><td>20.616131</td><td>1591.954</td><td>-12.9</td><td>  1.7</td><td>14.916</td></tr>\n",
                            "\t<tr><th scope=row>Angola-1983</th><td>Angola</td><td>0</td><td>1983</td><td> 1.833</td><td>1.262721</td><td>14.596401</td><td>1679.796</td><td>  4.6</td><td> -2.7</td><td>12.381</td></tr>\n",
                            "\t<tr><th scope=row>Angola-1984</th><td>Angola</td><td>0</td><td>1984</td><td> 1.833</td><td>1.191218</td><td> 9.758854</td><td>1797.332</td><td> 12.5</td><td>  2.2</td><td>12.347</td></tr>\n",
                            "\t<tr><th scope=row>Angola-1985</th><td>Angola</td><td>0</td><td>1985</td><td> 1.833</td><td>1.249193</td><td>20.533547</td><td>1703.032</td><td> -5.9</td><td> -9.4</td><td> 9.450</td></tr>\n",
                            "</tbody>\n",
                            "</table>\n"
                        ],
                        "text/latex": [
                            "A pdata.frame: 6 × 10\n",
                            "\\begin{tabular}{r|llllllllll}\n",
                            "  & Country & Advanced\\_Country & Year & PCPIPCH & GGSB\\_NPGDP & GGXWDG\\_NGDP & PPPPC & TX\\_RPCH & TM\\_RPCH & NID\\_NGDP\\\\\n",
                            "  & <fct> & <int> & <fct> & <dbl> & <dbl> & <dbl> & <dbl> & <dbl> & <dbl> & <dbl>\\\\\n",
                            "\\hline\n",
                            "\tAngola-1980 & Angola & 0 & 1980 & 46.708 & 1.369655 & 46.347761 & 1510.407 &  -3.0 & -39.0 & 12.122\\\\\n",
                            "\tAngola-1981 & Angola & 0 & 1981 &  1.391 & 1.346576 &  4.311144 & 1538.971 &   8.0 &  17.3 & 13.148\\\\\n",
                            "\tAngola-1982 & Angola & 0 & 1982 &  1.833 & 1.316141 & 20.616131 & 1591.954 & -12.9 &   1.7 & 14.916\\\\\n",
                            "\tAngola-1983 & Angola & 0 & 1983 &  1.833 & 1.262721 & 14.596401 & 1679.796 &   4.6 &  -2.7 & 12.381\\\\\n",
                            "\tAngola-1984 & Angola & 0 & 1984 &  1.833 & 1.191218 &  9.758854 & 1797.332 &  12.5 &   2.2 & 12.347\\\\\n",
                            "\tAngola-1985 & Angola & 0 & 1985 &  1.833 & 1.249193 & 20.533547 & 1703.032 &  -5.9 &  -9.4 &  9.450\\\\\n",
                            "\\end{tabular}\n"
                        ],
                        "text/markdown": [
                            "\n",
                            "A pdata.frame: 6 × 10\n",
                            "\n",
                            "| <!--/--> | Country &lt;fct&gt; | Advanced_Country &lt;int&gt; | Year &lt;fct&gt; | PCPIPCH &lt;dbl&gt; | GGSB_NPGDP &lt;dbl&gt; | GGXWDG_NGDP &lt;dbl&gt; | PPPPC &lt;dbl&gt; | TX_RPCH &lt;dbl&gt; | TM_RPCH &lt;dbl&gt; | NID_NGDP &lt;dbl&gt; |\n",
                            "|---|---|---|---|---|---|---|---|---|---|---|\n",
                            "| Angola-1980 | Angola | 0 | 1980 | 46.708 | 1.369655 | 46.347761 | 1510.407 |  -3.0 | -39.0 | 12.122 |\n",
                            "| Angola-1981 | Angola | 0 | 1981 |  1.391 | 1.346576 |  4.311144 | 1538.971 |   8.0 |  17.3 | 13.148 |\n",
                            "| Angola-1982 | Angola | 0 | 1982 |  1.833 | 1.316141 | 20.616131 | 1591.954 | -12.9 |   1.7 | 14.916 |\n",
                            "| Angola-1983 | Angola | 0 | 1983 |  1.833 | 1.262721 | 14.596401 | 1679.796 |   4.6 |  -2.7 | 12.381 |\n",
                            "| Angola-1984 | Angola | 0 | 1984 |  1.833 | 1.191218 |  9.758854 | 1797.332 |  12.5 |   2.2 | 12.347 |\n",
                            "| Angola-1985 | Angola | 0 | 1985 |  1.833 | 1.249193 | 20.533547 | 1703.032 |  -5.9 |  -9.4 |  9.450 |\n",
                            "\n"
                        ],
                        "text/plain": [
                            "            Country Advanced_Country Year PCPIPCH GGSB_NPGDP GGXWDG_NGDP\n",
                            "Angola-1980 Angola  0                1980 46.708  1.369655   46.347761  \n",
                            "Angola-1981 Angola  0                1981  1.391  1.346576    4.311144  \n",
                            "Angola-1982 Angola  0                1982  1.833  1.316141   20.616131  \n",
                            "Angola-1983 Angola  0                1983  1.833  1.262721   14.596401  \n",
                            "Angola-1984 Angola  0                1984  1.833  1.191218    9.758854  \n",
                            "Angola-1985 Angola  0                1985  1.833  1.249193   20.533547  \n",
                            "            PPPPC    TX_RPCH TM_RPCH NID_NGDP\n",
                            "Angola-1980 1510.407  -3.0   -39.0   12.122  \n",
                            "Angola-1981 1538.971   8.0    17.3   13.148  \n",
                            "Angola-1982 1591.954 -12.9     1.7   14.916  \n",
                            "Angola-1983 1679.796   4.6    -2.7   12.381  \n",
                            "Angola-1984 1797.332  12.5     2.2   12.347  \n",
                            "Angola-1985 1703.032  -5.9    -9.4    9.450  "
                        ]
                    },
                    "metadata": {},
                    "output_type": "display_data"
                }
            ],
            "source": [
                "# panel data\n",
                "panel_df <- pdata.frame(df, index = c(\"Country\", \"Year\"))\n",
                "head(panel_df)\n"
            ]
        },
        {
            "cell_type": "code",
            "execution_count": 8,
            "metadata": {
                "vscode": {
                    "languageId": "r"
                }
            },
            "outputs": [],
            "source": [
                "# # Apply log transformation: log((x + 1) - min(x)) within each country\n",
                "# panel_df <- panel_df %>%\n",
                "#   group_by(Country) %>%\n",
                "#   mutate(\n",
                "#     PCPIPCH = log((PCPIPCH + 1) - min(PCPIPCH))\n",
                "#   ) %>%\n",
                "#   ungroup()\n",
                "\n",
                "# # Summary statistics\n",
                "# summary(panel_df$PCPIPCH)\n",
                "\n",
                "# #    of PCPIPCH within each country\n",
                "# panel_df <- panel_df %>%\n",
                "#   group_by(Country) %>%\n",
                "#   mutate(PCPIPCH_diff = diff(x)\n",
                "# # View result\n",
                "# summary(panel_df$PCPIPCH_diff)"
            ]
        },
        {
            "cell_type": "markdown",
            "metadata": {},
            "source": [
                "<a id='1'></a>\n",
                "\n",
                "### **1. Split dataset:**"
            ]
        },
        {
            "cell_type": "code",
            "execution_count": 9,
            "metadata": {
                "vscode": {
                    "languageId": "r"
                }
            },
            "outputs": [],
            "source": [
                "# ========== Split data for out-of-sample forecasting ==========\n",
                "# Define dependent and independent variables\n",
                "y <- panel_df[,'PCPIPCH']  # Inflation Rate (Consumer Prices, annual %)\n",
                "X_vars <- c(\n",
                "\n",
                "    # 2. Public Finance\n",
                "\n",
                "    \"GGSB_NPGDP\",   ## General government structural balance\n",
                "    \"GGXWDG_NGDP\",  # General government gross debt (% of GDP)\n",
                "\n",
                "    \n",
                "    # 3. Economic Output & Productivity & Exchange & Purchasing Power\n",
                "    \"PPPPC\",        # GDP per capita based on PPP\n",
                "    \n",
                "\n",
                "    # 4. International Trade & Balance\n",
                "    \"TX_RPCH\",      # Export volume growth\n",
                "    \"TM_RPCH\",     ## Import volume growth\n",
                "\n",
                "\n",
                "    # 5. Savings & Investment\n",
                "    #\"NGSD_NGDP\",    ## Net government saving (% of GDP)\n",
                "    \"NID_NGDP\",     ## Investment (% of GDP)\n",
                "    \n",
                "    # 6. Metadata\n",
                "   \"Advanced_Country\"\n",
                "    \n",
                ")\n",
                "\n",
                "X <- panel_df[, X_vars]\n",
                "\n",
                "# Define evaluation function (RMSE and R-squared)\n",
                "evaluate <- function(y_true, y_pred) {\n",
                "  rmse <- sqrt(mean((y_true - y_pred)^2))                  # Root Mean Squared Error\n",
                "  ss_total <- sum((y_true - mean(y_true))^2)               # Total Sum of Squares\n",
                "  ss_res <- sum((y_true - y_pred)^2)                       # Residual Sum of Squares\n",
                "  r2 <- 1 - (ss_res / ss_total)                            # R-squared\n",
                "  return(list(rmse = rmse, r2 = r2))\n",
                "}\n"
            ]
        },
        {
            "cell_type": "code",
            "execution_count": 10,
            "metadata": {
                "vscode": {
                    "languageId": "r"
                }
            },
            "outputs": [],
            "source": [
                "# Convert Year to numeric to allow comparison\n",
                "panel_df$Year <- as.numeric(as.character(panel_df$Year))\n",
                "\n",
                "# Split data into train and test\n",
                "train <- panel_df %>% \n",
                "  as.data.frame() %>%\n",
                "  filter(Year <= 2024) %>%\n",
                "  pdata.frame(index = c(\"Country\", \"Year\"))\n",
                "\n",
                "test <- panel_df %>% \n",
                "  as.data.frame() %>%\n",
                "  filter(Year >= 2015) %>%\n",
                "  pdata.frame(index = c(\"Country\", \"Year\"))\n",
                "\n",
                "# Define dependent and independent variables\n",
                "y_train <- train$PCPIPCH\n",
                "X_train <- train[, X_vars]\n",
                "\n",
                "y_test <- test$PCPIPCH\n",
                "X_test <- test[, X_vars]\n",
                "\n",
                "# Combine y and X for training model\n",
                "train_model_df <- train[, c(\"PCPIPCH\", X_vars)]\n",
                "\n",
                "test_model_df <- test[, c(\"PCPIPCH\", X_vars)]\n"
            ]
        },
        {
            "cell_type": "markdown",
            "metadata": {},
            "source": [
                "<a id='2.A'></a>\n",
                "\n",
                "### **2.A. Treaning  Pooled OLS model:**\n"
            ]
        },
        {
            "cell_type": "code",
            "execution_count": 11,
            "metadata": {
                "vscode": {
                    "languageId": "r"
                }
            },
            "outputs": [
                {
                    "data": {
                        "text/plain": [
                            "Pooling Model\n",
                            "\n",
                            "Call:\n",
                            "plm(formula = formula_str, data = train_model_df, model = \"pooling\", \n",
                            "    index = c(\"Country\", \"Year\"))\n",
                            "\n",
                            "Balanced Panel: n = 83, T = 45, N = 3735\n",
                            "\n",
                            "Residuals:\n",
                            "   Min. 1st Qu.  Median    Mean 3rd Qu.    Max. \n",
                            " -217.6   -27.2   -11.4     0.9     6.2  4673.4 \n",
                            "\n",
                            "Coefficients:\n",
                            "                    Estimate  Std. Error  t-value  Pr(>|t|)    \n",
                            "GGSB_NPGDP       -4.0484e+00  3.1783e-01 -12.7379 < 2.2e-16 ***\n",
                            "GGXWDG_NGDP       3.2163e-01  2.6201e-02  12.2756 < 2.2e-16 ***\n",
                            "PPPPC            -3.0971e-04  1.5845e-04  -1.9546 0.0507057 .  \n",
                            "TX_RPCH          -2.1189e-03  2.1513e-01  -0.0098 0.9921419    \n",
                            "TM_RPCH           7.3398e-01  2.0216e-01   3.6306 0.0002866 ***\n",
                            "NID_NGDP          1.8201e-01  1.5135e-01   1.2025 0.2292347    \n",
                            "Advanced_Country -1.9344e+01  6.2825e+00  -3.0790 0.0020924 ** \n",
                            "---\n",
                            "Signif. codes:  0 '***' 0.001 '**' 0.01 '*' 0.05 '.' 0.1 ' ' 1\n",
                            "\n",
                            "Total Sum of Squares:    156340000\n",
                            "Residual Sum of Squares: 85592000\n",
                            "R-Squared:      0.45253\n",
                            "Adj. R-Squared: 0.45165\n",
                            "F-statistic: 454.253 on 7 and 3728 DF, p-value: < 2.22e-16"
                        ]
                    },
                    "metadata": {},
                    "output_type": "display_data"
                },
                {
                    "name": "stdout",
                    "output_type": "stream",
                    "text": [
                        "Pooled OLS RMSE (out-of-sample): 29.9687\n",
                        "Pooled OLS R² (out-of-sample): 0.0192\n"
                    ]
                }
            ],
            "source": [
                "# ===============================\n",
                "# A. Pooled OLS model\n",
                "\n",
                "# Create formula for model\n",
                "formula_str <- as.formula(paste(\"PCPIPCH ~ -1 +\", paste(X_vars, collapse = \" + \")))\n",
                "\n",
                "#  Fit Pooled OLS model\n",
                "pooled_model <- plm(formula_str, data = train_model_df, model = \"pooling\", index = c(\"Country\", \"Year\"))\n",
                "\n",
                "# Display model summary\n",
                "summary(pooled_model)\n",
                "\n",
                "# Predict using the model\n",
                "pooled_preds <- predict(pooled_model, newdata = X_test)\n",
                "\n",
                "# Evaluate model performance\n",
                "pooled_rmse <- rmse(y_test, pooled_preds)\n",
                "pooled_r2   <- R2( y_test, pooled_preds)\n",
                "\n",
                "# Print results\n",
                "cat(sprintf(\"Pooled OLS RMSE (out-of-sample): %.4f\\n\", pooled_rmse))\n",
                "cat(sprintf(\"Pooled OLS R² (out-of-sample): %.4f\\n\", pooled_r2))\n"
            ]
        },
        {
            "cell_type": "markdown",
            "metadata": {},
            "source": [
                "<a id='2.B'></a>\n",
                "\n",
                "### **2.B. Treaning  Fixed Effects model:**"
            ]
        },
        {
            "cell_type": "code",
            "execution_count": 12,
            "metadata": {
                "vscode": {
                    "languageId": "r"
                }
            },
            "outputs": [],
            "source": [
                "if (\"Advanced_Country\" %in% colnames(X_train)) {\n",
                "  X_train <- X_train[, !colnames(X_train) %in% \"Advanced_Country\"]\n",
                "}\n",
                "\n",
                "if (\"Advanced_Country\" %in% colnames(X_test)) {\n",
                "  X_test <- X_test[, !colnames(X_test) %in% \"Advanced_Country\"]\n",
                "}\n",
                "\n",
                "if (\"Advanced_Country\" %in% colnames(train_model_df)) {\n",
                "  train_model_df <- train_model_df[, !colnames(train_model_df) %in% \"Advanced_Country\"]\n",
                "}\n",
                "if (\"Advanced_Country\" %in% colnames(test_model_df)) {\n",
                "  test_model_df <- test_model_df[, !colnames(test_model_df) %in% \"Advanced_Country\"]\n",
                "}\n",
                "\n",
                "X_vars <- setdiff(X_vars, \"Advanced_Country\")\n",
                "\n",
                "\n",
                "# Create formula for model\n",
                "formula_str <- as.formula(paste(\"PCPIPCH ~ -1 +\", paste(X_vars, collapse = \" + \" )))\n"
            ]
        },
        {
            "cell_type": "code",
            "execution_count": 13,
            "metadata": {
                "vscode": {
                    "languageId": "r"
                }
            },
            "outputs": [
                {
                    "data": {
                        "text/plain": [
                            "Oneway (individual) effect Within Model\n",
                            "\n",
                            "Call:\n",
                            "plm(formula = formula_str, data = train_model_df, model = \"within\", \n",
                            "    index = c(\"Country\", \"Year\"))\n",
                            "\n",
                            "Balanced Panel: n = 83, T = 45, N = 3735\n",
                            "\n",
                            "Residuals:\n",
                            "     Min.   1st Qu.    Median   3rd Qu.      Max. \n",
                            "-274.2957  -13.7988   -1.1049    8.4419 4503.3152 \n",
                            "\n",
                            "Coefficients:\n",
                            "               Estimate  Std. Error  t-value  Pr(>|t|)    \n",
                            "GGSB_NPGDP  -4.20662575  0.33142670 -12.6925 < 2.2e-16 ***\n",
                            "GGXWDG_NGDP  0.31689675  0.02740521  11.5634 < 2.2e-16 ***\n",
                            "PPPPC       -0.00062272  0.00018435  -3.3779 0.0007380 ***\n",
                            "TX_RPCH      0.03205378  0.22116789   0.1449 0.8847745    \n",
                            "TM_RPCH      0.76946904  0.20316750   3.7874 0.0001547 ***\n",
                            "NID_NGDP    -0.27179001  0.43774941  -0.6209 0.5347172    \n",
                            "---\n",
                            "Signif. codes:  0 '***' 0.001 '**' 0.01 '*' 0.05 '.' 0.1 ' ' 1\n",
                            "\n",
                            "Total Sum of Squares:    144410000\n",
                            "Residual Sum of Squares: 76733000\n",
                            "R-Squared:      0.46864\n",
                            "Adj. R-Squared: 0.45582\n",
                            "F-statistic: 535.948 on 6 and 3646 DF, p-value: < 2.22e-16"
                        ]
                    },
                    "metadata": {},
                    "output_type": "display_data"
                },
                {
                    "name": "stdout",
                    "output_type": "stream",
                    "text": [
                        "Fixed Effects RMSE (out-of-sample): 52.8248\n",
                        "Fixed Effects R² (out-of-sample): 0.0228\n"
                    ]
                }
            ],
            "source": [
                "# ===============================\n",
                "# B. Fixed Effects model\n",
                "\n",
                "# Fit Fixed Effects (within)\n",
                "fe_model <- plm(formula_str, data = train_model_df, model = \"within\", index = c(\"Country\", \"Year\"))\n",
                "\n",
                "# Display model summary\n",
                "summary(fe_model)\n",
                "\n",
                "# Predict using the model\n",
                "fe_preds <- predict(fe_model, newdata = X_test)\n",
                "\n",
                "# Evaluate model performance\n",
                "\n",
                "fe_rmse <- rmse(y_test, fe_preds)\n",
                "fe_r2   <- R2( y_test,fe_preds)\n",
                "\n",
                "# Print results\n",
                "cat(sprintf(\"Fixed Effects RMSE (out-of-sample): %.4f\\n\", fe_rmse))\n",
                "cat(sprintf(\"Fixed Effects R² (out-of-sample): %.4f\\n\", fe_r2))\n"
            ]
        },
        {
            "cell_type": "markdown",
            "metadata": {},
            "source": [
                "<a id='2.C'></a>\n",
                "\n",
                "### **2.C. Treaning  Random Effects model:**"
            ]
        },
        {
            "cell_type": "code",
            "execution_count": 14,
            "metadata": {
                "vscode": {
                    "languageId": "r"
                }
            },
            "outputs": [
                {
                    "data": {
                        "text/plain": [
                            "Oneway (individual) effect Random Effect Model \n",
                            "   (Swamy-Arora's transformation)\n",
                            "\n",
                            "Call:\n",
                            "plm(formula = formula_str, data = train_model_df, model = \"random\", \n",
                            "    index = c(\"Country\", \"Year\"))\n",
                            "\n",
                            "Balanced Panel: n = 83, T = 45, N = 3735\n",
                            "\n",
                            "Effects:\n",
                            "                   var  std.dev share\n",
                            "idiosyncratic 21045.69   145.07 0.909\n",
                            "individual     2111.90    45.96 0.091\n",
                            "theta: 0.5742\n",
                            "\n",
                            "Residuals:\n",
                            "   Min. 1st Qu.  Median    Mean 3rd Qu.    Max. \n",
                            " -191.1   -18.6    -6.4     0.9     5.5  4577.0 \n",
                            "\n",
                            "Coefficients:\n",
                            "               Estimate  Std. Error  z-value  Pr(>|z|)    \n",
                            "GGSB_NPGDP  -4.15466064  0.32538128 -12.7686 < 2.2e-16 ***\n",
                            "GGXWDG_NGDP  0.32003797  0.02687020  11.9105 < 2.2e-16 ***\n",
                            "PPPPC       -0.00059052  0.00015733  -3.7534 0.0001744 ***\n",
                            "TX_RPCH      0.01689206  0.21776416   0.0776 0.9381697    \n",
                            "TM_RPCH      0.75983554  0.20113762   3.7777 0.0001583 ***\n",
                            "NID_NGDP     0.00216012  0.23012417   0.0094 0.9925105    \n",
                            "---\n",
                            "Signif. codes:  0 '***' 0.001 '**' 0.01 '*' 0.05 '.' 0.1 ' ' 1\n",
                            "\n",
                            "Total Sum of Squares:    146570000\n",
                            "Residual Sum of Squares: 78390000\n",
                            "R-Squared:      0.4652\n",
                            "Adj. R-Squared: 0.46448\n",
                            "Chisq: 3262.87 on 6 DF, p-value: < 2.22e-16"
                        ]
                    },
                    "metadata": {},
                    "output_type": "display_data"
                },
                {
                    "name": "stdout",
                    "output_type": "stream",
                    "text": [
                        "Random Effects RMSE (out-of-sample): 28.3358\n",
                        "Random Effects R² (out-of-sample): 0.0081\n"
                    ]
                }
            ],
            "source": [
                "# ===============================\n",
                "# C. Random Effects model\n",
                "\n",
                "\n",
                "# Step 2: Fit Random Effects model using plm\n",
                "re_model <- plm(formula_str, data = train_model_df, model = \"random\", index = c(\"Country\", \"Year\"))\n",
                "\n",
                "# re_model <- plm(formula_str, data = train_model_df, model = \"random\", \n",
                "#                 random.method = \"amemiya\", index = c(\"Country\", \"Year\"))\n",
                "\n",
                "# re_model <- plm(formula_str, data = train_model_df, model = \"random\", \n",
                "#                 random.method = \"walhus\", index = c(\"Country\", \"Year\"))\n",
                "\n",
                "# Step 3: Display model summary\n",
                "summary(re_model)\n",
                "\n",
                "# Step 4: Predict using the model\n",
                "re_preds <- predict(re_model, newdata = X_test)\n",
                "\n",
                "# Step 5: Evaluate model performance\n",
                "re_rmse <- rmse(y_test, re_preds)\n",
                "re_r2   <- R2( y_test, re_preds)\n",
                "\n",
                "# Step 6: Print results\n",
                "cat(sprintf(\"Random Effects RMSE (out-of-sample): %.4f\\n\", re_rmse))\n",
                "cat(sprintf(\"Random Effects R² (out-of-sample): %.4f\\n\", re_r2))\n"
            ]
        },
        {
            "cell_type": "markdown",
            "metadata": {},
            "source": [
                "<a id='3.A'></a>\n",
                "\n",
                "### **3.A. Wald test: Pooled OLS vs Fixed Effects:**"
            ]
        },
        {
            "cell_type": "code",
            "execution_count": 15,
            "metadata": {
                "vscode": {
                    "languageId": "r"
                }
            },
            "outputs": [
                {
                    "name": "stdout",
                    "output_type": "stream",
                    "text": [
                        "Wald Test (F-test) for joint significance of entity effects:\n"
                    ]
                },
                {
                    "data": {
                        "text/html": [
                            "<table class=\"dataframe\">\n",
                            "<caption>A anova: 2 × 4</caption>\n",
                            "<thead>\n",
                            "\t<tr><th></th><th scope=col>Res.Df</th><th scope=col>Df</th><th scope=col>F</th><th scope=col>Pr(&gt;F)</th></tr>\n",
                            "\t<tr><th></th><th scope=col>&lt;dbl&gt;</th><th scope=col>&lt;dbl&gt;</th><th scope=col>&lt;dbl&gt;</th><th scope=col>&lt;dbl&gt;</th></tr>\n",
                            "</thead>\n",
                            "<tbody>\n",
                            "\t<tr><th scope=row>1</th><td>3728</td><td>NA</td><td>      NA</td><td>         NA</td></tr>\n",
                            "\t<tr><th scope=row>2</th><td>3646</td><td>-1</td><td>9.479994</td><td>0.002092365</td></tr>\n",
                            "</tbody>\n",
                            "</table>\n"
                        ],
                        "text/latex": [
                            "A anova: 2 × 4\n",
                            "\\begin{tabular}{r|llll}\n",
                            "  & Res.Df & Df & F & Pr(>F)\\\\\n",
                            "  & <dbl> & <dbl> & <dbl> & <dbl>\\\\\n",
                            "\\hline\n",
                            "\t1 & 3728 & NA &       NA &          NA\\\\\n",
                            "\t2 & 3646 & -1 & 9.479994 & 0.002092365\\\\\n",
                            "\\end{tabular}\n"
                        ],
                        "text/markdown": [
                            "\n",
                            "A anova: 2 × 4\n",
                            "\n",
                            "| <!--/--> | Res.Df &lt;dbl&gt; | Df &lt;dbl&gt; | F &lt;dbl&gt; | Pr(&gt;F) &lt;dbl&gt; |\n",
                            "|---|---|---|---|---|\n",
                            "| 1 | 3728 | NA |       NA |          NA |\n",
                            "| 2 | 3646 | -1 | 9.479994 | 0.002092365 |\n",
                            "\n"
                        ],
                        "text/plain": [
                            "  Res.Df Df F        Pr(>F)     \n",
                            "1 3728   NA       NA          NA\n",
                            "2 3646   -1 9.479994 0.002092365"
                        ]
                    },
                    "metadata": {},
                    "output_type": "display_data"
                },
                {
                    "name": "stdout",
                    "output_type": "stream",
                    "text": [
                        "Wald test suggests Fixed Effects preferred.\n"
                    ]
                }
            ],
            "source": [
                "# ===============================\n",
                "# Wald test: Pooled OLS vs Fixed Effects (joint significance of entity effects)\n",
                "# ===============================\n",
                "\n",
                "comparison <- waldtest(pooled_model, fe_model, test = \"F\")\n",
                "cat(\"Wald Test (F-test) for joint significance of entity effects:\\n\")\n",
                "comparison\n",
                "\n",
                "# Extract p-value from the comparison table (last row, last column)\n",
                "wald_pval <- comparison[2, \"Pr(>F)\"]\n",
                "\n",
                "# Decision rule\n",
                "if (wald_pval < 0.05) {\n",
                "  cat(\"Wald test suggests Fixed Effects preferred.\\n\")\n",
                "} else {\n",
                "  cat(\"Wald test suggests Pooled OLS preferred.\\n\")\n",
                "}\n"
            ]
        },
        {
            "cell_type": "markdown",
            "metadata": {},
            "source": [
                "<a id='3.B'></a>\n",
                "\n",
                "### **3.B. Hausman test: fixed vs random effects:**"
            ]
        },
        {
            "cell_type": "code",
            "execution_count": 16,
            "metadata": {
                "vscode": {
                    "languageId": "r"
                }
            },
            "outputs": [
                {
                    "name": "stdout",
                    "output_type": "stream",
                    "text": [
                        "\n",
                        "\tHausman Test\n",
                        "\n",
                        "data:  formula_str\n",
                        "chisq = 2.5778, df = 6, p-value = 0.8597\n",
                        "alternative hypothesis: one model is inconsistent\n",
                        "\n",
                        "Hausman test suggests Random Effects preferred.\n"
                    ]
                }
            ],
            "source": [
                "# ===============================\n",
                "# Hausman test: fixed vs random effects\n",
                "hausman_test <- phtest(fe_model, re_model)\n",
                "print(hausman_test)\n",
                "\n",
                "haus_pval <- hausman_test$p.value\n",
                "\n",
                "if (haus_pval < 0.05) {\n",
                "  cat(\"Hausman test suggests Fixed Effects preferred.\\n\")\n",
                "} else {\n",
                "  cat(\"Hausman test suggests Random Effects preferred.\\n\")\n",
                "}"
            ]
        },
        {
            "cell_type": "markdown",
            "metadata": {},
            "source": [
                "<a id='4.A'></a>\n",
                "\n",
                "### **4.A. Heteroskedasticity tests :**"
            ]
        },
        {
            "cell_type": "code",
            "execution_count": 17,
            "metadata": {
                "vscode": {
                    "languageId": "r"
                }
            },
            "outputs": [
                {
                    "name": "stdout",
                    "output_type": "stream",
                    "text": [
                        "[1] \"Breusch-Pagan and White Test for Heteroskedasticity:\"\n",
                        "Breusch-Pagan test: stat=13.6197, p-value=0.0182\n"
                    ]
                },
                {
                    "name": "stdout",
                    "output_type": "stream",
                    "text": [
                        "White test: stat=18.0071, p-value=0.0062\n",
                        "Heteroskedasticity detected: consider robust standard errors.\n"
                    ]
                }
            ],
            "source": [
                "# ===============================\n",
                "# A. Heteroskedasticity tests (Breusch-Pagan and White on residuals)\n",
                "\n",
                "print(\"Breusch-Pagan and White Test for Heteroskedasticity:\")\n",
                "\n",
                "# Breusch-Pagan Test\n",
                "bp_test <- bptest(re_model)\n",
                "cat(sprintf(\"Breusch-Pagan test: stat=%.4f, p-value=%.4f\\n\", bp_test$statistic, bp_test$p.value))\n",
                "\n",
                "# White Test (using quadratic interactions)\n",
                "fe_residuals <- residuals(re_model)\n",
                "\n",
                "white_test <- bptest(lm(fe_residuals^2 ~ ., data = train_model_df[, X_vars]))\n",
                "cat(sprintf(\"White test: stat=%.4f, p-value=%.4f\\n\", white_test$statistic, white_test$p.value))\n",
                "\n",
                "# Decision rule\n",
                "if (bp_test$p.value < 0.05 | white_test$p.value < 0.05) {\n",
                "  cat(\"Heteroskedasticity detected: consider robust standard errors.\\n\")\n",
                "} else {\n",
                "  cat(\"No significant heteroskedasticity detected.\\n\")\n",
                "}"
            ]
        },
        {
            "cell_type": "markdown",
            "metadata": {},
            "source": [
                "<a id='4.B'></a>\n",
                "\n",
                "### **4.B. Serial Correlation test:**"
            ]
        },
        {
            "cell_type": "code",
            "execution_count": 18,
            "metadata": {
                "vscode": {
                    "languageId": "r"
                }
            },
            "outputs": [
                {
                    "name": "stdout",
                    "output_type": "stream",
                    "text": [
                        "[1] \"Breusch-Godfrey/Wooldridge test for Serial Correlation:\"\n"
                    ]
                },
                {
                    "data": {
                        "text/plain": [
                            "\n",
                            "\tBreusch-Godfrey/Wooldridge test for serial correlation in panel models\n",
                            "\n",
                            "data:  formula_str\n",
                            "chisq = 751.38, df = 45, p-value < 2.2e-16\n",
                            "alternative hypothesis: serial correlation in idiosyncratic errors\n"
                        ]
                    },
                    "metadata": {},
                    "output_type": "display_data"
                }
            ],
            "source": [
                "# ===============================\n",
                "# B. Serial Correlation test (Breusch-Godfrey) residuals\n",
                "\n",
                "bg_test <- pbgtest(re_model)\n",
                "print(\"Breusch-Godfrey/Wooldridge test for Serial Correlation:\")\n",
                "bg_test\n"
            ]
        },
        {
            "cell_type": "markdown",
            "metadata": {},
            "source": [
                "<a id='4.C'></a>\n",
                "\n",
                "### **4.C. Test Pesaran CD:**"
            ]
        },
        {
            "cell_type": "code",
            "execution_count": 19,
            "metadata": {
                "vscode": {
                    "languageId": "r"
                }
            },
            "outputs": [
                {
                    "data": {
                        "text/plain": [
                            "\n",
                            "\tPesaran CD test for cross-sectional dependence in panels\n",
                            "\n",
                            "data:  PCPIPCH ~ -1 + GGSB_NPGDP + GGXWDG_NGDP + PPPPC + TX_RPCH + TM_RPCH +     NID_NGDP\n",
                            "z = 22.653, p-value < 2.2e-16\n",
                            "alternative hypothesis: cross-sectional dependence\n"
                        ]
                    },
                    "metadata": {},
                    "output_type": "display_data"
                }
            ],
            "source": [
                "# Test Pesaran CD\n",
                "pcdtest(re_model, test = \"cd\")"
            ]
        },
        {
            "cell_type": "markdown",
            "metadata": {},
            "source": [
                "<a id='4.D'></a>\n",
                "\n",
                "### **4.D. test Levin, Lin & Chu:**"
            ]
        },
        {
            "cell_type": "code",
            "execution_count": 20,
            "metadata": {
                "vscode": {
                    "languageId": "r"
                }
            },
            "outputs": [
                {
                    "data": {
                        "text/plain": [
                            "Levin-Lin-Chu Unit-Root Test \n",
                            "Exogenous variables: None \n",
                            "Automatic selection of lags using SIC: 0 - 10 lags (max: 10)\n",
                            "statistic: -20.159 \n",
                            "p-value: 0 \n",
                            "\n",
                            "                         lags obs         rho       trho       p.trho\n",
                            "Angola                      0  44 -0.40021247 -3.3178554 8.878553e-04\n",
                            "Argentina                   0  44  0.14530149  1.8161629 9.838137e-01\n",
                            "Australia                   0  44 -0.11195443 -2.0808989 3.596249e-02\n",
                            "Austria                     2  42 -0.10255813 -1.3407712 1.671187e-01\n",
                            "Barbados                    0  44 -0.27536168 -3.7722649 1.616201e-04\n",
                            "Belarus                     0  44 -0.31332881 -2.8692742 4.004519e-03\n",
                            "Belgium                     2  42 -0.19687123 -2.1741055 2.859874e-02\n",
                            "Bosnia and Herzegovina      0  44 -0.43536688 -3.5024826 4.539668e-04\n",
                            "Botswana                    0  44 -0.06018470 -1.3985521 1.509864e-01\n",
                            "Brazil                      6  38 -0.31107228 -2.0689221 3.701596e-02\n",
                            "Bulgaria                    0  44 -0.83398832 -5.6198207 3.414318e-08\n",
                            "Canada                      0  44 -0.13689831 -2.5690754 9.884428e-03\n",
                            "Chile                       0  44 -0.16995965 -2.9382639 3.214764e-03\n",
                            "China                       0  44 -0.20064727 -2.2936215 2.106274e-02\n",
                            "Colombia                    0  44 -0.04479774 -1.6168548 9.997984e-02\n",
                            "Costa Rica                  2  42 -0.33953505 -7.0892783 1.054695e-11\n",
                            "Croatia                     0  44 -0.85073472 -5.7107911 2.131684e-08\n",
                            "Cyprus                      0  44 -0.22611097 -3.4614389 5.283714e-04\n",
                            "Czech Republic              0  44 -0.18637093 -2.1557602 2.993724e-02\n",
                            "Denmark                     0  44 -0.16572941 -2.9888116 2.729783e-03\n",
                            "Dominican Republic          0  44 -0.29166208 -2.8217023 4.646815e-03\n",
                            "Ecuador                     0  44 -0.12018787 -1.6918457 8.590650e-02\n",
                            "Egypt                       0  44 -0.04445614 -0.7118952 4.086450e-01\n",
                            "El Salvador                 2  42 -0.07230506 -1.2486202 1.952552e-01\n",
                            "Estonia                     0  44 -0.23075415 -2.4190873 1.505488e-02\n",
                            "Finland                     0  44 -0.14123980 -2.8991791 3.643173e-03\n",
                            "France                      0  44 -0.16877897 -3.1320885 1.696437e-03\n",
                            "Georgia                     2  42 -0.09929661 -1.0954918 2.483610e-01\n",
                            "Germany                     2  42 -0.12191722 -1.5433160 1.154406e-01\n",
                            "Greece                      0  44 -0.08056147 -2.4145287 1.524362e-02\n",
                            "Grenada                     1  43 -0.43117178 -5.9142889 7.316769e-09\n",
                            "Guatemala                   4  40 -0.06091878 -0.6949135 4.161501e-01\n",
                            "Guyana                      1  43 -0.17260088 -1.8214226 6.528431e-02\n",
                            "Hong Kong SAR               0  44 -0.07271479 -1.3438680 1.662246e-01\n",
                            "Hungary                     0  44 -0.06893731 -1.3014905 1.787479e-01\n",
                            "Iceland                     0  44 -0.19974920 -3.0121560 2.529212e-03\n",
                            "India                       0  44 -0.08682667 -1.6165754 1.000354e-01\n",
                            "Indonesia                   0  44 -0.39021821 -3.4001237 6.610654e-04\n",
                            "Ireland                     0  44 -0.16827481 -3.5759254 3.447669e-04\n",
                            "Italy                       2  42 -0.18903989 -4.0777433 4.694791e-05\n",
                            "Japan                       0  44 -0.33384880 -4.5832419 5.215169e-06\n",
                            "Jordan                      1  43 -0.30449958 -2.6510349 7.781390e-03\n",
                            "Kazakhstan                  1  43 -0.48546698 -3.9363653 8.395303e-05\n",
                            "Korea                       2  42 -0.12929670 -1.9102811 5.359719e-02\n",
                            "Kosovo                      0  44 -0.42823250 -3.4756703 5.013659e-04\n",
                            "Latvia                      0  44 -0.46807447 -3.6809738 2.307756e-04\n",
                            "Lithuania                   0  44 -0.34636117 -3.0634576 2.135881e-03\n",
                            "Luxembourg                  0  44 -0.15204341 -2.1212877 3.259461e-02\n",
                            "Malaysia                    1  43 -0.20721041 -2.9185883 3.423875e-03\n",
                            "Malta                       2  42 -0.19605068 -2.0019199 4.340707e-02\n",
                            "Mauritius                   1  43 -0.29157069 -3.9167858 9.088129e-05\n",
                            "Mexico                     10  34 -0.23206672 -3.1069739 1.846560e-03\n",
                            "Morocco                     0  44 -0.15907937 -2.2773871 2.197407e-02\n",
                            "Netherlands                 0  44 -0.24041937 -2.4377697 1.430256e-02\n",
                            "New Zealand                 0  44 -0.16612932 -2.7979021 5.001708e-03\n",
                            "Norway                      1  43 -0.14759459 -3.4829346 4.880852e-04\n",
                            "Panama                      0  44 -0.34498522 -5.0014490 7.421970e-07\n",
                            "Paraguay                    3  41 -0.04848629 -0.9225255 3.169922e-01\n",
                            "Peru                        7  37 -0.56845980 -1.9551435 4.838611e-02\n",
                            "Philippines                 7  37 -0.12128500 -2.0404653 3.962908e-02\n",
                            "Poland                      6  38 -0.38451210 -1.7118537 8.242333e-02\n",
                            "Portugal                    0  44 -0.07309654 -1.3251639 1.716726e-01\n",
                            "Romania                     0  44 -0.16964605 -2.0190327 4.169477e-02\n",
                            "Russia                      0  44 -0.43435036 -3.5030899 4.529435e-04\n",
                            "São Tomé and Príncipe       0  44 -0.08896833 -1.3888795 1.536013e-01\n",
                            "Serbia                      0  44 -0.18118478 -2.1239320 3.238576e-02\n",
                            "Singapore                   0  44 -0.28525805 -3.3021401 9.389539e-04\n",
                            "Slovak Republic             2  42 -0.05371008 -0.7541316 3.899480e-01\n",
                            "Slovenia                    0  44 -0.14462275 -1.8880478 5.634637e-02\n",
                            "South Africa                4  40 -0.05538440 -1.7145394 8.196463e-02\n",
                            "Spain                       0  44 -0.11782970 -2.8034597 4.916719e-03\n",
                            "Suriname                    0  44 -0.34599969 -3.0256828 2.420124e-03\n",
                            "Sweden                      0  44 -0.20850978 -3.8442791 1.000000e-04\n",
                            "Switzerland                 0  44 -0.16000254 -2.1714990 2.878575e-02\n",
                            "Taiwan Province of China    1  43 -0.38665024 -4.5719244 5.488919e-06\n",
                            "Thailand                    1  43 -0.31641651 -3.7734456 1.608700e-04\n",
                            "The Gambia                  0  44 -0.21901515 -2.2529759 2.340924e-02\n",
                            "Tunisia                     0  44 -0.05037111 -1.2851990 1.837316e-01\n",
                            "Türkiye                     0  44 -0.09924676 -1.9617646 4.765342e-02\n",
                            "Ukraine                     0  44 -0.74414638 -5.1107163 4.378599e-07\n",
                            "United Kingdom              2  42 -0.15584410 -2.6813385 7.114820e-03\n",
                            "United States               2  42 -0.13583134 -2.1036076 3.403446e-02\n",
                            "Uruguay                     2  42 -0.03562587 -0.9738647 2.957887e-01\n",
                            "                             sigma2ST     sigma2LT\n",
                            "Angola                   4.003456e+05 1.034827e+05\n",
                            "Argentina                5.384078e+02 9.472006e+02\n",
                            "Australia                3.161015e+00 1.324316e+00\n",
                            "Austria                  1.820762e+00 6.595051e-01\n",
                            "Barbados                 7.429936e+00 5.395128e+00\n",
                            "Belarus                  8.869859e+04 2.393736e+04\n",
                            "Belgium                  3.456009e+00 1.008268e+00\n",
                            "Bosnia and Herzegovina   8.433174e+00 1.182257e+00\n",
                            "Botswana                 6.964738e+00 1.431801e+00\n",
                            "Brazil                   2.441000e+05 7.322281e+04\n",
                            "Bulgaria                 2.827467e+04 4.787053e+03\n",
                            "Canada                   2.133050e+00 1.392815e+00\n",
                            "Chile                    2.490774e+01 1.254782e+01\n",
                            "China                    1.787911e+01 5.919847e+00\n",
                            "Colombia                 8.949253e+00 8.800089e+00\n",
                            "Costa Rica               2.873909e+01 2.731057e+01\n",
                            "Croatia                  5.246166e+04 8.499441e+03\n",
                            "Cyprus                   3.560176e+00 2.403086e+00\n",
                            "Czech Republic           7.815733e+00 1.578481e+00\n",
                            "Denmark                  2.284214e+00 1.761757e+00\n",
                            "Dominican Republic       1.737223e+02 3.098340e+01\n",
                            "Ecuador                  2.169248e+02 7.592333e+01\n",
                            "Egypt                    3.173041e+01 1.810282e+01\n",
                            "El Salvador              1.734476e+01 8.140477e+00\n",
                            "Estonia                  4.882018e+01 1.104231e+01\n",
                            "Finland                  1.997674e+00 1.644965e+00\n",
                            "France                   2.644853e+00 2.460717e+00\n",
                            "Georgia                  1.347410e+01 1.749746e+00\n",
                            "Germany                  1.517613e+00 6.186725e-01\n",
                            "Greece                   6.429765e+00 6.050047e+00\n",
                            "Grenada                  4.241787e+00 7.988373e+00\n",
                            "Guatemala                3.700473e+01 9.647400e+00\n",
                            "Guyana                   2.351718e+02 7.784083e+01\n",
                            "Hong Kong SAR            4.315106e+00 3.107073e+00\n",
                            "Hungary                  2.079018e+01 1.317988e+01\n",
                            "Iceland                  8.978587e+01 5.836053e+01\n",
                            "India                    8.068993e+00 1.347072e+00\n",
                            "Indonesia                8.624327e+01 1.433609e+01\n",
                            "Ireland                  3.506482e+00 5.628193e+00\n",
                            "Italy                    2.276165e+00 5.777476e+00\n",
                            "Japan                    9.201565e-01 1.078744e+00\n",
                            "Jordan                   2.024916e+01 3.894401e+00\n",
                            "Kazakhstan               6.176228e+04 1.688946e+04\n",
                            "Korea                    3.342289e+00 1.269829e+01\n",
                            "Kosovo                   1.027192e+01 1.207907e+00\n",
                            "Latvia                   2.667306e+02 4.532988e+01\n",
                            "Lithuania                2.083063e+01 2.890293e+00\n",
                            "Luxembourg               3.131325e+00 9.017124e-01\n",
                            "Malaysia                 2.236846e+00 7.839756e-01\n",
                            "Malta                    2.598994e+00 7.277430e-01\n",
                            "Mauritius                1.522182e+01 1.569338e+01\n",
                            "Mexico                   3.241029e+00 1.406954e+02\n",
                            "Morocco                  5.340378e+00 1.350637e+00\n",
                            "Netherlands              4.121480e+00 7.594135e-01\n",
                            "New Zealand              6.702725e+00 4.301979e+00\n",
                            "Norway                   1.612321e+00 1.522579e+00\n",
                            "Panama                   2.486659e+00 4.115644e+00\n",
                            "Paraguay                 2.214748e+01 8.486801e+00\n",
                            "Peru                     1.439581e+06 2.555550e+05\n",
                            "Philippines              3.985410e+00 8.595117e+00\n",
                            "Poland                   8.035514e+03 1.579040e+03\n",
                            "Portugal                 1.225689e+01 8.494809e+00\n",
                            "Romania                  1.469529e+03 7.215873e+02\n",
                            "Russia                   1.520588e+04 3.171954e+03\n",
                            "São Tomé and Príncipe    1.139575e+02 6.194843e+01\n",
                            "Serbia                   1.405530e+02 3.878201e+01\n",
                            "Singapore                3.076417e+00 1.532312e+00\n",
                            "Slovak Republic          6.347140e+00 2.118856e+00\n",
                            "Slovenia                 1.698622e+01 5.560302e+00\n",
                            "South Africa             3.343254e+00 2.036518e+00\n",
                            "Spain                    2.883146e+00 2.547354e+00\n",
                            "Suriname                 7.005099e+02 1.327176e+02\n",
                            "Sweden                   3.620009e+00 3.612634e+00\n",
                            "Switzerland              1.428331e+00 4.170673e-01\n",
                            "Taiwan Province of China 2.045562e+00 6.562164e+00\n",
                            "Thailand                 5.101961e+00 6.342028e+00\n",
                            "The Gambia               6.687939e+01 1.741829e+01\n",
                            "Tunisia                  2.526134e+00 1.025523e+00\n",
                            "Türkiye                  2.871471e+02 2.751910e+02\n",
                            "Ukraine                  5.068050e+05 8.441891e+04\n",
                            "United Kingdom           2.110942e+00 3.626624e+00\n",
                            "United States            1.901278e+00 2.374186e+00\n",
                            "Uruguay                  9.002606e+01 1.040696e+02"
                        ]
                    },
                    "metadata": {},
                    "output_type": "display_data"
                }
            ],
            "source": [
                "# test Levin, Lin & Chu\n",
                "llc_test <- purtest(panel_df$PCPIPCH, test = \"levinlin\")\n",
                "summary(llc_test)\n"
            ]
        },
        {
            "cell_type": "markdown",
            "metadata": {},
            "source": [
                "<a id='4.E'></a>\n",
                "\n",
                "### **4.E. Correcting standard error:**"
            ]
        },
        {
            "cell_type": "code",
            "execution_count": 21,
            "metadata": {
                "vscode": {
                    "languageId": "r"
                }
            },
            "outputs": [
                {
                    "data": {
                        "text/plain": [
                            "\n",
                            "t test of coefficients:\n",
                            "\n",
                            "               Estimate  Std. Error t value Pr(>|t|)   \n",
                            "GGSB_NPGDP  -4.15466064  4.35426172 -0.9542 0.340065   \n",
                            "GGXWDG_NGDP  0.32003797  0.38639373  0.8283 0.407571   \n",
                            "PPPPC       -0.00059052  0.00020310 -2.9075 0.003665 **\n",
                            "TX_RPCH      0.01689206  0.24146673  0.0700 0.944232   \n",
                            "TM_RPCH      0.75983554  0.24878611  3.0542 0.002273 **\n",
                            "NID_NGDP     0.00216012  0.60999807  0.0035 0.997175   \n",
                            "---\n",
                            "Signif. codes:  0 '***' 0.001 '**' 0.01 '*' 0.05 '.' 0.1 ' ' 1\n"
                        ]
                    },
                    "metadata": {},
                    "output_type": "display_data"
                }
            ],
            "source": [
                "# # Correcting standard error using Driscoll-Kraay (SCC) estimator:\n",
                "# This method corrects for heteroskedasticity, serial correlation, \n",
                "# and cross-sectional dependence — all of which were detected in the diagnostic tests.\n",
                "robust_se_scc <- vcovSCC(re_model, type = \"HC1\")\n",
                "\n",
                "# Testing significance using corrected standard error\n",
                "coeftest(re_model, vcov = robust_se_scc)\n"
            ]
        },
        {
            "cell_type": "markdown",
            "metadata": {},
            "source": [
                "<a id='5.C'></a>\n",
                "\n",
                "### **5.C. Diagnostics for the Difference GMM model:**"
            ]
        },
        {
            "cell_type": "markdown",
            "metadata": {},
            "source": [
                "\n",
                "<a id='5.'></a>\n",
                "\n",
                "## **5. the Dynamic Panel (GMM) model:**\n",
                "\n",
                "<a id='5.A'></a>\n",
                "\n",
                "### **5.A. Build the formula string:**"
            ]
        },
        {
            "cell_type": "code",
            "execution_count": 22,
            "metadata": {
                "vscode": {
                    "languageId": "r"
                }
            },
            "outputs": [],
            "source": [
                "# Build the dynamic panel formula:\n",
                "# The left-hand side of the formula includes:\n",
                "# - lagged dependent variable: lag(PCPIPCH, 1)\n",
                "# - contemporaneous exogenous variables: fiscal, trade, and income predictors\n",
                "# The right-hand side of the formula provides instruments:\n",
                "# - lagged inflation from period 2 to 7 as instruments\n",
                "\n",
                "dynamic_formula <- as.formula(\n",
                "  paste0(\"PCPIPCH ~ lag(PCPIPCH, 1) + \",\n",
                "         paste(X_vars, collapse = \" + \"), \n",
                "         \" | lag(PCPIPCH, 2:7)\")\n",
                ")"
            ]
        },
        {
            "cell_type": "markdown",
            "metadata": {},
            "source": [
                "<a id='5.B'></a>\n",
                "\n",
                "### **5.B. Estimate the GMM model:**"
            ]
        },
        {
            "cell_type": "code",
            "execution_count": 23,
            "metadata": {
                "vscode": {
                    "languageId": "r"
                }
            },
            "outputs": [
                {
                    "name": "stderr",
                    "output_type": "stream",
                    "text": [
                        "Warning message in vcovHC.pgmm(object):\n",
                        "\"a general inverse is used\"\n"
                    ]
                },
                {
                    "data": {
                        "text/plain": [
                            "Oneway (individual) effect Two-steps model System GMM \n",
                            "\n",
                            "Call:\n",
                            "pgmm(formula = dynamic_formula, data = panel_df, effect = \"individual\", \n",
                            "    model = \"twosteps\", collapse = TRUE, transformation = \"ld\")\n",
                            "\n",
                            "Balanced Panel: n = 83, T = 45, N = 3735\n",
                            "\n",
                            "Number of Observations Used: 7044\n",
                            "Residuals:\n",
                            "     Min.   1st Qu.    Median      Mean   3rd Qu.      Max. \n",
                            "-5032.789   -10.749    -0.409     2.396     7.206  4639.103 \n",
                            "\n",
                            "Coefficients:\n",
                            "                  Estimate Std. Error z-value Pr(>|z|)   \n",
                            "lag(PCPIPCH, 1)  0.2740680  0.0936327  2.9271 0.003422 **\n",
                            "GGSB_NPGDP      -3.2432799  1.4749911 -2.1988 0.027889 * \n",
                            "GGXWDG_NGDP      0.2870040  0.1456152  1.9710 0.048727 * \n",
                            "PPPPC           -0.0002192  0.0001943 -1.1281 0.259270   \n",
                            "TX_RPCH          0.2467464  0.3035139  0.8130 0.416238   \n",
                            "TM_RPCH          0.5278181  0.2599239  2.0307 0.042289 * \n",
                            "NID_NGDP        -0.5357864  0.3328519 -1.6097 0.107467   \n",
                            "---\n",
                            "Signif. codes:  0 '***' 0.001 '**' 0.01 '*' 0.05 '.' 0.1 ' ' 1\n",
                            "\n",
                            "Sargan test: chisq(12) = 11.86007 (p-value = 0.45698)\n",
                            "Autocorrelation test (1): normal = -0.9772982 (p-value = 0.32842)\n",
                            "Autocorrelation test (2): normal = -0.5797143 (p-value = 0.56211)\n",
                            "Wald test for coefficients: chisq(7) = 660.0722 (p-value = < 2.22e-16)"
                        ]
                    },
                    "metadata": {},
                    "output_type": "display_data"
                }
            ],
            "source": [
                "# ──────────────────────────────────────────────────────────────────────────────\n",
                "# Estimate the GMM model (difference GMM (Arellano–Bond))\n",
                "# ──────────────────────────────────────────────────────────────────────────────\n",
                "gmm_model <- pgmm(\n",
                "  formula         = dynamic_formula,\n",
                "  data            = panel_df,\n",
                "  effect          = \"individual\",      # panel-level fixed effect\n",
                "  model           = \"twosteps\",        # two-step GMM estimation\n",
                "  transformation  = \"ld\",              # first-differenced transformation\n",
                "  collapse        = TRUE               # instrument collapsing for efficiency\n",
                ")\n",
                "\n",
                "# Summarize model output\n",
                "summary(gmm_model)"
            ]
        },
        {
            "cell_type": "markdown",
            "metadata": {},
            "source": [
                "<a id='5.C'></a>\n",
                "\n",
                "### **5.C. Diagnostics for the Difference GMM model:**"
            ]
        },
        {
            "cell_type": "code",
            "execution_count": 24,
            "metadata": {
                "vscode": {
                    "languageId": "r"
                }
            },
            "outputs": [
                {
                    "name": "stdout",
                    "output_type": "stream",
                    "text": [
                        "Sargan test (overid):\n",
                        "\n",
                        "\tSargan test\n",
                        "\n",
                        "data:  dynamic_formula\n",
                        "chisq = 11.86, df = 12, p-value = 0.457\n",
                        "alternative hypothesis: overidentifying restrictions not valid\n",
                        "\n",
                        "\n",
                        "Arellano–Bond AR(1) test:\n",
                        "\n",
                        "\tArellano-Bond autocorrelation test of degree 1\n",
                        "\n",
                        "data:  dynamic_formula\n",
                        "normal = -0.99476, p-value = 0.3199\n",
                        "alternative hypothesis: autocorrelation present\n",
                        "\n",
                        "\n",
                        "Arellano–Bond AR(2) test:\n",
                        "\n",
                        "\tArellano-Bond autocorrelation test of degree 2\n",
                        "\n",
                        "data:  dynamic_formula\n",
                        "normal = -0.58182, p-value = 0.5607\n",
                        "alternative hypothesis: autocorrelation present\n",
                        "\n"
                    ]
                }
            ],
            "source": [
                "# ──────────────────────────────────────────────────────────────────────────────\n",
                "# Diagnostics for the Difference GMM model\n",
                "# ──────────────────────────────────────────────────────────────────────────────\n",
                "\n",
                "# (i) Hansen/Sargan test for overid (validity of instruments) ((p > 0.05))\n",
                "cat(\"Sargan test (overid):\\n\")\n",
                "print(sargan(gmm_model))\n",
                "\n",
                "# (ii) Arellano–Bond tests for autocorrelation in residuals\n",
                "\n",
                "# AR(1) test: should reject (serial correlation expected)\n",
                "cat(\"\\nArellano–Bond AR(1) test:\\n\")\n",
                "print(mtest(gmm_model, order = 1))\n",
                "\n",
                "# AR(2) test: should not reject (no serial correlation expected(p > 0.05))\n",
                "cat(\"\\nArellano–Bond AR(2) test:\\n\")\n",
                "print(mtest(gmm_model, order = 2))\n"
            ]
        },
        {
            "cell_type": "markdown",
            "metadata": {},
            "source": [
                "<a id='6.'></a>\n",
                "\n",
                "### **6. residuals models:**"
            ]
        },
        {
            "cell_type": "code",
            "execution_count": 29,
            "metadata": {
                "vscode": {
                    "languageId": "r"
                }
            },
            "outputs": [],
            "source": [
                "# Load required libraries\n",
                "library(plm)\n",
                "library(ggplot2)\n"
            ]
        },
        {
            "cell_type": "code",
            "execution_count": 50,
            "metadata": {
                "vscode": {
                    "languageId": "r"
                }
            },
            "outputs": [
                {
                    "data": {
                        "text/html": [
                            "<style>\n",
                            ".dl-inline {width: auto; margin:0; padding: 0}\n",
                            ".dl-inline>dt, .dl-inline>dd {float: none; width: auto; display: inline-block}\n",
                            ".dl-inline>dt::after {content: \":\\0020\"; padding-right: .5ex}\n",
                            ".dl-inline>dt:not(:first-of-type) {padding-left: .5ex}\n",
                            "</style><dl class=dl-inline><dt>1982</dt><dd>2.05255261264612</dd><dt>1983</dt><dd>7.24566166191863</dd><dt>1984</dt><dd>5.87058469426899</dd><dt>1985</dt><dd>-0.123779003559117</dd><dt>1986</dt><dd>0.620377604072567</dd><dt>1987</dt><dd>0.888228643785366</dd><dt>1988</dt><dd>-10.215386015035</dd><dt>1989</dt><dd>0.248484680235822</dd><dt>1990</dt><dd>6.58541089755696</dd><dt>1991</dt><dd>9.58722678164085</dd><dt>1992</dt><dd>-2.34289468800813</dd><dt>1993</dt><dd>16.1763769264748</dd><dt>1994</dt><dd>-11.0078561775987</dd><dt>1995</dt><dd>-26.108992145782</dd><dt>1996</dt><dd>33.5867914553106</dd><dt>1997</dt><dd>-6.96637490671019</dd><dt>1998</dt><dd>-8.12336406805728</dd><dt>1999</dt><dd>0.616531071971625</dd><dt>2000</dt><dd>-5.74735960557116</dd><dt>2001</dt><dd>8.1932389977875</dd><dt>2002</dt><dd>-12.1928018851406</dd><dt>2003</dt><dd>9.0577631196616</dd><dt>2004</dt><dd>14.7446591637433</dd><dt>2005</dt><dd>-4.50866744155085</dd><dt>2006</dt><dd>-16.0809159522147</dd><dt>2007</dt><dd>-12.3373322909076</dd><dt>2008</dt><dd>7.2545372904663</dd><dt>2009</dt><dd>-18.732295391535</dd><dt>2010</dt><dd>7.04133515642423</dd><dt>2011</dt><dd>6.27475397343821</dd><dt>2012</dt><dd>0.465962696107465</dd><dt>2013</dt><dd>16.8641437580308</dd><dt>2014</dt><dd>-9.16488806757799</dd><dt>2015</dt><dd>16.678704246789</dd><dt>2016</dt><dd>-9.84226641370118</dd><dt>2017</dt><dd>-2.49869226538499</dd><dt>2018</dt><dd>-0.534984284806976</dd><dt>2019</dt><dd>-9.71690770385283</dd><dt>2020</dt><dd>-6.26184719360061</dd><dt>2021</dt><dd>-2.31605021966082</dd><dt>2022</dt><dd>9.88649474256192</dd><dt>2023</dt><dd>-15.7275522450795</dd><dt>2024</dt><dd>19.0365167076646</dd><dt>1981</dt><dd>38.9629275780317</dd><dt>1982</dt><dd>41.0154801906779</dd><dt>1983</dt><dd>48.2611418525965</dd><dt>1984</dt><dd>54.1317265468655</dd><dt>1985</dt><dd>54.0079475433064</dd><dt>1986</dt><dd>54.6283251473789</dd><dt>1987</dt><dd>55.5165537911643</dd><dt>1988</dt><dd>45.3011677761294</dd><dt>1989</dt><dd>45.5496524563652</dd><dt>1990</dt><dd>52.1350633539221</dd><dt>1991</dt><dd>61.722290135563</dd><dt>1992</dt><dd>59.3793954475548</dd><dt>1993</dt><dd>75.5557723740297</dd><dt>1994</dt><dd>64.547916196431</dd><dt>1995</dt><dd>38.438924050649</dd><dt>1996</dt><dd>72.0257155059596</dd><dt>1997</dt><dd>65.0593405992494</dd><dt>1998</dt><dd>56.9359765311921</dd><dt>1999</dt><dd>57.5525076031637</dd><dt>2000</dt><dd>51.8051479975926</dd><dt>2001</dt><dd>59.9983869953801</dd><dt>2002</dt><dd>47.8055851102395</dd><dt>2003</dt><dd>56.863348229901</dd><dt>2004</dt><dd>71.6080073936444</dd><dt>2005</dt><dd>67.0993399520935</dd><dt>2006</dt><dd>51.0184239998788</dd><dt>2007</dt><dd>38.6810917089713</dd><dt>2008</dt><dd>45.9356289994376</dd><dt>2009</dt><dd>27.2033336079026</dd><dt>2010</dt><dd>34.2446687643268</dd><dt>2011</dt><dd>40.519422737765</dd><dt>2012</dt><dd>40.9853854338725</dd><dt>2013</dt><dd>57.8495291919032</dd><dt>2014</dt><dd>48.6846411243253</dd><dt>2015</dt><dd>65.3633453711142</dd><dt>2016</dt><dd>55.521078957413</dd><dt>2017</dt><dd>53.022386692028</dd><dt>2018</dt><dd>52.4874024072211</dd><dt>2019</dt><dd>42.7704947033682</dd><dt>2020</dt><dd>36.5086475097676</dd><dt>2021</dt><dd>34.1925972901068</dd><dt>2022</dt><dd>44.0790920326687</dd><dt>2023</dt><dd>28.3515397875892</dd><dt>2024</dt><dd>47.3880564952538</dd></dl>\n"
                        ],
                        "text/latex": [
                            "\\begin{description*}\n",
                            "\\item[1982] 2.05255261264612\n",
                            "\\item[1983] 7.24566166191863\n",
                            "\\item[1984] 5.87058469426899\n",
                            "\\item[1985] -0.123779003559117\n",
                            "\\item[1986] 0.620377604072567\n",
                            "\\item[1987] 0.888228643785366\n",
                            "\\item[1988] -10.215386015035\n",
                            "\\item[1989] 0.248484680235822\n",
                            "\\item[1990] 6.58541089755696\n",
                            "\\item[1991] 9.58722678164085\n",
                            "\\item[1992] -2.34289468800813\n",
                            "\\item[1993] 16.1763769264748\n",
                            "\\item[1994] -11.0078561775987\n",
                            "\\item[1995] -26.108992145782\n",
                            "\\item[1996] 33.5867914553106\n",
                            "\\item[1997] -6.96637490671019\n",
                            "\\item[1998] -8.12336406805728\n",
                            "\\item[1999] 0.616531071971625\n",
                            "\\item[2000] -5.74735960557116\n",
                            "\\item[2001] 8.1932389977875\n",
                            "\\item[2002] -12.1928018851406\n",
                            "\\item[2003] 9.0577631196616\n",
                            "\\item[2004] 14.7446591637433\n",
                            "\\item[2005] -4.50866744155085\n",
                            "\\item[2006] -16.0809159522147\n",
                            "\\item[2007] -12.3373322909076\n",
                            "\\item[2008] 7.2545372904663\n",
                            "\\item[2009] -18.732295391535\n",
                            "\\item[2010] 7.04133515642423\n",
                            "\\item[2011] 6.27475397343821\n",
                            "\\item[2012] 0.465962696107465\n",
                            "\\item[2013] 16.8641437580308\n",
                            "\\item[2014] -9.16488806757799\n",
                            "\\item[2015] 16.678704246789\n",
                            "\\item[2016] -9.84226641370118\n",
                            "\\item[2017] -2.49869226538499\n",
                            "\\item[2018] -0.534984284806976\n",
                            "\\item[2019] -9.71690770385283\n",
                            "\\item[2020] -6.26184719360061\n",
                            "\\item[2021] -2.31605021966082\n",
                            "\\item[2022] 9.88649474256192\n",
                            "\\item[2023] -15.7275522450795\n",
                            "\\item[2024] 19.0365167076646\n",
                            "\\item[1981] 38.9629275780317\n",
                            "\\item[1982] 41.0154801906779\n",
                            "\\item[1983] 48.2611418525965\n",
                            "\\item[1984] 54.1317265468655\n",
                            "\\item[1985] 54.0079475433064\n",
                            "\\item[1986] 54.6283251473789\n",
                            "\\item[1987] 55.5165537911643\n",
                            "\\item[1988] 45.3011677761294\n",
                            "\\item[1989] 45.5496524563652\n",
                            "\\item[1990] 52.1350633539221\n",
                            "\\item[1991] 61.722290135563\n",
                            "\\item[1992] 59.3793954475548\n",
                            "\\item[1993] 75.5557723740297\n",
                            "\\item[1994] 64.547916196431\n",
                            "\\item[1995] 38.438924050649\n",
                            "\\item[1996] 72.0257155059596\n",
                            "\\item[1997] 65.0593405992494\n",
                            "\\item[1998] 56.9359765311921\n",
                            "\\item[1999] 57.5525076031637\n",
                            "\\item[2000] 51.8051479975926\n",
                            "\\item[2001] 59.9983869953801\n",
                            "\\item[2002] 47.8055851102395\n",
                            "\\item[2003] 56.863348229901\n",
                            "\\item[2004] 71.6080073936444\n",
                            "\\item[2005] 67.0993399520935\n",
                            "\\item[2006] 51.0184239998788\n",
                            "\\item[2007] 38.6810917089713\n",
                            "\\item[2008] 45.9356289994376\n",
                            "\\item[2009] 27.2033336079026\n",
                            "\\item[2010] 34.2446687643268\n",
                            "\\item[2011] 40.519422737765\n",
                            "\\item[2012] 40.9853854338725\n",
                            "\\item[2013] 57.8495291919032\n",
                            "\\item[2014] 48.6846411243253\n",
                            "\\item[2015] 65.3633453711142\n",
                            "\\item[2016] 55.521078957413\n",
                            "\\item[2017] 53.022386692028\n",
                            "\\item[2018] 52.4874024072211\n",
                            "\\item[2019] 42.7704947033682\n",
                            "\\item[2020] 36.5086475097676\n",
                            "\\item[2021] 34.1925972901068\n",
                            "\\item[2022] 44.0790920326687\n",
                            "\\item[2023] 28.3515397875892\n",
                            "\\item[2024] 47.3880564952538\n",
                            "\\end{description*}\n"
                        ],
                        "text/markdown": [
                            "1982\n",
                            ":   2.052552612646121983\n",
                            ":   7.245661661918631984\n",
                            ":   5.870584694268991985\n",
                            ":   -0.1237790035591171986\n",
                            ":   0.6203776040725671987\n",
                            ":   0.8882286437853661988\n",
                            ":   -10.2153860150351989\n",
                            ":   0.2484846802358221990\n",
                            ":   6.585410897556961991\n",
                            ":   9.587226781640851992\n",
                            ":   -2.342894688008131993\n",
                            ":   16.17637692647481994\n",
                            ":   -11.00785617759871995\n",
                            ":   -26.1089921457821996\n",
                            ":   33.58679145531061997\n",
                            ":   -6.966374906710191998\n",
                            ":   -8.123364068057281999\n",
                            ":   0.6165310719716252000\n",
                            ":   -5.747359605571162001\n",
                            ":   8.19323899778752002\n",
                            ":   -12.19280188514062003\n",
                            ":   9.05776311966162004\n",
                            ":   14.74465916374332005\n",
                            ":   -4.508667441550852006\n",
                            ":   -16.08091595221472007\n",
                            ":   -12.33733229090762008\n",
                            ":   7.25453729046632009\n",
                            ":   -18.7322953915352010\n",
                            ":   7.041335156424232011\n",
                            ":   6.274753973438212012\n",
                            ":   0.4659626961074652013\n",
                            ":   16.86414375803082014\n",
                            ":   -9.164888067577992015\n",
                            ":   16.6787042467892016\n",
                            ":   -9.842266413701182017\n",
                            ":   -2.498692265384992018\n",
                            ":   -0.5349842848069762019\n",
                            ":   -9.716907703852832020\n",
                            ":   -6.261847193600612021\n",
                            ":   -2.316050219660822022\n",
                            ":   9.886494742561922023\n",
                            ":   -15.72755224507952024\n",
                            ":   19.03651670766461981\n",
                            ":   38.96292757803171982\n",
                            ":   41.01548019067791983\n",
                            ":   48.26114185259651984\n",
                            ":   54.13172654686551985\n",
                            ":   54.00794754330641986\n",
                            ":   54.62832514737891987\n",
                            ":   55.51655379116431988\n",
                            ":   45.30116777612941989\n",
                            ":   45.54965245636521990\n",
                            ":   52.13506335392211991\n",
                            ":   61.7222901355631992\n",
                            ":   59.37939544755481993\n",
                            ":   75.55577237402971994\n",
                            ":   64.5479161964311995\n",
                            ":   38.4389240506491996\n",
                            ":   72.02571550595961997\n",
                            ":   65.05934059924941998\n",
                            ":   56.93597653119211999\n",
                            ":   57.55250760316372000\n",
                            ":   51.80514799759262001\n",
                            ":   59.99838699538012002\n",
                            ":   47.80558511023952003\n",
                            ":   56.8633482299012004\n",
                            ":   71.60800739364442005\n",
                            ":   67.09933995209352006\n",
                            ":   51.01842399987882007\n",
                            ":   38.68109170897132008\n",
                            ":   45.93562899943762009\n",
                            ":   27.20333360790262010\n",
                            ":   34.24466876432682011\n",
                            ":   40.5194227377652012\n",
                            ":   40.98538543387252013\n",
                            ":   57.84952919190322014\n",
                            ":   48.68464112432532015\n",
                            ":   65.36334537111422016\n",
                            ":   55.5210789574132017\n",
                            ":   53.0223866920282018\n",
                            ":   52.48740240722112019\n",
                            ":   42.77049470336822020\n",
                            ":   36.50864750976762021\n",
                            ":   34.19259729010682022\n",
                            ":   44.07909203266872023\n",
                            ":   28.35153978758922024\n",
                            ":   47.3880564952538\n",
                            "\n"
                        ],
                        "text/plain": [
                            "       1982        1983        1984        1985        1986        1987 \n",
                            "  2.0525526   7.2456617   5.8705847  -0.1237790   0.6203776   0.8882286 \n",
                            "       1988        1989        1990        1991        1992        1993 \n",
                            "-10.2153860   0.2484847   6.5854109   9.5872268  -2.3428947  16.1763769 \n",
                            "       1994        1995        1996        1997        1998        1999 \n",
                            "-11.0078562 -26.1089921  33.5867915  -6.9663749  -8.1233641   0.6165311 \n",
                            "       2000        2001        2002        2003        2004        2005 \n",
                            " -5.7473596   8.1932390 -12.1928019   9.0577631  14.7446592  -4.5086674 \n",
                            "       2006        2007        2008        2009        2010        2011 \n",
                            "-16.0809160 -12.3373323   7.2545373 -18.7322954   7.0413352   6.2747540 \n",
                            "       2012        2013        2014        2015        2016        2017 \n",
                            "  0.4659627  16.8641438  -9.1648881  16.6787042  -9.8422664  -2.4986923 \n",
                            "       2018        2019        2020        2021        2022        2023 \n",
                            " -0.5349843  -9.7169077  -6.2618472  -2.3160502   9.8864947 -15.7275522 \n",
                            "       2024        1981        1982        1983        1984        1985 \n",
                            " 19.0365167  38.9629276  41.0154802  48.2611419  54.1317265  54.0079475 \n",
                            "       1986        1987        1988        1989        1990        1991 \n",
                            " 54.6283251  55.5165538  45.3011678  45.5496525  52.1350634  61.7222901 \n",
                            "       1992        1993        1994        1995        1996        1997 \n",
                            " 59.3793954  75.5557724  64.5479162  38.4389241  72.0257155  65.0593406 \n",
                            "       1998        1999        2000        2001        2002        2003 \n",
                            " 56.9359765  57.5525076  51.8051480  59.9983870  47.8055851  56.8633482 \n",
                            "       2004        2005        2006        2007        2008        2009 \n",
                            " 71.6080074  67.0993400  51.0184240  38.6810917  45.9356290  27.2033336 \n",
                            "       2010        2011        2012        2013        2014        2015 \n",
                            " 34.2446688  40.5194227  40.9853854  57.8495292  48.6846411  65.3633454 \n",
                            "       2016        2017        2018        2019        2020        2021 \n",
                            " 55.5210790  53.0223867  52.4874024  42.7704947  36.5086475  34.1925973 \n",
                            "       2022        2023        2024 \n",
                            " 44.0790920  28.3515398  47.3880565 "
                        ]
                    },
                    "metadata": {},
                    "output_type": "display_data"
                }
            ],
            "source": [
                "# Get fitted values\n",
                "fitted_vals <- fitted(gmm_model)\n",
                "fitted_vals[,\"Egypt\"]"
            ]
        },
        {
            "cell_type": "code",
            "execution_count": 40,
            "metadata": {
                "vscode": {
                    "languageId": "r"
                }
            },
            "outputs": [
                {
                    "data": {
                        "text/html": [
                            "<style>\n",
                            ".dl-inline {width: auto; margin:0; padding: 0}\n",
                            ".dl-inline>dt, .dl-inline>dd {float: none; width: auto; display: inline-block}\n",
                            ".dl-inline>dt::after {content: \":\\0020\"; padding-right: .5ex}\n",
                            ".dl-inline>dt:not(:first-of-type) {padding-left: .5ex}\n",
                            "</style><dl class=dl-inline><dt>1982</dt><dd>2.44744738735388</dd><dt>1983</dt><dd>-6.16366166191863</dd><dt>1984</dt><dd>-4.79258469426899</dd><dt>1985</dt><dd>-4.82822099644088</dd><dt>1986</dt><dd>11.1716223959274</dd><dt>1987</dt><dd>0.396771356214634</dd><dt>1988</dt><dd>0.215386015034953</dd><dt>1989</dt><dd>4.69551531976418</dd><dt>1990</dt><dd>-5.49541089755696</dd><dt>1991</dt><dd>-16.0692267816408</dd><dt>1992</dt><dd>8.74789468800813</dd><dt>1993</dt><dd>-26.2763769264748</dd><dt>1994</dt><dd>9.01185617759867</dd><dt>1995</dt><dd>26.423992145782</dd><dt>1996</dt><dd>-35.8527914553106</dd><dt>1997</dt><dd>6.03837490671019</dd><dt>1998</dt><dd>6.99736406805729</dd><dt>1999</dt><dd>-1.91253107197163</dd><dt>2000</dt><dd>4.85135960557116</dd><dt>2001</dt><dd>-8.6252389977875</dd><dt>2002</dt><dd>12.0338018851406</dd><dt>2003</dt><dd>-7.9037631196616</dd><dt>2004</dt><dd>-10.0056591637433</dd><dt>2005</dt><dd>5.06066744155085</dd><dt>2006</dt><dd>11.6699159522147</dd><dt>2007</dt><dd>18.9273322909076</dd><dt>2008</dt><dd>-6.3945372904663</dd><dt>2009</dt><dd>23.151295391535</dd><dt>2010</dt><dd>-11.5443351564242</dd><dt>2011</dt><dd>-6.87675397343821</dd><dt>2012</dt><dd>-2.82996269610746</dd><dt>2013</dt><dd>-18.6401437580308</dd><dt>2014</dt><dd>12.341888067578</dd><dt>2015</dt><dd>-15.783704246789</dd><dt>2016</dt><dd>9.06626641370118</dd><dt>2017</dt><dd>15.820692265385</dd><dt>2018</dt><dd>-2.14801571519302</dd><dt>2019</dt><dd>2.74090770385283</dd><dt>2020</dt><dd>-1.91315280639939</dd><dt>2021</dt><dd>1.11605021966082</dd><dt>2022</dt><dd>-5.88649474256192</dd><dt>2023</dt><dd>31.6195522450795</dd><dt>2024</dt><dd>-10.1265167076646</dd><dt>1981</dt><dd>-28.5629275780317</dd><dt>1982</dt><dd>-26.1154801906779</dd><dt>1983</dt><dd>-32.2791418525965</dd><dt>1984</dt><dd>-37.0717265468655</dd><dt>1985</dt><dd>-41.8999475433064</dd><dt>1986</dt><dd>-30.7283251473789</dd><dt>1987</dt><dd>-30.3315537911643</dd><dt>1988</dt><dd>-30.1161677761294</dd><dt>1989</dt><dd>-25.4206524563652</dd><dt>1990</dt><dd>-30.9160633539221</dd><dt>1991</dt><dd>-46.985290135563</dd><dt>1992</dt><dd>-38.2373954475548</dd><dt>1993</dt><dd>-64.5137723740297</dd><dt>1994</dt><dd>-55.501916196431</dd><dt>1995</dt><dd>-29.077924050649</dd><dt>1996</dt><dd>-64.9307155059596</dd><dt>1997</dt><dd>-58.8923405992494</dd><dt>1998</dt><dd>-51.8949765311921</dd><dt>1999</dt><dd>-53.8075076031637</dd><dt>2000</dt><dd>-48.9561479975926</dd><dt>2001</dt><dd>-57.5813869953801</dd><dt>2002</dt><dd>-45.5475851102395</dd><dt>2003</dt><dd>-53.4513482299011</dd><dt>2004</dt><dd>-63.4570073936444</dd><dt>2005</dt><dd>-58.3963399520935</dd><dt>2006</dt><dd>-46.7264239998788</dd><dt>2007</dt><dd>-27.7990917089713</dd><dt>2008</dt><dd>-34.1936289994375</dd><dt>2009</dt><dd>-11.0423336079026</dd><dt>2010</dt><dd>-22.5866687643268</dd><dt>2011</dt><dd>-29.463422737765</dd><dt>2012</dt><dd>-32.2933854338725</dd><dt>2013</dt><dd>-50.9335291919032</dd><dt>2014</dt><dd>-38.5916411243252</dd><dt>2015</dt><dd>-54.3753453711142</dd><dt>2016</dt><dd>-45.309078957413</dd><dt>2017</dt><dd>-29.4883866920281</dd><dt>2018</dt><dd>-31.6364024072211</dd><dt>2019</dt><dd>-28.8954947033682</dd><dt>2020</dt><dd>-30.8086475097676</dd><dt>2021</dt><dd>-29.6925972901068</dd><dt>2022</dt><dd>-35.5790920326687</dd><dt>2023</dt><dd>-3.9595397875892</dd><dt>2024</dt><dd>-14.0860564952538</dd></dl>\n"
                        ],
                        "text/latex": [
                            "\\begin{description*}\n",
                            "\\item[1982] 2.44744738735388\n",
                            "\\item[1983] -6.16366166191863\n",
                            "\\item[1984] -4.79258469426899\n",
                            "\\item[1985] -4.82822099644088\n",
                            "\\item[1986] 11.1716223959274\n",
                            "\\item[1987] 0.396771356214634\n",
                            "\\item[1988] 0.215386015034953\n",
                            "\\item[1989] 4.69551531976418\n",
                            "\\item[1990] -5.49541089755696\n",
                            "\\item[1991] -16.0692267816408\n",
                            "\\item[1992] 8.74789468800813\n",
                            "\\item[1993] -26.2763769264748\n",
                            "\\item[1994] 9.01185617759867\n",
                            "\\item[1995] 26.423992145782\n",
                            "\\item[1996] -35.8527914553106\n",
                            "\\item[1997] 6.03837490671019\n",
                            "\\item[1998] 6.99736406805729\n",
                            "\\item[1999] -1.91253107197163\n",
                            "\\item[2000] 4.85135960557116\n",
                            "\\item[2001] -8.6252389977875\n",
                            "\\item[2002] 12.0338018851406\n",
                            "\\item[2003] -7.9037631196616\n",
                            "\\item[2004] -10.0056591637433\n",
                            "\\item[2005] 5.06066744155085\n",
                            "\\item[2006] 11.6699159522147\n",
                            "\\item[2007] 18.9273322909076\n",
                            "\\item[2008] -6.3945372904663\n",
                            "\\item[2009] 23.151295391535\n",
                            "\\item[2010] -11.5443351564242\n",
                            "\\item[2011] -6.87675397343821\n",
                            "\\item[2012] -2.82996269610746\n",
                            "\\item[2013] -18.6401437580308\n",
                            "\\item[2014] 12.341888067578\n",
                            "\\item[2015] -15.783704246789\n",
                            "\\item[2016] 9.06626641370118\n",
                            "\\item[2017] 15.820692265385\n",
                            "\\item[2018] -2.14801571519302\n",
                            "\\item[2019] 2.74090770385283\n",
                            "\\item[2020] -1.91315280639939\n",
                            "\\item[2021] 1.11605021966082\n",
                            "\\item[2022] -5.88649474256192\n",
                            "\\item[2023] 31.6195522450795\n",
                            "\\item[2024] -10.1265167076646\n",
                            "\\item[1981] -28.5629275780317\n",
                            "\\item[1982] -26.1154801906779\n",
                            "\\item[1983] -32.2791418525965\n",
                            "\\item[1984] -37.0717265468655\n",
                            "\\item[1985] -41.8999475433064\n",
                            "\\item[1986] -30.7283251473789\n",
                            "\\item[1987] -30.3315537911643\n",
                            "\\item[1988] -30.1161677761294\n",
                            "\\item[1989] -25.4206524563652\n",
                            "\\item[1990] -30.9160633539221\n",
                            "\\item[1991] -46.985290135563\n",
                            "\\item[1992] -38.2373954475548\n",
                            "\\item[1993] -64.5137723740297\n",
                            "\\item[1994] -55.501916196431\n",
                            "\\item[1995] -29.077924050649\n",
                            "\\item[1996] -64.9307155059596\n",
                            "\\item[1997] -58.8923405992494\n",
                            "\\item[1998] -51.8949765311921\n",
                            "\\item[1999] -53.8075076031637\n",
                            "\\item[2000] -48.9561479975926\n",
                            "\\item[2001] -57.5813869953801\n",
                            "\\item[2002] -45.5475851102395\n",
                            "\\item[2003] -53.4513482299011\n",
                            "\\item[2004] -63.4570073936444\n",
                            "\\item[2005] -58.3963399520935\n",
                            "\\item[2006] -46.7264239998788\n",
                            "\\item[2007] -27.7990917089713\n",
                            "\\item[2008] -34.1936289994375\n",
                            "\\item[2009] -11.0423336079026\n",
                            "\\item[2010] -22.5866687643268\n",
                            "\\item[2011] -29.463422737765\n",
                            "\\item[2012] -32.2933854338725\n",
                            "\\item[2013] -50.9335291919032\n",
                            "\\item[2014] -38.5916411243252\n",
                            "\\item[2015] -54.3753453711142\n",
                            "\\item[2016] -45.309078957413\n",
                            "\\item[2017] -29.4883866920281\n",
                            "\\item[2018] -31.6364024072211\n",
                            "\\item[2019] -28.8954947033682\n",
                            "\\item[2020] -30.8086475097676\n",
                            "\\item[2021] -29.6925972901068\n",
                            "\\item[2022] -35.5790920326687\n",
                            "\\item[2023] -3.9595397875892\n",
                            "\\item[2024] -14.0860564952538\n",
                            "\\end{description*}\n"
                        ],
                        "text/markdown": [
                            "1982\n",
                            ":   2.447447387353881983\n",
                            ":   -6.163661661918631984\n",
                            ":   -4.792584694268991985\n",
                            ":   -4.828220996440881986\n",
                            ":   11.17162239592741987\n",
                            ":   0.3967713562146341988\n",
                            ":   0.2153860150349531989\n",
                            ":   4.695515319764181990\n",
                            ":   -5.495410897556961991\n",
                            ":   -16.06922678164081992\n",
                            ":   8.747894688008131993\n",
                            ":   -26.27637692647481994\n",
                            ":   9.011856177598671995\n",
                            ":   26.4239921457821996\n",
                            ":   -35.85279145531061997\n",
                            ":   6.038374906710191998\n",
                            ":   6.997364068057291999\n",
                            ":   -1.912531071971632000\n",
                            ":   4.851359605571162001\n",
                            ":   -8.62523899778752002\n",
                            ":   12.03380188514062003\n",
                            ":   -7.90376311966162004\n",
                            ":   -10.00565916374332005\n",
                            ":   5.060667441550852006\n",
                            ":   11.66991595221472007\n",
                            ":   18.92733229090762008\n",
                            ":   -6.39453729046632009\n",
                            ":   23.1512953915352010\n",
                            ":   -11.54433515642422011\n",
                            ":   -6.876753973438212012\n",
                            ":   -2.829962696107462013\n",
                            ":   -18.64014375803082014\n",
                            ":   12.3418880675782015\n",
                            ":   -15.7837042467892016\n",
                            ":   9.066266413701182017\n",
                            ":   15.8206922653852018\n",
                            ":   -2.148015715193022019\n",
                            ":   2.740907703852832020\n",
                            ":   -1.913152806399392021\n",
                            ":   1.116050219660822022\n",
                            ":   -5.886494742561922023\n",
                            ":   31.61955224507952024\n",
                            ":   -10.12651670766461981\n",
                            ":   -28.56292757803171982\n",
                            ":   -26.11548019067791983\n",
                            ":   -32.27914185259651984\n",
                            ":   -37.07172654686551985\n",
                            ":   -41.89994754330641986\n",
                            ":   -30.72832514737891987\n",
                            ":   -30.33155379116431988\n",
                            ":   -30.11616777612941989\n",
                            ":   -25.42065245636521990\n",
                            ":   -30.91606335392211991\n",
                            ":   -46.9852901355631992\n",
                            ":   -38.23739544755481993\n",
                            ":   -64.51377237402971994\n",
                            ":   -55.5019161964311995\n",
                            ":   -29.0779240506491996\n",
                            ":   -64.93071550595961997\n",
                            ":   -58.89234059924941998\n",
                            ":   -51.89497653119211999\n",
                            ":   -53.80750760316372000\n",
                            ":   -48.95614799759262001\n",
                            ":   -57.58138699538012002\n",
                            ":   -45.54758511023952003\n",
                            ":   -53.45134822990112004\n",
                            ":   -63.45700739364442005\n",
                            ":   -58.39633995209352006\n",
                            ":   -46.72642399987882007\n",
                            ":   -27.79909170897132008\n",
                            ":   -34.19362899943752009\n",
                            ":   -11.04233360790262010\n",
                            ":   -22.58666876432682011\n",
                            ":   -29.4634227377652012\n",
                            ":   -32.29338543387252013\n",
                            ":   -50.93352919190322014\n",
                            ":   -38.59164112432522015\n",
                            ":   -54.37534537111422016\n",
                            ":   -45.3090789574132017\n",
                            ":   -29.48838669202812018\n",
                            ":   -31.63640240722112019\n",
                            ":   -28.89549470336822020\n",
                            ":   -30.80864750976762021\n",
                            ":   -29.69259729010682022\n",
                            ":   -35.57909203266872023\n",
                            ":   -3.95953978758922024\n",
                            ":   -14.0860564952538\n",
                            "\n"
                        ],
                        "text/plain": [
                            "       1982        1983        1984        1985        1986        1987 \n",
                            "  2.4474474  -6.1636617  -4.7925847  -4.8282210  11.1716224   0.3967714 \n",
                            "       1988        1989        1990        1991        1992        1993 \n",
                            "  0.2153860   4.6955153  -5.4954109 -16.0692268   8.7478947 -26.2763769 \n",
                            "       1994        1995        1996        1997        1998        1999 \n",
                            "  9.0118562  26.4239921 -35.8527915   6.0383749   6.9973641  -1.9125311 \n",
                            "       2000        2001        2002        2003        2004        2005 \n",
                            "  4.8513596  -8.6252390  12.0338019  -7.9037631 -10.0056592   5.0606674 \n",
                            "       2006        2007        2008        2009        2010        2011 \n",
                            " 11.6699160  18.9273323  -6.3945373  23.1512954 -11.5443352  -6.8767540 \n",
                            "       2012        2013        2014        2015        2016        2017 \n",
                            " -2.8299627 -18.6401438  12.3418881 -15.7837042   9.0662664  15.8206923 \n",
                            "       2018        2019        2020        2021        2022        2023 \n",
                            " -2.1480157   2.7409077  -1.9131528   1.1160502  -5.8864947  31.6195522 \n",
                            "       2024        1981        1982        1983        1984        1985 \n",
                            "-10.1265167 -28.5629276 -26.1154802 -32.2791419 -37.0717265 -41.8999475 \n",
                            "       1986        1987        1988        1989        1990        1991 \n",
                            "-30.7283251 -30.3315538 -30.1161678 -25.4206525 -30.9160634 -46.9852901 \n",
                            "       1992        1993        1994        1995        1996        1997 \n",
                            "-38.2373954 -64.5137724 -55.5019162 -29.0779241 -64.9307155 -58.8923406 \n",
                            "       1998        1999        2000        2001        2002        2003 \n",
                            "-51.8949765 -53.8075076 -48.9561480 -57.5813870 -45.5475851 -53.4513482 \n",
                            "       2004        2005        2006        2007        2008        2009 \n",
                            "-63.4570074 -58.3963400 -46.7264240 -27.7990917 -34.1936290 -11.0423336 \n",
                            "       2010        2011        2012        2013        2014        2015 \n",
                            "-22.5866688 -29.4634227 -32.2933854 -50.9335292 -38.5916411 -54.3753454 \n",
                            "       2016        2017        2018        2019        2020        2021 \n",
                            "-45.3090790 -29.4883867 -31.6364024 -28.8954947 -30.8086475 -29.6925973 \n",
                            "       2022        2023        2024 \n",
                            "-35.5790920  -3.9595398 -14.0860565 "
                        ]
                    },
                    "metadata": {},
                    "output_type": "display_data"
                }
            ],
            "source": [
                "# Get residuals\n",
                "residuals_vals <- residuals(gmm_model)\n",
                "residuals_vals$Egypt"
            ]
        },
        {
            "cell_type": "code",
            "execution_count": 56,
            "metadata": {
                "vscode": {
                    "languageId": "r"
                }
            },
            "outputs": [
                {
                    "data": {
                        "image/png": "[encoded data removed]",
                        "text/plain": [
                            "plot without title"
                        ]
                    },
                    "metadata": {
                        "image/png": {
                            "height": 420,
                            "width": 420
                        }
                    },
                    "output_type": "display_data"
                },
                {
                    "data": {
                        "image/png": "[encoded data removed]",
                        "text/plain": [
                            "plot without title"
                        ]
                    },
                    "metadata": {
                        "image/png": {
                            "height": 420,
                            "width": 420
                        }
                    },
                    "output_type": "display_data"
                }
            ],
            "source": [
                "library(ggplot2)\n",
                "\n",
                "# Extract Egypt-specific values\n",
                "egypt_fitted    <- fitted(gmm_model)[, \"Egypt\"]\n",
                "egypt_resid     <- residuals(gmm_model)$Egypt\n",
                "egypt_actual    <- egypt_fitted + egypt_resid  # actual = fitted + residuals\n",
                "\n",
                "# Extract years from names (assumes names are years)\n",
                "years <- as.numeric(names(egypt_fitted))\n",
                "\n",
                "# Create a data frame for plotting\n",
                "egypt_df <- data.frame(\n",
                "  Year      = years,\n",
                "  Actual    = egypt_actual,\n",
                "  Fitted    = as.numeric(egypt_fitted),\n",
                "  Residuals = as.numeric(egypt_resid)\n",
                ")\n",
                "\n",
                "# ─────────────────────────────────────────────\n",
                "# Plot 1: Actual vs Fitted values for Egypt\n",
                "# ─────────────────────────────────────────────\n",
                "ggplot(egypt_df, aes(x = Year)) +\n",
                "  geom_line(aes(y = Actual, color = \"Actual\"), size = 1) +\n",
                "  geom_line(aes(y = Fitted, color = \"Fitted\"), size = 1, linetype = \"dashed\") +\n",
                "  labs(\n",
                "    title = \"Actual vs Fitted Inflation – Egypt\",\n",
                "    y = \"Inflation Rate\",\n",
                "    color = \"Legend\"\n",
                "  ) +\n",
                "  scale_color_manual(values = c(\"Actual\" = \"blue\", \"Fitted\" = \"orange\")) +\n",
                "  theme_minimal()\n",
                "\n",
                "# ─────────────────────────────────────────────\n",
                "# Plot 2: Residuals over Time\n",
                "# ─────────────────────────────────────────────\n",
                "ggplot(egypt_df, aes(x = Year, y = Residuals)) +\n",
                "  geom_line(color = \"darkred\", size = 1) +\n",
                "  geom_hline(yintercept = 0, linetype = \"dashed\", color = \"gray30\") +\n",
                "  labs(\n",
                "    title = \"Residuals Over Time – Egypt\",\n",
                "    y = \"Residuals\"\n",
                "  ) +\n",
                "  theme_minimal()\n"
            ]
        },
        {
            "cell_type": "markdown",
            "metadata": {
                "azdata_cell_guid": "0a1e4ca3-2665-4d75-b969-1c56cb509040"
            },
            "source": [
                "# **END**"
            ]
        }
    ],
    "metadata": {
        "hide_input": false,
        "kernelspec": {
            "display_name": "R",
            "language": "R",
            "name": "ir"
        },
        "language_info": {
            "codemirror_mode": "r",
            "file_extension": ".r",
            "mimetype": "text/x-r-source",
            "name": "R",
            "pygments_lexer": "r",
            "version": "4.4.2"
        }
    },
    "nbformat": 4,
    "nbformat_minor": 2
}
