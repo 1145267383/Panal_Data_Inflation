{
    "cells": [
        {
            "cell_type": "markdown",
            "metadata": {
                "azdata_cell_guid": "70d09cdf-17ef-4796-a9de-5e457fe84246"
            },
            "source": [
                "## **Project: Study On Panel Data Methodologies With Application To Macroeconometrics (Inflation Forecasting)**.\n",
                "\n",
                "> ### **Title**: Merge of Dataset.\n",
                "\n",
                "\n",
                "#### **Table of Contents:**\n",
                "<ul>\n",
                "<li><a href=\"#1\">1. .</a></li>\n",
                "<li><a href=\"#2\">2. .</a></li>\n",
                "<li><a href=\"#3\">3. .</a></li>\n",
                "</ul>"
            ]
        },
        {
            "cell_type": "markdown",
            "metadata": {},
            "source": [
                "<a id=''></a>\n",
                "\n",
                "#### Dataset Description and Variable Overview:\n",
                "\n",
                "The dataset includes annual macroeconomic data for  **70 countries** over the period **2000–2024**. Most variables are sourced from the **IMF’s World Economic Outlook (WEO)**, except **TRWMA**, which is derived from the **World Bank**. The target variable is **PCPIPCH** (Inflation, average consumer prices). Below is the list of variables used:\n",
                "\n",
                "| **Variable Code** | **Description**                                    | **Units**                                         |\n",
                "| ----------------- | -------------------------------------------------- | ------------------------------------------------- |\n",
                "| Country_Code      | ID number for each country                         | ID                                                |\n",
                "| Country           | Name of 70 countries                               | String                                            |\n",
                "| Advanced_Country  | Is the country developed (1) or developing (0)?    | Boolean                                           |\n",
                "| Years             | date from 2000 to 2024                             | Date                                              |\n",
                "| NGDP_RPCH         | Gross domestic product, constant prices            | Percent change                                    |\n",
                "| PPPPC             | Gross domestic product per capita, current prices  | Purchasing power parity; international dollars    |\n",
                "| PPPSH             | Gross domestic product based on purchasing-power-parity (PPP) share of world total | Percent           |\n",
                "| NGSD_NGDP         | Gross national savings                             | Percent of GDP                                    |\n",
                "| NID_NGDP          | Total investment                                   | Percent of GDP                                    |\n",
                "| PPPEX             | Implied PPP conversion rate                        | National currency per current international dollar|\n",
                "| TX_RPCH           | Volume of exports of goods and services            | Percent change                                    |\n",
                "| TM_RPCH           | Volume of imports of goods and services            | Percent change                                    |\n",
                "| LUR               | Unemployment rate                                  | Percent of total labor force                      |\n",
                "| GGR_NGDP          | General government revenue                         | Percent of GDP                                    |\n",
                "| GGX_NGDP          | General government total expenditure               | Percent of GDP                                    |\n",
                "| GGSB_NPGDP        | General government structural balance              | Percent of potential GDP                          |\n",
                "| GGXWDG_NGDP       | General government gross debt                      | Percent of GDP                                    |\n",
                "| BCA_NGDPD         | Current account balance                            | Percent of GDP                                    |\n",
                "| TRWMA             | Tariff rate, applied, weighted mean, all products  | Percent                                           |\n",
                "| **PCPIPCH**       | Inflation, average consumer prices `(Target)`      | Percent change                                    |\n",
                "\n",
                "\n",
                "\n",
                "---\n"
            ]
        },
        {
            "cell_type": "markdown",
            "metadata": {},
            "source": []
        },
        {
            "cell_type": "markdown",
            "metadata": {},
            "source": [
                "\n",
                "#### **1. Inflation & Price Stability (التضخم واستقرار الأسعار)**\n",
                "\n",
                "| Variable Code    | Term             | التفسير |                تأثيره على التضخم                                            |\n",
                "| ---------------- | ---------------- | --------------------------------- | --------------------------------------------------- |\n",
                "| **PCPIPCH**   | Inflation (CPI) | معدل التضخم بناءً على متوسط أسعار المستهلكين؛ مؤشر رئيسي لاستقرار الأسعار. | المتغير الهدف، ويقيس بشكل مباشر مدى ارتفاع الأسعار. |\n",
                "\n",
                "---\n",
                "\n",
                "#### **2. Public Finance (المالية العامة)**\n",
                "\n",
                "| Variable Code    | Term             | التفسير |                تأثيره على التضخم                                            |\n",
                "| ---------------- | ---------------- | --------------------------------- | --------------------------------------------------- |\n",
                "| **GGR_NGDP**    | Government Revenue (% of GDP)     | إيرادات الحكومة كنسبة من الناتج؛ تشمل الضرائب والإيرادات الأخرى.       | الإيرادات المرتفعة قد تخفف التضخم من خلال تقليص الطلب الكلي.              |\n",
                "| **GGX_NGDP**    | Government Expenditure (% of GDP) | نفقات الحكومة كنسبة من الناتج؛ تشمل الإنفاق على الخدمات العامة والدعم. | زيادة الإنفاق الحكومي قد تؤدي إلى زيادة التضخم من خلال رفع الطلب الكلي.   |\n",
                "| **GGSB_NPGDP**  | Structural Budget Balance         | الميزان الهيكلي بعد خصم أثر الدورة الاقتصادية.                         | الفائض الهيكلي يُعتبر إشارة إلى سياسة مالية انكماشية تقلل من التضخم.      |\n",
                "| **GGXWDG_NGDP** | Gross Government Debt (% of GDP)  | الدين العام كنسبة من الناتج؛ يعكس عبء الحكومة المالي.                  | ارتفاع الدين قد يُجبر الحكومة على التوسع النقدي مستقبلاً مما يزيد التضخم. |\n",
                "\n",
                "\n",
                "---\n",
                "\n",
                "\n",
                "#### **3. Economic Output & Productivity (الإنتاجية والناتج الاقتصادي)**\n",
                "\n",
                "| Variable Code    | Term             | التفسير |                تأثيره على التضخم                                            |\n",
                "| ---------------- | ---------------- | --------------------------------- | --------------------------------------------------- |\n",
                "| **NGDP_RPCH** | Real GDP Growth        | معدل نمو الناتج المحلي الإجمالي الحقيقي، يعكس النشاط الاقتصادي. | النمو المرتفع قد يؤدي إلى تضخم إذا زاد الطلب الكلي أكثر من العرض.                  |\n",
                "| **PPPPC**      | GDP per Capita (PPP)   | نصيب الفرد من الناتج باستخدام تعادل القوة الشرائية.             | ارتفاعه يشير إلى قدرة شرائية أعلى، ما قد يدفع بالأسعار إلى الارتفاع.               |\n",
                "| **PPPSH**      | PPP Share of World GDP | حصة الدولة من الناتج العالمي حسب القوة الشرائية.                | تأثير غير مباشر؛ يعكس القوة الاقتصادية النسبية والتي قد تؤثر على تدفقات رأس المال. |\n",
                "\n",
                "---\n",
                "\n",
                "#### **4. Exchange & Purchasing Power (سعر الصرف والقوة الشرائية)**\n",
                "\n",
                "| Variable Code    | Term             | التفسير |                تأثيره على التضخم                                            |\n",
                "| ---------------- | ---------------- | --------------------------------- | --------------------------------------------------- |\n",
                "| **PPPEX**     | PPP Conversion Factor | معدل التحويل على أساس تعادل القوة الشرائية. | انخفاض قيمة العملة المحلية مقابل الدولار قد يزيد من تكلفة الاستيراد وبالتالي التضخم. |\n",
                "\n",
                "---\n",
                "\n",
                "#### **5. International Trade & Balance (التجارة الدولية والحساب الجاري)**\n",
                "\n",
                "| Variable Code    | Term             | التفسير |                تأثيره على التضخم                                            |\n",
                "| ---------------- | ---------------- | --------------------------------- | --------------------------------------------------- |\n",
                "| **TX_RPCH**   | Export Volume Growth            | نمو حجم الصادرات.                   | زيادة الصادرات قد تقلل المعروض المحلي وترفع الأسعار.                |\n",
                "| **TM_RPCH**   | Import Volume Growth            | نمو حجم الواردات.                   | زيادة الواردات توفر بدائل أرخص وتقلل من التضخم.                     |\n",
                "| **BCA_NGDPD** | Current Account Balance (% GDP) | رصيد الحساب الجاري كنسبة من الناتج. | فائض الحساب الجاري يعكس تدفق عملات أجنبية مما يدعم استقرار الأسعار. |\n",
                "| **TRWMA**      | Weighted Tariff Rate            | متوسط الرسوم الجمركية المطبقة.      | الرسوم العالية على الواردات ترفع الأسعار وتزيد التضخم.              |\n",
                "\n",
                "---\n",
                "\n",
                "#### **6. Savings & Investment (الادخار والاستثمار)**\n",
                "\n",
                "| Variable Code    | Term             | التفسير |                تأثيره على التضخم                                            |\n",
                "| ---------------- | ---------------- | --------------------------------- | --------------------------------------------------- |\n",
                "| **NGSD_NGDP** | Gross National Savings  | الادخار الوطني كنسبة من الناتج.     | ارتفاع الادخار يقلل من الاستهلاك وبالتالي يقلل الضغط التضخمي. |\n",
                "| **NID_NGDP**  | Gross Capital Formation | الاستثمار الإجمالي كنسبة من الناتج. | استثمار أكبر قد يرفع الإنتاج في الأجل الطويل مما يقلل التضخم. |\n",
                "\n",
                "---\n",
                "\n",
                "#### **7. Labor Market Indicators (سوق العمل)**\n",
                "\n",
                "| Variable Code    | Term             | التفسير |                تأثيره على التضخم                                            |\n",
                "| ---------------- | ---------------- | --------------------------------- | --------------------------------------------------- |\n",
                "| **LUR**       | Unemployment Rate | معدل البطالة كنسبة من القوة العاملة. | انخفاض البطالة قد يرفع الأجور وبالتالي الأسعار، مما يزيد التضخم. |\n",
                "\n",
                "---\n",
                "\n",
                "#### **8. Country Metadata (بيانات الدول)**\n",
                "\n",
                "| Variable Code    | Term             | التفسير |                تأثيره على التضخم                                            |\n",
                "| ---------------- | ---------------- | --------------------------------- | --------------------------------------------------- |\n",
                "| **Country_Code**     | Country ID         | معرف رقمي فريد لكل دولة. | -                 |\n",
                "| **Country**           | Country Name       | اسم الدولة.              | -                 |\n",
                "| **Advanced_Country** | Development Status | متقدمة (1) أو نامية (0). | -                 |\n",
                "| **Years**             | Year               | السنة ما بين 2000 و2024. | -                 |\n",
                "\n",
                "---\n",
                "\n"
            ]
        },
        {
            "cell_type": "markdown",
            "metadata": {},
            "source": []
        },
        {
            "cell_type": "code",
            "execution_count": null,
            "metadata": {
                "vscode": {
                    "languageId": "r"
                }
            },
            "outputs": [],
            "source": []
        },
        {
            "cell_type": "markdown",
            "metadata": {
                "azdata_cell_guid": "2a1b7248-0b53-45b6-ad95-efa0cb002705"
            },
            "source": [
                "**Import Library**"
            ]
        },
        {
            "cell_type": "code",
            "execution_count": 2,
            "metadata": {
                "azdata_cell_guid": "93c6991b-cad5-4222-a2fe-f38fcc5eb109",
                "language": "sql",
                "vscode": {
                    "languageId": "r"
                }
            },
            "outputs": [],
            "source": [
                "# Load required libraries\n",
                "library(dplyr)\n",
                "library(readxl)\n",
                "library(car)\n",
                "library(gplots)\n",
                "library(plm)\n",
                "\n",
                "library(tidyverse)\n",
                "library(corrplot)\n",
                "\n",
                "library(Metrics)  # for rmse\n",
                "library(caret)    # for R-squared\n",
                "library(lmtest)\n",
                "\n",
                "\n",
                "library(sandwich)\n",
                "\n"
            ]
        },
        {
            "cell_type": "markdown",
            "metadata": {
                "azdata_cell_guid": "c88765c0-100d-4621-9753-942ba8737d28"
            },
            "source": [
                "**Load Dataset**"
            ]
        },
        {
            "cell_type": "code",
            "execution_count": 425,
            "metadata": {
                "azdata_cell_guid": "4fd6e3d9-616d-4039-b3b2-eaf457d22711",
                "language": "sql",
                "vscode": {
                    "languageId": "r"
                }
            },
            "outputs": [
                {
                    "data": {
                        "text/html": [
                            "<style>\n",
                            ".list-inline {list-style: none; margin:0; padding: 0}\n",
                            ".list-inline>li {display: inline-block}\n",
                            ".list-inline>li:not(:last-child)::after {content: \"\\00b7\"; padding: 0 .5ex}\n",
                            "</style>\n",
                            "<ol class=list-inline><li>1750</li><li>20</li></ol>\n"
                        ],
                        "text/latex": [
                            "\\begin{enumerate*}\n",
                            "\\item 1750\n",
                            "\\item 20\n",
                            "\\end{enumerate*}\n"
                        ],
                        "text/markdown": [
                            "1. 1750\n",
                            "2. 20\n",
                            "\n",
                            "\n"
                        ],
                        "text/plain": [
                            "[1] 1750   20"
                        ]
                    },
                    "metadata": {},
                    "output_type": "display_data"
                },
                {
                    "data": {
                        "text/html": [
                            "<table class=\"dataframe\">\n",
                            "<caption>A data.frame: 6 × 20</caption>\n",
                            "<thead>\n",
                            "\t<tr><th></th><th scope=col>WEO_Country_Code</th><th scope=col>Country</th><th scope=col>Advanced_Country</th><th scope=col>Year</th><th scope=col>BCA_NGDPD</th><th scope=col>GGR_NGDP</th><th scope=col>GGSB_NPGDP</th><th scope=col>GGXWDG_NGDP</th><th scope=col>GGX_NGDP</th><th scope=col>LUR</th><th scope=col>NGDP_RPCH</th><th scope=col>NGSD_NGDP</th><th scope=col>NID_NGDP</th><th scope=col>PCPIPCH</th><th scope=col>PPPEX</th><th scope=col>PPPPC</th><th scope=col>PPPSH</th><th scope=col>TM_RPCH</th><th scope=col>TRWMA</th><th scope=col>TX_RPCH</th></tr>\n",
                            "\t<tr><th></th><th scope=col>&lt;int&gt;</th><th scope=col>&lt;chr&gt;</th><th scope=col>&lt;int&gt;</th><th scope=col>&lt;int&gt;</th><th scope=col>&lt;dbl&gt;</th><th scope=col>&lt;dbl&gt;</th><th scope=col>&lt;dbl&gt;</th><th scope=col>&lt;dbl&gt;</th><th scope=col>&lt;dbl&gt;</th><th scope=col>&lt;dbl&gt;</th><th scope=col>&lt;dbl&gt;</th><th scope=col>&lt;dbl&gt;</th><th scope=col>&lt;dbl&gt;</th><th scope=col>&lt;dbl&gt;</th><th scope=col>&lt;dbl&gt;</th><th scope=col>&lt;dbl&gt;</th><th scope=col>&lt;dbl&gt;</th><th scope=col>&lt;dbl&gt;</th><th scope=col>&lt;dbl&gt;</th><th scope=col>&lt;dbl&gt;</th></tr>\n",
                            "</thead>\n",
                            "<tbody>\n",
                            "\t<tr><th scope=row>1</th><td>213</td><td>Argentina</td><td>0</td><td>2000</td><td>-2.878</td><td>21.830</td><td>-4.552</td><td> 40.833</td><td>25.247</td><td>17.134</td><td> -0.789</td><td>12.459</td><td>15.337</td><td>-0.939</td><td>0.639</td><td>13529.29</td><td>0.995</td><td> -2.322</td><td>10.52</td><td> 1.898</td></tr>\n",
                            "\t<tr><th scope=row>2</th><td>213</td><td>Argentina</td><td>0</td><td>2001</td><td>-1.316</td><td>21.068</td><td>-5.590</td><td> 48.007</td><td>26.432</td><td>19.209</td><td> -4.409</td><td>12.325</td><td>13.640</td><td>-1.065</td><td>0.618</td><td>13091.49</td><td>0.929</td><td>-16.587</td><td> 9.25</td><td> 6.096</td></tr>\n",
                            "\t<tr><th scope=row>3</th><td>213</td><td>Argentina</td><td>0</td><td>2002</td><td> 7.666</td><td>19.943</td><td> 1.188</td><td>147.203</td><td>21.853</td><td>22.450</td><td>-10.894</td><td>17.631</td><td> 9.965</td><td>25.869</td><td>0.794</td><td>11733.02</td><td>0.806</td><td>-53.558</td><td>12.01</td><td> 0.244</td></tr>\n",
                            "\t<tr><th scope=row>4</th><td>213</td><td>Argentina</td><td>0</td><td>2003</td><td> 5.597</td><td>23.526</td><td> 3.453</td><td>125.162</td><td>22.026</td><td>17.250</td><td>  8.955</td><td>18.474</td><td>12.877</td><td>13.443</td><td>0.859</td><td>12914.24</td><td>0.847</td><td> 48.953</td><td>12.87</td><td> 5.006</td></tr>\n",
                            "\t<tr><th scope=row>5</th><td>213</td><td>Argentina</td><td>0</td><td>2004</td><td> 1.798</td><td>26.996</td><td> 4.719</td><td>117.878</td><td>23.030</td><td>13.625</td><td>  8.911</td><td>19.350</td><td>17.551</td><td> 4.416</td><td>0.887</td><td>14308.62</td><td>0.878</td><td> 51.050</td><td> 5.96</td><td>-0.150</td></tr>\n",
                            "\t<tr><th scope=row>6</th><td>213</td><td>Argentina</td><td>0</td><td>2005</td><td> 2.473</td><td>27.766</td><td> 4.376</td><td> 80.282</td><td>24.426</td><td>11.575</td><td>  8.852</td><td>21.362</td><td>18.888</td><td> 9.642</td><td>0.949</td><td>15911.20</td><td>0.913</td><td> 18.243</td><td> 5.22</td><td>11.583</td></tr>\n",
                            "</tbody>\n",
                            "</table>\n"
                        ],
                        "text/latex": [
                            "A data.frame: 6 × 20\n",
                            "\\begin{tabular}{r|llllllllllllllllllll}\n",
                            "  & WEO\\_Country\\_Code & Country & Advanced\\_Country & Year & BCA\\_NGDPD & GGR\\_NGDP & GGSB\\_NPGDP & GGXWDG\\_NGDP & GGX\\_NGDP & LUR & NGDP\\_RPCH & NGSD\\_NGDP & NID\\_NGDP & PCPIPCH & PPPEX & PPPPC & PPPSH & TM\\_RPCH & TRWMA & TX\\_RPCH\\\\\n",
                            "  & <int> & <chr> & <int> & <int> & <dbl> & <dbl> & <dbl> & <dbl> & <dbl> & <dbl> & <dbl> & <dbl> & <dbl> & <dbl> & <dbl> & <dbl> & <dbl> & <dbl> & <dbl> & <dbl>\\\\\n",
                            "\\hline\n",
                            "\t1 & 213 & Argentina & 0 & 2000 & -2.878 & 21.830 & -4.552 &  40.833 & 25.247 & 17.134 &  -0.789 & 12.459 & 15.337 & -0.939 & 0.639 & 13529.29 & 0.995 &  -2.322 & 10.52 &  1.898\\\\\n",
                            "\t2 & 213 & Argentina & 0 & 2001 & -1.316 & 21.068 & -5.590 &  48.007 & 26.432 & 19.209 &  -4.409 & 12.325 & 13.640 & -1.065 & 0.618 & 13091.49 & 0.929 & -16.587 &  9.25 &  6.096\\\\\n",
                            "\t3 & 213 & Argentina & 0 & 2002 &  7.666 & 19.943 &  1.188 & 147.203 & 21.853 & 22.450 & -10.894 & 17.631 &  9.965 & 25.869 & 0.794 & 11733.02 & 0.806 & -53.558 & 12.01 &  0.244\\\\\n",
                            "\t4 & 213 & Argentina & 0 & 2003 &  5.597 & 23.526 &  3.453 & 125.162 & 22.026 & 17.250 &   8.955 & 18.474 & 12.877 & 13.443 & 0.859 & 12914.24 & 0.847 &  48.953 & 12.87 &  5.006\\\\\n",
                            "\t5 & 213 & Argentina & 0 & 2004 &  1.798 & 26.996 &  4.719 & 117.878 & 23.030 & 13.625 &   8.911 & 19.350 & 17.551 &  4.416 & 0.887 & 14308.62 & 0.878 &  51.050 &  5.96 & -0.150\\\\\n",
                            "\t6 & 213 & Argentina & 0 & 2005 &  2.473 & 27.766 &  4.376 &  80.282 & 24.426 & 11.575 &   8.852 & 21.362 & 18.888 &  9.642 & 0.949 & 15911.20 & 0.913 &  18.243 &  5.22 & 11.583\\\\\n",
                            "\\end{tabular}\n"
                        ],
                        "text/markdown": [
                            "\n",
                            "A data.frame: 6 × 20\n",
                            "\n",
                            "| <!--/--> | WEO_Country_Code &lt;int&gt; | Country &lt;chr&gt; | Advanced_Country &lt;int&gt; | Year &lt;int&gt; | BCA_NGDPD &lt;dbl&gt; | GGR_NGDP &lt;dbl&gt; | GGSB_NPGDP &lt;dbl&gt; | GGXWDG_NGDP &lt;dbl&gt; | GGX_NGDP &lt;dbl&gt; | LUR &lt;dbl&gt; | NGDP_RPCH &lt;dbl&gt; | NGSD_NGDP &lt;dbl&gt; | NID_NGDP &lt;dbl&gt; | PCPIPCH &lt;dbl&gt; | PPPEX &lt;dbl&gt; | PPPPC &lt;dbl&gt; | PPPSH &lt;dbl&gt; | TM_RPCH &lt;dbl&gt; | TRWMA &lt;dbl&gt; | TX_RPCH &lt;dbl&gt; |\n",
                            "|---|---|---|---|---|---|---|---|---|---|---|---|---|---|---|---|---|---|---|---|---|\n",
                            "| 1 | 213 | Argentina | 0 | 2000 | -2.878 | 21.830 | -4.552 |  40.833 | 25.247 | 17.134 |  -0.789 | 12.459 | 15.337 | -0.939 | 0.639 | 13529.29 | 0.995 |  -2.322 | 10.52 |  1.898 |\n",
                            "| 2 | 213 | Argentina | 0 | 2001 | -1.316 | 21.068 | -5.590 |  48.007 | 26.432 | 19.209 |  -4.409 | 12.325 | 13.640 | -1.065 | 0.618 | 13091.49 | 0.929 | -16.587 |  9.25 |  6.096 |\n",
                            "| 3 | 213 | Argentina | 0 | 2002 |  7.666 | 19.943 |  1.188 | 147.203 | 21.853 | 22.450 | -10.894 | 17.631 |  9.965 | 25.869 | 0.794 | 11733.02 | 0.806 | -53.558 | 12.01 |  0.244 |\n",
                            "| 4 | 213 | Argentina | 0 | 2003 |  5.597 | 23.526 |  3.453 | 125.162 | 22.026 | 17.250 |   8.955 | 18.474 | 12.877 | 13.443 | 0.859 | 12914.24 | 0.847 |  48.953 | 12.87 |  5.006 |\n",
                            "| 5 | 213 | Argentina | 0 | 2004 |  1.798 | 26.996 |  4.719 | 117.878 | 23.030 | 13.625 |   8.911 | 19.350 | 17.551 |  4.416 | 0.887 | 14308.62 | 0.878 |  51.050 |  5.96 | -0.150 |\n",
                            "| 6 | 213 | Argentina | 0 | 2005 |  2.473 | 27.766 |  4.376 |  80.282 | 24.426 | 11.575 |   8.852 | 21.362 | 18.888 |  9.642 | 0.949 | 15911.20 | 0.913 |  18.243 |  5.22 | 11.583 |\n",
                            "\n"
                        ],
                        "text/plain": [
                            "  WEO_Country_Code Country   Advanced_Country Year BCA_NGDPD GGR_NGDP\n",
                            "1 213              Argentina 0                2000 -2.878    21.830  \n",
                            "2 213              Argentina 0                2001 -1.316    21.068  \n",
                            "3 213              Argentina 0                2002  7.666    19.943  \n",
                            "4 213              Argentina 0                2003  5.597    23.526  \n",
                            "5 213              Argentina 0                2004  1.798    26.996  \n",
                            "6 213              Argentina 0                2005  2.473    27.766  \n",
                            "  GGSB_NPGDP GGXWDG_NGDP GGX_NGDP LUR    NGDP_RPCH NGSD_NGDP NID_NGDP PCPIPCH\n",
                            "1 -4.552      40.833     25.247   17.134  -0.789   12.459    15.337   -0.939 \n",
                            "2 -5.590      48.007     26.432   19.209  -4.409   12.325    13.640   -1.065 \n",
                            "3  1.188     147.203     21.853   22.450 -10.894   17.631     9.965   25.869 \n",
                            "4  3.453     125.162     22.026   17.250   8.955   18.474    12.877   13.443 \n",
                            "5  4.719     117.878     23.030   13.625   8.911   19.350    17.551    4.416 \n",
                            "6  4.376      80.282     24.426   11.575   8.852   21.362    18.888    9.642 \n",
                            "  PPPEX PPPPC    PPPSH TM_RPCH TRWMA TX_RPCH\n",
                            "1 0.639 13529.29 0.995  -2.322 10.52  1.898 \n",
                            "2 0.618 13091.49 0.929 -16.587  9.25  6.096 \n",
                            "3 0.794 11733.02 0.806 -53.558 12.01  0.244 \n",
                            "4 0.859 12914.24 0.847  48.953 12.87  5.006 \n",
                            "5 0.887 14308.62 0.878  51.050  5.96 -0.150 \n",
                            "6 0.949 15911.20 0.913  18.243  5.22 11.583 "
                        ]
                    },
                    "metadata": {},
                    "output_type": "display_data"
                }
            ],
            "source": [
                "\n",
                "# Load the dataset.\n",
                "df <- read.csv(\"../02-Dataset/01-Data_Clean.csv\")  \n",
                "\n",
                "# Display the first 5 rows of data.\n",
                "dim(df)\n",
                "head(df)"
            ]
        },
        {
            "cell_type": "code",
            "execution_count": 426,
            "metadata": {
                "vscode": {
                    "languageId": "r"
                }
            },
            "outputs": [
                {
                    "name": "stdout",
                    "output_type": "stream",
                    "text": [
                        "'data.frame':\t1750 obs. of  19 variables:\n",
                        " $ Country         : chr  \"Argentina\" \"Argentina\" \"Argentina\" \"Argentina\" ...\n",
                        " $ Advanced_Country: int  0 0 0 0 0 0 0 0 0 0 ...\n",
                        " $ Year            : int  2000 2001 2002 2003 2004 2005 2006 2007 2008 2009 ...\n",
                        " $ BCA_NGDPD       : num  -2.88 -1.32 7.67 5.6 1.8 ...\n",
                        " $ GGR_NGDP        : num  21.8 21.1 19.9 23.5 27 ...\n",
                        " $ GGSB_NPGDP      : num  -4.55 -5.59 1.19 3.45 4.72 ...\n",
                        " $ GGXWDG_NGDP     : num  40.8 48 147.2 125.2 117.9 ...\n",
                        " $ GGX_NGDP        : num  25.2 26.4 21.9 22 23 ...\n",
                        " $ LUR             : num  17.1 19.2 22.4 17.2 13.6 ...\n",
                        " $ NGDP_RPCH       : num  -0.789 -4.409 -10.894 8.955 8.911 ...\n",
                        " $ NGSD_NGDP       : num  12.5 12.3 17.6 18.5 19.4 ...\n",
                        " $ NID_NGDP        : num  15.34 13.64 9.96 12.88 17.55 ...\n",
                        " $ PCPIPCH         : num  -0.939 -1.065 25.869 13.443 4.416 ...\n",
                        " $ PPPEX           : num  0.639 0.618 0.794 0.859 0.887 ...\n",
                        " $ PPPPC           : num  13529 13091 11733 12914 14309 ...\n",
                        " $ PPPSH           : num  0.995 0.929 0.806 0.847 0.878 0.913 0.938 0.973 0.985 0.933 ...\n",
                        " $ TM_RPCH         : num  -2.32 -16.59 -53.56 48.95 51.05 ...\n",
                        " $ TRWMA           : num  10.52 9.25 12.01 12.87 5.96 ...\n",
                        " $ TX_RPCH         : num  1.898 6.096 0.244 5.006 -0.15 ...\n"
                    ]
                }
            ],
            "source": [
                "# Drop \"WEO_Country_Code\"\n",
                "df$WEO_Country_Code <- NULL\n",
                "\n",
                "str(df)"
            ]
        },
        {
            "cell_type": "code",
            "execution_count": 427,
            "metadata": {
                "vscode": {
                    "languageId": "r"
                }
            },
            "outputs": [
                {
                    "data": {
                        "text/html": [
                            "<table class=\"dataframe\">\n",
                            "<caption>A data.frame: 6 × 19</caption>\n",
                            "<thead>\n",
                            "\t<tr><th></th><th scope=col>Country</th><th scope=col>Advanced_Country</th><th scope=col>Year</th><th scope=col>PCPIPCH</th><th scope=col>GGR_NGDP</th><th scope=col>GGX_NGDP</th><th scope=col>GGSB_NPGDP</th><th scope=col>GGXWDG_NGDP</th><th scope=col>NGDP_RPCH</th><th scope=col>PPPPC</th><th scope=col>PPPSH</th><th scope=col>PPPEX</th><th scope=col>TX_RPCH</th><th scope=col>TM_RPCH</th><th scope=col>BCA_NGDPD</th><th scope=col>TRWMA</th><th scope=col>NGSD_NGDP</th><th scope=col>NID_NGDP</th><th scope=col>LUR</th></tr>\n",
                            "\t<tr><th></th><th scope=col>&lt;chr&gt;</th><th scope=col>&lt;int&gt;</th><th scope=col>&lt;int&gt;</th><th scope=col>&lt;dbl&gt;</th><th scope=col>&lt;dbl&gt;</th><th scope=col>&lt;dbl&gt;</th><th scope=col>&lt;dbl&gt;</th><th scope=col>&lt;dbl&gt;</th><th scope=col>&lt;dbl&gt;</th><th scope=col>&lt;dbl&gt;</th><th scope=col>&lt;dbl&gt;</th><th scope=col>&lt;dbl&gt;</th><th scope=col>&lt;dbl&gt;</th><th scope=col>&lt;dbl&gt;</th><th scope=col>&lt;dbl&gt;</th><th scope=col>&lt;dbl&gt;</th><th scope=col>&lt;dbl&gt;</th><th scope=col>&lt;dbl&gt;</th><th scope=col>&lt;dbl&gt;</th></tr>\n",
                            "</thead>\n",
                            "<tbody>\n",
                            "\t<tr><th scope=row>1</th><td>Argentina</td><td>0</td><td>2000</td><td>-0.939</td><td>21.830</td><td>25.247</td><td>-4.552</td><td> 40.833</td><td> -0.789</td><td>13529.29</td><td>0.995</td><td>0.639</td><td> 1.898</td><td> -2.322</td><td>-2.878</td><td>10.52</td><td>12.459</td><td>15.337</td><td>17.134</td></tr>\n",
                            "\t<tr><th scope=row>2</th><td>Argentina</td><td>0</td><td>2001</td><td>-1.065</td><td>21.068</td><td>26.432</td><td>-5.590</td><td> 48.007</td><td> -4.409</td><td>13091.49</td><td>0.929</td><td>0.618</td><td> 6.096</td><td>-16.587</td><td>-1.316</td><td> 9.25</td><td>12.325</td><td>13.640</td><td>19.209</td></tr>\n",
                            "\t<tr><th scope=row>3</th><td>Argentina</td><td>0</td><td>2002</td><td>25.869</td><td>19.943</td><td>21.853</td><td> 1.188</td><td>147.203</td><td>-10.894</td><td>11733.02</td><td>0.806</td><td>0.794</td><td> 0.244</td><td>-53.558</td><td> 7.666</td><td>12.01</td><td>17.631</td><td> 9.965</td><td>22.450</td></tr>\n",
                            "\t<tr><th scope=row>4</th><td>Argentina</td><td>0</td><td>2003</td><td>13.443</td><td>23.526</td><td>22.026</td><td> 3.453</td><td>125.162</td><td>  8.955</td><td>12914.24</td><td>0.847</td><td>0.859</td><td> 5.006</td><td> 48.953</td><td> 5.597</td><td>12.87</td><td>18.474</td><td>12.877</td><td>17.250</td></tr>\n",
                            "\t<tr><th scope=row>5</th><td>Argentina</td><td>0</td><td>2004</td><td> 4.416</td><td>26.996</td><td>23.030</td><td> 4.719</td><td>117.878</td><td>  8.911</td><td>14308.62</td><td>0.878</td><td>0.887</td><td>-0.150</td><td> 51.050</td><td> 1.798</td><td> 5.96</td><td>19.350</td><td>17.551</td><td>13.625</td></tr>\n",
                            "\t<tr><th scope=row>6</th><td>Argentina</td><td>0</td><td>2005</td><td> 9.642</td><td>27.766</td><td>24.426</td><td> 4.376</td><td> 80.282</td><td>  8.852</td><td>15911.20</td><td>0.913</td><td>0.949</td><td>11.583</td><td> 18.243</td><td> 2.473</td><td> 5.22</td><td>21.362</td><td>18.888</td><td>11.575</td></tr>\n",
                            "</tbody>\n",
                            "</table>\n"
                        ],
                        "text/latex": [
                            "A data.frame: 6 × 19\n",
                            "\\begin{tabular}{r|lllllllllllllllllll}\n",
                            "  & Country & Advanced\\_Country & Year & PCPIPCH & GGR\\_NGDP & GGX\\_NGDP & GGSB\\_NPGDP & GGXWDG\\_NGDP & NGDP\\_RPCH & PPPPC & PPPSH & PPPEX & TX\\_RPCH & TM\\_RPCH & BCA\\_NGDPD & TRWMA & NGSD\\_NGDP & NID\\_NGDP & LUR\\\\\n",
                            "  & <chr> & <int> & <int> & <dbl> & <dbl> & <dbl> & <dbl> & <dbl> & <dbl> & <dbl> & <dbl> & <dbl> & <dbl> & <dbl> & <dbl> & <dbl> & <dbl> & <dbl> & <dbl>\\\\\n",
                            "\\hline\n",
                            "\t1 & Argentina & 0 & 2000 & -0.939 & 21.830 & 25.247 & -4.552 &  40.833 &  -0.789 & 13529.29 & 0.995 & 0.639 &  1.898 &  -2.322 & -2.878 & 10.52 & 12.459 & 15.337 & 17.134\\\\\n",
                            "\t2 & Argentina & 0 & 2001 & -1.065 & 21.068 & 26.432 & -5.590 &  48.007 &  -4.409 & 13091.49 & 0.929 & 0.618 &  6.096 & -16.587 & -1.316 &  9.25 & 12.325 & 13.640 & 19.209\\\\\n",
                            "\t3 & Argentina & 0 & 2002 & 25.869 & 19.943 & 21.853 &  1.188 & 147.203 & -10.894 & 11733.02 & 0.806 & 0.794 &  0.244 & -53.558 &  7.666 & 12.01 & 17.631 &  9.965 & 22.450\\\\\n",
                            "\t4 & Argentina & 0 & 2003 & 13.443 & 23.526 & 22.026 &  3.453 & 125.162 &   8.955 & 12914.24 & 0.847 & 0.859 &  5.006 &  48.953 &  5.597 & 12.87 & 18.474 & 12.877 & 17.250\\\\\n",
                            "\t5 & Argentina & 0 & 2004 &  4.416 & 26.996 & 23.030 &  4.719 & 117.878 &   8.911 & 14308.62 & 0.878 & 0.887 & -0.150 &  51.050 &  1.798 &  5.96 & 19.350 & 17.551 & 13.625\\\\\n",
                            "\t6 & Argentina & 0 & 2005 &  9.642 & 27.766 & 24.426 &  4.376 &  80.282 &   8.852 & 15911.20 & 0.913 & 0.949 & 11.583 &  18.243 &  2.473 &  5.22 & 21.362 & 18.888 & 11.575\\\\\n",
                            "\\end{tabular}\n"
                        ],
                        "text/markdown": [
                            "\n",
                            "A data.frame: 6 × 19\n",
                            "\n",
                            "| <!--/--> | Country &lt;chr&gt; | Advanced_Country &lt;int&gt; | Year &lt;int&gt; | PCPIPCH &lt;dbl&gt; | GGR_NGDP &lt;dbl&gt; | GGX_NGDP &lt;dbl&gt; | GGSB_NPGDP &lt;dbl&gt; | GGXWDG_NGDP &lt;dbl&gt; | NGDP_RPCH &lt;dbl&gt; | PPPPC &lt;dbl&gt; | PPPSH &lt;dbl&gt; | PPPEX &lt;dbl&gt; | TX_RPCH &lt;dbl&gt; | TM_RPCH &lt;dbl&gt; | BCA_NGDPD &lt;dbl&gt; | TRWMA &lt;dbl&gt; | NGSD_NGDP &lt;dbl&gt; | NID_NGDP &lt;dbl&gt; | LUR &lt;dbl&gt; |\n",
                            "|---|---|---|---|---|---|---|---|---|---|---|---|---|---|---|---|---|---|---|---|\n",
                            "| 1 | Argentina | 0 | 2000 | -0.939 | 21.830 | 25.247 | -4.552 |  40.833 |  -0.789 | 13529.29 | 0.995 | 0.639 |  1.898 |  -2.322 | -2.878 | 10.52 | 12.459 | 15.337 | 17.134 |\n",
                            "| 2 | Argentina | 0 | 2001 | -1.065 | 21.068 | 26.432 | -5.590 |  48.007 |  -4.409 | 13091.49 | 0.929 | 0.618 |  6.096 | -16.587 | -1.316 |  9.25 | 12.325 | 13.640 | 19.209 |\n",
                            "| 3 | Argentina | 0 | 2002 | 25.869 | 19.943 | 21.853 |  1.188 | 147.203 | -10.894 | 11733.02 | 0.806 | 0.794 |  0.244 | -53.558 |  7.666 | 12.01 | 17.631 |  9.965 | 22.450 |\n",
                            "| 4 | Argentina | 0 | 2003 | 13.443 | 23.526 | 22.026 |  3.453 | 125.162 |   8.955 | 12914.24 | 0.847 | 0.859 |  5.006 |  48.953 |  5.597 | 12.87 | 18.474 | 12.877 | 17.250 |\n",
                            "| 5 | Argentina | 0 | 2004 |  4.416 | 26.996 | 23.030 |  4.719 | 117.878 |   8.911 | 14308.62 | 0.878 | 0.887 | -0.150 |  51.050 |  1.798 |  5.96 | 19.350 | 17.551 | 13.625 |\n",
                            "| 6 | Argentina | 0 | 2005 |  9.642 | 27.766 | 24.426 |  4.376 |  80.282 |   8.852 | 15911.20 | 0.913 | 0.949 | 11.583 |  18.243 |  2.473 |  5.22 | 21.362 | 18.888 | 11.575 |\n",
                            "\n"
                        ],
                        "text/plain": [
                            "  Country   Advanced_Country Year PCPIPCH GGR_NGDP GGX_NGDP GGSB_NPGDP\n",
                            "1 Argentina 0                2000 -0.939  21.830   25.247   -4.552    \n",
                            "2 Argentina 0                2001 -1.065  21.068   26.432   -5.590    \n",
                            "3 Argentina 0                2002 25.869  19.943   21.853    1.188    \n",
                            "4 Argentina 0                2003 13.443  23.526   22.026    3.453    \n",
                            "5 Argentina 0                2004  4.416  26.996   23.030    4.719    \n",
                            "6 Argentina 0                2005  9.642  27.766   24.426    4.376    \n",
                            "  GGXWDG_NGDP NGDP_RPCH PPPPC    PPPSH PPPEX TX_RPCH TM_RPCH BCA_NGDPD TRWMA\n",
                            "1  40.833      -0.789   13529.29 0.995 0.639  1.898   -2.322 -2.878    10.52\n",
                            "2  48.007      -4.409   13091.49 0.929 0.618  6.096  -16.587 -1.316     9.25\n",
                            "3 147.203     -10.894   11733.02 0.806 0.794  0.244  -53.558  7.666    12.01\n",
                            "4 125.162       8.955   12914.24 0.847 0.859  5.006   48.953  5.597    12.87\n",
                            "5 117.878       8.911   14308.62 0.878 0.887 -0.150   51.050  1.798     5.96\n",
                            "6  80.282       8.852   15911.20 0.913 0.949 11.583   18.243  2.473     5.22\n",
                            "  NGSD_NGDP NID_NGDP LUR   \n",
                            "1 12.459    15.337   17.134\n",
                            "2 12.325    13.640   19.209\n",
                            "3 17.631     9.965   22.450\n",
                            "4 18.474    12.877   17.250\n",
                            "5 19.350    17.551   13.625\n",
                            "6 21.362    18.888   11.575"
                        ]
                    },
                    "metadata": {},
                    "output_type": "display_data"
                }
            ],
            "source": [
                "# Reorder columns based on priority to control inflation\n",
                "# (Ensure column names match exactly what exists in your DataFrame)\n",
                "\n",
                "\n",
                "ordered_columns <- c(\n",
                "    # 8. Metadata\n",
                "    \"Country\", \"Advanced_Country\", \"Year\",\n",
                "    \n",
                "    # 1. Inflation & Price Stability\n",
                "    \"PCPIPCH\",  # Inflation Rate (Consumer Prices, annual %)\n",
                "    \n",
                "    # 2. Public Finance\n",
                "    \"GGR_NGDP\",     # General government revenue (% of GDP)\n",
                "    \"GGX_NGDP\",     # General government expenditure (% of GDP)\n",
                "    \"GGSB_NPGDP\",   # General government structural balance\n",
                "    \"GGXWDG_NGDP\",  # General government gross debt (% of GDP)\n",
                "    \n",
                "    # 3. Economic Output & Productivity\n",
                "    \"NGDP_RPCH\",    # Real GDP growth (%)\n",
                "    \"PPPPC\",        # GDP per capita based on PPP\n",
                "    \"PPPSH\",        # PPP share of world total\n",
                "    \n",
                "    # 4. Exchange & Purchasing Power\n",
                "    \"PPPEX\",        # PPP exchange rate\n",
                "    \n",
                "    # 5. International Trade & Balance\n",
                "    \"TX_RPCH\",      # Export volume growth\n",
                "    \"TM_RPCH\",      # Import volume growth\n",
                "    \"BCA_NGDPD\",    # Current account balance (% of GDP)\n",
                "    \"TRWMA\",        # World trade volume (goods and services)\n",
                "    \n",
                "    # 6. Savings & Investment\n",
                "    \"NGSD_NGDP\",    # Net government saving (% of GDP)\n",
                "    \"NID_NGDP\",     # Investment (% of GDP)\n",
                "    \n",
                "    # 7. Labor Market\n",
                "    \"LUR\"           # Unemployment rate (%)\n",
                ")\n",
                "\n",
                "# Apply the new column order to the DataFrame\n",
                "df <- df[, ordered_columns]\n",
                "\n",
                "# Display the first 5 rows to confirm new order\n",
                "head(df)\n"
            ]
        },
        {
            "cell_type": "code",
            "execution_count": 428,
            "metadata": {
                "vscode": {
                    "languageId": "r"
                }
            },
            "outputs": [
                {
                    "data": {
                        "text/plain": [
                            "   Country          Advanced_Country      Year         PCPIPCH       \n",
                            " Length:1750        Min.   :0.0000   Min.   :2000   Min.   : -3.723  \n",
                            " Class :character   1st Qu.:0.0000   1st Qu.:2006   1st Qu.:  1.553  \n",
                            " Mode  :character   Median :0.0000   Median :2012   Median :  2.861  \n",
                            "                    Mean   :0.4857   Mean   :2012   Mean   :  5.184  \n",
                            "                    3rd Qu.:1.0000   3rd Qu.:2018   3rd Qu.:  5.561  \n",
                            "                    Max.   :1.0000   Max.   :2024   Max.   :229.824  \n",
                            "    GGR_NGDP        GGX_NGDP        GGSB_NPGDP        GGXWDG_NGDP     \n",
                            " Min.   :12.35   Min.   : 9.015   Min.   :-21.4890   Min.   :  0.052  \n",
                            " 1st Qu.:23.32   1st Qu.:25.929   1st Qu.: -4.3193   1st Qu.: 35.638  \n",
                            " Median :33.98   Median :36.373   Median : -2.2340   Median : 49.733  \n",
                            " Mean   :33.22   Mean   :35.574   Mean   : -2.4370   Mean   : 57.392  \n",
                            " 3rd Qu.:41.56   3rd Qu.:44.582   3rd Qu.: -0.3628   3rd Qu.: 71.782  \n",
                            " Max.   :63.05   Max.   :74.416   Max.   : 11.1370   Max.   :258.374  \n",
                            "   NGDP_RPCH           PPPPC            PPPSH             PPPEX         \n",
                            " Min.   :-28.759   Min.   :  3230   Min.   : 0.0030   Min.   :   0.016  \n",
                            " 1st Qu.:  1.368   1st Qu.: 13392   1st Qu.: 0.0970   1st Qu.:   0.652  \n",
                            " Median :  2.986   Median : 24489   Median : 0.3435   Median :   1.266  \n",
                            " Mean   :  2.923   Mean   : 29144   Mean   : 0.9781   Mean   : 130.890  \n",
                            " 3rd Qu.:  4.988   3rd Qu.: 40951   3rd Qu.: 0.9235   3rd Qu.:   9.807  \n",
                            " Max.   : 24.616   Max.   :148186   Max.   :20.5020   Max.   :4917.825  \n",
                            "    TX_RPCH           TM_RPCH           BCA_NGDPD            TRWMA       \n",
                            " Min.   :-57.613   Min.   :-53.5580   Min.   :-24.0680   Min.   :-4.056  \n",
                            " 1st Qu.:  0.744   1st Qu.:  0.3045   1st Qu.: -4.3380   1st Qu.: 1.720  \n",
                            " Median :  4.306   Median :  4.9595   Median : -1.3590   Median : 2.320  \n",
                            " Mean   :  4.598   Mean   :  4.8340   Mean   : -0.8665   Mean   : 3.814  \n",
                            " 3rd Qu.:  8.880   3rd Qu.:  9.9955   3rd Qu.:  2.1575   3rd Qu.: 4.615  \n",
                            " Max.   : 72.658   Max.   : 68.4777   Max.   : 30.1650   Max.   :26.380  \n",
                            "   NGSD_NGDP         NID_NGDP           LUR        \n",
                            " Min.   :-76.45   Min.   : 8.932   Min.   : 0.700  \n",
                            " 1st Qu.: 17.82   1st Qu.:19.979   1st Qu.: 5.024  \n",
                            " Median : 22.15   Median :22.866   Median : 7.173  \n",
                            " Mean   : 22.54   Mean   :23.483   Mean   : 8.486  \n",
                            " 3rd Qu.: 26.65   3rd Qu.:25.866   3rd Qu.:10.063  \n",
                            " Max.   : 60.79   Max.   :68.207   Max.   :34.300  "
                        ]
                    },
                    "metadata": {},
                    "output_type": "display_data"
                }
            ],
            "source": [
                "### Display Descriptive Statistics\n",
                "summary(df %>% select(all_of(ordered_columns)))\n"
            ]
        },
        {
            "cell_type": "code",
            "execution_count": 429,
            "metadata": {
                "vscode": {
                    "languageId": "r"
                }
            },
            "outputs": [
                {
                    "data": {
                        "text/html": [
                            "<table class=\"dataframe\">\n",
                            "<caption>A pdata.frame: 6 × 19</caption>\n",
                            "<thead>\n",
                            "\t<tr><th></th><th scope=col>Country</th><th scope=col>Advanced_Country</th><th scope=col>Year</th><th scope=col>PCPIPCH</th><th scope=col>GGR_NGDP</th><th scope=col>GGX_NGDP</th><th scope=col>GGSB_NPGDP</th><th scope=col>GGXWDG_NGDP</th><th scope=col>NGDP_RPCH</th><th scope=col>PPPPC</th><th scope=col>PPPSH</th><th scope=col>PPPEX</th><th scope=col>TX_RPCH</th><th scope=col>TM_RPCH</th><th scope=col>BCA_NGDPD</th><th scope=col>TRWMA</th><th scope=col>NGSD_NGDP</th><th scope=col>NID_NGDP</th><th scope=col>LUR</th></tr>\n",
                            "\t<tr><th></th><th scope=col>&lt;fct&gt;</th><th scope=col>&lt;int&gt;</th><th scope=col>&lt;fct&gt;</th><th scope=col>&lt;dbl&gt;</th><th scope=col>&lt;dbl&gt;</th><th scope=col>&lt;dbl&gt;</th><th scope=col>&lt;dbl&gt;</th><th scope=col>&lt;dbl&gt;</th><th scope=col>&lt;dbl&gt;</th><th scope=col>&lt;dbl&gt;</th><th scope=col>&lt;dbl&gt;</th><th scope=col>&lt;dbl&gt;</th><th scope=col>&lt;dbl&gt;</th><th scope=col>&lt;dbl&gt;</th><th scope=col>&lt;dbl&gt;</th><th scope=col>&lt;dbl&gt;</th><th scope=col>&lt;dbl&gt;</th><th scope=col>&lt;dbl&gt;</th><th scope=col>&lt;dbl&gt;</th></tr>\n",
                            "</thead>\n",
                            "<tbody>\n",
                            "\t<tr><th scope=row>Argentina-2000</th><td>Argentina</td><td>0</td><td>2000</td><td>-0.939</td><td>21.830</td><td>25.247</td><td>-4.552</td><td> 40.833</td><td> -0.789</td><td>13529.29</td><td>0.995</td><td>0.639</td><td> 1.898</td><td> -2.322</td><td>-2.878</td><td>10.52</td><td>12.459</td><td>15.337</td><td>17.134</td></tr>\n",
                            "\t<tr><th scope=row>Argentina-2001</th><td>Argentina</td><td>0</td><td>2001</td><td>-1.065</td><td>21.068</td><td>26.432</td><td>-5.590</td><td> 48.007</td><td> -4.409</td><td>13091.49</td><td>0.929</td><td>0.618</td><td> 6.096</td><td>-16.587</td><td>-1.316</td><td> 9.25</td><td>12.325</td><td>13.640</td><td>19.209</td></tr>\n",
                            "\t<tr><th scope=row>Argentina-2002</th><td>Argentina</td><td>0</td><td>2002</td><td>25.869</td><td>19.943</td><td>21.853</td><td> 1.188</td><td>147.203</td><td>-10.894</td><td>11733.02</td><td>0.806</td><td>0.794</td><td> 0.244</td><td>-53.558</td><td> 7.666</td><td>12.01</td><td>17.631</td><td> 9.965</td><td>22.450</td></tr>\n",
                            "\t<tr><th scope=row>Argentina-2003</th><td>Argentina</td><td>0</td><td>2003</td><td>13.443</td><td>23.526</td><td>22.026</td><td> 3.453</td><td>125.162</td><td>  8.955</td><td>12914.24</td><td>0.847</td><td>0.859</td><td> 5.006</td><td> 48.953</td><td> 5.597</td><td>12.87</td><td>18.474</td><td>12.877</td><td>17.250</td></tr>\n",
                            "\t<tr><th scope=row>Argentina-2004</th><td>Argentina</td><td>0</td><td>2004</td><td> 4.416</td><td>26.996</td><td>23.030</td><td> 4.719</td><td>117.878</td><td>  8.911</td><td>14308.62</td><td>0.878</td><td>0.887</td><td>-0.150</td><td> 51.050</td><td> 1.798</td><td> 5.96</td><td>19.350</td><td>17.551</td><td>13.625</td></tr>\n",
                            "\t<tr><th scope=row>Argentina-2005</th><td>Argentina</td><td>0</td><td>2005</td><td> 9.642</td><td>27.766</td><td>24.426</td><td> 4.376</td><td> 80.282</td><td>  8.852</td><td>15911.20</td><td>0.913</td><td>0.949</td><td>11.583</td><td> 18.243</td><td> 2.473</td><td> 5.22</td><td>21.362</td><td>18.888</td><td>11.575</td></tr>\n",
                            "</tbody>\n",
                            "</table>\n"
                        ],
                        "text/latex": [
                            "A pdata.frame: 6 × 19\n",
                            "\\begin{tabular}{r|lllllllllllllllllll}\n",
                            "  & Country & Advanced\\_Country & Year & PCPIPCH & GGR\\_NGDP & GGX\\_NGDP & GGSB\\_NPGDP & GGXWDG\\_NGDP & NGDP\\_RPCH & PPPPC & PPPSH & PPPEX & TX\\_RPCH & TM\\_RPCH & BCA\\_NGDPD & TRWMA & NGSD\\_NGDP & NID\\_NGDP & LUR\\\\\n",
                            "  & <fct> & <int> & <fct> & <dbl> & <dbl> & <dbl> & <dbl> & <dbl> & <dbl> & <dbl> & <dbl> & <dbl> & <dbl> & <dbl> & <dbl> & <dbl> & <dbl> & <dbl> & <dbl>\\\\\n",
                            "\\hline\n",
                            "\tArgentina-2000 & Argentina & 0 & 2000 & -0.939 & 21.830 & 25.247 & -4.552 &  40.833 &  -0.789 & 13529.29 & 0.995 & 0.639 &  1.898 &  -2.322 & -2.878 & 10.52 & 12.459 & 15.337 & 17.134\\\\\n",
                            "\tArgentina-2001 & Argentina & 0 & 2001 & -1.065 & 21.068 & 26.432 & -5.590 &  48.007 &  -4.409 & 13091.49 & 0.929 & 0.618 &  6.096 & -16.587 & -1.316 &  9.25 & 12.325 & 13.640 & 19.209\\\\\n",
                            "\tArgentina-2002 & Argentina & 0 & 2002 & 25.869 & 19.943 & 21.853 &  1.188 & 147.203 & -10.894 & 11733.02 & 0.806 & 0.794 &  0.244 & -53.558 &  7.666 & 12.01 & 17.631 &  9.965 & 22.450\\\\\n",
                            "\tArgentina-2003 & Argentina & 0 & 2003 & 13.443 & 23.526 & 22.026 &  3.453 & 125.162 &   8.955 & 12914.24 & 0.847 & 0.859 &  5.006 &  48.953 &  5.597 & 12.87 & 18.474 & 12.877 & 17.250\\\\\n",
                            "\tArgentina-2004 & Argentina & 0 & 2004 &  4.416 & 26.996 & 23.030 &  4.719 & 117.878 &   8.911 & 14308.62 & 0.878 & 0.887 & -0.150 &  51.050 &  1.798 &  5.96 & 19.350 & 17.551 & 13.625\\\\\n",
                            "\tArgentina-2005 & Argentina & 0 & 2005 &  9.642 & 27.766 & 24.426 &  4.376 &  80.282 &   8.852 & 15911.20 & 0.913 & 0.949 & 11.583 &  18.243 &  2.473 &  5.22 & 21.362 & 18.888 & 11.575\\\\\n",
                            "\\end{tabular}\n"
                        ],
                        "text/markdown": [
                            "\n",
                            "A pdata.frame: 6 × 19\n",
                            "\n",
                            "| <!--/--> | Country &lt;fct&gt; | Advanced_Country &lt;int&gt; | Year &lt;fct&gt; | PCPIPCH &lt;dbl&gt; | GGR_NGDP &lt;dbl&gt; | GGX_NGDP &lt;dbl&gt; | GGSB_NPGDP &lt;dbl&gt; | GGXWDG_NGDP &lt;dbl&gt; | NGDP_RPCH &lt;dbl&gt; | PPPPC &lt;dbl&gt; | PPPSH &lt;dbl&gt; | PPPEX &lt;dbl&gt; | TX_RPCH &lt;dbl&gt; | TM_RPCH &lt;dbl&gt; | BCA_NGDPD &lt;dbl&gt; | TRWMA &lt;dbl&gt; | NGSD_NGDP &lt;dbl&gt; | NID_NGDP &lt;dbl&gt; | LUR &lt;dbl&gt; |\n",
                            "|---|---|---|---|---|---|---|---|---|---|---|---|---|---|---|---|---|---|---|---|\n",
                            "| Argentina-2000 | Argentina | 0 | 2000 | -0.939 | 21.830 | 25.247 | -4.552 |  40.833 |  -0.789 | 13529.29 | 0.995 | 0.639 |  1.898 |  -2.322 | -2.878 | 10.52 | 12.459 | 15.337 | 17.134 |\n",
                            "| Argentina-2001 | Argentina | 0 | 2001 | -1.065 | 21.068 | 26.432 | -5.590 |  48.007 |  -4.409 | 13091.49 | 0.929 | 0.618 |  6.096 | -16.587 | -1.316 |  9.25 | 12.325 | 13.640 | 19.209 |\n",
                            "| Argentina-2002 | Argentina | 0 | 2002 | 25.869 | 19.943 | 21.853 |  1.188 | 147.203 | -10.894 | 11733.02 | 0.806 | 0.794 |  0.244 | -53.558 |  7.666 | 12.01 | 17.631 |  9.965 | 22.450 |\n",
                            "| Argentina-2003 | Argentina | 0 | 2003 | 13.443 | 23.526 | 22.026 |  3.453 | 125.162 |   8.955 | 12914.24 | 0.847 | 0.859 |  5.006 |  48.953 |  5.597 | 12.87 | 18.474 | 12.877 | 17.250 |\n",
                            "| Argentina-2004 | Argentina | 0 | 2004 |  4.416 | 26.996 | 23.030 |  4.719 | 117.878 |   8.911 | 14308.62 | 0.878 | 0.887 | -0.150 |  51.050 |  1.798 |  5.96 | 19.350 | 17.551 | 13.625 |\n",
                            "| Argentina-2005 | Argentina | 0 | 2005 |  9.642 | 27.766 | 24.426 |  4.376 |  80.282 |   8.852 | 15911.20 | 0.913 | 0.949 | 11.583 |  18.243 |  2.473 |  5.22 | 21.362 | 18.888 | 11.575 |\n",
                            "\n"
                        ],
                        "text/plain": [
                            "               Country   Advanced_Country Year PCPIPCH GGR_NGDP GGX_NGDP\n",
                            "Argentina-2000 Argentina 0                2000 -0.939  21.830   25.247  \n",
                            "Argentina-2001 Argentina 0                2001 -1.065  21.068   26.432  \n",
                            "Argentina-2002 Argentina 0                2002 25.869  19.943   21.853  \n",
                            "Argentina-2003 Argentina 0                2003 13.443  23.526   22.026  \n",
                            "Argentina-2004 Argentina 0                2004  4.416  26.996   23.030  \n",
                            "Argentina-2005 Argentina 0                2005  9.642  27.766   24.426  \n",
                            "               GGSB_NPGDP GGXWDG_NGDP NGDP_RPCH PPPPC    PPPSH PPPEX TX_RPCH\n",
                            "Argentina-2000 -4.552      40.833      -0.789   13529.29 0.995 0.639  1.898 \n",
                            "Argentina-2001 -5.590      48.007      -4.409   13091.49 0.929 0.618  6.096 \n",
                            "Argentina-2002  1.188     147.203     -10.894   11733.02 0.806 0.794  0.244 \n",
                            "Argentina-2003  3.453     125.162       8.955   12914.24 0.847 0.859  5.006 \n",
                            "Argentina-2004  4.719     117.878       8.911   14308.62 0.878 0.887 -0.150 \n",
                            "Argentina-2005  4.376      80.282       8.852   15911.20 0.913 0.949 11.583 \n",
                            "               TM_RPCH BCA_NGDPD TRWMA NGSD_NGDP NID_NGDP LUR   \n",
                            "Argentina-2000  -2.322 -2.878    10.52 12.459    15.337   17.134\n",
                            "Argentina-2001 -16.587 -1.316     9.25 12.325    13.640   19.209\n",
                            "Argentina-2002 -53.558  7.666    12.01 17.631     9.965   22.450\n",
                            "Argentina-2003  48.953  5.597    12.87 18.474    12.877   17.250\n",
                            "Argentina-2004  51.050  1.798     5.96 19.350    17.551   13.625\n",
                            "Argentina-2005  18.243  2.473     5.22 21.362    18.888   11.575"
                        ]
                    },
                    "metadata": {},
                    "output_type": "display_data"
                }
            ],
            "source": [
                "# panel data\n",
                "panel_df <- pdata.frame(df, index = c(\"Country\", \"Year\"))\n",
                "head(panel_df)\n"
            ]
        },
        {
            "cell_type": "markdown",
            "metadata": {},
            "source": [
                "<a id='1'></a>\n",
                "\n",
                "### **1. :**"
            ]
        },
        {
            "cell_type": "code",
            "execution_count": 430,
            "metadata": {
                "vscode": {
                    "languageId": "r"
                }
            },
            "outputs": [],
            "source": [
                "# ========== Split data for out-of-sample forecasting ==========\n",
                "# Define dependent and independent variables\n",
                "y <- panel_df[,'PCPIPCH']  # Inflation Rate (Consumer Prices, annual %)\n",
                "X_vars <- c(\n",
                "\n",
                "    # 2. Public Finance\n",
                "    #\"GGR_NGDP\",     ## General government revenue (% of GDP)\n",
                "    #\"GGX_NGDP\",     ## General government expenditure (% of GDP)\n",
                "    #\"GGSB_NPGDP\",   ## General government structural balance\n",
                "    \"GGXWDG_NGDP\",  # General government gross debt (% of GDP)\n",
                "\n",
                "    \n",
                "    # 3. Economic Output & Productivity\n",
                "    #\"NGDP_RPCH\",    ## Real GDP growth (%)\n",
                "    \"PPPPC\",        # GDP per capita based on PPP\n",
                "    #\"PPPSH\",        ## PPP share of world total\n",
                "    \n",
                "\n",
                "\n",
                "    # 4. Exchange & Purchasing Power\n",
                "    \"PPPEX\",        # PPP exchange rate\n",
                "\n",
                "    # 5. International Trade & Balance\n",
                "    \"TX_RPCH\",      # Export volume growth\n",
                "    #\"TM_RPCH\",     ## Import volume growth\n",
                "    \"BCA_NGDPD\",    # Current account balance (% of GDP)\n",
                "    \"TRWMA\",        # World trade volume (goods and services)\n",
                "    \n",
                "\n",
                "    # 6. Savings & Investment\n",
                "    #\"NGSD_NGDP\",    ## Net government saving (% of GDP)\n",
                "    \"NID_NGDP\",     ## Investment (% of GDP)\n",
                "    \n",
                "\n",
                "\n",
                "    \n",
                "    # 7. Labor Market\n",
                "    #\"LUR\",           # Unemployment rate (%)\n",
                "\n",
                "    # 8. Metadata\n",
                "   \"Advanced_Country\"\n",
                "    \n",
                ")\n",
                "\n",
                "X <- panel_df[, X_vars]\n",
                "\n",
                "# Define evaluation function (RMSE and R-squared)\n",
                "evaluate <- function(y_true, y_pred) {\n",
                "  rmse <- sqrt(mean((y_true - y_pred)^2))                  # Root Mean Squared Error\n",
                "  ss_total <- sum((y_true - mean(y_true))^2)               # Total Sum of Squares\n",
                "  ss_res <- sum((y_true - y_pred)^2)                       # Residual Sum of Squares\n",
                "  r2 <- 1 - (ss_res / ss_total)                            # R-squared\n",
                "  return(list(rmse = rmse, r2 = r2))\n",
                "}\n"
            ]
        },
        {
            "cell_type": "code",
            "execution_count": 431,
            "metadata": {
                "vscode": {
                    "languageId": "r"
                }
            },
            "outputs": [],
            "source": [
                "# Step 1: Convert Year to numeric to allow comparison\n",
                "panel_df$Year <- as.numeric(as.character(panel_df$Year))\n",
                "\n",
                "# Split data into train and test\n",
                "train <- panel_df %>% \n",
                "  as.data.frame() %>%\n",
                "  filter(Year <= 2022) %>%\n",
                "  pdata.frame(index = c(\"Country\", \"Year\"))\n",
                "\n",
                "test <- panel_df %>% \n",
                "  as.data.frame() %>%\n",
                "  filter(Year > 2022) %>%\n",
                "  pdata.frame(index = c(\"Country\", \"Year\"))\n",
                "\n",
                "# Define dependent and independent variables\n",
                "y_train <- train$PCPIPCH\n",
                "X_train <- train[, X_vars]\n",
                "\n",
                "y_test <- test$PCPIPCH\n",
                "X_test <- test[, X_vars]\n",
                "\n",
                "# Combine y and X for training model\n",
                "train_model_df <- train[, c(\"PCPIPCH\", X_vars)]\n",
                "\n",
                "test_model_df <- test[, c(\"PCPIPCH\", X_vars)]\n"
            ]
        },
        {
            "cell_type": "code",
            "execution_count": 432,
            "metadata": {
                "vscode": {
                    "languageId": "r"
                }
            },
            "outputs": [
                {
                    "data": {
                        "text/plain": [
                            "Pooling Model\n",
                            "\n",
                            "Call:\n",
                            "plm(formula = formula_str, data = train_model_df, model = \"pooling\", \n",
                            "    index = c(\"Country\", \"Year\"))\n",
                            "\n",
                            "Balanced Panel: n = 70, T = 23, N = 1610\n",
                            "\n",
                            "Residuals:\n",
                            "   Min. 1st Qu.  Median    Mean 3rd Qu.    Max. \n",
                            "-12.979  -2.897  -0.815   0.160   1.063 160.472 \n",
                            "\n",
                            "Coefficients:\n",
                            "                    Estimate  Std. Error t-value  Pr(>|t|)    \n",
                            "GGXWDG_NGDP       1.5235e-02  5.8329e-03  2.6119  0.009089 ** \n",
                            "PPPPC             1.6957e-05  1.9287e-05  0.8792  0.379422    \n",
                            "PPPEX            -6.6774e-04  4.1199e-04 -1.6208  0.105261    \n",
                            "TX_RPCH           6.0307e-02  2.3296e-02  2.5887  0.009721 ** \n",
                            "BCA_NGDPD        -2.2049e-02  4.0218e-02 -0.5482  0.583601    \n",
                            "TRWMA             1.8177e-01  6.4545e-02  2.8161  0.004920 ** \n",
                            "NID_NGDP          2.0360e-01  2.4703e-02  8.2421 3.481e-16 ***\n",
                            "Advanced_Country -4.7889e+00  6.3685e-01 -7.5197 9.095e-14 ***\n",
                            "---\n",
                            "Signif. codes:  0 '***' 0.001 '**' 0.01 '*' 0.05 '.' 0.1 ' ' 1\n",
                            "\n",
                            "Total Sum of Squares:    125460\n",
                            "Residual Sum of Squares: 115710\n",
                            "R-Squared:      0.078987\n",
                            "Adj. R-Squared: 0.074963\n",
                            "F-statistic: 83.3085 on 8 and 1602 DF, p-value: < 2.22e-16"
                        ]
                    },
                    "metadata": {},
                    "output_type": "display_data"
                },
                {
                    "name": "stdout",
                    "output_type": "stream",
                    "text": [
                        "Pooled OLS RMSE (out-of-sample): 23.0835\n",
                        "Pooled OLS R² (out-of-sample): 0.0537\n"
                    ]
                }
            ],
            "source": [
                "# ===============================\n",
                "# A. Pooled OLS model\n",
                "\n",
                "# Create formula for model\n",
                "formula_str <- as.formula(paste(\"PCPIPCH ~ -1 +\", paste(X_vars, collapse = \" + \")))\n",
                "\n",
                "#  Fit Pooled OLS model\n",
                "pooled_model <- plm(formula_str, data = train_model_df, model = \"pooling\", index = c(\"Country\", \"Year\"))\n",
                "\n",
                "# Display model summary\n",
                "summary(pooled_model)\n",
                "\n",
                "# Predict using the model\n",
                "pooled_preds <- predict(pooled_model, newdata = X_test)\n",
                "\n",
                "# Evaluate model performance\n",
                "pooled_rmse <- rmse(y_test, pooled_preds)\n",
                "pooled_r2   <- R2( y_test, pooled_preds)\n",
                "\n",
                "# Print results\n",
                "cat(sprintf(\"Pooled OLS RMSE (out-of-sample): %.4f\\n\", pooled_rmse))\n",
                "cat(sprintf(\"Pooled OLS R² (out-of-sample): %.4f\\n\", pooled_r2))\n"
            ]
        },
        {
            "cell_type": "code",
            "execution_count": 433,
            "metadata": {
                "vscode": {
                    "languageId": "r"
                }
            },
            "outputs": [],
            "source": [
                "if (\"Advanced_Country\" %in% colnames(X_train)) {\n",
                "  X_train <- X_train[, !colnames(X_train) %in% \"Advanced_Country\"]\n",
                "}\n",
                "\n",
                "if (\"Advanced_Country\" %in% colnames(X_test)) {\n",
                "  X_test <- X_test[, !colnames(X_test) %in% \"Advanced_Country\"]\n",
                "}\n",
                "\n",
                "if (\"Advanced_Country\" %in% colnames(train_model_df)) {\n",
                "  train_model_df <- train_model_df[, !colnames(train_model_df) %in% \"Advanced_Country\"]\n",
                "}\n",
                "if (\"Advanced_Country\" %in% colnames(test_model_df)) {\n",
                "  test_model_df <- test_model_df[, !colnames(test_model_df) %in% \"Advanced_Country\"]\n",
                "}\n",
                "\n",
                "X_vars <- setdiff(X_vars, \"Advanced_Country\")\n",
                "\n",
                "\n",
                "# Create formula for model\n",
                "formula_str <- as.formula(paste(\"PCPIPCH ~ -1 +\", paste(X_vars, collapse = \" + \" )))\n"
            ]
        },
        {
            "cell_type": "code",
            "execution_count": 434,
            "metadata": {
                "vscode": {
                    "languageId": "r"
                }
            },
            "outputs": [
                {
                    "data": {
                        "text/plain": [
                            "Oneway (individual) effect Within Model\n",
                            "\n",
                            "Call:\n",
                            "plm(formula = formula_str, data = train_model_df, model = \"within\", \n",
                            "    index = c(\"Country\", \"Year\"))\n",
                            "\n",
                            "Balanced Panel: n = 70, T = 23, N = 1610\n",
                            "\n",
                            "Residuals:\n",
                            "     Min.   1st Qu.    Median   3rd Qu.      Max. \n",
                            "-23.13522  -1.92393  -0.39372   1.18717 141.88216 \n",
                            "\n",
                            "Coefficients:\n",
                            "               Estimate  Std. Error t-value  Pr(>|t|)    \n",
                            "GGXWDG_NGDP  5.4309e-02  1.2607e-02  4.3080 1.752e-05 ***\n",
                            "PPPPC       -1.1287e-05  2.3899e-05 -0.4723 0.6367917    \n",
                            "PPPEX       -1.4565e-03  1.2776e-03 -1.1401 0.2544375    \n",
                            "TX_RPCH      6.1975e-02  2.1042e-02  2.9453 0.0032754 ** \n",
                            "BCA_NGDPD   -1.5572e-01  5.5254e-02 -2.8183 0.0048902 ** \n",
                            "TRWMA        3.1293e-01  8.7951e-02  3.5580 0.0003851 ***\n",
                            "NID_NGDP    -3.8128e-02  5.9246e-02 -0.6436 0.5199572    \n",
                            "---\n",
                            "Signif. codes:  0 '***' 0.001 '**' 0.01 '*' 0.05 '.' 0.1 ' ' 1\n",
                            "\n",
                            "Total Sum of Squares:    86855\n",
                            "Residual Sum of Squares: 84110\n",
                            "R-Squared:      0.031608\n",
                            "Adj. R-Squared: -0.016401\n",
                            "F-statistic: 7.14811 on 7 and 1533 DF, p-value: 1.9661e-08"
                        ]
                    },
                    "metadata": {},
                    "output_type": "display_data"
                },
                {
                    "name": "stdout",
                    "output_type": "stream",
                    "text": [
                        "Fixed Effects RMSE (out-of-sample): 21.0331\n",
                        "Fixed Effects R² (out-of-sample): 0.3247\n"
                    ]
                }
            ],
            "source": [
                "# ===============================\n",
                "# B. Fixed Effects model\n",
                "\n",
                "# Fit Fixed Effects (within)\n",
                "fe_model <- plm(formula_str, data = train_model_df, model = \"within\", index = c(\"Country\", \"Year\"))\n",
                "\n",
                "# Display model summary\n",
                "summary(fe_model)\n",
                "\n",
                "# Predict using the model\n",
                "fe_preds <- predict(fe_model, newdata = X_test)\n",
                "\n",
                "# Evaluate model performance\n",
                "\n",
                "fe_rmse <- rmse(y_test, fe_preds)\n",
                "fe_r2   <- R2( y_test,fe_preds)\n",
                "\n",
                "# Print results\n",
                "cat(sprintf(\"Fixed Effects RMSE (out-of-sample): %.4f\\n\", fe_rmse))\n",
                "cat(sprintf(\"Fixed Effects R² (out-of-sample): %.4f\\n\", fe_r2))\n"
            ]
        },
        {
            "cell_type": "code",
            "execution_count": 435,
            "metadata": {
                "vscode": {
                    "languageId": "r"
                }
            },
            "outputs": [
                {
                    "data": {
                        "text/plain": [
                            "Oneway (individual) effect Random Effect Model \n",
                            "   (Swamy-Arora's transformation)\n",
                            "\n",
                            "Call:\n",
                            "plm(formula = formula_str, data = train_model_df, model = \"random\", \n",
                            "    index = c(\"Country\", \"Year\"))\n",
                            "\n",
                            "Balanced Panel: n = 70, T = 23, N = 1610\n",
                            "\n",
                            "Effects:\n",
                            "                 var std.dev share\n",
                            "idiosyncratic 54.866   7.407 0.739\n",
                            "individual    19.391   4.404 0.261\n",
                            "theta: 0.669\n",
                            "\n",
                            "Residuals:\n",
                            "   Min. 1st Qu.  Median    Mean 3rd Qu.    Max. \n",
                            "-17.801  -2.175  -0.691   0.115   0.806 148.853 \n",
                            "\n",
                            "Coefficients:\n",
                            "               Estimate  Std. Error z-value  Pr(>|z|)    \n",
                            "GGXWDG_NGDP  4.2165e-02  8.8481e-03  4.7654 1.885e-06 ***\n",
                            "PPPPC       -2.4238e-05  2.0952e-05 -1.1568   0.24735    \n",
                            "PPPEX       -3.6477e-04  8.3191e-04 -0.4385   0.66105    \n",
                            "TX_RPCH      5.8912e-02  2.1026e-02  2.8019   0.00508 ** \n",
                            "BCA_NGDPD   -9.8012e-02  4.9820e-02 -1.9673   0.04914 *  \n",
                            "TRWMA        3.2768e-01  7.9072e-02  4.1441 3.411e-05 ***\n",
                            "NID_NGDP     5.2211e-02  3.4126e-02  1.5300   0.12603    \n",
                            "---\n",
                            "Signif. codes:  0 '***' 0.001 '**' 0.01 '*' 0.05 '.' 0.1 ' ' 1\n",
                            "\n",
                            "Total Sum of Squares:    91084\n",
                            "Residual Sum of Squares: 88944\n",
                            "R-Squared:      0.024039\n",
                            "Adj. R-Squared: 0.020386\n",
                            "Chisq: 114.357 on 7 DF, p-value: < 2.22e-16"
                        ]
                    },
                    "metadata": {},
                    "output_type": "display_data"
                },
                {
                    "name": "stdout",
                    "output_type": "stream",
                    "text": [
                        "Random Effects RMSE (out-of-sample): 23.2940\n",
                        "Random Effects R² (out-of-sample): 0.0438\n"
                    ]
                }
            ],
            "source": [
                "# ===============================\n",
                "# C. Random Effects model\n",
                "\n",
                "\n",
                "# Step 2: Fit Random Effects model using plm\n",
                "re_model <- plm(formula_str, data = train_model_df, model = \"random\", index = c(\"Country\", \"Year\"))\n",
                "\n",
                "# re_model <- plm(formula_str, data = train_model_df, model = \"random\", \n",
                "#                 random.method = \"amemiya\", index = c(\"Country\", \"Year\"))\n",
                "\n",
                "# re_model <- plm(formula_str, data = train_model_df, model = \"random\", \n",
                "#                 random.method = \"walhus\", index = c(\"Country\", \"Year\"))\n",
                "\n",
                "# Step 3: Display model summary\n",
                "summary(re_model)\n",
                "\n",
                "# Step 4: Predict using the model\n",
                "re_preds <- predict(re_model, newdata = X_test)\n",
                "\n",
                "# Step 5: Evaluate model performance\n",
                "re_rmse <- rmse(y_test, re_preds)\n",
                "re_r2   <- R2( y_test, re_preds)\n",
                "\n",
                "# Step 6: Print results\n",
                "cat(sprintf(\"Random Effects RMSE (out-of-sample): %.4f\\n\", re_rmse))\n",
                "cat(sprintf(\"Random Effects R² (out-of-sample): %.4f\\n\", re_r2))\n"
            ]
        },
        {
            "cell_type": "markdown",
            "metadata": {},
            "source": [
                "<a id='2'></a>\n",
                "\n",
                "### **2. :**"
            ]
        },
        {
            "cell_type": "code",
            "execution_count": 436,
            "metadata": {
                "vscode": {
                    "languageId": "r"
                }
            },
            "outputs": [
                {
                    "name": "stdout",
                    "output_type": "stream",
                    "text": [
                        "\n",
                        "\tHausman Test\n",
                        "\n",
                        "data:  formula_str\n",
                        "chisq = 26.618, df = 7, p-value = 0.0003903\n",
                        "alternative hypothesis: one model is inconsistent\n",
                        "\n",
                        "Hausman test suggests Fixed Effects preferred.\n"
                    ]
                }
            ],
            "source": [
                "# ===============================\n",
                "# Hausman test: fixed vs random effects\n",
                "hausman_test <- phtest(fe_model, re_model)\n",
                "print(hausman_test)\n",
                "\n",
                "haus_pval <- hausman_test$p.value\n",
                "\n",
                "if (haus_pval < 0.05) {\n",
                "  cat(\"Hausman test suggests Fixed Effects preferred.\\n\")\n",
                "} else {\n",
                "  cat(\"Hausman test suggests Random Effects preferred.\\n\")\n",
                "}"
            ]
        },
        {
            "cell_type": "code",
            "execution_count": 437,
            "metadata": {
                "vscode": {
                    "languageId": "r"
                }
            },
            "outputs": [
                {
                    "name": "stdout",
                    "output_type": "stream",
                    "text": [
                        "Wald Test (F-test) for joint significance of entity effects:\n"
                    ]
                },
                {
                    "data": {
                        "text/html": [
                            "<table class=\"dataframe\">\n",
                            "<caption>A anova: 2 × 4</caption>\n",
                            "<thead>\n",
                            "\t<tr><th></th><th scope=col>Res.Df</th><th scope=col>Df</th><th scope=col>F</th><th scope=col>Pr(&gt;F)</th></tr>\n",
                            "\t<tr><th></th><th scope=col>&lt;dbl&gt;</th><th scope=col>&lt;dbl&gt;</th><th scope=col>&lt;dbl&gt;</th><th scope=col>&lt;dbl&gt;</th></tr>\n",
                            "</thead>\n",
                            "<tbody>\n",
                            "\t<tr><th scope=row>1</th><td>1602</td><td>NA</td><td>      NA</td><td>          NA</td></tr>\n",
                            "\t<tr><th scope=row>2</th><td>1533</td><td>-1</td><td>56.54582</td><td>9.095192e-14</td></tr>\n",
                            "</tbody>\n",
                            "</table>\n"
                        ],
                        "text/latex": [
                            "A anova: 2 × 4\n",
                            "\\begin{tabular}{r|llll}\n",
                            "  & Res.Df & Df & F & Pr(>F)\\\\\n",
                            "  & <dbl> & <dbl> & <dbl> & <dbl>\\\\\n",
                            "\\hline\n",
                            "\t1 & 1602 & NA &       NA &           NA\\\\\n",
                            "\t2 & 1533 & -1 & 56.54582 & 9.095192e-14\\\\\n",
                            "\\end{tabular}\n"
                        ],
                        "text/markdown": [
                            "\n",
                            "A anova: 2 × 4\n",
                            "\n",
                            "| <!--/--> | Res.Df &lt;dbl&gt; | Df &lt;dbl&gt; | F &lt;dbl&gt; | Pr(&gt;F) &lt;dbl&gt; |\n",
                            "|---|---|---|---|---|\n",
                            "| 1 | 1602 | NA |       NA |           NA |\n",
                            "| 2 | 1533 | -1 | 56.54582 | 9.095192e-14 |\n",
                            "\n"
                        ],
                        "text/plain": [
                            "  Res.Df Df F        Pr(>F)      \n",
                            "1 1602   NA       NA           NA\n",
                            "2 1533   -1 56.54582 9.095192e-14"
                        ]
                    },
                    "metadata": {},
                    "output_type": "display_data"
                },
                {
                    "name": "stdout",
                    "output_type": "stream",
                    "text": [
                        "Wald test suggests Fixed Effects preferred.\n"
                    ]
                }
            ],
            "source": [
                "# ===============================\n",
                "# Wald test on Fixed Effects (joint significance of entity effects)\n",
                "# ===============================\n",
                "\n",
                "comparison <- waldtest(pooled_model, fe_model, test = \"F\")\n",
                "cat(\"Wald Test (F-test) for joint significance of entity effects:\\n\")\n",
                "comparison\n",
                "\n",
                "# Extract p-value from the comparison table (last row, last column)\n",
                "wald_pval <- comparison[2, \"Pr(>F)\"]\n",
                "\n",
                "# Decision rule\n",
                "if (wald_pval < 0.05) {\n",
                "  cat(\"Wald test suggests Fixed Effects preferred.\\n\")\n",
                "} else {\n",
                "  cat(\"Wald test suggests Pooled OLS preferred.\\n\")\n",
                "}\n"
            ]
        },
        {
            "cell_type": "markdown",
            "metadata": {},
            "source": [
                "### 3."
            ]
        },
        {
            "cell_type": "markdown",
            "metadata": {},
            "source": [
                "#### # 1.Multicollinearity check using VIF"
            ]
        },
        {
            "cell_type": "code",
            "execution_count": 438,
            "metadata": {
                "vscode": {
                    "languageId": "r"
                }
            },
            "outputs": [
                {
                    "name": "stdout",
                    "output_type": "stream",
                    "text": [
                        "[1] \"Variance Inflation Factors (VIF):\"\n",
                        "      feature      VIF\n",
                        "1 GGXWDG_NGDP 1.220747\n",
                        "2       PPPPC 1.844503\n",
                        "3       PPPEX 1.091677\n",
                        "4     TX_RPCH 1.019039\n",
                        "5   BCA_NGDPD 1.362854\n",
                        "6       TRWMA 1.305923\n",
                        "7    NID_NGDP 1.232711\n"
                    ]
                }
            ],
            "source": [
                "# ===============================\n",
                "# 1.Multicollinearity check using VIF\n",
                "\n",
                "model <- lm(PCPIPCH ~ . , data = train_model_df)\n",
                "\n",
                "# Compute VIF values\n",
                "vif_values <- vif(model)\n",
                "# Create a data frame to store VIF results\n",
                "vif_data <- data.frame(\n",
                "  feature = names(vif_values),\n",
                "  VIF = as.numeric(vif_values)\n",
                ")\n",
                "\n",
                "# Display the result\n",
                "print(\"Variance Inflation Factors (VIF):\")\n",
                "print(vif_data)"
            ]
        },
        {
            "cell_type": "code",
            "execution_count": 439,
            "metadata": {
                "vscode": {
                    "languageId": "r"
                }
            },
            "outputs": [
                {
                    "name": "stdout",
                    "output_type": "stream",
                    "text": [
                        "[1] \"Breusch-Pagan and White Test for Heteroskedasticity:\"\n",
                        "Breusch-Pagan test: stat=15.6083, p-value=0.0160\n",
                        "White test: stat=5.5818, p-value=0.5893\n",
                        "Heteroskedasticity detected: consider robust standard errors.\n"
                    ]
                }
            ],
            "source": [
                "# ===============================\n",
                "# 2. Heteroskedasticity tests (Breusch-Pagan and White on Fixed Effects residuals)\n",
                "\n",
                "print(\"Breusch-Pagan and White Test for Heteroskedasticity:\")\n",
                "\n",
                "# Breusch-Pagan Test\n",
                "bp_test <- bptest(fe_model)\n",
                "cat(sprintf(\"Breusch-Pagan test: stat=%.4f, p-value=%.4f\\n\", bp_test$statistic, bp_test$p.value))\n",
                "\n",
                "# White Test (using quadratic interactions)\n",
                "fe_residuals <- residuals(fe_model)\n",
                "\n",
                "white_test <- bptest(lm(fe_residuals^2 ~ ., data = train_model_df[, X_vars]))\n",
                "cat(sprintf(\"White test: stat=%.4f, p-value=%.4f\\n\", white_test$statistic, white_test$p.value))\n",
                "\n",
                "# Decision rule\n",
                "if (bp_test$p.value < 0.05 | white_test$p.value < 0.05) {\n",
                "  cat(\"Heteroskedasticity detected: consider robust standard errors.\\n\")\n",
                "} else {\n",
                "  cat(\"No significant heteroskedasticity detected.\\n\")\n",
                "}"
            ]
        },
        {
            "cell_type": "code",
            "execution_count": 440,
            "metadata": {
                "vscode": {
                    "languageId": "r"
                }
            },
            "outputs": [
                {
                    "name": "stdout",
                    "output_type": "stream",
                    "text": [
                        "[1] \"Breusch-Godfrey/Wooldridge test for Serial Correlation:\"\n"
                    ]
                },
                {
                    "data": {
                        "text/plain": [
                            "\n",
                            "\tBreusch-Godfrey/Wooldridge test for serial correlation in panel models\n",
                            "\n",
                            "data:  formula_str\n",
                            "chisq = 342.63, df = 23, p-value < 2.2e-16\n",
                            "alternative hypothesis: serial correlation in idiosyncratic errors\n"
                        ]
                    },
                    "metadata": {},
                    "output_type": "display_data"
                }
            ],
            "source": [
                "# ===============================\n",
                "# 3. Serial Correlation test (Breusch-Godfrey) on Fixed Effects residuals\n",
                "\n",
                "bg_test <- pbgtest(fe_model)\n",
                "print(\"Breusch-Godfrey/Wooldridge test for Serial Correlation:\")\n",
                "bg_test\n"
            ]
        },
        {
            "cell_type": "code",
            "execution_count": 441,
            "metadata": {
                "vscode": {
                    "languageId": "r"
                }
            },
            "outputs": [
                {
                    "data": {
                        "text/plain": [
                            "\n",
                            "\tPesaran CD test for cross-sectional dependence in panels\n",
                            "\n",
                            "data:  PCPIPCH ~ -1 + GGXWDG_NGDP + PPPPC + PPPEX + TX_RPCH + BCA_NGDPD +     TRWMA + NID_NGDP\n",
                            "z = 77.816, p-value < 2.2e-16\n",
                            "alternative hypothesis: cross-sectional dependence\n"
                        ]
                    },
                    "metadata": {},
                    "output_type": "display_data"
                }
            ],
            "source": [
                "\n",
                "# Test Pesaran CD\n",
                "pcdtest(fe_model, test = \"cd\")\n"
            ]
        },
        {
            "cell_type": "code",
            "execution_count": null,
            "metadata": {
                "vscode": {
                    "languageId": "r"
                }
            },
            "outputs": [
                {
                    "data": {
                        "text/plain": [
                            "Levin-Lin-Chu Unit-Root Test \n",
                            "Exogenous variables: None \n",
                            "Automatic selection of lags using SIC: 0 - 10 lags (max: 10)\n",
                            "statistic: -18.03 \n",
                            "p-value: 0 \n",
                            "\n",
                            "                       lags obs          rho         trho       p.trho\n",
                            "Argentina                10  14  1.060708640   4.46689507 9.999986e-01\n",
                            "Australia                 2  22 -0.039349643  -0.38156203 5.471193e-01\n",
                            "Austria                  10  14  0.119827804   1.45360781 9.642371e-01\n",
                            "Barbados                 10  14 -0.245413259  -6.97515112 2.039713e-11\n",
                            "Belarus                   0  24 -0.513197010  -7.52741050 8.057673e-13\n",
                            "Belgium                   0  24 -0.358362108  -2.19368906 2.722617e-02\n",
                            "Bosnia and Herzegovina    0  24 -0.515045157  -2.98060005 2.803722e-03\n",
                            "Brazil                    4  20 -0.070014380  -1.01698400 2.784958e-01\n",
                            "Bulgaria                  0  24 -0.254924514  -2.18396146 2.790091e-02\n",
                            "Canada                    2  22  0.068173194   0.62205078 8.507298e-01\n",
                            "Chile                     0  24 -0.187863229  -1.57512596 1.085483e-01\n",
                            "Colombia                  5  19 -0.066518796  -0.77174171 3.821717e-01\n",
                            "Costa Rica                0  24 -0.112854540  -1.53867554 1.164737e-01\n",
                            "Croatia                   0  24 -0.209313339  -1.71202678 8.239371e-02\n",
                            "Cyprus                    0  24 -0.345610692  -2.44039786 1.419941e-02\n",
                            "Czech Republic            0  24 -0.290079296  -2.05369148 3.839759e-02\n",
                            "Denmark                   0  24 -0.319726649  -2.19494886 2.713985e-02\n",
                            "Dominican Republic        0  24 -0.431545263  -2.59192790 9.253597e-03\n",
                            "Ecuador                   0  24 -0.603269884 -27.03203082 1.948093e-39\n",
                            "Egypt                     5  19  0.146938381   1.52299866 9.690151e-01\n",
                            "El Salvador               9  15 -0.024090904  -0.19752842 6.152959e-01\n",
                            "Estonia                   0  24 -0.343585931  -2.24021202 2.418975e-02\n",
                            "Finland                   0  24 -0.245897123  -1.94323240 4.972762e-02\n",
                            "France                   10  14 -0.315311521  -3.32879302 8.538325e-04\n",
                            "Georgia                   0  24 -0.199230883  -1.66641982 9.049570e-02\n",
                            "Germany                   2  22  0.138111108   0.81977154 8.886865e-01\n",
                            "Greece                    0  24 -0.288141247  -2.00934203 4.265724e-02\n",
                            "Hong Kong SAR             0  24 -0.187159988  -1.72506740 8.018580e-02\n",
                            "Hungary                   2  22 -0.094412543  -0.70896453 4.099418e-01\n",
                            "Iceland                   4  20 -0.067856712  -0.60487840 4.556321e-01\n",
                            "Indonesia                 9  15 -0.249309781  -2.13978309 3.114594e-02\n",
                            "Ireland                   2  22 -0.220069700  -1.46366925 1.341522e-01\n",
                            "Italy                     1  23 -0.344290486  -2.29019499 2.125234e-02\n",
                            "Japan                     0  24 -0.411375968  -2.26737506 2.255476e-02\n",
                            "Jordan                    0  24 -0.462828639  -2.67102971 7.336247e-03\n",
                            "Kazakhstan                0  24 -0.115974421  -1.37077112 1.585936e-01\n",
                            "Korea                     0  24 -0.094540956  -1.07176031 2.572694e-01\n",
                            "Latvia                    0  24 -0.324000118  -2.16479371 2.927163e-02\n",
                            "Lithuania                 0  24 -0.359106998  -2.29309243 2.109192e-02\n",
                            "Malaysia                  0  24 -0.248466945  -1.77143844 7.270402e-02\n",
                            "Malta                     0  24 -0.217908483  -1.73978026 7.775095e-02\n",
                            "Mauritius                 0  24 -0.151162914  -1.42164523 1.448589e-01\n",
                            "Mexico                    5  19  0.075984647   1.76828924 9.819176e-01\n",
                            "Morocco                   0  24 -0.315051072  -2.12390614 3.238782e-02\n",
                            "Netherlands               0  24 -0.307168626  -2.05269220 3.848949e-02\n",
                            "New Zealand               0  24 -0.115159451  -1.20365371 2.100367e-01\n",
                            "Norway                    0  24 -0.135472224  -1.30495953 1.776994e-01\n",
                            "Panama                    2  22 -0.133670364  -0.93440800 3.120302e-01\n",
                            "Paraguay                  2  22 -0.110467382  -1.19545523 2.128172e-01\n",
                            "Peru                      2  22  0.004325488   0.03672377 6.945537e-01\n",
                            "Philippines               9  15 -0.076281566  -1.19085503 2.143813e-01\n",
                            "Poland                    9  15 -0.093484883  -0.57201017 4.697826e-01\n",
                            "Portugal                  0  24 -0.257301645  -1.89881182 5.500132e-02\n",
                            "Romania                   0  24 -0.265093119  -6.73101626 8.230388e-11\n",
                            "Russia                   10  14 -0.781621056  -3.92426238 8.817370e-05\n",
                            "Serbia                   10  14 -0.562154306  -5.31389856 1.610161e-07\n",
                            "Singapore                 2  22 -0.165448488  -0.83722419 3.534551e-01\n",
                            "Slovak Republic           2  22 -0.121723413  -0.87106750 3.388372e-01\n",
                            "Slovenia                  1  23 -0.272007386  -2.47946204 1.274138e-02\n",
                            "South Africa              0  24 -0.070887156  -0.96613672 2.989366e-01\n",
                            "Spain                     0  24 -0.248168666  -1.88923183 5.619710e-02\n",
                            "Suriname                  4  20  0.177613122   0.94949787 9.095541e-01\n",
                            "Sweden                    2  22 -0.004986662  -0.02826169 6.734203e-01\n",
                            "Switzerland               0  24 -0.447549910  -2.68434646 7.051354e-03\n",
                            "Thailand                  0  24 -0.411804139  -2.52244725 1.129172e-02\n",
                            "Tunisia                   3  21  0.157434668   3.69104248 9.999564e-01\n",
                            "Türkiye                  10  14  0.242847423   1.16307629 9.374723e-01\n",
                            "Ukraine                   9  15  0.091913753   0.61486899 8.492065e-01\n",
                            "United Kingdom           10  14  0.219062187   2.95185091 9.993400e-01\n",
                            "United States             2  22  0.007538982   0.05685850 7.009497e-01\n",
                            "                          sigma2ST     sigma2LT\n",
                            "Argentina               29.9077310 1492.0588103\n",
                            "Australia                1.7365685    0.4951235\n",
                            "Austria                  0.3150910    0.6355416\n",
                            "Barbados                 0.1787074    1.6327960\n",
                            "Belarus                202.5565551  938.8003632\n",
                            "Belgium                  5.8615061    0.8439486\n",
                            "Bosnia and Herzegovina  12.3628463    2.7012587\n",
                            "Brazil                   3.4124563    1.3270055\n",
                            "Bulgaria                11.3742787    4.1085136\n",
                            "Canada                   1.1156363    0.3520410\n",
                            "Chile                    6.8301671    1.2767942\n",
                            "Colombia                 2.8371135    2.1062139\n",
                            "Costa Rica               7.7024060    3.7947278\n",
                            "Croatia                  5.1013564    1.4550395\n",
                            "Cyprus                   4.1845157    1.1291919\n",
                            "Czech Republic          10.2004706    2.3574902\n",
                            "Denmark                  3.2807863    0.5804528\n",
                            "Dominican Republic     115.4869211   22.6781620\n",
                            "Ecuador                  5.5351385  329.2291430\n",
                            "Egypt                   19.9027549   23.9658569\n",
                            "El Salvador              0.9683414    1.0924310\n",
                            "Estonia                 19.7671096    3.3236519\n",
                            "Finland                  2.4459825    0.4667904\n",
                            "France                   0.1893902    0.4040540\n",
                            "Georgia                 13.6135336    3.3370917\n",
                            "Germany                  1.7790187    0.6033292\n",
                            "Greece                   5.2326207    1.5062379\n",
                            "Hong Kong SAR            2.2383047    1.8667166\n",
                            "Hungary                  9.7624130    4.2496628\n",
                            "Iceland                  6.4876813    2.1425184\n",
                            "Indonesia                0.1683817    2.7474095\n",
                            "Ireland                  2.5959058    1.3888441\n",
                            "Italy                    3.5703819    0.6996576\n",
                            "Japan                    1.0886085    0.2681278\n",
                            "Jordan                  13.2251006    2.1670902\n",
                            "Kazakhstan              15.0799489    3.3186166\n",
                            "Korea                    1.4696437    0.3878165\n",
                            "Latvia                  20.9914081    5.2174143\n",
                            "Lithuania               17.4431573    4.1167713\n",
                            "Malaysia                 2.8889688    0.3930197\n",
                            "Malta                    2.7216339    0.4431976\n",
                            "Mauritius                7.9639185    1.6731857\n",
                            "Mexico                   0.5884206    1.2680284\n",
                            "Morocco                  3.1697759    0.5182764\n",
                            "Netherlands              5.8381933    0.9260462\n",
                            "New Zealand              1.9487341    0.5700569\n",
                            "Norway                   1.9517016    0.3990500\n",
                            "Panama                   3.8495223    1.3115578\n",
                            "Paraguay                 7.6168549    2.1272920\n",
                            "Peru                     2.6344428    0.6777130\n",
                            "Philippines              0.6788674    0.7786644\n",
                            "Poland                   1.8335484    4.3581893\n",
                            "Portugal                 3.7939480    0.7527121\n",
                            "Romania                  7.5489474   57.7867102\n",
                            "Russia                   1.8882963    6.8918988\n",
                            "Serbia                   1.8579031  163.7506647\n",
                            "Singapore                4.1650163    0.8845672\n",
                            "Slovak Republic          7.3342768    5.0804421\n",
                            "Slovenia                 4.5070927    2.4164943\n",
                            "South Africa             4.4262811    0.7629593\n",
                            "Spain                    3.8195998    0.7942000\n",
                            "Suriname               200.9838060   83.0505460\n",
                            "Sweden                   1.9964671    0.6705112\n",
                            "Switzerland              0.8710589    0.2625375\n",
                            "Thailand                 4.8304085    0.8323434\n",
                            "Tunisia                  0.6176579    0.5280726\n",
                            "Türkiye                  8.2237182  190.1697500\n",
                            "Ukraine                 46.5237027   32.3149109\n",
                            "United Kingdom           0.3562182    0.8171801\n",
                            "United States            2.3684271    0.5748386"
                        ]
                    },
                    "metadata": {},
                    "output_type": "display_data"
                }
            ],
            "source": [
                "library(urca)\n",
                "\n",
                "# test Levin, Lin & Chu\n",
                "llc_test <- purtest(panel_df$PCPIPCH, test = \"levinlin\")\n",
                "summary(llc_test)\n"
            ]
        },
        {
            "cell_type": "code",
            "execution_count": 443,
            "metadata": {
                "vscode": {
                    "languageId": "r"
                }
            },
            "outputs": [
                {
                    "data": {
                        "text/plain": [
                            "\n",
                            "t test of coefficients:\n",
                            "\n",
                            "               Estimate  Std. Error t value Pr(>|t|)   \n",
                            "GGXWDG_NGDP  5.4309e-02  3.8597e-02  1.4071 0.159609   \n",
                            "PPPPC       -1.1287e-05  3.3006e-05 -0.3420 0.732416   \n",
                            "PPPEX       -1.4565e-03  6.6242e-04 -2.1988 0.028042 * \n",
                            "TX_RPCH      6.1975e-02  2.7608e-02  2.2448 0.024925 * \n",
                            "BCA_NGDPD   -1.5572e-01  5.9307e-02 -2.6257 0.008734 **\n",
                            "TRWMA        3.1293e-01  1.6413e-01  1.9066 0.056755 . \n",
                            "NID_NGDP    -3.8128e-02  8.0715e-02 -0.4724 0.636723   \n",
                            "---\n",
                            "Signif. codes:  0 '***' 0.001 '**' 0.01 '*' 0.05 '.' 0.1 ' ' 1\n"
                        ]
                    },
                    "metadata": {},
                    "output_type": "display_data"
                }
            ],
            "source": [
                "# Correcting standard error using Cluster-Robust SE (country level)\n",
                "robust_se <- vcovHC(fe_model, method = \"arellano\", type = \"HC1\", cluster = \"group\")\n",
                "\n",
                "# Testing significance using corrected standard error\n",
                "coeftest(fe_model, vcov = robust_se)"
            ]
        },
        {
            "cell_type": "code",
            "execution_count": 444,
            "metadata": {
                "vscode": {
                    "languageId": "r"
                }
            },
            "outputs": [
                {
                    "data": {
                        "text/plain": [
                            "\n",
                            "t test of coefficients:\n",
                            "\n",
                            "               Estimate  Std. Error t value Pr(>|t|)   \n",
                            "GGXWDG_NGDP  5.4309e-02  2.0393e-02  2.6631 0.007822 **\n",
                            "PPPPC       -1.1287e-05  7.0975e-05 -0.1590 0.873665   \n",
                            "PPPEX       -1.4565e-03  1.0480e-03 -1.3898 0.164790   \n",
                            "TX_RPCH      6.1975e-02  2.4735e-02  2.5055 0.012330 * \n",
                            "BCA_NGDPD   -1.5572e-01  7.0680e-02 -2.2032 0.027731 * \n",
                            "TRWMA        3.1293e-01  9.7772e-02  3.2006 0.001400 **\n",
                            "NID_NGDP    -3.8128e-02  1.2669e-01 -0.3010 0.763493   \n",
                            "---\n",
                            "Signif. codes:  0 '***' 0.001 '**' 0.01 '*' 0.05 '.' 0.1 ' ' 1\n"
                        ]
                    },
                    "metadata": {},
                    "output_type": "display_data"
                }
            ],
            "source": [
                "robust_se_scc <- vcovSCC(fe_model, type = \"HC1\")\n",
                "coeftest(fe_model, vcov = robust_se_scc)\n"
            ]
        },
        {
            "cell_type": "markdown",
            "metadata": {},
            "source": [
                "## GMM"
            ]
        },
        {
            "cell_type": "code",
            "execution_count": 445,
            "metadata": {
                "vscode": {
                    "languageId": "r"
                }
            },
            "outputs": [
                {
                    "data": {
                        "text/html": [
                            "<table class=\"dataframe\">\n",
                            "<caption>A pdata.frame: 6 × 19</caption>\n",
                            "<thead>\n",
                            "\t<tr><th></th><th scope=col>Country</th><th scope=col>Advanced_Country</th><th scope=col>Year</th><th scope=col>PCPIPCH</th><th scope=col>GGR_NGDP</th><th scope=col>GGX_NGDP</th><th scope=col>GGSB_NPGDP</th><th scope=col>GGXWDG_NGDP</th><th scope=col>NGDP_RPCH</th><th scope=col>PPPPC</th><th scope=col>PPPSH</th><th scope=col>PPPEX</th><th scope=col>TX_RPCH</th><th scope=col>TM_RPCH</th><th scope=col>BCA_NGDPD</th><th scope=col>TRWMA</th><th scope=col>NGSD_NGDP</th><th scope=col>NID_NGDP</th><th scope=col>LUR</th></tr>\n",
                            "\t<tr><th></th><th scope=col>&lt;fct&gt;</th><th scope=col>&lt;int&gt;</th><th scope=col>&lt;dbl&gt;</th><th scope=col>&lt;dbl&gt;</th><th scope=col>&lt;dbl&gt;</th><th scope=col>&lt;dbl&gt;</th><th scope=col>&lt;dbl&gt;</th><th scope=col>&lt;dbl&gt;</th><th scope=col>&lt;dbl&gt;</th><th scope=col>&lt;dbl&gt;</th><th scope=col>&lt;dbl&gt;</th><th scope=col>&lt;dbl&gt;</th><th scope=col>&lt;dbl&gt;</th><th scope=col>&lt;dbl&gt;</th><th scope=col>&lt;dbl&gt;</th><th scope=col>&lt;dbl&gt;</th><th scope=col>&lt;dbl&gt;</th><th scope=col>&lt;dbl&gt;</th><th scope=col>&lt;dbl&gt;</th></tr>\n",
                            "</thead>\n",
                            "<tbody>\n",
                            "\t<tr><th scope=row>Argentina-2000</th><td>Argentina</td><td>0</td><td>2000</td><td>-0.939</td><td>21.830</td><td>25.247</td><td>-4.552</td><td> 40.833</td><td> -0.789</td><td>13529.29</td><td>0.995</td><td>0.639</td><td> 1.898</td><td> -2.322</td><td>-2.878</td><td>10.52</td><td>12.459</td><td>15.337</td><td>17.134</td></tr>\n",
                            "\t<tr><th scope=row>Argentina-2001</th><td>Argentina</td><td>0</td><td>2001</td><td>-1.065</td><td>21.068</td><td>26.432</td><td>-5.590</td><td> 48.007</td><td> -4.409</td><td>13091.49</td><td>0.929</td><td>0.618</td><td> 6.096</td><td>-16.587</td><td>-1.316</td><td> 9.25</td><td>12.325</td><td>13.640</td><td>19.209</td></tr>\n",
                            "\t<tr><th scope=row>Argentina-2002</th><td>Argentina</td><td>0</td><td>2002</td><td>25.869</td><td>19.943</td><td>21.853</td><td> 1.188</td><td>147.203</td><td>-10.894</td><td>11733.02</td><td>0.806</td><td>0.794</td><td> 0.244</td><td>-53.558</td><td> 7.666</td><td>12.01</td><td>17.631</td><td> 9.965</td><td>22.450</td></tr>\n",
                            "\t<tr><th scope=row>Argentina-2003</th><td>Argentina</td><td>0</td><td>2003</td><td>13.443</td><td>23.526</td><td>22.026</td><td> 3.453</td><td>125.162</td><td>  8.955</td><td>12914.24</td><td>0.847</td><td>0.859</td><td> 5.006</td><td> 48.953</td><td> 5.597</td><td>12.87</td><td>18.474</td><td>12.877</td><td>17.250</td></tr>\n",
                            "\t<tr><th scope=row>Argentina-2004</th><td>Argentina</td><td>0</td><td>2004</td><td> 4.416</td><td>26.996</td><td>23.030</td><td> 4.719</td><td>117.878</td><td>  8.911</td><td>14308.62</td><td>0.878</td><td>0.887</td><td>-0.150</td><td> 51.050</td><td> 1.798</td><td> 5.96</td><td>19.350</td><td>17.551</td><td>13.625</td></tr>\n",
                            "\t<tr><th scope=row>Argentina-2005</th><td>Argentina</td><td>0</td><td>2005</td><td> 9.642</td><td>27.766</td><td>24.426</td><td> 4.376</td><td> 80.282</td><td>  8.852</td><td>15911.20</td><td>0.913</td><td>0.949</td><td>11.583</td><td> 18.243</td><td> 2.473</td><td> 5.22</td><td>21.362</td><td>18.888</td><td>11.575</td></tr>\n",
                            "</tbody>\n",
                            "</table>\n"
                        ],
                        "text/latex": [
                            "A pdata.frame: 6 × 19\n",
                            "\\begin{tabular}{r|lllllllllllllllllll}\n",
                            "  & Country & Advanced\\_Country & Year & PCPIPCH & GGR\\_NGDP & GGX\\_NGDP & GGSB\\_NPGDP & GGXWDG\\_NGDP & NGDP\\_RPCH & PPPPC & PPPSH & PPPEX & TX\\_RPCH & TM\\_RPCH & BCA\\_NGDPD & TRWMA & NGSD\\_NGDP & NID\\_NGDP & LUR\\\\\n",
                            "  & <fct> & <int> & <dbl> & <dbl> & <dbl> & <dbl> & <dbl> & <dbl> & <dbl> & <dbl> & <dbl> & <dbl> & <dbl> & <dbl> & <dbl> & <dbl> & <dbl> & <dbl> & <dbl>\\\\\n",
                            "\\hline\n",
                            "\tArgentina-2000 & Argentina & 0 & 2000 & -0.939 & 21.830 & 25.247 & -4.552 &  40.833 &  -0.789 & 13529.29 & 0.995 & 0.639 &  1.898 &  -2.322 & -2.878 & 10.52 & 12.459 & 15.337 & 17.134\\\\\n",
                            "\tArgentina-2001 & Argentina & 0 & 2001 & -1.065 & 21.068 & 26.432 & -5.590 &  48.007 &  -4.409 & 13091.49 & 0.929 & 0.618 &  6.096 & -16.587 & -1.316 &  9.25 & 12.325 & 13.640 & 19.209\\\\\n",
                            "\tArgentina-2002 & Argentina & 0 & 2002 & 25.869 & 19.943 & 21.853 &  1.188 & 147.203 & -10.894 & 11733.02 & 0.806 & 0.794 &  0.244 & -53.558 &  7.666 & 12.01 & 17.631 &  9.965 & 22.450\\\\\n",
                            "\tArgentina-2003 & Argentina & 0 & 2003 & 13.443 & 23.526 & 22.026 &  3.453 & 125.162 &   8.955 & 12914.24 & 0.847 & 0.859 &  5.006 &  48.953 &  5.597 & 12.87 & 18.474 & 12.877 & 17.250\\\\\n",
                            "\tArgentina-2004 & Argentina & 0 & 2004 &  4.416 & 26.996 & 23.030 &  4.719 & 117.878 &   8.911 & 14308.62 & 0.878 & 0.887 & -0.150 &  51.050 &  1.798 &  5.96 & 19.350 & 17.551 & 13.625\\\\\n",
                            "\tArgentina-2005 & Argentina & 0 & 2005 &  9.642 & 27.766 & 24.426 &  4.376 &  80.282 &   8.852 & 15911.20 & 0.913 & 0.949 & 11.583 &  18.243 &  2.473 &  5.22 & 21.362 & 18.888 & 11.575\\\\\n",
                            "\\end{tabular}\n"
                        ],
                        "text/markdown": [
                            "\n",
                            "A pdata.frame: 6 × 19\n",
                            "\n",
                            "| <!--/--> | Country &lt;fct&gt; | Advanced_Country &lt;int&gt; | Year &lt;dbl&gt; | PCPIPCH &lt;dbl&gt; | GGR_NGDP &lt;dbl&gt; | GGX_NGDP &lt;dbl&gt; | GGSB_NPGDP &lt;dbl&gt; | GGXWDG_NGDP &lt;dbl&gt; | NGDP_RPCH &lt;dbl&gt; | PPPPC &lt;dbl&gt; | PPPSH &lt;dbl&gt; | PPPEX &lt;dbl&gt; | TX_RPCH &lt;dbl&gt; | TM_RPCH &lt;dbl&gt; | BCA_NGDPD &lt;dbl&gt; | TRWMA &lt;dbl&gt; | NGSD_NGDP &lt;dbl&gt; | NID_NGDP &lt;dbl&gt; | LUR &lt;dbl&gt; |\n",
                            "|---|---|---|---|---|---|---|---|---|---|---|---|---|---|---|---|---|---|---|---|\n",
                            "| Argentina-2000 | Argentina | 0 | 2000 | -0.939 | 21.830 | 25.247 | -4.552 |  40.833 |  -0.789 | 13529.29 | 0.995 | 0.639 |  1.898 |  -2.322 | -2.878 | 10.52 | 12.459 | 15.337 | 17.134 |\n",
                            "| Argentina-2001 | Argentina | 0 | 2001 | -1.065 | 21.068 | 26.432 | -5.590 |  48.007 |  -4.409 | 13091.49 | 0.929 | 0.618 |  6.096 | -16.587 | -1.316 |  9.25 | 12.325 | 13.640 | 19.209 |\n",
                            "| Argentina-2002 | Argentina | 0 | 2002 | 25.869 | 19.943 | 21.853 |  1.188 | 147.203 | -10.894 | 11733.02 | 0.806 | 0.794 |  0.244 | -53.558 |  7.666 | 12.01 | 17.631 |  9.965 | 22.450 |\n",
                            "| Argentina-2003 | Argentina | 0 | 2003 | 13.443 | 23.526 | 22.026 |  3.453 | 125.162 |   8.955 | 12914.24 | 0.847 | 0.859 |  5.006 |  48.953 |  5.597 | 12.87 | 18.474 | 12.877 | 17.250 |\n",
                            "| Argentina-2004 | Argentina | 0 | 2004 |  4.416 | 26.996 | 23.030 |  4.719 | 117.878 |   8.911 | 14308.62 | 0.878 | 0.887 | -0.150 |  51.050 |  1.798 |  5.96 | 19.350 | 17.551 | 13.625 |\n",
                            "| Argentina-2005 | Argentina | 0 | 2005 |  9.642 | 27.766 | 24.426 |  4.376 |  80.282 |   8.852 | 15911.20 | 0.913 | 0.949 | 11.583 |  18.243 |  2.473 |  5.22 | 21.362 | 18.888 | 11.575 |\n",
                            "\n"
                        ],
                        "text/plain": [
                            "               Country   Advanced_Country Year PCPIPCH GGR_NGDP GGX_NGDP\n",
                            "Argentina-2000 Argentina 0                2000 -0.939  21.830   25.247  \n",
                            "Argentina-2001 Argentina 0                2001 -1.065  21.068   26.432  \n",
                            "Argentina-2002 Argentina 0                2002 25.869  19.943   21.853  \n",
                            "Argentina-2003 Argentina 0                2003 13.443  23.526   22.026  \n",
                            "Argentina-2004 Argentina 0                2004  4.416  26.996   23.030  \n",
                            "Argentina-2005 Argentina 0                2005  9.642  27.766   24.426  \n",
                            "               GGSB_NPGDP GGXWDG_NGDP NGDP_RPCH PPPPC    PPPSH PPPEX TX_RPCH\n",
                            "Argentina-2000 -4.552      40.833      -0.789   13529.29 0.995 0.639  1.898 \n",
                            "Argentina-2001 -5.590      48.007      -4.409   13091.49 0.929 0.618  6.096 \n",
                            "Argentina-2002  1.188     147.203     -10.894   11733.02 0.806 0.794  0.244 \n",
                            "Argentina-2003  3.453     125.162       8.955   12914.24 0.847 0.859  5.006 \n",
                            "Argentina-2004  4.719     117.878       8.911   14308.62 0.878 0.887 -0.150 \n",
                            "Argentina-2005  4.376      80.282       8.852   15911.20 0.913 0.949 11.583 \n",
                            "               TM_RPCH BCA_NGDPD TRWMA NGSD_NGDP NID_NGDP LUR   \n",
                            "Argentina-2000  -2.322 -2.878    10.52 12.459    15.337   17.134\n",
                            "Argentina-2001 -16.587 -1.316     9.25 12.325    13.640   19.209\n",
                            "Argentina-2002 -53.558  7.666    12.01 17.631     9.965   22.450\n",
                            "Argentina-2003  48.953  5.597    12.87 18.474    12.877   17.250\n",
                            "Argentina-2004  51.050  1.798     5.96 19.350    17.551   13.625\n",
                            "Argentina-2005  18.243  2.473     5.22 21.362    18.888   11.575"
                        ]
                    },
                    "metadata": {},
                    "output_type": "display_data"
                }
            ],
            "source": [
                "head(panel_df)"
            ]
        },
        {
            "cell_type": "code",
            "execution_count": 446,
            "metadata": {
                "vscode": {
                    "languageId": "r"
                }
            },
            "outputs": [],
            "source": [
                "# ──────────────────────────────────────────────────────────────────────────────\n",
                "# 2) Specify the Dynamic Panel (GMM) model\n",
                "# ──────────────────────────────────────────────────────────────────────────────\n",
                "\n",
                "# Choose the list of right-hand-side regressors (strictly exogenous / pre-determined):\n",
                "\n",
                "exog_vars <- c(\n",
                "\n",
                "    # 2. Public Finance\n",
                "    #\"GGR_NGDP\",     ## General government revenue (% of GDP)\n",
                "    #\"GGX_NGDP\",     ## General government expenditure (% of GDP)\n",
                "    #\"GGSB_NPGDP\",   ## General government structural balance\n",
                "    \"GGXWDG_NGDP\",  # General government gross debt (% of GDP)\n",
                "\n",
                "    \n",
                "    # 3. Economic Output & Productivity\n",
                "    #\"NGDP_RPCH\",    ## Real GDP growth (%)\n",
                "    \"PPPPC\",        # GDP per capita based on PPP\n",
                "    #\"PPPSH\",        ## PPP share of world total\n",
                "    \n",
                "    # 4. Exchange & Purchasing Power\n",
                "    #\"PPPEX\",        ## PPP exchange rate\n",
                "\n",
                "    # 5. International Trade & Balance\n",
                "    \"TX_RPCH\",      # Export volume growth\n",
                "    \"TM_RPCH\",      # Import volume growth\n",
                "    #\"BCA_NGDPD\",    ## Current account balance (% of GDP)\n",
                "    #\"TRWMA\",        ## World trade volume (goods and services)\n",
                "    \n",
                "\n",
                "    # 6. Savings & Investment\n",
                "    #\"NGSD_NGDP\",    ## Net government saving (% of GDP)\n",
                "    \"NID_NGDP\"     # Investment (% of GDP)\n",
                "    \n",
                "\n",
                "\n",
                "    \n",
                "    # 7. Labor Market\n",
                "    #\"LUR\"           # Unemployment rate (%)\n",
                "\n",
                "    # 8. Metadata\n",
                "   #\"Advanced_Country\"\n",
                "    \n",
                ")\n",
                "\n",
                "# Build the formula string:\n",
                "# Left of | : regressors that include lag(PCPIPCH,1) + strictly exogenous X’s\n",
                "# Right of |: instruments for the endogenous part = lag(PCPIPCH, 2:…) \n",
                "dynamic_formula <- as.formula(\n",
                "  paste0( \"PCPIPCH ~ lag(PCPIPCH, 1) + \",\n",
                "    paste(exog_vars, collapse = \" + \"), \n",
                "    \" | lag(PCPIPCH, 2:8)\"\n",
                "  )\n",
                ")"
            ]
        },
        {
            "cell_type": "code",
            "execution_count": 447,
            "metadata": {
                "vscode": {
                    "languageId": "r"
                }
            },
            "outputs": [
                {
                    "name": "stderr",
                    "output_type": "stream",
                    "text": [
                        "Warning message in vcovHC.pgmm(object):\n",
                        "\"a general inverse is used\"\n"
                    ]
                },
                {
                    "data": {
                        "text/plain": [
                            "Oneway (individual) effect Two-steps model Difference GMM \n",
                            "\n",
                            "Call:\n",
                            "pgmm(formula = dynamic_formula, data = panel_df, effect = \"individual\", \n",
                            "    model = \"twosteps\", collapse = TRUE, transformation = \"d\")\n",
                            "\n",
                            "Balanced Panel: n = 70, T = 25, N = 1750\n",
                            "\n",
                            "Number of Observations Used: 1610\n",
                            "Residuals:\n",
                            "    Min.  1st Qu.   Median     Mean  3rd Qu.     Max. \n",
                            "-76.8807  -1.7609  -0.3232  -0.3177   1.0843  69.5880 \n",
                            "\n",
                            "Coefficients:\n",
                            "                   Estimate  Std. Error z-value  Pr(>|z|)    \n",
                            "lag(PCPIPCH, 1)  4.2659e-01  1.6469e-01  2.5903  0.009589 ** \n",
                            "GGXWDG_NGDP      7.6002e-02  3.4109e-02  2.2282  0.025865 *  \n",
                            "PPPPC            2.0941e-04  8.6742e-05  2.4142  0.015770 *  \n",
                            "TX_RPCH          1.1237e-01  1.7635e-02  6.3719 1.867e-10 ***\n",
                            "TM_RPCH         -7.4425e-02  3.1169e-02 -2.3878  0.016948 *  \n",
                            "NID_NGDP         3.9665e-01  9.9600e-02  3.9824 6.821e-05 ***\n",
                            "---\n",
                            "Signif. codes:  0 '***' 0.001 '**' 0.01 '*' 0.05 '.' 0.1 ' ' 1\n",
                            "\n",
                            "Sargan test: chisq(6) = 9.210537 (p-value = 0.16208)\n",
                            "Autocorrelation test (1): normal = -1.458094 (p-value = 0.14481)\n",
                            "Autocorrelation test (2): normal = -1.682049 (p-value = 0.092559)\n",
                            "Wald test for coefficients: chisq(6) = 72.86648 (p-value = 1.0545e-13)"
                        ]
                    },
                    "metadata": {},
                    "output_type": "display_data"
                }
            ],
            "source": [
                "# ──────────────────────────────────────────────────────────────────────────────\n",
                "# 3) Estimate the GMM model: Difference GMM (Arellano–Bond)\n",
                "# ──────────────────────────────────────────────────────────────────────────────\n",
                "\n",
                "# (A) Difference GMM (one‐step)\n",
                "gmm_model <- pgmm(\n",
                "  formula   = dynamic_formula,\n",
                "  data      = panel_df,\n",
                "  effect    = \"individual\",    # “individual” = fixed‐effect on Country, twoways\n",
                "  model     = \"twosteps\",       # onestep GMM   |  # \"twosteps\"> two‐step GMM\n",
                "  transformation = \"d\",         # difference GMM (Arellano–Bond) |  # \"ld\"> difference + level (System GMM)\n",
                "  collapse       = TRUE\n",
                "\n",
                ")\n",
                "summary(gmm_model)"
            ]
        },
        {
            "cell_type": "code",
            "execution_count": 448,
            "metadata": {
                "vscode": {
                    "languageId": "r"
                }
            },
            "outputs": [
                {
                    "name": "stdout",
                    "output_type": "stream",
                    "text": [
                        "Sargan test (overid):\n",
                        "\n",
                        "\tSargan test\n",
                        "\n",
                        "data:  dynamic_formula\n",
                        "chisq = 9.2105, df = 6, p-value = 0.1621\n",
                        "alternative hypothesis: overidentifying restrictions not valid\n",
                        "\n",
                        "\n",
                        "Arellano–Bond AR(1) test:\n",
                        "\n",
                        "\tArellano-Bond autocorrelation test of degree 1\n",
                        "\n",
                        "data:  dynamic_formula\n",
                        "normal = -2.0932, p-value = 0.03634\n",
                        "alternative hypothesis: autocorrelation present\n",
                        "\n",
                        "\n",
                        "Arellano–Bond AR(2) test:\n",
                        "\n",
                        "\tArellano-Bond autocorrelation test of degree 2\n",
                        "\n",
                        "data:  dynamic_formula\n",
                        "normal = -1.6848, p-value = 0.09204\n",
                        "alternative hypothesis: autocorrelation present\n",
                        "\n"
                    ]
                }
            ],
            "source": [
                "# ──────────────────────────────────────────────────────────────────────────────\n",
                "# 4) Diagnostics for the Difference GMM model\n",
                "# ──────────────────────────────────────────────────────────────────────────────\n",
                "\n",
                "# (i) Hansen/Sargan test for overid (validity of instruments)\n",
                "cat(\"Sargan test (overid):\\n\")\n",
                "print(sargan(gmm_model))\n",
                "\n",
                "# (ii) Arellano–Bond tests for autocorrelation in residuals\n",
                "cat(\"\\nArellano–Bond AR(1) test:\\n\") #  rehect\n",
                "print(mtest(gmm_model, order = 1))\n",
                "\n",
                "cat(\"\\nArellano–Bond AR(2) test:\\n\") # Not rehect (p > 0.05)\n",
                "print(mtest(gmm_model, order = 2))\n"
            ]
        },
        {
            "cell_type": "markdown",
            "metadata": {
                "azdata_cell_guid": "0a1e4ca3-2665-4d75-b969-1c56cb509040"
            },
            "source": [
                "# **END**"
            ]
        },
        {
            "cell_type": "markdown",
            "metadata": {},
            "source": []
        }
    ],
    "metadata": {
        "hide_input": false,
        "kernelspec": {
            "display_name": "R",
            "language": "R",
            "name": "ir"
        },
        "language_info": {
            "codemirror_mode": "r",
            "file_extension": ".r",
            "mimetype": "text/x-r-source",
            "name": "R",
            "pygments_lexer": "r",
            "version": "4.4.2"
        }
    },
    "nbformat": 4,
    "nbformat_minor": 2
}
